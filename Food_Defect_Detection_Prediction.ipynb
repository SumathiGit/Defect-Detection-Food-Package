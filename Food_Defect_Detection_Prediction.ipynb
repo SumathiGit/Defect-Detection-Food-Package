{
  "nbformat": 4,
  "nbformat_minor": 0,
  "metadata": {
    "colab": {
      "name": "Food_Defect_Detection_Prediction.ipynb",
      "provenance": [],
      "collapsed_sections": [],
      "authorship_tag": "ABX9TyOgvgZ0Uo/tjNl8Q5bLEy2v",
      "include_colab_link": true
    },
    "kernelspec": {
      "display_name": "Python 3",
      "name": "python3"
    },
    "language_info": {
      "name": "python"
    }
  },
  "cells": [
    {
      "cell_type": "markdown",
      "metadata": {
        "id": "view-in-github",
        "colab_type": "text"
      },
      "source": [
        "<a href=\"https://colab.research.google.com/github/SumathiGit/Defect-Detection-Food-Package/blob/main/Food_Defect_Detection_Prediction.ipynb\" target=\"_parent\"><img src=\"https://colab.research.google.com/assets/colab-badge.svg\" alt=\"Open In Colab\"/></a>"
      ]
    },
    {
      "cell_type": "code",
      "metadata": {
        "colab": {
          "base_uri": "https://localhost:8080/",
          "height": 35
        },
        "id": "vCuaBNXLWIRN",
        "outputId": "be7d6cd5-dcae-460f-e1db-caf40bf44622"
      },
      "source": [
        "\"\"\" Making Prediction \"\"\""
      ],
      "execution_count": null,
      "outputs": [
        {
          "output_type": "execute_result",
          "data": {
            "application/vnd.google.colaboratory.intrinsic+json": {
              "type": "string"
            },
            "text/plain": [
              "' Making Prediction '"
            ]
          },
          "metadata": {
            "tags": []
          },
          "execution_count": 2
        }
      ]
    },
    {
      "cell_type": "code",
      "metadata": {
        "colab": {
          "base_uri": "https://localhost:8080/"
        },
        "id": "rEhsUrCqzcG7",
        "outputId": "3c9b92e4-a868-4ddc-9298-1e50a41eabc4"
      },
      "source": [
        "from google.colab import drive\n",
        "drive.mount('/content/drive')"
      ],
      "execution_count": null,
      "outputs": [
        {
          "output_type": "stream",
          "text": [
            "Mounted at /content/drive\n"
          ],
          "name": "stdout"
        }
      ]
    },
    {
      "cell_type": "code",
      "metadata": {
        "id": "RVi51PqkWGD5"
      },
      "source": [
        "labels = ['Label1_Beans', 'Label1_Beverage', 'Label1_Biscuits', 'Label1_Bread',\n",
        "       'Label1_CAKE', 'Label1_Candy', 'Label1_Cans', 'Label1_Cereal',\n",
        "       'Label1_Chips', 'Label1_ChipsPack', 'Label1_Chocolate',\n",
        "       'Label2_BeansDefected', 'Label2_BeansPerfect',\n",
        "       'Label2_BeverageDefected', 'Label2_BeveragePerfect',\n",
        "       'Label2_BiscuitDefected', 'Label2_BiscuitPefect',\n",
        "       'Label2_BreadDefected', 'Label2_BreadPerfect', 'Label2_CakeDefected',\n",
        "       'Label2_CakePerfect', 'Label2_CandyDefected', 'Label2_CandyPerfect',\n",
        "       'Label2_CansDefected', 'Label2_CansPerfect', 'Label2_CerealDefected',\n",
        "       'Label2_CerealPerfect', 'Label2_ChipsDefected',\n",
        "       'Label2_ChipsPackDefected', 'Label2_ChipsPackPerfect',\n",
        "       'Label2_ChipsPerfect', 'Label2_ChocolateDefected',\n",
        "       'Label2_ChocolatePerfect', 'Defected', 'Perfect']"
      ],
      "execution_count": null,
      "outputs": []
    },
    {
      "cell_type": "code",
      "metadata": {
        "id": "UtUpDD5nWPTf"
      },
      "source": [
        "import torch\n",
        "import torch.nn as nn\n",
        "from torchvision import transforms\n",
        "import torch.nn.functional as F\n",
        "from PIL import Image\n",
        "import numpy as np"
      ],
      "execution_count": null,
      "outputs": []
    },
    {
      "cell_type": "code",
      "metadata": {
        "id": "c0HeZz4nWPRW"
      },
      "source": [
        "class MultiClassifier(nn.Module):\n",
        "    def __init__(self):\n",
        "        super(MultiClassifier, self).__init__()\n",
        "        self.ConvLayer1 = nn.Sequential(\n",
        "            nn.Conv2d(3, 64, 3), # 3, 256, 256\n",
        "            nn.MaxPool2d(2), # op: 16, 127, 127\n",
        "            nn.ReLU(), # op: 64, 127, 127\n",
        "        )\n",
        "        self.ConvLayer2 = nn.Sequential(\n",
        "            nn.Conv2d(64, 128, 3), # 64, 127, 127   \n",
        "            nn.MaxPool2d(2), #op: 128, 63, 63\n",
        "            nn.ReLU() # op: 128, 63, 63\n",
        "        )\n",
        "        self.ConvLayer3 = nn.Sequential(\n",
        "            nn.Conv2d(128, 256, 3), # 128, 63, 63\n",
        "            nn.MaxPool2d(2), #op: 256, 30, 30\n",
        "            nn.ReLU() #op: 256, 30, 30\n",
        "        )\n",
        "        self.ConvLayer4 = nn.Sequential(\n",
        "            nn.Conv2d(256, 512, 3), # 256, 30, 30\n",
        "            nn.MaxPool2d(2), #op: 512, 14, 14\n",
        "            nn.ReLU(), #op: 512, 14, 14\n",
        "            nn.Dropout(0.2)\n",
        "        )\n",
        "        self.Linear1 = nn.Linear(512 * 14 * 14, 1024)\n",
        "        self.Linear2 = nn.Linear(1024, 256)\n",
        "        self.Linear3 = nn.Linear(256, 35)\n",
        "        \n",
        "        \n",
        "    def forward(self, x):\n",
        "        x = self.ConvLayer1(x)\n",
        "        x = self.ConvLayer2(x)\n",
        "        x = self.ConvLayer3(x)\n",
        "        x = self.ConvLayer4(x)\n",
        "        x = x.view(x.size(0), -1)\n",
        "        x = self.Linear1(x)\n",
        "        x = self.Linear2(x)\n",
        "        x = self.Linear3(x)\n",
        "        return F.sigmoid(x)"
      ],
      "execution_count": null,
      "outputs": []
    },
    {
      "cell_type": "code",
      "metadata": {
        "id": "QO7rtj5PWPOX"
      },
      "source": [
        "model_path =  '/content/drive/My Drive/Defect_Detection_Model_50_Epochs'"
      ],
      "execution_count": null,
      "outputs": []
    },
    {
      "cell_type": "code",
      "metadata": {
        "id": "73qb2VGaWPLk"
      },
      "source": [
        "model = torch.load(model_path, map_location=torch.device('cpu'))\n",
        "model = model.eval()"
      ],
      "execution_count": null,
      "outputs": []
    },
    {
      "cell_type": "code",
      "metadata": {
        "id": "0rdQyHVXWPIq"
      },
      "source": [
        "def get_tensor(img):\n",
        "    tfms = transforms.Compose([\n",
        "        transforms.Resize((256, 256)),\n",
        "        transforms.ToTensor()\n",
        "    ])\n",
        "    \n",
        "    return tfms(Image.open(img)).unsqueeze(0)"
      ],
      "execution_count": null,
      "outputs": []
    },
    {
      "cell_type": "code",
      "metadata": {
        "id": "-zlrInMUWPFv"
      },
      "source": [
        "def predict(img, label_lst, model):\n",
        "    tnsr = get_tensor(img)\n",
        "    op = model(tnsr)\n",
        "    op_b = torch.round(op)\n",
        "    \n",
        "    op_b_np = torch.Tensor.cpu(op_b).detach().numpy()\n",
        "    \n",
        "    preds = np.where(op_b_np == 1)[1]\n",
        "    \n",
        "    sigs_op = torch.Tensor.cpu(torch.round((op)*100)).detach().numpy()[0]\n",
        "    \n",
        "    o_p = np.argsort(torch.Tensor.cpu(op).detach().numpy())[0][::-1]\n",
        "    \n",
        "#     print(\"Argsort: {}\".format(o_p))\n",
        "#     print(\"Softmax: {}\".format(sigs_op))\n",
        "    \n",
        "    \n",
        "    \n",
        "#     print(preds)\n",
        "    \n",
        "    label = []\n",
        "    for i in preds:\n",
        "        label.append(label_lst[i])\n",
        "        \n",
        "    arg_s = {}\n",
        "    for i in o_p:\n",
        "#         arg_s.append(label_lst[int(i)])\n",
        "        arg_s[label_lst[int(i)]] = sigs_op[int(i)]\n",
        "        \n",
        "    return label, list(arg_s.items())[:10]"
      ],
      "execution_count": null,
      "outputs": []
    },
    {
      "cell_type": "code",
      "metadata": {
        "id": "jKaHF9FTw-L9"
      },
      "source": [
        "\"\"\"the above function to predict the accurately predicted labels and \n",
        "also the top 10 labels in a descending order of their probability.\"\"\""
      ],
      "execution_count": null,
      "outputs": []
    },
    {
      "cell_type": "code",
      "metadata": {
        "id": "dFbc07wLw9-v"
      },
      "source": [
        ""
      ],
      "execution_count": null,
      "outputs": []
    },
    {
      "cell_type": "code",
      "metadata": {
        "colab": {
          "base_uri": "https://localhost:8080/"
        },
        "id": "5leIsrKLWO_9",
        "outputId": "a92ac94e-174e-4df8-d9bc-48a39f91267e"
      },
      "source": [
        "predict('Files/4891028707851_camera0-10.jpg', labels, model)    #Beverage > BeveragePerfect"
      ],
      "execution_count": null,
      "outputs": [
        {
          "output_type": "stream",
          "text": [
            "/usr/local/lib/python3.7/dist-packages/torch/nn/functional.py:1805: UserWarning: nn.functional.sigmoid is deprecated. Use torch.sigmoid instead.\n",
            "  warnings.warn(\"nn.functional.sigmoid is deprecated. Use torch.sigmoid instead.\")\n"
          ],
          "name": "stderr"
        },
        {
          "output_type": "execute_result",
          "data": {
            "text/plain": [
              "(['Perfect'],\n",
              " [('Perfect', 67.0),\n",
              "  ('Label1_Biscuits', 43.0),\n",
              "  ('Label2_CandyPerfect', 40.0),\n",
              "  ('Label2_BiscuitPefect', 38.0),\n",
              "  ('Label1_ChipsPack', 36.0),\n",
              "  ('Label2_CerealPerfect', 36.0),\n",
              "  ('Label1_Chips', 35.0),\n",
              "  ('Defected', 34.0),\n",
              "  ('Label2_BeverageDefected', 33.0),\n",
              "  ('Label1_Beverage', 33.0)])"
            ]
          },
          "metadata": {
            "tags": []
          },
          "execution_count": 20
        }
      ]
    },
    {
      "cell_type": "code",
      "metadata": {
        "id": "Bxp_A1dtuDkZ",
        "colab": {
          "base_uri": "https://localhost:8080/"
        },
        "outputId": "41568b91-68aa-453a-b3f8-07924759f645"
      },
      "source": [
        "predict('Files/CHIPS0151.jpg', labels, model)  "
      ],
      "execution_count": null,
      "outputs": [
        {
          "output_type": "stream",
          "text": [
            "/usr/local/lib/python3.7/dist-packages/torch/nn/functional.py:1805: UserWarning: nn.functional.sigmoid is deprecated. Use torch.sigmoid instead.\n",
            "  warnings.warn(\"nn.functional.sigmoid is deprecated. Use torch.sigmoid instead.\")\n"
          ],
          "name": "stderr"
        },
        {
          "output_type": "execute_result",
          "data": {
            "text/plain": [
              "(['Perfect'],\n",
              " [('Perfect', 68.0),\n",
              "  ('Label1_Biscuits', 43.0),\n",
              "  ('Label2_CandyPerfect', 39.0),\n",
              "  ('Label2_BiscuitPefect', 37.0),\n",
              "  ('Label2_CerealPerfect', 35.0),\n",
              "  ('Label1_ChipsPack', 35.0),\n",
              "  ('Label1_Chips', 34.0),\n",
              "  ('Defected', 32.0),\n",
              "  ('Label2_BeverageDefected', 32.0),\n",
              "  ('Label1_CAKE', 32.0)])"
            ]
          },
          "metadata": {
            "tags": []
          },
          "execution_count": 27
        }
      ]
    }
  ]
}