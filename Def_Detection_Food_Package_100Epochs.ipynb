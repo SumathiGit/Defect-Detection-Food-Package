{
  "nbformat": 4,
  "nbformat_minor": 0,
  "metadata": {
    "colab": {
      "name": "Def_Detection_Food_Package_100Epochs.ipynb",
      "provenance": [],
      "collapsed_sections": [],
      "authorship_tag": "ABX9TyORjHOyKy2rds5plvAJAXi5",
      "include_colab_link": true
    },
    "kernelspec": {
      "display_name": "Python 3",
      "name": "python3"
    },
    "language_info": {
      "name": "python"
    },
    "accelerator": "GPU"
  },
  "cells": [
    {
      "cell_type": "markdown",
      "metadata": {
        "id": "view-in-github",
        "colab_type": "text"
      },
      "source": [
        "<a href=\"https://colab.research.google.com/github/SumathiGit/Defect-Detection-Food-Package/blob/main/Def_Detection_Food_Package_100Epochs.ipynb\" target=\"_parent\"><img src=\"https://colab.research.google.com/assets/colab-badge.svg\" alt=\"Open In Colab\"/></a>"
      ]
    },
    {
      "cell_type": "code",
      "metadata": {
        "colab": {
          "base_uri": "https://localhost:8080/"
        },
        "id": "c7zbWNg_qcoF",
        "outputId": "09cc327d-8f75-4ac0-a857-694a21a5430c"
      },
      "source": [
        "from google.colab import drive\n",
        "drive.mount('/content/drive')"
      ],
      "execution_count": 1,
      "outputs": [
        {
          "output_type": "stream",
          "text": [
            "Mounted at /content/drive\n"
          ],
          "name": "stdout"
        }
      ]
    },
    {
      "cell_type": "code",
      "metadata": {
        "id": "UX-BTe4Tq2Wi"
      },
      "source": [
        "img_zip_path = '/content/drive/My Drive/Defect_Detection_Dataset/Img/Defect_Detection_Img.zip'"
      ],
      "execution_count": 3,
      "outputs": []
    },
    {
      "cell_type": "code",
      "metadata": {
        "id": "mnHUkUhsq2T5"
      },
      "source": [
        "import os\n",
        "import zipfile\n",
        "import pandas as pd\n",
        "import numpy as np\n",
        "from PIL import Image"
      ],
      "execution_count": 4,
      "outputs": []
    },
    {
      "cell_type": "code",
      "metadata": {
        "id": "ch-eYosvq2R8"
      },
      "source": [
        "zip_ref = zipfile.ZipFile(img_zip_path, 'r')\n",
        "zip_ref.extractall(\"Files\")\n",
        "zip_ref.close()"
      ],
      "execution_count": 5,
      "outputs": []
    },
    {
      "cell_type": "code",
      "metadata": {
        "id": "0mnxZhJlxF7e"
      },
      "source": [
        "df = pd.read_csv(\"/content/drive/My Drive/Defect_Detection_Dataset/Anno/food.csv\")"
      ],
      "execution_count": 6,
      "outputs": []
    },
    {
      "cell_type": "code",
      "metadata": {
        "colab": {
          "base_uri": "https://localhost:8080/",
          "height": 355
        },
        "id": "EY3KrF5WxF4p",
        "outputId": "b3bb7736-199b-455b-af51-50a0323d0d8b"
      },
      "source": [
        "df.head()"
      ],
      "execution_count": 7,
      "outputs": [
        {
          "output_type": "execute_result",
          "data": {
            "text/html": [
              "<div>\n",
              "<style scoped>\n",
              "    .dataframe tbody tr th:only-of-type {\n",
              "        vertical-align: middle;\n",
              "    }\n",
              "\n",
              "    .dataframe tbody tr th {\n",
              "        vertical-align: top;\n",
              "    }\n",
              "\n",
              "    .dataframe thead th {\n",
              "        text-align: right;\n",
              "    }\n",
              "</style>\n",
              "<table border=\"1\" class=\"dataframe\">\n",
              "  <thead>\n",
              "    <tr style=\"text-align: right;\">\n",
              "      <th></th>\n",
              "      <th>filename</th>\n",
              "      <th>Label1_Beans</th>\n",
              "      <th>Label1_Beverage</th>\n",
              "      <th>Label1_Biscuits</th>\n",
              "      <th>Label1_Bottle</th>\n",
              "      <th>Label1_Bread</th>\n",
              "      <th>Label1_CAKE</th>\n",
              "      <th>Label1_CORN</th>\n",
              "      <th>Label1_Candy</th>\n",
              "      <th>Label1_Cans</th>\n",
              "      <th>Label1_Cashews</th>\n",
              "      <th>Label1_Cereal</th>\n",
              "      <th>Label1_Chips</th>\n",
              "      <th>Label1_ChipsPack</th>\n",
              "      <th>Label1_Chocolate</th>\n",
              "      <th>Label1_Cocktail</th>\n",
              "      <th>Label1_CoolDrinks</th>\n",
              "      <th>Label1_Dates</th>\n",
              "      <th>Label1_DriedMango</th>\n",
              "      <th>Label1_Drinks</th>\n",
              "      <th>Label1_Fish</th>\n",
              "      <th>Label1_Flakes</th>\n",
              "      <th>Label1_Flour</th>\n",
              "      <th>Label1_FoodPack</th>\n",
              "      <th>Label1_Honey</th>\n",
              "      <th>Label1_JAM</th>\n",
              "      <th>Label1_Meat</th>\n",
              "      <th>Label1_MilkDrink</th>\n",
              "      <th>Label1_Muffins</th>\n",
              "      <th>Label1_Mushroom</th>\n",
              "      <th>Label1_NUTS</th>\n",
              "      <th>Label1_Noodles</th>\n",
              "      <th>Label1_PackedFood</th>\n",
              "      <th>Label1_Paprika</th>\n",
              "      <th>Label1_Pasta</th>\n",
              "      <th>Label1_Peanuts</th>\n",
              "      <th>Label1_Pistachios</th>\n",
              "      <th>Label1_RICE</th>\n",
              "      <th>Label1_SODA</th>\n",
              "      <th>Label1_SUGAR</th>\n",
              "      <th>...</th>\n",
              "      <th>Label2_OilDefected</th>\n",
              "      <th>Label2_OilPerfect</th>\n",
              "      <th>Label2_PackedFoodDefected</th>\n",
              "      <th>Label2_PackedFoodPerfect</th>\n",
              "      <th>Label2_Paprika Defected</th>\n",
              "      <th>Label2_PaprikaPerfect</th>\n",
              "      <th>Label2_PastaDefected</th>\n",
              "      <th>Label2_PastaPerfect</th>\n",
              "      <th>Label2_PeanutsDefected</th>\n",
              "      <th>Label2_PeanutsPerfect</th>\n",
              "      <th>Label2_PistachiosDefected</th>\n",
              "      <th>Label2_PistachiosPerfect</th>\n",
              "      <th>Label2_RiceDefected</th>\n",
              "      <th>Label2_RicePerfect</th>\n",
              "      <th>Label2_SaltDefected</th>\n",
              "      <th>Label2_SaltPerfect</th>\n",
              "      <th>Label2_SauceDefected</th>\n",
              "      <th>Label2_SaucePerfect</th>\n",
              "      <th>Label2_SeedsDefected</th>\n",
              "      <th>Label2_SeedsPerfect</th>\n",
              "      <th>Label2_SnackDefected</th>\n",
              "      <th>Label2_SnackPerfect</th>\n",
              "      <th>Label2_SodaDefected</th>\n",
              "      <th>Label2_SodaPerfect</th>\n",
              "      <th>Label2_SoySauceDefected</th>\n",
              "      <th>Label2_SoySaucePerfect</th>\n",
              "      <th>Label2_SpicesDefected</th>\n",
              "      <th>Label2_SpicesPerfect</th>\n",
              "      <th>Label2_SugarDefected</th>\n",
              "      <th>Label2_SugarPerfect</th>\n",
              "      <th>Label2_TeaBagsDefected</th>\n",
              "      <th>Label2_TeaBagsPerfect</th>\n",
              "      <th>Label2_ToothPastePerfect</th>\n",
              "      <th>Label2_ToothpasteDefected</th>\n",
              "      <th>Label2_VinegarDefected</th>\n",
              "      <th>Label2_VinegarPerfect</th>\n",
              "      <th>Label2_WaferDefected</th>\n",
              "      <th>Label2_WaferPerfect</th>\n",
              "      <th>Defected</th>\n",
              "      <th>Non_Defected</th>\n",
              "    </tr>\n",
              "  </thead>\n",
              "  <tbody>\n",
              "    <tr>\n",
              "      <th>0</th>\n",
              "      <td>6930096350922_camera0-1.jpg</td>\n",
              "      <td>0</td>\n",
              "      <td>0</td>\n",
              "      <td>0</td>\n",
              "      <td>0</td>\n",
              "      <td>0</td>\n",
              "      <td>0</td>\n",
              "      <td>0</td>\n",
              "      <td>0</td>\n",
              "      <td>0</td>\n",
              "      <td>0</td>\n",
              "      <td>0</td>\n",
              "      <td>0</td>\n",
              "      <td>0</td>\n",
              "      <td>0</td>\n",
              "      <td>0</td>\n",
              "      <td>0</td>\n",
              "      <td>0</td>\n",
              "      <td>0</td>\n",
              "      <td>0</td>\n",
              "      <td>0</td>\n",
              "      <td>0</td>\n",
              "      <td>0</td>\n",
              "      <td>0</td>\n",
              "      <td>0</td>\n",
              "      <td>0</td>\n",
              "      <td>0</td>\n",
              "      <td>0</td>\n",
              "      <td>0</td>\n",
              "      <td>0</td>\n",
              "      <td>0</td>\n",
              "      <td>0</td>\n",
              "      <td>0</td>\n",
              "      <td>0</td>\n",
              "      <td>0</td>\n",
              "      <td>0</td>\n",
              "      <td>0</td>\n",
              "      <td>0</td>\n",
              "      <td>0</td>\n",
              "      <td>0</td>\n",
              "      <td>...</td>\n",
              "      <td>1</td>\n",
              "      <td>0</td>\n",
              "      <td>0</td>\n",
              "      <td>0</td>\n",
              "      <td>0</td>\n",
              "      <td>0</td>\n",
              "      <td>0</td>\n",
              "      <td>0</td>\n",
              "      <td>0</td>\n",
              "      <td>0</td>\n",
              "      <td>0</td>\n",
              "      <td>0</td>\n",
              "      <td>0</td>\n",
              "      <td>0</td>\n",
              "      <td>0</td>\n",
              "      <td>0</td>\n",
              "      <td>0</td>\n",
              "      <td>0</td>\n",
              "      <td>0</td>\n",
              "      <td>0</td>\n",
              "      <td>0</td>\n",
              "      <td>0</td>\n",
              "      <td>0</td>\n",
              "      <td>0</td>\n",
              "      <td>0</td>\n",
              "      <td>0</td>\n",
              "      <td>0</td>\n",
              "      <td>0</td>\n",
              "      <td>0</td>\n",
              "      <td>0</td>\n",
              "      <td>0</td>\n",
              "      <td>0</td>\n",
              "      <td>0</td>\n",
              "      <td>0</td>\n",
              "      <td>0</td>\n",
              "      <td>0</td>\n",
              "      <td>0</td>\n",
              "      <td>0</td>\n",
              "      <td>1</td>\n",
              "      <td>0</td>\n",
              "    </tr>\n",
              "    <tr>\n",
              "      <th>1</th>\n",
              "      <td>6930096350922_camera3-11.jpg</td>\n",
              "      <td>0</td>\n",
              "      <td>0</td>\n",
              "      <td>0</td>\n",
              "      <td>0</td>\n",
              "      <td>0</td>\n",
              "      <td>0</td>\n",
              "      <td>0</td>\n",
              "      <td>0</td>\n",
              "      <td>0</td>\n",
              "      <td>0</td>\n",
              "      <td>0</td>\n",
              "      <td>0</td>\n",
              "      <td>0</td>\n",
              "      <td>0</td>\n",
              "      <td>0</td>\n",
              "      <td>0</td>\n",
              "      <td>0</td>\n",
              "      <td>0</td>\n",
              "      <td>0</td>\n",
              "      <td>0</td>\n",
              "      <td>0</td>\n",
              "      <td>0</td>\n",
              "      <td>0</td>\n",
              "      <td>0</td>\n",
              "      <td>0</td>\n",
              "      <td>0</td>\n",
              "      <td>0</td>\n",
              "      <td>0</td>\n",
              "      <td>0</td>\n",
              "      <td>0</td>\n",
              "      <td>0</td>\n",
              "      <td>0</td>\n",
              "      <td>0</td>\n",
              "      <td>0</td>\n",
              "      <td>0</td>\n",
              "      <td>0</td>\n",
              "      <td>0</td>\n",
              "      <td>0</td>\n",
              "      <td>0</td>\n",
              "      <td>...</td>\n",
              "      <td>1</td>\n",
              "      <td>0</td>\n",
              "      <td>0</td>\n",
              "      <td>0</td>\n",
              "      <td>0</td>\n",
              "      <td>0</td>\n",
              "      <td>0</td>\n",
              "      <td>0</td>\n",
              "      <td>0</td>\n",
              "      <td>0</td>\n",
              "      <td>0</td>\n",
              "      <td>0</td>\n",
              "      <td>0</td>\n",
              "      <td>0</td>\n",
              "      <td>0</td>\n",
              "      <td>0</td>\n",
              "      <td>0</td>\n",
              "      <td>0</td>\n",
              "      <td>0</td>\n",
              "      <td>0</td>\n",
              "      <td>0</td>\n",
              "      <td>0</td>\n",
              "      <td>0</td>\n",
              "      <td>0</td>\n",
              "      <td>0</td>\n",
              "      <td>0</td>\n",
              "      <td>0</td>\n",
              "      <td>0</td>\n",
              "      <td>0</td>\n",
              "      <td>0</td>\n",
              "      <td>0</td>\n",
              "      <td>0</td>\n",
              "      <td>0</td>\n",
              "      <td>0</td>\n",
              "      <td>0</td>\n",
              "      <td>0</td>\n",
              "      <td>0</td>\n",
              "      <td>0</td>\n",
              "      <td>1</td>\n",
              "      <td>0</td>\n",
              "    </tr>\n",
              "    <tr>\n",
              "      <th>2</th>\n",
              "      <td>6921168593736_camera1-7.jpg</td>\n",
              "      <td>0</td>\n",
              "      <td>0</td>\n",
              "      <td>0</td>\n",
              "      <td>0</td>\n",
              "      <td>0</td>\n",
              "      <td>0</td>\n",
              "      <td>0</td>\n",
              "      <td>0</td>\n",
              "      <td>0</td>\n",
              "      <td>0</td>\n",
              "      <td>0</td>\n",
              "      <td>0</td>\n",
              "      <td>0</td>\n",
              "      <td>0</td>\n",
              "      <td>0</td>\n",
              "      <td>0</td>\n",
              "      <td>0</td>\n",
              "      <td>0</td>\n",
              "      <td>0</td>\n",
              "      <td>0</td>\n",
              "      <td>0</td>\n",
              "      <td>0</td>\n",
              "      <td>0</td>\n",
              "      <td>0</td>\n",
              "      <td>0</td>\n",
              "      <td>0</td>\n",
              "      <td>0</td>\n",
              "      <td>0</td>\n",
              "      <td>0</td>\n",
              "      <td>0</td>\n",
              "      <td>0</td>\n",
              "      <td>0</td>\n",
              "      <td>0</td>\n",
              "      <td>0</td>\n",
              "      <td>0</td>\n",
              "      <td>0</td>\n",
              "      <td>0</td>\n",
              "      <td>0</td>\n",
              "      <td>0</td>\n",
              "      <td>...</td>\n",
              "      <td>1</td>\n",
              "      <td>0</td>\n",
              "      <td>0</td>\n",
              "      <td>0</td>\n",
              "      <td>0</td>\n",
              "      <td>0</td>\n",
              "      <td>0</td>\n",
              "      <td>0</td>\n",
              "      <td>0</td>\n",
              "      <td>0</td>\n",
              "      <td>0</td>\n",
              "      <td>0</td>\n",
              "      <td>0</td>\n",
              "      <td>0</td>\n",
              "      <td>0</td>\n",
              "      <td>0</td>\n",
              "      <td>0</td>\n",
              "      <td>0</td>\n",
              "      <td>0</td>\n",
              "      <td>0</td>\n",
              "      <td>0</td>\n",
              "      <td>0</td>\n",
              "      <td>0</td>\n",
              "      <td>0</td>\n",
              "      <td>0</td>\n",
              "      <td>0</td>\n",
              "      <td>0</td>\n",
              "      <td>0</td>\n",
              "      <td>0</td>\n",
              "      <td>0</td>\n",
              "      <td>0</td>\n",
              "      <td>0</td>\n",
              "      <td>0</td>\n",
              "      <td>0</td>\n",
              "      <td>0</td>\n",
              "      <td>0</td>\n",
              "      <td>0</td>\n",
              "      <td>0</td>\n",
              "      <td>1</td>\n",
              "      <td>0</td>\n",
              "    </tr>\n",
              "    <tr>\n",
              "      <th>3</th>\n",
              "      <td>6921168593736_camera0-32.jpg</td>\n",
              "      <td>0</td>\n",
              "      <td>0</td>\n",
              "      <td>0</td>\n",
              "      <td>0</td>\n",
              "      <td>0</td>\n",
              "      <td>0</td>\n",
              "      <td>0</td>\n",
              "      <td>0</td>\n",
              "      <td>0</td>\n",
              "      <td>0</td>\n",
              "      <td>0</td>\n",
              "      <td>0</td>\n",
              "      <td>0</td>\n",
              "      <td>0</td>\n",
              "      <td>0</td>\n",
              "      <td>0</td>\n",
              "      <td>0</td>\n",
              "      <td>0</td>\n",
              "      <td>0</td>\n",
              "      <td>0</td>\n",
              "      <td>0</td>\n",
              "      <td>0</td>\n",
              "      <td>0</td>\n",
              "      <td>0</td>\n",
              "      <td>0</td>\n",
              "      <td>0</td>\n",
              "      <td>0</td>\n",
              "      <td>0</td>\n",
              "      <td>0</td>\n",
              "      <td>0</td>\n",
              "      <td>0</td>\n",
              "      <td>0</td>\n",
              "      <td>0</td>\n",
              "      <td>0</td>\n",
              "      <td>0</td>\n",
              "      <td>0</td>\n",
              "      <td>0</td>\n",
              "      <td>0</td>\n",
              "      <td>0</td>\n",
              "      <td>...</td>\n",
              "      <td>1</td>\n",
              "      <td>0</td>\n",
              "      <td>0</td>\n",
              "      <td>0</td>\n",
              "      <td>0</td>\n",
              "      <td>0</td>\n",
              "      <td>0</td>\n",
              "      <td>0</td>\n",
              "      <td>0</td>\n",
              "      <td>0</td>\n",
              "      <td>0</td>\n",
              "      <td>0</td>\n",
              "      <td>0</td>\n",
              "      <td>0</td>\n",
              "      <td>0</td>\n",
              "      <td>0</td>\n",
              "      <td>0</td>\n",
              "      <td>0</td>\n",
              "      <td>0</td>\n",
              "      <td>0</td>\n",
              "      <td>0</td>\n",
              "      <td>0</td>\n",
              "      <td>0</td>\n",
              "      <td>0</td>\n",
              "      <td>0</td>\n",
              "      <td>0</td>\n",
              "      <td>0</td>\n",
              "      <td>0</td>\n",
              "      <td>0</td>\n",
              "      <td>0</td>\n",
              "      <td>0</td>\n",
              "      <td>0</td>\n",
              "      <td>0</td>\n",
              "      <td>0</td>\n",
              "      <td>0</td>\n",
              "      <td>0</td>\n",
              "      <td>0</td>\n",
              "      <td>0</td>\n",
              "      <td>1</td>\n",
              "      <td>0</td>\n",
              "    </tr>\n",
              "    <tr>\n",
              "      <th>4</th>\n",
              "      <td>6930096350922_camera0-23.jpg</td>\n",
              "      <td>0</td>\n",
              "      <td>0</td>\n",
              "      <td>0</td>\n",
              "      <td>0</td>\n",
              "      <td>0</td>\n",
              "      <td>0</td>\n",
              "      <td>0</td>\n",
              "      <td>0</td>\n",
              "      <td>0</td>\n",
              "      <td>0</td>\n",
              "      <td>0</td>\n",
              "      <td>0</td>\n",
              "      <td>0</td>\n",
              "      <td>0</td>\n",
              "      <td>0</td>\n",
              "      <td>0</td>\n",
              "      <td>0</td>\n",
              "      <td>0</td>\n",
              "      <td>0</td>\n",
              "      <td>0</td>\n",
              "      <td>0</td>\n",
              "      <td>0</td>\n",
              "      <td>0</td>\n",
              "      <td>0</td>\n",
              "      <td>0</td>\n",
              "      <td>0</td>\n",
              "      <td>0</td>\n",
              "      <td>0</td>\n",
              "      <td>0</td>\n",
              "      <td>0</td>\n",
              "      <td>0</td>\n",
              "      <td>0</td>\n",
              "      <td>0</td>\n",
              "      <td>0</td>\n",
              "      <td>0</td>\n",
              "      <td>0</td>\n",
              "      <td>0</td>\n",
              "      <td>0</td>\n",
              "      <td>0</td>\n",
              "      <td>...</td>\n",
              "      <td>1</td>\n",
              "      <td>0</td>\n",
              "      <td>0</td>\n",
              "      <td>0</td>\n",
              "      <td>0</td>\n",
              "      <td>0</td>\n",
              "      <td>0</td>\n",
              "      <td>0</td>\n",
              "      <td>0</td>\n",
              "      <td>0</td>\n",
              "      <td>0</td>\n",
              "      <td>0</td>\n",
              "      <td>0</td>\n",
              "      <td>0</td>\n",
              "      <td>0</td>\n",
              "      <td>0</td>\n",
              "      <td>0</td>\n",
              "      <td>0</td>\n",
              "      <td>0</td>\n",
              "      <td>0</td>\n",
              "      <td>0</td>\n",
              "      <td>0</td>\n",
              "      <td>0</td>\n",
              "      <td>0</td>\n",
              "      <td>0</td>\n",
              "      <td>0</td>\n",
              "      <td>0</td>\n",
              "      <td>0</td>\n",
              "      <td>0</td>\n",
              "      <td>0</td>\n",
              "      <td>0</td>\n",
              "      <td>0</td>\n",
              "      <td>0</td>\n",
              "      <td>0</td>\n",
              "      <td>0</td>\n",
              "      <td>0</td>\n",
              "      <td>0</td>\n",
              "      <td>0</td>\n",
              "      <td>1</td>\n",
              "      <td>0</td>\n",
              "    </tr>\n",
              "  </tbody>\n",
              "</table>\n",
              "<p>5 rows × 153 columns</p>\n",
              "</div>"
            ],
            "text/plain": [
              "                       filename  Label1_Beans  ...  Defected  Non_Defected\n",
              "0   6930096350922_camera0-1.jpg             0  ...         1             0\n",
              "1  6930096350922_camera3-11.jpg             0  ...         1             0\n",
              "2   6921168593736_camera1-7.jpg             0  ...         1             0\n",
              "3  6921168593736_camera0-32.jpg             0  ...         1             0\n",
              "4  6930096350922_camera0-23.jpg             0  ...         1             0\n",
              "\n",
              "[5 rows x 153 columns]"
            ]
          },
          "metadata": {
            "tags": []
          },
          "execution_count": 7
        }
      ]
    },
    {
      "cell_type": "code",
      "metadata": {
        "id": "m5waTr92xF2T"
      },
      "source": [
        "df = df.set_index(\"filename\", drop = True)"
      ],
      "execution_count": 8,
      "outputs": []
    },
    {
      "cell_type": "code",
      "metadata": {
        "colab": {
          "base_uri": "https://localhost:8080/",
          "height": 386
        },
        "id": "9ks2N2OQxFzz",
        "outputId": "b6ee7754-5f6d-4c04-8c24-63f47c032409"
      },
      "source": [
        "df.head()"
      ],
      "execution_count": 9,
      "outputs": [
        {
          "output_type": "execute_result",
          "data": {
            "text/html": [
              "<div>\n",
              "<style scoped>\n",
              "    .dataframe tbody tr th:only-of-type {\n",
              "        vertical-align: middle;\n",
              "    }\n",
              "\n",
              "    .dataframe tbody tr th {\n",
              "        vertical-align: top;\n",
              "    }\n",
              "\n",
              "    .dataframe thead th {\n",
              "        text-align: right;\n",
              "    }\n",
              "</style>\n",
              "<table border=\"1\" class=\"dataframe\">\n",
              "  <thead>\n",
              "    <tr style=\"text-align: right;\">\n",
              "      <th></th>\n",
              "      <th>Label1_Beans</th>\n",
              "      <th>Label1_Beverage</th>\n",
              "      <th>Label1_Biscuits</th>\n",
              "      <th>Label1_Bottle</th>\n",
              "      <th>Label1_Bread</th>\n",
              "      <th>Label1_CAKE</th>\n",
              "      <th>Label1_CORN</th>\n",
              "      <th>Label1_Candy</th>\n",
              "      <th>Label1_Cans</th>\n",
              "      <th>Label1_Cashews</th>\n",
              "      <th>Label1_Cereal</th>\n",
              "      <th>Label1_Chips</th>\n",
              "      <th>Label1_ChipsPack</th>\n",
              "      <th>Label1_Chocolate</th>\n",
              "      <th>Label1_Cocktail</th>\n",
              "      <th>Label1_CoolDrinks</th>\n",
              "      <th>Label1_Dates</th>\n",
              "      <th>Label1_DriedMango</th>\n",
              "      <th>Label1_Drinks</th>\n",
              "      <th>Label1_Fish</th>\n",
              "      <th>Label1_Flakes</th>\n",
              "      <th>Label1_Flour</th>\n",
              "      <th>Label1_FoodPack</th>\n",
              "      <th>Label1_Honey</th>\n",
              "      <th>Label1_JAM</th>\n",
              "      <th>Label1_Meat</th>\n",
              "      <th>Label1_MilkDrink</th>\n",
              "      <th>Label1_Muffins</th>\n",
              "      <th>Label1_Mushroom</th>\n",
              "      <th>Label1_NUTS</th>\n",
              "      <th>Label1_Noodles</th>\n",
              "      <th>Label1_PackedFood</th>\n",
              "      <th>Label1_Paprika</th>\n",
              "      <th>Label1_Pasta</th>\n",
              "      <th>Label1_Peanuts</th>\n",
              "      <th>Label1_Pistachios</th>\n",
              "      <th>Label1_RICE</th>\n",
              "      <th>Label1_SODA</th>\n",
              "      <th>Label1_SUGAR</th>\n",
              "      <th>Label1_Salt</th>\n",
              "      <th>...</th>\n",
              "      <th>Label2_OilDefected</th>\n",
              "      <th>Label2_OilPerfect</th>\n",
              "      <th>Label2_PackedFoodDefected</th>\n",
              "      <th>Label2_PackedFoodPerfect</th>\n",
              "      <th>Label2_Paprika Defected</th>\n",
              "      <th>Label2_PaprikaPerfect</th>\n",
              "      <th>Label2_PastaDefected</th>\n",
              "      <th>Label2_PastaPerfect</th>\n",
              "      <th>Label2_PeanutsDefected</th>\n",
              "      <th>Label2_PeanutsPerfect</th>\n",
              "      <th>Label2_PistachiosDefected</th>\n",
              "      <th>Label2_PistachiosPerfect</th>\n",
              "      <th>Label2_RiceDefected</th>\n",
              "      <th>Label2_RicePerfect</th>\n",
              "      <th>Label2_SaltDefected</th>\n",
              "      <th>Label2_SaltPerfect</th>\n",
              "      <th>Label2_SauceDefected</th>\n",
              "      <th>Label2_SaucePerfect</th>\n",
              "      <th>Label2_SeedsDefected</th>\n",
              "      <th>Label2_SeedsPerfect</th>\n",
              "      <th>Label2_SnackDefected</th>\n",
              "      <th>Label2_SnackPerfect</th>\n",
              "      <th>Label2_SodaDefected</th>\n",
              "      <th>Label2_SodaPerfect</th>\n",
              "      <th>Label2_SoySauceDefected</th>\n",
              "      <th>Label2_SoySaucePerfect</th>\n",
              "      <th>Label2_SpicesDefected</th>\n",
              "      <th>Label2_SpicesPerfect</th>\n",
              "      <th>Label2_SugarDefected</th>\n",
              "      <th>Label2_SugarPerfect</th>\n",
              "      <th>Label2_TeaBagsDefected</th>\n",
              "      <th>Label2_TeaBagsPerfect</th>\n",
              "      <th>Label2_ToothPastePerfect</th>\n",
              "      <th>Label2_ToothpasteDefected</th>\n",
              "      <th>Label2_VinegarDefected</th>\n",
              "      <th>Label2_VinegarPerfect</th>\n",
              "      <th>Label2_WaferDefected</th>\n",
              "      <th>Label2_WaferPerfect</th>\n",
              "      <th>Defected</th>\n",
              "      <th>Non_Defected</th>\n",
              "    </tr>\n",
              "    <tr>\n",
              "      <th>filename</th>\n",
              "      <th></th>\n",
              "      <th></th>\n",
              "      <th></th>\n",
              "      <th></th>\n",
              "      <th></th>\n",
              "      <th></th>\n",
              "      <th></th>\n",
              "      <th></th>\n",
              "      <th></th>\n",
              "      <th></th>\n",
              "      <th></th>\n",
              "      <th></th>\n",
              "      <th></th>\n",
              "      <th></th>\n",
              "      <th></th>\n",
              "      <th></th>\n",
              "      <th></th>\n",
              "      <th></th>\n",
              "      <th></th>\n",
              "      <th></th>\n",
              "      <th></th>\n",
              "      <th></th>\n",
              "      <th></th>\n",
              "      <th></th>\n",
              "      <th></th>\n",
              "      <th></th>\n",
              "      <th></th>\n",
              "      <th></th>\n",
              "      <th></th>\n",
              "      <th></th>\n",
              "      <th></th>\n",
              "      <th></th>\n",
              "      <th></th>\n",
              "      <th></th>\n",
              "      <th></th>\n",
              "      <th></th>\n",
              "      <th></th>\n",
              "      <th></th>\n",
              "      <th></th>\n",
              "      <th></th>\n",
              "      <th></th>\n",
              "      <th></th>\n",
              "      <th></th>\n",
              "      <th></th>\n",
              "      <th></th>\n",
              "      <th></th>\n",
              "      <th></th>\n",
              "      <th></th>\n",
              "      <th></th>\n",
              "      <th></th>\n",
              "      <th></th>\n",
              "      <th></th>\n",
              "      <th></th>\n",
              "      <th></th>\n",
              "      <th></th>\n",
              "      <th></th>\n",
              "      <th></th>\n",
              "      <th></th>\n",
              "      <th></th>\n",
              "      <th></th>\n",
              "      <th></th>\n",
              "      <th></th>\n",
              "      <th></th>\n",
              "      <th></th>\n",
              "      <th></th>\n",
              "      <th></th>\n",
              "      <th></th>\n",
              "      <th></th>\n",
              "      <th></th>\n",
              "      <th></th>\n",
              "      <th></th>\n",
              "      <th></th>\n",
              "      <th></th>\n",
              "      <th></th>\n",
              "      <th></th>\n",
              "      <th></th>\n",
              "      <th></th>\n",
              "      <th></th>\n",
              "      <th></th>\n",
              "      <th></th>\n",
              "      <th></th>\n",
              "    </tr>\n",
              "  </thead>\n",
              "  <tbody>\n",
              "    <tr>\n",
              "      <th>6930096350922_camera0-1.jpg</th>\n",
              "      <td>0</td>\n",
              "      <td>0</td>\n",
              "      <td>0</td>\n",
              "      <td>0</td>\n",
              "      <td>0</td>\n",
              "      <td>0</td>\n",
              "      <td>0</td>\n",
              "      <td>0</td>\n",
              "      <td>0</td>\n",
              "      <td>0</td>\n",
              "      <td>0</td>\n",
              "      <td>0</td>\n",
              "      <td>0</td>\n",
              "      <td>0</td>\n",
              "      <td>0</td>\n",
              "      <td>0</td>\n",
              "      <td>0</td>\n",
              "      <td>0</td>\n",
              "      <td>0</td>\n",
              "      <td>0</td>\n",
              "      <td>0</td>\n",
              "      <td>0</td>\n",
              "      <td>0</td>\n",
              "      <td>0</td>\n",
              "      <td>0</td>\n",
              "      <td>0</td>\n",
              "      <td>0</td>\n",
              "      <td>0</td>\n",
              "      <td>0</td>\n",
              "      <td>0</td>\n",
              "      <td>0</td>\n",
              "      <td>0</td>\n",
              "      <td>0</td>\n",
              "      <td>0</td>\n",
              "      <td>0</td>\n",
              "      <td>0</td>\n",
              "      <td>0</td>\n",
              "      <td>0</td>\n",
              "      <td>0</td>\n",
              "      <td>0</td>\n",
              "      <td>...</td>\n",
              "      <td>1</td>\n",
              "      <td>0</td>\n",
              "      <td>0</td>\n",
              "      <td>0</td>\n",
              "      <td>0</td>\n",
              "      <td>0</td>\n",
              "      <td>0</td>\n",
              "      <td>0</td>\n",
              "      <td>0</td>\n",
              "      <td>0</td>\n",
              "      <td>0</td>\n",
              "      <td>0</td>\n",
              "      <td>0</td>\n",
              "      <td>0</td>\n",
              "      <td>0</td>\n",
              "      <td>0</td>\n",
              "      <td>0</td>\n",
              "      <td>0</td>\n",
              "      <td>0</td>\n",
              "      <td>0</td>\n",
              "      <td>0</td>\n",
              "      <td>0</td>\n",
              "      <td>0</td>\n",
              "      <td>0</td>\n",
              "      <td>0</td>\n",
              "      <td>0</td>\n",
              "      <td>0</td>\n",
              "      <td>0</td>\n",
              "      <td>0</td>\n",
              "      <td>0</td>\n",
              "      <td>0</td>\n",
              "      <td>0</td>\n",
              "      <td>0</td>\n",
              "      <td>0</td>\n",
              "      <td>0</td>\n",
              "      <td>0</td>\n",
              "      <td>0</td>\n",
              "      <td>0</td>\n",
              "      <td>1</td>\n",
              "      <td>0</td>\n",
              "    </tr>\n",
              "    <tr>\n",
              "      <th>6930096350922_camera3-11.jpg</th>\n",
              "      <td>0</td>\n",
              "      <td>0</td>\n",
              "      <td>0</td>\n",
              "      <td>0</td>\n",
              "      <td>0</td>\n",
              "      <td>0</td>\n",
              "      <td>0</td>\n",
              "      <td>0</td>\n",
              "      <td>0</td>\n",
              "      <td>0</td>\n",
              "      <td>0</td>\n",
              "      <td>0</td>\n",
              "      <td>0</td>\n",
              "      <td>0</td>\n",
              "      <td>0</td>\n",
              "      <td>0</td>\n",
              "      <td>0</td>\n",
              "      <td>0</td>\n",
              "      <td>0</td>\n",
              "      <td>0</td>\n",
              "      <td>0</td>\n",
              "      <td>0</td>\n",
              "      <td>0</td>\n",
              "      <td>0</td>\n",
              "      <td>0</td>\n",
              "      <td>0</td>\n",
              "      <td>0</td>\n",
              "      <td>0</td>\n",
              "      <td>0</td>\n",
              "      <td>0</td>\n",
              "      <td>0</td>\n",
              "      <td>0</td>\n",
              "      <td>0</td>\n",
              "      <td>0</td>\n",
              "      <td>0</td>\n",
              "      <td>0</td>\n",
              "      <td>0</td>\n",
              "      <td>0</td>\n",
              "      <td>0</td>\n",
              "      <td>0</td>\n",
              "      <td>...</td>\n",
              "      <td>1</td>\n",
              "      <td>0</td>\n",
              "      <td>0</td>\n",
              "      <td>0</td>\n",
              "      <td>0</td>\n",
              "      <td>0</td>\n",
              "      <td>0</td>\n",
              "      <td>0</td>\n",
              "      <td>0</td>\n",
              "      <td>0</td>\n",
              "      <td>0</td>\n",
              "      <td>0</td>\n",
              "      <td>0</td>\n",
              "      <td>0</td>\n",
              "      <td>0</td>\n",
              "      <td>0</td>\n",
              "      <td>0</td>\n",
              "      <td>0</td>\n",
              "      <td>0</td>\n",
              "      <td>0</td>\n",
              "      <td>0</td>\n",
              "      <td>0</td>\n",
              "      <td>0</td>\n",
              "      <td>0</td>\n",
              "      <td>0</td>\n",
              "      <td>0</td>\n",
              "      <td>0</td>\n",
              "      <td>0</td>\n",
              "      <td>0</td>\n",
              "      <td>0</td>\n",
              "      <td>0</td>\n",
              "      <td>0</td>\n",
              "      <td>0</td>\n",
              "      <td>0</td>\n",
              "      <td>0</td>\n",
              "      <td>0</td>\n",
              "      <td>0</td>\n",
              "      <td>0</td>\n",
              "      <td>1</td>\n",
              "      <td>0</td>\n",
              "    </tr>\n",
              "    <tr>\n",
              "      <th>6921168593736_camera1-7.jpg</th>\n",
              "      <td>0</td>\n",
              "      <td>0</td>\n",
              "      <td>0</td>\n",
              "      <td>0</td>\n",
              "      <td>0</td>\n",
              "      <td>0</td>\n",
              "      <td>0</td>\n",
              "      <td>0</td>\n",
              "      <td>0</td>\n",
              "      <td>0</td>\n",
              "      <td>0</td>\n",
              "      <td>0</td>\n",
              "      <td>0</td>\n",
              "      <td>0</td>\n",
              "      <td>0</td>\n",
              "      <td>0</td>\n",
              "      <td>0</td>\n",
              "      <td>0</td>\n",
              "      <td>0</td>\n",
              "      <td>0</td>\n",
              "      <td>0</td>\n",
              "      <td>0</td>\n",
              "      <td>0</td>\n",
              "      <td>0</td>\n",
              "      <td>0</td>\n",
              "      <td>0</td>\n",
              "      <td>0</td>\n",
              "      <td>0</td>\n",
              "      <td>0</td>\n",
              "      <td>0</td>\n",
              "      <td>0</td>\n",
              "      <td>0</td>\n",
              "      <td>0</td>\n",
              "      <td>0</td>\n",
              "      <td>0</td>\n",
              "      <td>0</td>\n",
              "      <td>0</td>\n",
              "      <td>0</td>\n",
              "      <td>0</td>\n",
              "      <td>0</td>\n",
              "      <td>...</td>\n",
              "      <td>1</td>\n",
              "      <td>0</td>\n",
              "      <td>0</td>\n",
              "      <td>0</td>\n",
              "      <td>0</td>\n",
              "      <td>0</td>\n",
              "      <td>0</td>\n",
              "      <td>0</td>\n",
              "      <td>0</td>\n",
              "      <td>0</td>\n",
              "      <td>0</td>\n",
              "      <td>0</td>\n",
              "      <td>0</td>\n",
              "      <td>0</td>\n",
              "      <td>0</td>\n",
              "      <td>0</td>\n",
              "      <td>0</td>\n",
              "      <td>0</td>\n",
              "      <td>0</td>\n",
              "      <td>0</td>\n",
              "      <td>0</td>\n",
              "      <td>0</td>\n",
              "      <td>0</td>\n",
              "      <td>0</td>\n",
              "      <td>0</td>\n",
              "      <td>0</td>\n",
              "      <td>0</td>\n",
              "      <td>0</td>\n",
              "      <td>0</td>\n",
              "      <td>0</td>\n",
              "      <td>0</td>\n",
              "      <td>0</td>\n",
              "      <td>0</td>\n",
              "      <td>0</td>\n",
              "      <td>0</td>\n",
              "      <td>0</td>\n",
              "      <td>0</td>\n",
              "      <td>0</td>\n",
              "      <td>1</td>\n",
              "      <td>0</td>\n",
              "    </tr>\n",
              "    <tr>\n",
              "      <th>6921168593736_camera0-32.jpg</th>\n",
              "      <td>0</td>\n",
              "      <td>0</td>\n",
              "      <td>0</td>\n",
              "      <td>0</td>\n",
              "      <td>0</td>\n",
              "      <td>0</td>\n",
              "      <td>0</td>\n",
              "      <td>0</td>\n",
              "      <td>0</td>\n",
              "      <td>0</td>\n",
              "      <td>0</td>\n",
              "      <td>0</td>\n",
              "      <td>0</td>\n",
              "      <td>0</td>\n",
              "      <td>0</td>\n",
              "      <td>0</td>\n",
              "      <td>0</td>\n",
              "      <td>0</td>\n",
              "      <td>0</td>\n",
              "      <td>0</td>\n",
              "      <td>0</td>\n",
              "      <td>0</td>\n",
              "      <td>0</td>\n",
              "      <td>0</td>\n",
              "      <td>0</td>\n",
              "      <td>0</td>\n",
              "      <td>0</td>\n",
              "      <td>0</td>\n",
              "      <td>0</td>\n",
              "      <td>0</td>\n",
              "      <td>0</td>\n",
              "      <td>0</td>\n",
              "      <td>0</td>\n",
              "      <td>0</td>\n",
              "      <td>0</td>\n",
              "      <td>0</td>\n",
              "      <td>0</td>\n",
              "      <td>0</td>\n",
              "      <td>0</td>\n",
              "      <td>0</td>\n",
              "      <td>...</td>\n",
              "      <td>1</td>\n",
              "      <td>0</td>\n",
              "      <td>0</td>\n",
              "      <td>0</td>\n",
              "      <td>0</td>\n",
              "      <td>0</td>\n",
              "      <td>0</td>\n",
              "      <td>0</td>\n",
              "      <td>0</td>\n",
              "      <td>0</td>\n",
              "      <td>0</td>\n",
              "      <td>0</td>\n",
              "      <td>0</td>\n",
              "      <td>0</td>\n",
              "      <td>0</td>\n",
              "      <td>0</td>\n",
              "      <td>0</td>\n",
              "      <td>0</td>\n",
              "      <td>0</td>\n",
              "      <td>0</td>\n",
              "      <td>0</td>\n",
              "      <td>0</td>\n",
              "      <td>0</td>\n",
              "      <td>0</td>\n",
              "      <td>0</td>\n",
              "      <td>0</td>\n",
              "      <td>0</td>\n",
              "      <td>0</td>\n",
              "      <td>0</td>\n",
              "      <td>0</td>\n",
              "      <td>0</td>\n",
              "      <td>0</td>\n",
              "      <td>0</td>\n",
              "      <td>0</td>\n",
              "      <td>0</td>\n",
              "      <td>0</td>\n",
              "      <td>0</td>\n",
              "      <td>0</td>\n",
              "      <td>1</td>\n",
              "      <td>0</td>\n",
              "    </tr>\n",
              "    <tr>\n",
              "      <th>6930096350922_camera0-23.jpg</th>\n",
              "      <td>0</td>\n",
              "      <td>0</td>\n",
              "      <td>0</td>\n",
              "      <td>0</td>\n",
              "      <td>0</td>\n",
              "      <td>0</td>\n",
              "      <td>0</td>\n",
              "      <td>0</td>\n",
              "      <td>0</td>\n",
              "      <td>0</td>\n",
              "      <td>0</td>\n",
              "      <td>0</td>\n",
              "      <td>0</td>\n",
              "      <td>0</td>\n",
              "      <td>0</td>\n",
              "      <td>0</td>\n",
              "      <td>0</td>\n",
              "      <td>0</td>\n",
              "      <td>0</td>\n",
              "      <td>0</td>\n",
              "      <td>0</td>\n",
              "      <td>0</td>\n",
              "      <td>0</td>\n",
              "      <td>0</td>\n",
              "      <td>0</td>\n",
              "      <td>0</td>\n",
              "      <td>0</td>\n",
              "      <td>0</td>\n",
              "      <td>0</td>\n",
              "      <td>0</td>\n",
              "      <td>0</td>\n",
              "      <td>0</td>\n",
              "      <td>0</td>\n",
              "      <td>0</td>\n",
              "      <td>0</td>\n",
              "      <td>0</td>\n",
              "      <td>0</td>\n",
              "      <td>0</td>\n",
              "      <td>0</td>\n",
              "      <td>0</td>\n",
              "      <td>...</td>\n",
              "      <td>1</td>\n",
              "      <td>0</td>\n",
              "      <td>0</td>\n",
              "      <td>0</td>\n",
              "      <td>0</td>\n",
              "      <td>0</td>\n",
              "      <td>0</td>\n",
              "      <td>0</td>\n",
              "      <td>0</td>\n",
              "      <td>0</td>\n",
              "      <td>0</td>\n",
              "      <td>0</td>\n",
              "      <td>0</td>\n",
              "      <td>0</td>\n",
              "      <td>0</td>\n",
              "      <td>0</td>\n",
              "      <td>0</td>\n",
              "      <td>0</td>\n",
              "      <td>0</td>\n",
              "      <td>0</td>\n",
              "      <td>0</td>\n",
              "      <td>0</td>\n",
              "      <td>0</td>\n",
              "      <td>0</td>\n",
              "      <td>0</td>\n",
              "      <td>0</td>\n",
              "      <td>0</td>\n",
              "      <td>0</td>\n",
              "      <td>0</td>\n",
              "      <td>0</td>\n",
              "      <td>0</td>\n",
              "      <td>0</td>\n",
              "      <td>0</td>\n",
              "      <td>0</td>\n",
              "      <td>0</td>\n",
              "      <td>0</td>\n",
              "      <td>0</td>\n",
              "      <td>0</td>\n",
              "      <td>1</td>\n",
              "      <td>0</td>\n",
              "    </tr>\n",
              "  </tbody>\n",
              "</table>\n",
              "<p>5 rows × 152 columns</p>\n",
              "</div>"
            ],
            "text/plain": [
              "                              Label1_Beans  ...  Non_Defected\n",
              "filename                                    ...              \n",
              "6930096350922_camera0-1.jpg              0  ...             0\n",
              "6930096350922_camera3-11.jpg             0  ...             0\n",
              "6921168593736_camera1-7.jpg              0  ...             0\n",
              "6921168593736_camera0-32.jpg             0  ...             0\n",
              "6930096350922_camera0-23.jpg             0  ...             0\n",
              "\n",
              "[5 rows x 152 columns]"
            ]
          },
          "metadata": {
            "tags": []
          },
          "execution_count": 9
        }
      ]
    },
    {
      "cell_type": "code",
      "metadata": {
        "colab": {
          "base_uri": "https://localhost:8080/"
        },
        "id": "WQSh095axFw8",
        "outputId": "0c07b2dd-e3a0-4a94-cc1b-db7f9e08c4e5"
      },
      "source": [
        "df.index"
      ],
      "execution_count": 10,
      "outputs": [
        {
          "output_type": "execute_result",
          "data": {
            "text/plain": [
              "Index(['6930096350922_camera0-1.jpg', '6930096350922_camera3-11.jpg',\n",
              "       '6921168593736_camera1-7.jpg', '6921168593736_camera0-32.jpg',\n",
              "       '6930096350922_camera0-23.jpg', '6921168593736_camera3-31.jpg',\n",
              "       '6921168593736_camera0-17.jpg', '6921168593736_camera1-33.jpg',\n",
              "       '6921168593736_camera1-32.jpg', '6930096350922_camera2-40.jpg',\n",
              "       ...\n",
              "       'CEREAL0249.jpg', 'CEREAL0023.jpg', 'CEREAL0225.jpg', 'CEREAL0257.jpg',\n",
              "       'CEREAL0274.jpg', 'CEREAL0010.jpg', 'CEREAL0098.jpg', 'CEREAL0224.jpg',\n",
              "       'CEREAL0013.jpg', 'CEREAL0254.jpg'],\n",
              "      dtype='object', name='filename', length=7624)"
            ]
          },
          "metadata": {
            "tags": []
          },
          "execution_count": 10
        }
      ]
    },
    {
      "cell_type": "code",
      "metadata": {
        "id": "1XFOlN0S9Gfy"
      },
      "source": [
        "from glob import glob"
      ],
      "execution_count": 11,
      "outputs": []
    },
    {
      "cell_type": "code",
      "metadata": {
        "id": "6sP7BgnUT8Pe"
      },
      "source": [
        "Image.open('Files/Beans/BeansDefected/6926892501033_camera1-8.jpg').convert(\"RGB\")"
      ],
      "execution_count": null,
      "outputs": []
    },
    {
      "cell_type": "code",
      "metadata": {
        "id": "keB42LukT8Ft"
      },
      "source": [
        "files = glob('Files/**/*.jpg', recursive=True)"
      ],
      "execution_count": 13,
      "outputs": []
    },
    {
      "cell_type": "code",
      "metadata": {
        "id": "6u58sC7RT7w1"
      },
      "source": [
        "print(files)"
      ],
      "execution_count": null,
      "outputs": []
    },
    {
      "cell_type": "code",
      "metadata": {
        "colab": {
          "base_uri": "https://localhost:8080/"
        },
        "id": "DHhwlr5NYUOW",
        "outputId": "8bc9d38a-3510-4942-a009-ae4bc58df938"
      },
      "source": [
        "len(files)"
      ],
      "execution_count": 15,
      "outputs": [
        {
          "output_type": "execute_result",
          "data": {
            "text/plain": [
              "7624"
            ]
          },
          "metadata": {
            "tags": []
          },
          "execution_count": 15
        }
      ]
    },
    {
      "cell_type": "code",
      "metadata": {
        "id": "u_NtcrqTrc9-"
      },
      "source": [
        "np.random.seed(0) "
      ],
      "execution_count": 16,
      "outputs": []
    },
    {
      "cell_type": "code",
      "metadata": {
        "id": "W58DjoO9YgTB"
      },
      "source": [
        "shuffle = np.random.permutation(len(files))"
      ],
      "execution_count": 17,
      "outputs": []
    },
    {
      "cell_type": "code",
      "metadata": {
        "colab": {
          "base_uri": "https://localhost:8080/"
        },
        "id": "ZiEPSAWaajzZ",
        "outputId": "8a3e67b1-6250-4c7e-dd28-962d56ed9226"
      },
      "source": [
        "len(shuffle)"
      ],
      "execution_count": 18,
      "outputs": [
        {
          "output_type": "execute_result",
          "data": {
            "text/plain": [
              "7624"
            ]
          },
          "metadata": {
            "tags": []
          },
          "execution_count": 18
        }
      ]
    },
    {
      "cell_type": "code",
      "metadata": {
        "colab": {
          "base_uri": "https://localhost:8080/"
        },
        "id": "T4HTkv5DYgQG",
        "outputId": "fc4ba8c0-e65d-4b8b-9e78-10589c776b27"
      },
      "source": [
        "len(shuffle)*0.3"
      ],
      "execution_count": 19,
      "outputs": [
        {
          "output_type": "execute_result",
          "data": {
            "text/plain": [
              "2287.2"
            ]
          },
          "metadata": {
            "tags": []
          },
          "execution_count": 19
        }
      ]
    },
    {
      "cell_type": "code",
      "metadata": {
        "colab": {
          "base_uri": "https://localhost:8080/"
        },
        "id": "r7tO7ytEYgNn",
        "outputId": "21e9035c-4402-48af-f228-85f3e73d3107"
      },
      "source": [
        "max(shuffle)"
      ],
      "execution_count": 20,
      "outputs": [
        {
          "output_type": "execute_result",
          "data": {
            "text/plain": [
              "7623"
            ]
          },
          "metadata": {
            "tags": []
          },
          "execution_count": 20
        }
      ]
    },
    {
      "cell_type": "code",
      "metadata": {
        "id": "Z7sl3kDFYgK0"
      },
      "source": [
        "for i in ['train', 'valid']:\n",
        "    try:\n",
        "\n",
        "      os.mkdir(os.path.join('/tmp/', i))\n",
        "    except:\n",
        "        pass"
      ],
      "execution_count": 21,
      "outputs": []
    },
    {
      "cell_type": "code",
      "metadata": {
        "colab": {
          "base_uri": "https://localhost:8080/"
        },
        "id": "6Q8E6j4vYgId",
        "outputId": "bb4e7b23-0073-4348-ee77-b30fa9b2d6a1"
      },
      "source": [
        "!ls /tmp/"
      ],
      "execution_count": 22,
      "outputs": [
        {
          "output_type": "stream",
          "text": [
            "dap_multiplexer.a579e50879c5.root.log.INFO.20210715-040801.51\n",
            "dap_multiplexer.INFO\n",
            "debugger_yiccs4d8s\n",
            "drivefs_ipc.0\n",
            "drivefs_ipc.0_shell\n",
            "initgoogle_syslog_dir.0\n",
            "tmpby5ol6m9\n",
            "train\n",
            "valid\n"
          ],
          "name": "stdout"
        }
      ]
    },
    {
      "cell_type": "code",
      "metadata": {
        "colab": {
          "base_uri": "https://localhost:8080/",
          "height": 35
        },
        "id": "kg25fO6sYgFN",
        "outputId": "b2ae6745-c3ac-4a4a-e8b0-319da2f8779d"
      },
      "source": [
        "files[10].split('/')[-1]"
      ],
      "execution_count": 23,
      "outputs": [
        {
          "output_type": "execute_result",
          "data": {
            "application/vnd.google.colaboratory.intrinsic+json": {
              "type": "string"
            },
            "text/plain": [
              "'6940737300148_camera2-30.jpg'"
            ]
          },
          "metadata": {
            "tags": []
          },
          "execution_count": 23
        }
      ]
    },
    {
      "cell_type": "code",
      "metadata": {
        "colab": {
          "base_uri": "https://localhost:8080/"
        },
        "id": "CluVRVVIYgCq",
        "outputId": "50649db0-7f12-4dd5-b633-23cff8f00930"
      },
      "source": [
        "((np.array(df[df.index==files[10].split('/')[-1]]))).shape"
      ],
      "execution_count": 24,
      "outputs": [
        {
          "output_type": "execute_result",
          "data": {
            "text/plain": [
              "(2, 152)"
            ]
          },
          "metadata": {
            "tags": []
          },
          "execution_count": 24
        }
      ]
    },
    {
      "cell_type": "code",
      "metadata": {
        "id": "fpSPTFxqZCE2"
      },
      "source": [
        "from tqdm import tqdm"
      ],
      "execution_count": 25,
      "outputs": []
    },
    {
      "cell_type": "code",
      "metadata": {
        "colab": {
          "base_uri": "https://localhost:8080/"
        },
        "id": "dUaK8mqxmwOQ",
        "outputId": "012aee27-575f-4267-ab62-53b06c2dc68d"
      },
      "source": [
        "print(type(shuffle))"
      ],
      "execution_count": 26,
      "outputs": [
        {
          "output_type": "stream",
          "text": [
            "<class 'numpy.ndarray'>\n"
          ],
          "name": "stdout"
        }
      ]
    },
    {
      "cell_type": "code",
      "metadata": {
        "id": "CNrtZGz6oNlr"
      },
      "source": [
        "#!rm -Rf /tmp/valid/"
      ],
      "execution_count": 27,
      "outputs": []
    },
    {
      "cell_type": "code",
      "metadata": {
        "id": "PcqGdfKAqRjJ"
      },
      "source": [
        "#!mkdir /tmp/valid"
      ],
      "execution_count": 28,
      "outputs": []
    },
    {
      "cell_type": "code",
      "metadata": {
        "colab": {
          "base_uri": "https://localhost:8080/"
        },
        "id": "51BiTSYioNIi",
        "outputId": "81d695d0-725d-44bd-a3f1-20ea6eef6f22"
      },
      "source": [
        "!ls -ltr /tmp/"
      ],
      "execution_count": 29,
      "outputs": [
        {
          "output_type": "stream",
          "text": [
            "total 24\n",
            "lrwxrwxrwx 1 root root   61 Jul 15 04:08 dap_multiplexer.INFO -> dap_multiplexer.a579e50879c5.root.log.INFO.20210715-040801.51\n",
            "srwxr-xr-x 1 root root    0 Jul 15 04:08 debugger_yiccs4d8s\n",
            "drwx------ 2 root root 4096 Jul 15 04:08 initgoogle_syslog_dir.0\n",
            "-rw-r--r-- 1 root root 1433 Jul 15 04:08 dap_multiplexer.a579e50879c5.root.log.INFO.20210715-040801.51\n",
            "drwx------ 2 root root 4096 Jul 15 04:10 tmpby5ol6m9\n",
            "srw------- 1 root root    0 Jul 15 04:10 drivefs_ipc.0\n",
            "srw------- 1 root root    0 Jul 15 04:10 drivefs_ipc.0_shell\n",
            "drwxr-xr-x 2 root root 4096 Jul 15 04:11 valid\n",
            "drwxr-xr-x 2 root root 4096 Jul 15 04:11 train\n"
          ],
          "name": "stdout"
        }
      ]
    },
    {
      "cell_type": "code",
      "metadata": {
        "id": "swyH1rRwtUl1"
      },
      "source": [
        "import time"
      ],
      "execution_count": 30,
      "outputs": []
    },
    {
      "cell_type": "code",
      "metadata": {
        "id": "68T0KqC1ZCCc"
      },
      "source": [
        "valid_dict = {}\n",
        "valid_file_names = []\n",
        "#count = 0\n",
        "for i in tqdm(shuffle[:2287]):\n",
        "    file_name = files[i].split('/')[-1]\n",
        "    print(file_name)\n",
        "    labels = np.array(df[df.index==file_name])\n",
        "    valid_dict[file_name] = labels\n",
        "    valid_file_names.append(file_name)\n",
        "    os.rename(files[i], os.path.join('/tmp/', '/tmp/valid', file_name))\n",
        "    #time.sleep(10)\n",
        "    #count = count + 1\n",
        "    #print(count)\n",
        "    #print(\"******************************************\")"
      ],
      "execution_count": null,
      "outputs": []
    },
    {
      "cell_type": "code",
      "metadata": {
        "id": "RfHyAE78Isyf"
      },
      "source": [
        "print(valid_file_names)\n",
        "print(len(valid_file_names))"
      ],
      "execution_count": null,
      "outputs": []
    },
    {
      "cell_type": "code",
      "metadata": {
        "id": "bBakYAl0eZg1"
      },
      "source": [
        "filename_1 = valid_file_names\n",
        "print(\"List Before \", filename_1)\n",
        "temp_list = []\n",
        "\n",
        "for i in filename_1:\n",
        "    if i not in temp_list:\n",
        "        temp_list.append(i)\n",
        "\n",
        "filename_1 = temp_list\n",
        "\n",
        "print(\"List After removing duplicates \", filename_1)\n",
        "len(filename_1)"
      ],
      "execution_count": null,
      "outputs": []
    },
    {
      "cell_type": "code",
      "metadata": {
        "id": "YgZL_6aOfits"
      },
      "source": [
        "#!ls -ltr /tmp/valid"
      ],
      "execution_count": 34,
      "outputs": []
    },
    {
      "cell_type": "code",
      "metadata": {
        "id": "zMkYjWw0yc6q"
      },
      "source": [
        "# import os, fnmatch\n",
        "# filename1 = fnmatch.filter(os.listdir('/tmp/valid/'), '*.jpg')\n",
        "# print(filename1)\n",
        "# print(len(filename1))"
      ],
      "execution_count": 35,
      "outputs": []
    },
    {
      "cell_type": "code",
      "metadata": {
        "id": "gL0P9dHFfiWR"
      },
      "source": [
        "# from collections import Counter\n",
        "# a = valid_file_names\n",
        "# b = filename1\n",
        "\n",
        "# c1 = Counter(a)\n",
        "# c2 = Counter(b)\n",
        "# diff = list((Counter(a) - Counter(b)).elements())\n",
        "# print(diff)\n",
        "# print(len(diff))"
      ],
      "execution_count": 36,
      "outputs": []
    },
    {
      "cell_type": "code",
      "metadata": {
        "id": "EoAkP-vKXOfh"
      },
      "source": [
        "# l1 = valid_file_names\n",
        "# l2=diff\n",
        "# diff_list1_list2 = list(set(l1) - set(l2))\n",
        "# diff_list2_list1 = list(set(l2) - set(l1))\n",
        "# ttl_diff = diff_list1_list2 + diff_list2_list1\n",
        "# print(ttl_diff)\n",
        "# print(len(ttl_diff))"
      ],
      "execution_count": 37,
      "outputs": []
    },
    {
      "cell_type": "code",
      "metadata": {
        "colab": {
          "base_uri": "https://localhost:8080/"
        },
        "id": "LwJK4Y4MnyYO",
        "outputId": "9e007069-b848-41ad-a799-73736124901b"
      },
      "source": [
        "print(file_name)"
      ],
      "execution_count": 38,
      "outputs": [
        {
          "output_type": "stream",
          "text": [
            "6902227014843_camera0-35.jpg\n"
          ],
          "name": "stdout"
        }
      ]
    },
    {
      "cell_type": "code",
      "metadata": {
        "id": "esbKLhSAIIc-"
      },
      "source": [
        "print(glob('/tmp/valid/*.jpg'))"
      ],
      "execution_count": null,
      "outputs": []
    },
    {
      "cell_type": "code",
      "metadata": {
        "colab": {
          "base_uri": "https://localhost:8080/"
        },
        "id": "uMt8bVmaVfdd",
        "outputId": "62266436-7bc5-433c-a21c-c0eb14a28ea9"
      },
      "source": [
        "print(type('/tmp/valid/*.jpg'))"
      ],
      "execution_count": 40,
      "outputs": [
        {
          "output_type": "stream",
          "text": [
            "<class 'str'>\n"
          ],
          "name": "stdout"
        }
      ]
    },
    {
      "cell_type": "code",
      "metadata": {
        "colab": {
          "base_uri": "https://localhost:8080/"
        },
        "id": "Q02MMXagZB_u",
        "outputId": "87cf31d5-e956-454b-c3b6-1783bbbaab44"
      },
      "source": [
        "len(glob('/tmp/valid/*.jpg'))"
      ],
      "execution_count": 41,
      "outputs": [
        {
          "output_type": "execute_result",
          "data": {
            "text/plain": [
              "2162"
            ]
          },
          "metadata": {
            "tags": []
          },
          "execution_count": 41
        }
      ]
    },
    {
      "cell_type": "code",
      "metadata": {
        "id": "H52ZHFBfZB-D"
      },
      "source": [
        "valid_df = pd.DataFrame(valid_dict.values())"
      ],
      "execution_count": null,
      "outputs": []
    },
    {
      "cell_type": "code",
      "metadata": {
        "colab": {
          "base_uri": "https://localhost:8080/",
          "height": 419
        },
        "id": "MiYQK7-XZB8V",
        "outputId": "7be8c87c-afbf-454c-e90e-68c2c1f586f1"
      },
      "source": [
        "valid_df"
      ],
      "execution_count": 43,
      "outputs": [
        {
          "output_type": "execute_result",
          "data": {
            "text/html": [
              "<div>\n",
              "<style scoped>\n",
              "    .dataframe tbody tr th:only-of-type {\n",
              "        vertical-align: middle;\n",
              "    }\n",
              "\n",
              "    .dataframe tbody tr th {\n",
              "        vertical-align: top;\n",
              "    }\n",
              "\n",
              "    .dataframe thead th {\n",
              "        text-align: right;\n",
              "    }\n",
              "</style>\n",
              "<table border=\"1\" class=\"dataframe\">\n",
              "  <thead>\n",
              "    <tr style=\"text-align: right;\">\n",
              "      <th></th>\n",
              "      <th>0</th>\n",
              "    </tr>\n",
              "  </thead>\n",
              "  <tbody>\n",
              "    <tr>\n",
              "      <th>0</th>\n",
              "      <td>[[0, 0, 0, 0, 0, 0, 0, 0, 0, 0, 0, 0, 0, 0, 0,...</td>\n",
              "    </tr>\n",
              "    <tr>\n",
              "      <th>1</th>\n",
              "      <td>[[0, 0, 0, 0, 0, 0, 0, 0, 0, 0, 0, 0, 0, 0, 0,...</td>\n",
              "    </tr>\n",
              "    <tr>\n",
              "      <th>2</th>\n",
              "      <td>[[0, 1, 0, 0, 0, 0, 0, 0, 0, 0, 0, 0, 0, 0, 0,...</td>\n",
              "    </tr>\n",
              "    <tr>\n",
              "      <th>3</th>\n",
              "      <td>[[0, 0, 0, 0, 0, 0, 0, 0, 0, 0, 0, 0, 0, 0, 0,...</td>\n",
              "    </tr>\n",
              "    <tr>\n",
              "      <th>4</th>\n",
              "      <td>[[0, 0, 0, 0, 0, 1, 0, 0, 0, 0, 0, 0, 0, 0, 0,...</td>\n",
              "    </tr>\n",
              "    <tr>\n",
              "      <th>...</th>\n",
              "      <td>...</td>\n",
              "    </tr>\n",
              "    <tr>\n",
              "      <th>2157</th>\n",
              "      <td>[[0, 0, 0, 0, 0, 0, 0, 0, 0, 0, 0, 0, 0, 0, 0,...</td>\n",
              "    </tr>\n",
              "    <tr>\n",
              "      <th>2158</th>\n",
              "      <td>[[0, 0, 0, 0, 0, 0, 0, 0, 0, 0, 0, 0, 0, 0, 0,...</td>\n",
              "    </tr>\n",
              "    <tr>\n",
              "      <th>2159</th>\n",
              "      <td>[[0, 0, 0, 0, 0, 0, 0, 0, 0, 0, 0, 0, 0, 0, 0,...</td>\n",
              "    </tr>\n",
              "    <tr>\n",
              "      <th>2160</th>\n",
              "      <td>[[0, 0, 0, 0, 0, 0, 0, 0, 0, 0, 0, 0, 0, 0, 0,...</td>\n",
              "    </tr>\n",
              "    <tr>\n",
              "      <th>2161</th>\n",
              "      <td>[[0, 0, 0, 0, 0, 0, 0, 0, 0, 0, 0, 0, 0, 0, 0,...</td>\n",
              "    </tr>\n",
              "  </tbody>\n",
              "</table>\n",
              "<p>2162 rows × 1 columns</p>\n",
              "</div>"
            ],
            "text/plain": [
              "                                                      0\n",
              "0     [[0, 0, 0, 0, 0, 0, 0, 0, 0, 0, 0, 0, 0, 0, 0,...\n",
              "1     [[0, 0, 0, 0, 0, 0, 0, 0, 0, 0, 0, 0, 0, 0, 0,...\n",
              "2     [[0, 1, 0, 0, 0, 0, 0, 0, 0, 0, 0, 0, 0, 0, 0,...\n",
              "3     [[0, 0, 0, 0, 0, 0, 0, 0, 0, 0, 0, 0, 0, 0, 0,...\n",
              "4     [[0, 0, 0, 0, 0, 1, 0, 0, 0, 0, 0, 0, 0, 0, 0,...\n",
              "...                                                 ...\n",
              "2157  [[0, 0, 0, 0, 0, 0, 0, 0, 0, 0, 0, 0, 0, 0, 0,...\n",
              "2158  [[0, 0, 0, 0, 0, 0, 0, 0, 0, 0, 0, 0, 0, 0, 0,...\n",
              "2159  [[0, 0, 0, 0, 0, 0, 0, 0, 0, 0, 0, 0, 0, 0, 0,...\n",
              "2160  [[0, 0, 0, 0, 0, 0, 0, 0, 0, 0, 0, 0, 0, 0, 0,...\n",
              "2161  [[0, 0, 0, 0, 0, 0, 0, 0, 0, 0, 0, 0, 0, 0, 0,...\n",
              "\n",
              "[2162 rows x 1 columns]"
            ]
          },
          "metadata": {
            "tags": []
          },
          "execution_count": 43
        }
      ]
    },
    {
      "cell_type": "code",
      "metadata": {
        "colab": {
          "base_uri": "https://localhost:8080/"
        },
        "id": "6wJUkfscBGwE",
        "outputId": "c0de5805-6c72-4ef2-c5e5-346ab4263385"
      },
      "source": [
        "len(valid_df.columns)"
      ],
      "execution_count": 44,
      "outputs": [
        {
          "output_type": "execute_result",
          "data": {
            "text/plain": [
              "1"
            ]
          },
          "metadata": {
            "tags": []
          },
          "execution_count": 44
        }
      ]
    },
    {
      "cell_type": "code",
      "metadata": {
        "id": "yRl4mehWZB6k"
      },
      "source": [
        "valid_df.index = filename_1"
      ],
      "execution_count": 45,
      "outputs": []
    },
    {
      "cell_type": "code",
      "metadata": {
        "colab": {
          "base_uri": "https://localhost:8080/",
          "height": 204
        },
        "id": "zOP4MhodZBzt",
        "outputId": "273113e6-4af6-48a4-a6df-f54ad4ac1723"
      },
      "source": [
        "valid_df.head()"
      ],
      "execution_count": 46,
      "outputs": [
        {
          "output_type": "execute_result",
          "data": {
            "text/html": [
              "<div>\n",
              "<style scoped>\n",
              "    .dataframe tbody tr th:only-of-type {\n",
              "        vertical-align: middle;\n",
              "    }\n",
              "\n",
              "    .dataframe tbody tr th {\n",
              "        vertical-align: top;\n",
              "    }\n",
              "\n",
              "    .dataframe thead th {\n",
              "        text-align: right;\n",
              "    }\n",
              "</style>\n",
              "<table border=\"1\" class=\"dataframe\">\n",
              "  <thead>\n",
              "    <tr style=\"text-align: right;\">\n",
              "      <th></th>\n",
              "      <th>0</th>\n",
              "    </tr>\n",
              "  </thead>\n",
              "  <tbody>\n",
              "    <tr>\n",
              "      <th>6907777821903_camera2-12.jpg</th>\n",
              "      <td>[[0, 0, 0, 0, 0, 0, 0, 0, 0, 0, 0, 0, 0, 0, 0,...</td>\n",
              "    </tr>\n",
              "    <tr>\n",
              "      <th>6940188803618_camera0-24.jpg</th>\n",
              "      <td>[[0, 0, 0, 0, 0, 0, 0, 0, 0, 0, 0, 0, 0, 0, 0,...</td>\n",
              "    </tr>\n",
              "    <tr>\n",
              "      <th>6907777822948_camera2-12.jpg</th>\n",
              "      <td>[[0, 1, 0, 0, 0, 0, 0, 0, 0, 0, 0, 0, 0, 0, 0,...</td>\n",
              "    </tr>\n",
              "    <tr>\n",
              "      <th>PASTA0125.jpg</th>\n",
              "      <td>[[0, 0, 0, 0, 0, 0, 0, 0, 0, 0, 0, 0, 0, 0, 0,...</td>\n",
              "    </tr>\n",
              "    <tr>\n",
              "      <th>CAKE0036.jpg</th>\n",
              "      <td>[[0, 0, 0, 0, 0, 1, 0, 0, 0, 0, 0, 0, 0, 0, 0,...</td>\n",
              "    </tr>\n",
              "  </tbody>\n",
              "</table>\n",
              "</div>"
            ],
            "text/plain": [
              "                                                                              0\n",
              "6907777821903_camera2-12.jpg  [[0, 0, 0, 0, 0, 0, 0, 0, 0, 0, 0, 0, 0, 0, 0,...\n",
              "6940188803618_camera0-24.jpg  [[0, 0, 0, 0, 0, 0, 0, 0, 0, 0, 0, 0, 0, 0, 0,...\n",
              "6907777822948_camera2-12.jpg  [[0, 1, 0, 0, 0, 0, 0, 0, 0, 0, 0, 0, 0, 0, 0,...\n",
              "PASTA0125.jpg                 [[0, 0, 0, 0, 0, 0, 0, 0, 0, 0, 0, 0, 0, 0, 0,...\n",
              "CAKE0036.jpg                  [[0, 0, 0, 0, 0, 1, 0, 0, 0, 0, 0, 0, 0, 0, 0,..."
            ]
          },
          "metadata": {
            "tags": []
          },
          "execution_count": 46
        }
      ]
    },
    {
      "cell_type": "code",
      "metadata": {
        "id": "7egK2uryggkZ"
      },
      "source": [
        "valid_df.columns = ['labels']"
      ],
      "execution_count": 47,
      "outputs": []
    },
    {
      "cell_type": "code",
      "metadata": {
        "colab": {
          "base_uri": "https://localhost:8080/"
        },
        "id": "86OC7OogoOOQ",
        "outputId": "4a89cb86-e13b-4fb7-cef0-020b2bd99d34"
      },
      "source": [
        "print(labels)"
      ],
      "execution_count": 48,
      "outputs": [
        {
          "output_type": "stream",
          "text": [
            "[[0 0 0 0 0 0 0 0 0 0 0 0 0 0 0 0 0 0 0 0 0 0 0 0 0 0 0 0 0 0 0 0 0 0 0 0\n",
            "  0 0 0 0 0 0 0 0 0 0 0 0 1 0 0 0 0 0 0 0 0 0 0 0 0 0 0 0 0 0 0 0 0 0 0 0\n",
            "  0 0 0 0 0 0 0 0 0 0 0 0 0 0 0 0 0 0 0 0 0 0 0 0 0 0 0 0 0 0 0 0 0 0 0 0\n",
            "  0 0 0 0 0 0 0 0 0 0 0 0 0 0 0 0 0 0 0 0 0 0 0 0 0 0 0 0 0 0 0 0 0 0 0 0\n",
            "  0 0 0 0 0 1 0 1]\n",
            " [0 0 0 0 0 0 0 0 0 0 0 0 0 0 0 0 0 0 0 0 0 0 0 0 0 0 0 0 0 0 0 0 0 0 0 0\n",
            "  0 0 0 0 0 0 0 0 0 0 0 0 1 0 0 0 0 0 0 0 0 0 0 0 0 0 0 0 0 0 0 0 0 0 0 0\n",
            "  0 0 0 0 0 0 0 0 0 0 0 0 0 0 0 0 0 0 0 0 0 0 0 0 0 0 0 0 0 0 0 0 0 0 0 0\n",
            "  0 0 0 0 0 0 0 0 0 0 0 0 0 0 0 0 0 0 0 0 0 0 0 0 0 0 0 0 0 0 0 0 0 0 0 0\n",
            "  0 0 0 0 1 0 1 0]]\n"
          ],
          "name": "stdout"
        }
      ]
    },
    {
      "cell_type": "code",
      "metadata": {
        "colab": {
          "base_uri": "https://localhost:8080/"
        },
        "id": "VWujrinNggUE",
        "outputId": "fd35f220-9b78-4300-f47e-c4336f1b579b"
      },
      "source": [
        "train_dict = {}\n",
        "train_file_names = []\n",
        "for i in tqdm(shuffle[2300:]):\n",
        "    file_name = files[i].split('/')[-1]\n",
        "    labels = np.array(df[df.index==file_name])\n",
        "    train_dict[file_name] = labels\n",
        "    train_file_names.append(file_name)\n",
        "    os.rename(files[i], os.path.join('/tmp/', '/tmp/train', file_name))"
      ],
      "execution_count": 49,
      "outputs": [
        {
          "output_type": "stream",
          "text": [
            "100%|██████████| 5324/5324 [00:03<00:00, 1361.34it/s]\n"
          ],
          "name": "stderr"
        }
      ]
    },
    {
      "cell_type": "code",
      "metadata": {
        "id": "RXCcUHc7T4SN"
      },
      "source": [
        "print(train_file_names)\n",
        "print(len(train_file_names))"
      ],
      "execution_count": null,
      "outputs": []
    },
    {
      "cell_type": "code",
      "metadata": {
        "id": "FB0Ee0-Ub4PF"
      },
      "source": [
        "filename_2 = train_file_names\n",
        "print(\"List Before \", filename_2)\n",
        "temp_list = []\n",
        "\n",
        "for i in filename_2:\n",
        "    if i not in temp_list:\n",
        "        temp_list.append(i)\n",
        "\n",
        "filename_2 = temp_list\n",
        "\n",
        "print(\"List After removing duplicates \", filename_2)\n",
        "len(filename_2)"
      ],
      "execution_count": null,
      "outputs": []
    },
    {
      "cell_type": "code",
      "metadata": {
        "colab": {
          "base_uri": "https://localhost:8080/"
        },
        "id": "et2uDi-VnNrF",
        "outputId": "3d397b46-9ef5-4390-83e4-3289bd8c53f4"
      },
      "source": [
        "len(train_dict)"
      ],
      "execution_count": 52,
      "outputs": [
        {
          "output_type": "execute_result",
          "data": {
            "text/plain": [
              "4672"
            ]
          },
          "metadata": {
            "tags": []
          },
          "execution_count": 52
        }
      ]
    },
    {
      "cell_type": "code",
      "metadata": {
        "colab": {
          "base_uri": "https://localhost:8080/"
        },
        "id": "BiMCSr7RggRU",
        "outputId": "f1392517-9d27-4e24-a881-5b8b8cff9f99"
      },
      "source": [
        "train_df = pd.DataFrame(train_dict.values())"
      ],
      "execution_count": 53,
      "outputs": [
        {
          "output_type": "stream",
          "text": [
            "/usr/local/lib/python3.7/dist-packages/pandas/core/internals/construction.py:305: VisibleDeprecationWarning: Creating an ndarray from ragged nested sequences (which is a list-or-tuple of lists-or-tuples-or ndarrays with different lengths or shapes) is deprecated. If you meant to do this, you must specify 'dtype=object' when creating the ndarray\n",
            "  values = np.array([convert(v) for v in values])\n"
          ],
          "name": "stderr"
        }
      ]
    },
    {
      "cell_type": "code",
      "metadata": {
        "colab": {
          "base_uri": "https://localhost:8080/",
          "height": 204
        },
        "id": "i56_zbNomRvw",
        "outputId": "3c9dea3b-0f7f-4f54-a25f-79249c361f2b"
      },
      "source": [
        "train_df.head()"
      ],
      "execution_count": 54,
      "outputs": [
        {
          "output_type": "execute_result",
          "data": {
            "text/html": [
              "<div>\n",
              "<style scoped>\n",
              "    .dataframe tbody tr th:only-of-type {\n",
              "        vertical-align: middle;\n",
              "    }\n",
              "\n",
              "    .dataframe tbody tr th {\n",
              "        vertical-align: top;\n",
              "    }\n",
              "\n",
              "    .dataframe thead th {\n",
              "        text-align: right;\n",
              "    }\n",
              "</style>\n",
              "<table border=\"1\" class=\"dataframe\">\n",
              "  <thead>\n",
              "    <tr style=\"text-align: right;\">\n",
              "      <th></th>\n",
              "      <th>0</th>\n",
              "    </tr>\n",
              "  </thead>\n",
              "  <tbody>\n",
              "    <tr>\n",
              "      <th>0</th>\n",
              "      <td>[[0, 0, 0, 0, 0, 0, 0, 0, 0, 0, 0, 0, 0, 0, 0,...</td>\n",
              "    </tr>\n",
              "    <tr>\n",
              "      <th>1</th>\n",
              "      <td>[[0, 0, 0, 0, 0, 1, 0, 0, 0, 0, 0, 0, 0, 0, 0,...</td>\n",
              "    </tr>\n",
              "    <tr>\n",
              "      <th>2</th>\n",
              "      <td>[[0, 0, 0, 0, 0, 0, 0, 0, 0, 0, 0, 0, 0, 0, 0,...</td>\n",
              "    </tr>\n",
              "    <tr>\n",
              "      <th>3</th>\n",
              "      <td>[[0, 0, 0, 0, 0, 0, 0, 0, 0, 0, 1, 0, 0, 0, 0,...</td>\n",
              "    </tr>\n",
              "    <tr>\n",
              "      <th>4</th>\n",
              "      <td>[[0, 0, 0, 0, 0, 0, 0, 0, 0, 0, 0, 0, 0, 0, 0,...</td>\n",
              "    </tr>\n",
              "  </tbody>\n",
              "</table>\n",
              "</div>"
            ],
            "text/plain": [
              "                                                   0\n",
              "0  [[0, 0, 0, 0, 0, 0, 0, 0, 0, 0, 0, 0, 0, 0, 0,...\n",
              "1  [[0, 0, 0, 0, 0, 1, 0, 0, 0, 0, 0, 0, 0, 0, 0,...\n",
              "2  [[0, 0, 0, 0, 0, 0, 0, 0, 0, 0, 0, 0, 0, 0, 0,...\n",
              "3  [[0, 0, 0, 0, 0, 0, 0, 0, 0, 0, 1, 0, 0, 0, 0,...\n",
              "4  [[0, 0, 0, 0, 0, 0, 0, 0, 0, 0, 0, 0, 0, 0, 0,..."
            ]
          },
          "metadata": {
            "tags": []
          },
          "execution_count": 54
        }
      ]
    },
    {
      "cell_type": "code",
      "metadata": {
        "colab": {
          "base_uri": "https://localhost:8080/"
        },
        "id": "5vup-JGnmm9H",
        "outputId": "a0114734-c278-4016-a87c-640b6358280f"
      },
      "source": [
        "train_df.columns"
      ],
      "execution_count": 55,
      "outputs": [
        {
          "output_type": "execute_result",
          "data": {
            "text/plain": [
              "RangeIndex(start=0, stop=1, step=1)"
            ]
          },
          "metadata": {
            "tags": []
          },
          "execution_count": 55
        }
      ]
    },
    {
      "cell_type": "code",
      "metadata": {
        "colab": {
          "base_uri": "https://localhost:8080/"
        },
        "id": "dN_167g-cQf6",
        "outputId": "3b7503d1-459b-4366-97d5-a9ee01f7dc64"
      },
      "source": [
        "train_df.index.values"
      ],
      "execution_count": 56,
      "outputs": [
        {
          "output_type": "execute_result",
          "data": {
            "text/plain": [
              "array([   0,    1,    2, ..., 4669, 4670, 4671])"
            ]
          },
          "metadata": {
            "tags": []
          },
          "execution_count": 56
        }
      ]
    },
    {
      "cell_type": "code",
      "metadata": {
        "id": "5LSojm07mU_H"
      },
      "source": [
        "train_df.index = filename_2"
      ],
      "execution_count": 57,
      "outputs": []
    },
    {
      "cell_type": "code",
      "metadata": {
        "id": "uHkvMHRczb5o"
      },
      "source": [
        "train_df.columns = ['labels']"
      ],
      "execution_count": 58,
      "outputs": []
    },
    {
      "cell_type": "code",
      "metadata": {
        "colab": {
          "base_uri": "https://localhost:8080/",
          "height": 35
        },
        "id": "e20EcwYBmU31",
        "outputId": "d880b55d-8b1b-4768-8cbb-460353900036"
      },
      "source": [
        "\"\"\"Generating Batches and Training \"\"\""
      ],
      "execution_count": 59,
      "outputs": [
        {
          "output_type": "execute_result",
          "data": {
            "application/vnd.google.colaboratory.intrinsic+json": {
              "type": "string"
            },
            "text/plain": [
              "'Generating Batches and Training '"
            ]
          },
          "metadata": {
            "tags": []
          },
          "execution_count": 59
        }
      ]
    },
    {
      "cell_type": "code",
      "metadata": {
        "id": "HBRyHpnsmUxf"
      },
      "source": [
        "import torchvision\n",
        "from glob import glob\n",
        "import os\n",
        "import matplotlib.pyplot as plt\n",
        "from torchvision import transforms\n",
        "from torchvision import models\n",
        "import torch\n",
        "from torch.autograd import Variable\n",
        "import torch.nn as nn\n",
        "from torch.optim import lr_scheduler\n",
        "from torch import optim\n",
        "from torchvision.utils import make_grid\n",
        "import time\n",
        "%matplotlib inline"
      ],
      "execution_count": 60,
      "outputs": []
    },
    {
      "cell_type": "code",
      "metadata": {
        "id": "Tr3x2KM0xzS_"
      },
      "source": [
        "from torch.utils.data import Dataset"
      ],
      "execution_count": 61,
      "outputs": []
    },
    {
      "cell_type": "code",
      "metadata": {
        "id": "bKfJYx4IxzQ1"
      },
      "source": [
        "class MultiClassFoodPackage(Dataset):\n",
        "    \n",
        "    def __init__(self, dataframe, folder_dir, transform = None):\n",
        "        \n",
        "        self.dataframe = dataframe\n",
        "        self.folder_dir = folder_dir\n",
        "        self.transform = transform\n",
        "        self.file_names = dataframe.index\n",
        "        self.labels = dataframe.labels.values.tolist()\n",
        "        \n",
        "        \n",
        "    def __len__(self):\n",
        "        return len(self.dataframe)\n",
        "    \n",
        "    \n",
        "    def __getitem__(self, index):\n",
        "        \n",
        "        image = Image.open(os.path.join(self.folder_dir, self.file_names[index]))\n",
        "        label = self.labels[index][0]\n",
        "        sample = {'image': image, 'label': label.astype(float)}\n",
        "        if self.transform:\n",
        "            image = self.transform(sample['image'])\n",
        "            sample = {'image': image, 'label': label.astype(float)}\n",
        "        \n",
        "        return sample"
      ],
      "execution_count": 62,
      "outputs": []
    },
    {
      "cell_type": "code",
      "metadata": {
        "id": "e_G1Wwr4xzN5"
      },
      "source": [
        "tfms = transforms.Compose([transforms.Resize((256, 256)),\n",
        "                           transforms.ToTensor()])"
      ],
      "execution_count": 63,
      "outputs": []
    },
    {
      "cell_type": "code",
      "metadata": {
        "id": "cGM8dQSAxzLB"
      },
      "source": [
        "train_dl = MultiClassFoodPackage(train_df, '/tmp/train/', transform = tfms)"
      ],
      "execution_count": 64,
      "outputs": []
    },
    {
      "cell_type": "code",
      "metadata": {
        "colab": {
          "base_uri": "https://localhost:8080/",
          "height": 286
        },
        "id": "Achp98aJzjYY",
        "outputId": "bac0c521-6cd4-43f4-8933-f44f81373022"
      },
      "source": [
        "plt.imshow(torchvision.utils.make_grid(train_dl[1]['image']).permute(1, 2, 0))"
      ],
      "execution_count": 65,
      "outputs": [
        {
          "output_type": "execute_result",
          "data": {
            "text/plain": [
              "<matplotlib.image.AxesImage at 0x7f5d9bddd290>"
            ]
          },
          "metadata": {
            "tags": []
          },
          "execution_count": 65
        },
        {
          "output_type": "display_data",
          "data": {
            "image/png": "[encoded data removed]",
            "text/plain": [
              "<Figure size 432x288 with 1 Axes>"
            ]
          },
          "metadata": {
            "tags": [],
            "needs_background": "light"
          }
        }
      ]
    },
    {
      "cell_type": "code",
      "metadata": {
        "colab": {
          "base_uri": "https://localhost:8080/"
        },
        "id": "KzOEw4HDzjVu",
        "outputId": "ccfcf59f-ef7f-4dbe-e35f-1a4edba4eff5"
      },
      "source": [
        "(train_dl[1]['label'].astype(float))"
      ],
      "execution_count": 66,
      "outputs": [
        {
          "output_type": "execute_result",
          "data": {
            "text/plain": [
              "array([0., 0., 0., 0., 0., 1., 0., 0., 0., 0., 0., 0., 0., 0., 0., 0., 0.,\n",
              "       0., 0., 0., 0., 0., 0., 0., 0., 0., 0., 0., 0., 0., 0., 0., 0., 0.,\n",
              "       0., 0., 0., 0., 0., 0., 0., 0., 0., 0., 0., 0., 0., 0., 0., 0., 0.,\n",
              "       0., 0., 0., 0., 0., 0., 0., 0., 0., 0., 1., 0., 0., 0., 0., 0., 0.,\n",
              "       0., 0., 0., 0., 0., 0., 0., 0., 0., 0., 0., 0., 0., 0., 0., 0., 0.,\n",
              "       0., 0., 0., 0., 0., 0., 0., 0., 0., 0., 0., 0., 0., 0., 0., 0., 0.,\n",
              "       0., 0., 0., 0., 0., 0., 0., 0., 0., 0., 0., 0., 0., 0., 0., 0., 0.,\n",
              "       0., 0., 0., 0., 0., 0., 0., 0., 0., 0., 0., 0., 0., 0., 0., 0., 0.,\n",
              "       0., 0., 0., 0., 0., 0., 0., 0., 0., 0., 0., 0., 0., 0., 0., 1.])"
            ]
          },
          "metadata": {
            "tags": []
          },
          "execution_count": 66
        }
      ]
    },
    {
      "cell_type": "code",
      "metadata": {
        "colab": {
          "base_uri": "https://localhost:8080/"
        },
        "id": "-0b5Hr2FzjSp",
        "outputId": "7e897361-dd10-4eef-a232-abce23ac8f99"
      },
      "source": [
        "df.columns"
      ],
      "execution_count": 67,
      "outputs": [
        {
          "output_type": "execute_result",
          "data": {
            "text/plain": [
              "Index(['Label1_Beans', 'Label1_Beverage', 'Label1_Biscuits', 'Label1_Bottle',\n",
              "       'Label1_Bread', 'Label1_CAKE', 'Label1_CORN', 'Label1_Candy',\n",
              "       'Label1_Cans', 'Label1_Cashews',\n",
              "       ...\n",
              "       'Label2_TeaBagsDefected', 'Label2_TeaBagsPerfect',\n",
              "       'Label2_ToothPastePerfect', 'Label2_ToothpasteDefected',\n",
              "       'Label2_VinegarDefected', 'Label2_VinegarPerfect',\n",
              "       'Label2_WaferDefected', 'Label2_WaferPerfect', 'Defected',\n",
              "       'Non_Defected'],\n",
              "      dtype='object', length=152)"
            ]
          },
          "metadata": {
            "tags": []
          },
          "execution_count": 67
        }
      ]
    },
    {
      "cell_type": "code",
      "metadata": {
        "id": "Yu2MbYSyzjLb"
      },
      "source": [
        "valid_dl = MultiClassFoodPackage(valid_df, '/tmp/valid/', transform = tfms)"
      ],
      "execution_count": 68,
      "outputs": []
    },
    {
      "cell_type": "code",
      "metadata": {
        "colab": {
          "base_uri": "https://localhost:8080/",
          "height": 286
        },
        "id": "GNw2PYcJzjHc",
        "outputId": "198fde5b-f40c-4b69-fcef-ca324e3ec1d8"
      },
      "source": [
        "plt.imshow(torchvision.utils.make_grid(valid_dl[1]['image']).permute(1,2,0))"
      ],
      "execution_count": 69,
      "outputs": [
        {
          "output_type": "execute_result",
          "data": {
            "text/plain": [
              "<matplotlib.image.AxesImage at 0x7f5d9b8ebad0>"
            ]
          },
          "metadata": {
            "tags": []
          },
          "execution_count": 69
        },
        {
          "output_type": "display_data",
          "data": {
            "image/png": "[encoded data removed]",
            "text/plain": [
              "<Figure size 432x288 with 1 Axes>"
            ]
          },
          "metadata": {
            "tags": [],
            "needs_background": "light"
          }
        }
      ]
    },
    {
      "cell_type": "code",
      "metadata": {
        "colab": {
          "base_uri": "https://localhost:8080/"
        },
        "id": "tLPPn1Ogzi-F",
        "outputId": "8d56d494-f69e-40e0-ef25-91385aec4d10"
      },
      "source": [
        "valid_dl[1]['label']"
      ],
      "execution_count": 70,
      "outputs": [
        {
          "output_type": "execute_result",
          "data": {
            "text/plain": [
              "array([0., 0., 0., 0., 0., 0., 0., 0., 0., 0., 0., 0., 0., 0., 0., 0., 0.,\n",
              "       0., 0., 0., 0., 0., 0., 0., 0., 0., 0., 0., 0., 0., 0., 0., 0., 0.,\n",
              "       0., 0., 0., 0., 0., 0., 0., 1., 0., 0., 0., 0., 0., 0., 0., 0., 0.,\n",
              "       0., 0., 0., 0., 0., 0., 0., 0., 0., 0., 0., 0., 0., 0., 0., 0., 0.,\n",
              "       0., 0., 0., 0., 0., 0., 0., 0., 0., 0., 0., 0., 0., 0., 0., 0., 0.,\n",
              "       0., 0., 0., 0., 0., 0., 0., 0., 0., 0., 0., 0., 0., 0., 0., 0., 0.,\n",
              "       0., 0., 0., 0., 0., 0., 0., 0., 0., 0., 0., 0., 0., 0., 0., 0., 0.,\n",
              "       0., 0., 0., 0., 0., 0., 0., 0., 0., 0., 0., 0., 1., 0., 0., 0., 0.,\n",
              "       0., 0., 0., 0., 0., 0., 0., 0., 0., 0., 0., 0., 0., 0., 0., 1.])"
            ]
          },
          "metadata": {
            "tags": []
          },
          "execution_count": 70
        }
      ]
    },
    {
      "cell_type": "code",
      "metadata": {
        "id": "7AQPPAlAz_cU"
      },
      "source": [
        "import torch.nn.functional as F"
      ],
      "execution_count": 71,
      "outputs": []
    },
    {
      "cell_type": "code",
      "metadata": {
        "id": "VVDy98gNz_Zg"
      },
      "source": [
        "class MultiClassifier(nn.Module):\n",
        "    def __init__(self):\n",
        "        super(MultiClassifier, self).__init__()\n",
        "        self.ConvLayer1 = nn.Sequential(\n",
        "            nn.Conv2d(3, 64, 3), # 3, 256, 256\n",
        "            nn.MaxPool2d(2), # op: 16, 127, 127\n",
        "            nn.ReLU(), # op: 64, 127, 127\n",
        "        )\n",
        "        self.ConvLayer2 = nn.Sequential(\n",
        "            nn.Conv2d(64, 128, 3), # 64, 127, 127   \n",
        "            nn.MaxPool2d(2), #op: 128, 63, 63\n",
        "            nn.ReLU() # op: 128, 63, 63\n",
        "        )\n",
        "        self.ConvLayer3 = nn.Sequential(\n",
        "            nn.Conv2d(128, 256, 3), # 128, 63, 63\n",
        "            nn.MaxPool2d(2), #op: 256, 30, 30\n",
        "            nn.ReLU() #op: 256, 30, 30\n",
        "        )\n",
        "        self.ConvLayer4 = nn.Sequential(\n",
        "            nn.Conv2d(256, 512, 3), # 256, 30, 30\n",
        "            nn.MaxPool2d(2), #op: 512, 14, 14\n",
        "            nn.ReLU(), #op: 512, 14, 14\n",
        "            nn.Dropout(0.2)\n",
        "        )\n",
        "        self.Linear1 = nn.Linear(512 * 14 * 14, 1024)\n",
        "        self.Linear2 = nn.Linear(1024, 256)\n",
        "        self.Linear3 = nn.Linear(256, 152)\n",
        "        \n",
        "        \n",
        "    def forward(self, x):\n",
        "        x = self.ConvLayer1(x)\n",
        "        x = self.ConvLayer2(x)\n",
        "        x = self.ConvLayer3(x)\n",
        "        x = self.ConvLayer4(x)\n",
        "        x = x.view(x.size(0), -1)\n",
        "        x = self.Linear1(x)\n",
        "        x = self.Linear2(x)\n",
        "        x = self.Linear3(x)\n",
        "        return F.sigmoid(x)"
      ],
      "execution_count": 72,
      "outputs": []
    },
    {
      "cell_type": "code",
      "metadata": {
        "id": "gfmwwTbaz_XE"
      },
      "source": [
        "def check_cuda():\n",
        "    _cuda = False\n",
        "    if torch.cuda.is_available():\n",
        "        _cuda = True\n",
        "    return _cuda"
      ],
      "execution_count": 73,
      "outputs": []
    },
    {
      "cell_type": "code",
      "metadata": {
        "id": "EKQADmhmz_UL"
      },
      "source": [
        "is_cuda = check_cuda()"
      ],
      "execution_count": 74,
      "outputs": []
    },
    {
      "cell_type": "code",
      "metadata": {
        "id": "AHXabiEFz_Q4"
      },
      "source": [
        "model = MultiClassifier()\n",
        "if is_cuda:\n",
        "    model.cuda()"
      ],
      "execution_count": 75,
      "outputs": []
    },
    {
      "cell_type": "code",
      "metadata": {
        "id": "jqxgWfl4z_OP"
      },
      "source": [
        "train_dataloader = torch.utils.data.DataLoader(train_dl, shuffle = True, batch_size = 64, num_workers = 2)\n",
        "valid_dataloader = torch.utils.data.DataLoader(valid_dl, shuffle = True, batch_size = 64, num_workers = 2)"
      ],
      "execution_count": 76,
      "outputs": []
    },
    {
      "cell_type": "code",
      "metadata": {
        "colab": {
          "base_uri": "https://localhost:8080/",
          "height": 52
        },
        "id": "DsZJvZc9xh3D",
        "outputId": "55400d5c-a17c-4b3e-8266-33f7373555ae"
      },
      "source": [
        "\"\"\"Evaluating our model based on how many correct labels our model in able to predict \n",
        "and summing the number of correct label predictions for every image to and \n",
        "then dividing it by the number of labels.\"\"\" "
      ],
      "execution_count": 77,
      "outputs": [
        {
          "output_type": "execute_result",
          "data": {
            "application/vnd.google.colaboratory.intrinsic+json": {
              "type": "string"
            },
            "text/plain": [
              "'Evaluating our model based on how many correct labels our model in able to predict \\nand summing the number of correct label predictions for every image to and \\nthen dividing it by the number of labels.'"
            ]
          },
          "metadata": {
            "tags": []
          },
          "execution_count": 77
        }
      ]
    },
    {
      "cell_type": "code",
      "metadata": {
        "id": "jt0VA9vuz_Lt"
      },
      "source": [
        "def pred_acc(original, predicted):\n",
        "    return torch.round(predicted).eq(original).sum().numpy()/len(original)"
      ],
      "execution_count": 78,
      "outputs": []
    },
    {
      "cell_type": "code",
      "metadata": {
        "id": "O42lYUhUz_I2"
      },
      "source": [
        "criterion = nn.BCELoss()\n",
        "optimizer = optim.SGD(model.parameters(), lr = 0.001, momentum = 0.9)"
      ],
      "execution_count": 79,
      "outputs": []
    },
    {
      "cell_type": "code",
      "metadata": {
        "id": "CXOLwQyS0uii"
      },
      "source": [
        "from pprint import pprint"
      ],
      "execution_count": 80,
      "outputs": []
    },
    {
      "cell_type": "code",
      "metadata": {
        "id": "-MKnha7D0ufY"
      },
      "source": [
        "def fit_model(epochs, model, dataloader, phase = 'training', volatile = False):\n",
        "    \n",
        "    pprint(\"Epoch: {}\".format(epochs))\n",
        "\n",
        "    if phase == 'training':\n",
        "        model.train()\n",
        "        \n",
        "    if phase == 'validataion':\n",
        "        model.eval()\n",
        "        volatile = True\n",
        "        \n",
        "    running_loss = []\n",
        "    running_acc = []\n",
        "    b = 0\n",
        "    for i, data in enumerate(dataloader):\n",
        "        \n",
        "\n",
        "        inputs, target = data['image'].cuda(), data['label'].float().cuda()\n",
        "        inputs, target = Variable(inputs), Variable(target)\n",
        "        \n",
        "        if phase == 'training':\n",
        "            optimizer.zero_grad()\n",
        "            \n",
        "        ops = model(inputs)\n",
        "        \n",
        "        acc_ = []\n",
        "        for i, d in enumerate(ops, 0):\n",
        "           \n",
        "            acc = pred_acc(torch.Tensor.cpu(target[i]), torch.Tensor.cpu(d))\n",
        "            acc_.append(acc)\n",
        "\n",
        "        loss = criterion(ops, target)\n",
        "                \n",
        "        running_loss.append(loss.item())\n",
        "        running_acc.append(np.asarray(acc_).mean())\n",
        "        b += 1\n",
        "       \n",
        "        if phase == 'training':\n",
        "            \n",
        "            loss.backward()\n",
        "        \n",
        "            optimizer.step()\n",
        "            \n",
        "    total_batch_loss = np.asarray(running_loss).mean()\n",
        "    total_batch_acc = np.asarray(running_acc).mean()\n",
        "    \n",
        "\n",
        "    pprint(\"{} loss is {} \".format(phase,total_batch_loss))\n",
        "    pprint(\"{} accuracy is {} \".format(phase, total_batch_acc))\n",
        "    \n",
        "    return total_batch_loss, total_batch_acc"
      ],
      "execution_count": 81,
      "outputs": []
    },
    {
      "cell_type": "code",
      "metadata": {
        "colab": {
          "base_uri": "https://localhost:8080/"
        },
        "id": "z1oegTcS0ucv",
        "outputId": "14256f2a-a773-42ad-faac-e6915f07f040"
      },
      "source": [
        "trn_losses = []; trn_acc = []\n",
        "val_losses = []; val_acc = []\n",
        "for i in tqdm(range(1, 100)):\n",
        "    trn_l, trn_a = fit_model(i, model, train_dataloader)\n",
        "    val_l, val_a = fit_model(i, model, valid_dataloader, phase = 'validation')\n",
        "    trn_losses.append(trn_l); trn_acc.append(trn_a)\n",
        "    val_losses.append(val_l); val_acc.append(val_a)"
      ],
      "execution_count": 82,
      "outputs": [
        {
          "output_type": "stream",
          "text": [
            "\r  0%|          | 0/99 [00:00<?, ?it/s]"
          ],
          "name": "stderr"
        },
        {
          "output_type": "stream",
          "text": [
            "'Epoch: 1'\n"
          ],
          "name": "stdout"
        },
        {
          "output_type": "stream",
          "text": [
            "/usr/local/lib/python3.7/dist-packages/torch/nn/functional.py:718: UserWarning: Named tensors and all their associated APIs are an experimental feature and subject to change. Please do not use them for anything important until they are released as stable. (Triggered internally at  /pytorch/c10/core/TensorImpl.h:1156.)\n",
            "  return torch.max_pool2d(input, kernel_size, stride, padding, dilation, ceil_mode)\n",
            "/usr/local/lib/python3.7/dist-packages/torch/nn/functional.py:1805: UserWarning: nn.functional.sigmoid is deprecated. Use torch.sigmoid instead.\n",
            "  warnings.warn(\"nn.functional.sigmoid is deprecated. Use torch.sigmoid instead.\")\n"
          ],
          "name": "stderr"
        },
        {
          "output_type": "stream",
          "text": [
            "'training loss is 0.6908265915635514 '\n",
            "'training accuracy is 0.5536722129596251 '\n",
            "'Epoch: 1'\n"
          ],
          "name": "stdout"
        },
        {
          "output_type": "stream",
          "text": [
            "\r  1%|          | 1/99 [04:47<7:50:18, 287.94s/it]"
          ],
          "name": "stderr"
        },
        {
          "output_type": "stream",
          "text": [
            "'validation loss is 0.6879859917304095 '\n",
            "'validation accuracy is 0.6011600232198142 '\n",
            "'Epoch: 2'\n",
            "'training loss is 0.6842700847207683 '\n",
            "'training accuracy is 0.6588945340663301 '\n",
            "'Epoch: 2'\n"
          ],
          "name": "stdout"
        },
        {
          "output_type": "stream",
          "text": [
            "\r  2%|▏         | 2/99 [09:38<7:46:41, 288.67s/it]"
          ],
          "name": "stderr"
        },
        {
          "output_type": "stream",
          "text": [
            "'validation loss is 0.6795280453036813 '\n",
            "'validation accuracy is 0.731335744001548 '\n",
            "'Epoch: 3'\n",
            "'training loss is 0.6700843793072112 '\n",
            "'training accuracy is 0.8160232290915646 '\n",
            "'Epoch: 3'\n"
          ],
          "name": "stdout"
        },
        {
          "output_type": "stream",
          "text": [
            "\r  3%|▎         | 3/99 [14:29<7:43:10, 289.48s/it]"
          ],
          "name": "stderr"
        },
        {
          "output_type": "stream",
          "text": [
            "'validation loss is 0.6543822165797738 '\n",
            "'validation accuracy is 0.8844424825851394 '\n",
            "'Epoch: 4'\n",
            "'training loss is 0.5825792126459618 '\n",
            "'training accuracy is 0.9002892371124729 '\n",
            "'Epoch: 4'\n"
          ],
          "name": "stdout"
        },
        {
          "output_type": "stream",
          "text": [
            "\r  4%|▍         | 4/99 [19:21<7:39:30, 290.21s/it]"
          ],
          "name": "stderr"
        },
        {
          "output_type": "stream",
          "text": [
            "'validation loss is 0.4002392598811318 '\n",
            "'validation accuracy is 0.9232947948916407 '\n",
            "'Epoch: 5'\n",
            "'training loss is 0.14896905871286784 '\n",
            "'training accuracy is 0.9740235783165104 '\n",
            "'Epoch: 5'\n"
          ],
          "name": "stdout"
        },
        {
          "output_type": "stream",
          "text": [
            "\r  5%|▌         | 5/99 [24:14<7:35:49, 290.95s/it]"
          ],
          "name": "stderr"
        },
        {
          "output_type": "stream",
          "text": [
            "'validation loss is 0.075673720196766 '\n",
            "'validation accuracy is 0.9849308243034054 '\n",
            "'Epoch: 6'\n",
            "'training loss is 0.07341010613392478 '\n",
            "'training accuracy is 0.9851973684210525 '\n",
            "'Epoch: 6'\n"
          ],
          "name": "stdout"
        },
        {
          "output_type": "stream",
          "text": [
            "\r  6%|▌         | 6/99 [29:06<7:31:34, 291.34s/it]"
          ],
          "name": "stderr"
        },
        {
          "output_type": "stream",
          "text": [
            "'validation loss is 0.07283615605796084 '\n",
            "'validation accuracy is 0.984939289860681 '\n",
            "'Epoch: 7'\n",
            "'training loss is 0.07172630890591504 '\n",
            "'training accuracy is 0.9851973684210525 '\n",
            "'Epoch: 7'\n"
          ],
          "name": "stdout"
        },
        {
          "output_type": "stream",
          "text": [
            "\r  7%|▋         | 7/99 [34:00<7:28:02, 292.20s/it]"
          ],
          "name": "stderr"
        },
        {
          "output_type": "stream",
          "text": [
            "'validation loss is 0.07183772215948385 '\n",
            "'validation accuracy is 0.9849342105263157 '\n",
            "'Epoch: 8'\n",
            "'training loss is 0.07097531712218506 '\n",
            "'training accuracy is 0.9851973684210525 '\n",
            "'Epoch: 8'\n"
          ],
          "name": "stdout"
        },
        {
          "output_type": "stream",
          "text": [
            "\r  8%|▊         | 8/99 [38:57<7:25:22, 293.66s/it]"
          ],
          "name": "stderr"
        },
        {
          "output_type": "stream",
          "text": [
            "'validation loss is 0.0712982396430829 '\n",
            "'validation accuracy is 0.9849426760835911 '\n",
            "'Epoch: 9'\n",
            "'training loss is 0.07053053930197677 '\n",
            "'training accuracy is 0.9851973684210525 '\n",
            "'Epoch: 9'\n"
          ],
          "name": "stdout"
        },
        {
          "output_type": "stream",
          "text": [
            "\r  9%|▉         | 9/99 [43:46<7:18:21, 292.24s/it]"
          ],
          "name": "stderr"
        },
        {
          "output_type": "stream",
          "text": [
            "'validation loss is 0.07102122135898646 '\n",
            "'validation accuracy is 0.9849359036377706 '\n",
            "'Epoch: 10'\n",
            "'training loss is 0.0702538884257617 '\n",
            "'training accuracy is 0.9851973684210523 '\n",
            "'Epoch: 10'\n"
          ],
          "name": "stdout"
        },
        {
          "output_type": "stream",
          "text": [
            "\r 10%|█         | 10/99 [48:40<7:13:59, 292.58s/it]"
          ],
          "name": "stderr"
        },
        {
          "output_type": "stream",
          "text": [
            "'validation loss is 0.07091179029906497 '\n",
            "'validation accuracy is 0.9849426760835911 '\n",
            "'Epoch: 11'\n",
            "'training loss is 0.07009690254926682 '\n",
            "'training accuracy is 0.9851973684210525 '\n",
            "'Epoch: 11'\n"
          ],
          "name": "stdout"
        },
        {
          "output_type": "stream",
          "text": [
            "\r 11%|█         | 11/99 [53:27<7:06:39, 290.90s/it]"
          ],
          "name": "stderr"
        },
        {
          "output_type": "stream",
          "text": [
            "'validation loss is 0.07073381061063093 '\n",
            "'validation accuracy is 0.9849325174148605 '\n",
            "'Epoch: 12'\n",
            "'training loss is 0.06998659211070571 '\n",
            "'training accuracy is 0.9851973684210523 '\n",
            "'Epoch: 12'\n"
          ],
          "name": "stdout"
        },
        {
          "output_type": "stream",
          "text": [
            "\r 12%|█▏        | 12/99 [58:13<7:00:03, 289.70s/it]"
          ],
          "name": "stderr"
        },
        {
          "output_type": "stream",
          "text": [
            "'validation loss is 0.0706625219215365 '\n",
            "'validation accuracy is 0.9849325174148608 '\n",
            "'Epoch: 13'\n",
            "'training loss is 0.06989430799467923 '\n",
            "'training accuracy is 0.9851973684210525 '\n",
            "'Epoch: 13'\n"
          ],
          "name": "stdout"
        },
        {
          "output_type": "stream",
          "text": [
            "\r 13%|█▎        | 13/99 [1:02:58<6:53:04, 288.19s/it]"
          ],
          "name": "stderr"
        },
        {
          "output_type": "stream",
          "text": [
            "'validation loss is 0.07053726780063965 '\n",
            "'validation accuracy is 0.984939289860681 '\n",
            "'Epoch: 14'\n",
            "'training loss is 0.06982977749550179 '\n",
            "'training accuracy is 0.9851973684210525 '\n",
            "'Epoch: 14'\n"
          ],
          "name": "stdout"
        },
        {
          "output_type": "stream",
          "text": [
            "\r 14%|█▍        | 14/99 [1:07:42<6:46:21, 286.84s/it]"
          ],
          "name": "stderr"
        },
        {
          "output_type": "stream",
          "text": [
            "'validation loss is 0.07050983038018732 '\n",
            "'validation accuracy is 0.9849426760835911 '\n",
            "'Epoch: 15'\n",
            "'training loss is 0.06977296845145421 '\n",
            "'training accuracy is 0.9851973684210525 '\n",
            "'Epoch: 15'\n"
          ],
          "name": "stdout"
        },
        {
          "output_type": "stream",
          "text": [
            "\r 15%|█▌        | 15/99 [1:12:28<6:41:23, 286.71s/it]"
          ],
          "name": "stderr"
        },
        {
          "output_type": "stream",
          "text": [
            "'validation loss is 0.0704711555119823 '\n",
            "'validation accuracy is 0.9849359036377706 '\n",
            "'Epoch: 16'\n",
            "'training loss is 0.06971870964928849 '\n",
            "'training accuracy is 0.9851973684210523 '\n",
            "'Epoch: 16'\n"
          ],
          "name": "stdout"
        },
        {
          "output_type": "stream",
          "text": [
            "\r 16%|█▌        | 16/99 [1:17:15<6:36:43, 286.79s/it]"
          ],
          "name": "stderr"
        },
        {
          "output_type": "stream",
          "text": [
            "'validation loss is 0.07043038681149483 '\n",
            "'validation accuracy is 0.9849274380804952 '\n",
            "'Epoch: 17'\n",
            "'training loss is 0.06967823605423104 '\n",
            "'training accuracy is 0.9851973684210525 '\n",
            "'Epoch: 17'\n"
          ],
          "name": "stdout"
        },
        {
          "output_type": "stream",
          "text": [
            "\r 17%|█▋        | 17/99 [1:22:04<6:32:39, 287.31s/it]"
          ],
          "name": "stderr"
        },
        {
          "output_type": "stream",
          "text": [
            "'validation loss is 0.07036450987353045 '\n",
            "'validation accuracy is 0.9849375967492258 '\n",
            "'Epoch: 18'\n",
            "'training loss is 0.06963595411140625 '\n",
            "'training accuracy is 0.9851973684210525 '\n",
            "'Epoch: 18'\n"
          ],
          "name": "stdout"
        },
        {
          "output_type": "stream",
          "text": [
            "\r 18%|█▊        | 18/99 [1:26:53<6:28:39, 287.90s/it]"
          ],
          "name": "stderr"
        },
        {
          "output_type": "stream",
          "text": [
            "'validation loss is 0.070304757093682 '\n",
            "'validation accuracy is 0.9849291311919501 '\n",
            "'Epoch: 19'\n",
            "'training loss is 0.06959419483191347 '\n",
            "'training accuracy is 0.9851973684210525 '\n",
            "'Epoch: 19'\n"
          ],
          "name": "stdout"
        },
        {
          "output_type": "stream",
          "text": [
            "\r 19%|█▉        | 19/99 [1:31:43<6:24:46, 288.58s/it]"
          ],
          "name": "stderr"
        },
        {
          "output_type": "stream",
          "text": [
            "'validation loss is 0.07020740671192899 '\n",
            "'validation accuracy is 0.9849426760835911 '\n",
            "'Epoch: 20'\n",
            "'training loss is 0.06954717248269957 '\n",
            "'training accuracy is 0.9851973684210525 '\n",
            "'Epoch: 20'\n"
          ],
          "name": "stdout"
        },
        {
          "output_type": "stream",
          "text": [
            "\r 20%|██        | 20/99 [1:36:32<6:20:08, 288.72s/it]"
          ],
          "name": "stderr"
        },
        {
          "output_type": "stream",
          "text": [
            "'validation loss is 0.07021836300983149 '\n",
            "'validation accuracy is 0.9849375967492258 '\n",
            "'Epoch: 21'\n",
            "'training loss is 0.06952938223130083 '\n",
            "'training accuracy is 0.9851973684210523 '\n",
            "'Epoch: 21'\n"
          ],
          "name": "stdout"
        },
        {
          "output_type": "stream",
          "text": [
            "\r 21%|██        | 21/99 [1:41:20<6:14:53, 288.38s/it]"
          ],
          "name": "stderr"
        },
        {
          "output_type": "stream",
          "text": [
            "'validation loss is 0.07020679839393672 '\n",
            "'validation accuracy is 0.9849359036377706 '\n",
            "'Epoch: 22'\n",
            "'training loss is 0.06947756579069242 '\n",
            "'training accuracy is 0.9851973684210523 '\n",
            "'Epoch: 22'\n"
          ],
          "name": "stdout"
        },
        {
          "output_type": "stream",
          "text": [
            "\r 22%|██▏       | 22/99 [1:46:13<6:11:47, 289.70s/it]"
          ],
          "name": "stderr"
        },
        {
          "output_type": "stream",
          "text": [
            "'validation loss is 0.07013229477931471 '\n",
            "'validation accuracy is 0.9849342105263157 '\n",
            "'Epoch: 23'\n",
            "'training loss is 0.06945817631809678 '\n",
            "'training accuracy is 0.9851973684210525 '\n",
            "'Epoch: 23'\n"
          ],
          "name": "stdout"
        },
        {
          "output_type": "stream",
          "text": [
            "\r 23%|██▎       | 23/99 [1:51:01<6:06:18, 289.19s/it]"
          ],
          "name": "stderr"
        },
        {
          "output_type": "stream",
          "text": [
            "'validation loss is 0.07007897491840755 '\n",
            "'validation accuracy is 0.984939289860681 '\n",
            "'Epoch: 24'\n",
            "'training loss is 0.06943243905289533 '\n",
            "'training accuracy is 0.9851973684210525 '\n",
            "'Epoch: 24'\n"
          ],
          "name": "stdout"
        },
        {
          "output_type": "stream",
          "text": [
            "\r 24%|██▍       | 24/99 [1:55:49<6:01:05, 288.87s/it]"
          ],
          "name": "stderr"
        },
        {
          "output_type": "stream",
          "text": [
            "'validation loss is 0.07007488192004316 '\n",
            "'validation accuracy is 0.9849325174148605 '\n",
            "'Epoch: 25'\n",
            "'training loss is 0.06940519891373098 '\n",
            "'training accuracy is 0.9851973684210525 '\n",
            "'Epoch: 25'\n"
          ],
          "name": "stdout"
        },
        {
          "output_type": "stream",
          "text": [
            "\r 25%|██▌       | 25/99 [2:00:35<5:55:07, 287.94s/it]"
          ],
          "name": "stderr"
        },
        {
          "output_type": "stream",
          "text": [
            "'validation loss is 0.07003249206087168 '\n",
            "'validation accuracy is 0.984937596749226 '\n",
            "'Epoch: 26'\n",
            "'training loss is 0.06938280818397052 '\n",
            "'training accuracy is 0.9851973684210525 '\n",
            "'Epoch: 26'\n"
          ],
          "name": "stdout"
        },
        {
          "output_type": "stream",
          "text": [
            "\r 26%|██▋       | 26/99 [2:05:23<5:50:22, 287.98s/it]"
          ],
          "name": "stderr"
        },
        {
          "output_type": "stream",
          "text": [
            "'validation loss is 0.07002271142076044 '\n",
            "'validation accuracy is 0.9849342105263157 '\n",
            "'Epoch: 27'\n",
            "'training loss is 0.06935994235211856 '\n",
            "'training accuracy is 0.9851973684210523 '\n",
            "'Epoch: 27'\n"
          ],
          "name": "stdout"
        },
        {
          "output_type": "stream",
          "text": [
            "\r 27%|██▋       | 27/99 [2:10:12<5:45:56, 288.28s/it]"
          ],
          "name": "stderr"
        },
        {
          "output_type": "stream",
          "text": [
            "'validation loss is 0.07000605389475822 '\n",
            "'validation accuracy is 0.984939289860681 '\n",
            "'Epoch: 28'\n",
            "'training loss is 0.06933137968386689 '\n",
            "'training accuracy is 0.9851973684210525 '\n",
            "'Epoch: 28'\n"
          ],
          "name": "stdout"
        },
        {
          "output_type": "stream",
          "text": [
            "\r 28%|██▊       | 28/99 [2:15:01<5:41:22, 288.49s/it]"
          ],
          "name": "stderr"
        },
        {
          "output_type": "stream",
          "text": [
            "'validation loss is 0.06998640517978107 '\n",
            "'validation accuracy is 0.984940982972136 '\n",
            "'Epoch: 29'\n",
            "'training loss is 0.06931446278340196 '\n",
            "'training accuracy is 0.9851973684210525 '\n",
            "'Epoch: 29'\n"
          ],
          "name": "stdout"
        },
        {
          "output_type": "stream",
          "text": [
            "\r 29%|██▉       | 29/99 [2:19:46<5:35:34, 287.64s/it]"
          ],
          "name": "stderr"
        },
        {
          "output_type": "stream",
          "text": [
            "'validation loss is 0.06994348939727335 '\n",
            "'validation accuracy is 0.9849308243034054 '\n",
            "'Epoch: 30'\n",
            "'training loss is 0.069297619980492 '\n",
            "'training accuracy is 0.9851973684210525 '\n",
            "'Epoch: 30'\n"
          ],
          "name": "stdout"
        },
        {
          "output_type": "stream",
          "text": [
            "\r 30%|███       | 30/99 [2:24:31<5:29:53, 286.87s/it]"
          ],
          "name": "stderr"
        },
        {
          "output_type": "stream",
          "text": [
            "'validation loss is 0.06995482348343905 '\n",
            "'validation accuracy is 0.9849375967492258 '\n",
            "'Epoch: 31'\n",
            "'training loss is 0.06927232536142819 '\n",
            "'training accuracy is 0.9851973684210525 '\n",
            "'Epoch: 31'\n"
          ],
          "name": "stdout"
        },
        {
          "output_type": "stream",
          "text": [
            "\r 31%|███▏      | 31/99 [2:29:17<5:24:49, 286.61s/it]"
          ],
          "name": "stderr"
        },
        {
          "output_type": "stream",
          "text": [
            "'validation loss is 0.06991028829532511 '\n",
            "'validation accuracy is 0.9849392898606808 '\n",
            "'Epoch: 32'\n",
            "'training loss is 0.06923227624533927 '\n",
            "'training accuracy is 0.9851973684210523 '\n",
            "'Epoch: 32'\n"
          ],
          "name": "stdout"
        },
        {
          "output_type": "stream",
          "text": [
            "\r 32%|███▏      | 32/99 [2:34:07<5:21:13, 287.66s/it]"
          ],
          "name": "stderr"
        },
        {
          "output_type": "stream",
          "text": [
            "'validation loss is 0.06990340505452718 '\n",
            "'validation accuracy is 0.9849325174148605 '\n",
            "'Epoch: 33'\n",
            "'training loss is 0.06922848155237224 '\n",
            "'training accuracy is 0.9851973684210523 '\n",
            "'Epoch: 33'\n"
          ],
          "name": "stdout"
        },
        {
          "output_type": "stream",
          "text": [
            "\r 33%|███▎      | 33/99 [2:38:55<5:16:32, 287.76s/it]"
          ],
          "name": "stderr"
        },
        {
          "output_type": "stream",
          "text": [
            "'validation loss is 0.06987842676394126 '\n",
            "'validation accuracy is 0.984939289860681 '\n",
            "'Epoch: 34'\n",
            "'training loss is 0.06918953675521564 '\n",
            "'training accuracy is 0.9851973684210525 '\n",
            "'Epoch: 34'\n"
          ],
          "name": "stdout"
        },
        {
          "output_type": "stream",
          "text": [
            "\r 34%|███▍      | 34/99 [2:43:39<5:10:19, 286.46s/it]"
          ],
          "name": "stderr"
        },
        {
          "output_type": "stream",
          "text": [
            "'validation loss is 0.06983874409514315 '\n",
            "'validation accuracy is 0.9849426760835911 '\n",
            "'Epoch: 35'\n",
            "'training loss is 0.06918888477838203 '\n",
            "'training accuracy is 0.9851973684210525 '\n",
            "'Epoch: 35'\n"
          ],
          "name": "stdout"
        },
        {
          "output_type": "stream",
          "text": [
            "\r 35%|███▌      | 35/99 [2:48:21<5:04:13, 285.21s/it]"
          ],
          "name": "stderr"
        },
        {
          "output_type": "stream",
          "text": [
            "'validation loss is 0.06983477249741554 '\n",
            "'validation accuracy is 0.9849375967492258 '\n",
            "'Epoch: 36'\n",
            "'training loss is 0.06916031425129877 '\n",
            "'training accuracy is 0.9851973684210525 '\n",
            "'Epoch: 36'\n"
          ],
          "name": "stdout"
        },
        {
          "output_type": "stream",
          "text": [
            "\r 36%|███▋      | 36/99 [2:53:07<4:59:38, 285.38s/it]"
          ],
          "name": "stderr"
        },
        {
          "output_type": "stream",
          "text": [
            "'validation loss is 0.06977383376044385 '\n",
            "'validation accuracy is 0.9849426760835909 '\n",
            "'Epoch: 37'\n",
            "'training loss is 0.06915081445484945 '\n",
            "'training accuracy is 0.9851973684210525 '\n",
            "'Epoch: 37'\n"
          ],
          "name": "stdout"
        },
        {
          "output_type": "stream",
          "text": [
            "\r 37%|███▋      | 37/99 [2:57:53<4:55:06, 285.59s/it]"
          ],
          "name": "stderr"
        },
        {
          "output_type": "stream",
          "text": [
            "'validation loss is 0.06980450210325859 '\n",
            "'validation accuracy is 0.9849342105263157 '\n",
            "'Epoch: 38'\n",
            "'training loss is 0.06912832053965084 '\n",
            "'training accuracy is 0.9851973684210523 '\n",
            "'Epoch: 38'\n"
          ],
          "name": "stdout"
        },
        {
          "output_type": "stream",
          "text": [
            "\r 38%|███▊      | 38/99 [3:02:36<4:49:43, 284.97s/it]"
          ],
          "name": "stderr"
        },
        {
          "output_type": "stream",
          "text": [
            "'validation loss is 0.06979960882488419 '\n",
            "'validation accuracy is 0.9849375967492258 '\n",
            "'Epoch: 39'\n",
            "'training loss is 0.06908739776643988 '\n",
            "'training accuracy is 0.9851973684210525 '\n",
            "'Epoch: 39'\n"
          ],
          "name": "stdout"
        },
        {
          "output_type": "stream",
          "text": [
            "\r 39%|███▉      | 39/99 [3:07:20<4:44:28, 284.47s/it]"
          ],
          "name": "stderr"
        },
        {
          "output_type": "stream",
          "text": [
            "'validation loss is 0.0697749842177419 '\n",
            "'validation accuracy is 0.984939289860681 '\n",
            "'Epoch: 40'\n",
            "'training loss is 0.06907389180300987 '\n",
            "'training accuracy is 0.9851973684210525 '\n",
            "'Epoch: 40'\n"
          ],
          "name": "stdout"
        },
        {
          "output_type": "stream",
          "text": [
            "\r 40%|████      | 40/99 [3:12:05<4:40:04, 284.83s/it]"
          ],
          "name": "stderr"
        },
        {
          "output_type": "stream",
          "text": [
            "'validation loss is 0.06970834951190387 '\n",
            "'validation accuracy is 0.984939289860681 '\n",
            "'Epoch: 41'\n",
            "'training loss is 0.06905235329719439 '\n",
            "'training accuracy is 0.9851973684210523 '\n",
            "'Epoch: 41'\n"
          ],
          "name": "stdout"
        },
        {
          "output_type": "stream",
          "text": [
            "\r 41%|████▏     | 41/99 [3:16:48<4:34:43, 284.19s/it]"
          ],
          "name": "stderr"
        },
        {
          "output_type": "stream",
          "text": [
            "'validation loss is 0.06973795023034601 '\n",
            "'validation accuracy is 0.984939289860681 '\n",
            "'Epoch: 42'\n",
            "'training loss is 0.06903976528611902 '\n",
            "'training accuracy is 0.9851973684210525 '\n",
            "'Epoch: 42'\n"
          ],
          "name": "stdout"
        },
        {
          "output_type": "stream",
          "text": [
            "\r 42%|████▏     | 42/99 [3:21:33<4:30:03, 284.27s/it]"
          ],
          "name": "stderr"
        },
        {
          "output_type": "stream",
          "text": [
            "'validation loss is 0.0697188806884429 '\n",
            "'validation accuracy is 0.9849325174148605 '\n",
            "'Epoch: 43'\n",
            "'training loss is 0.06901373224307412 '\n",
            "'training accuracy is 0.9851973684210525 '\n",
            "'Epoch: 43'\n"
          ],
          "name": "stdout"
        },
        {
          "output_type": "stream",
          "text": [
            "\r 43%|████▎     | 43/99 [3:26:16<4:25:12, 284.15s/it]"
          ],
          "name": "stderr"
        },
        {
          "output_type": "stream",
          "text": [
            "'validation loss is 0.06971518870662241 '\n",
            "'validation accuracy is 0.9849325174148605 '\n",
            "'Epoch: 44'\n",
            "'training loss is 0.06896565109491348 '\n",
            "'training accuracy is 0.9851973684210523 '\n",
            "'Epoch: 44'\n"
          ],
          "name": "stdout"
        },
        {
          "output_type": "stream",
          "text": [
            "\r 44%|████▍     | 44/99 [3:31:01<4:20:37, 284.31s/it]"
          ],
          "name": "stderr"
        },
        {
          "output_type": "stream",
          "text": [
            "'validation loss is 0.06966691617580022 '\n",
            "'validation accuracy is 0.9849325174148605 '\n",
            "'Epoch: 45'\n",
            "'training loss is 0.06898515885823393 '\n",
            "'training accuracy is 0.9851973684210525 '\n",
            "'Epoch: 45'\n"
          ],
          "name": "stdout"
        },
        {
          "output_type": "stream",
          "text": [
            "\r 45%|████▌     | 45/99 [3:35:48<4:16:34, 285.08s/it]"
          ],
          "name": "stderr"
        },
        {
          "output_type": "stream",
          "text": [
            "'validation loss is 0.06961785848526393 '\n",
            "'validation accuracy is 0.984940982972136 '\n",
            "'Epoch: 46'\n",
            "'training loss is 0.06894858426427188 '\n",
            "'training accuracy is 0.9851973684210523 '\n",
            "'Epoch: 46'\n"
          ],
          "name": "stdout"
        },
        {
          "output_type": "stream",
          "text": [
            "\r 46%|████▋     | 46/99 [3:40:36<4:12:28, 285.83s/it]"
          ],
          "name": "stderr"
        },
        {
          "output_type": "stream",
          "text": [
            "'validation loss is 0.06964404135942459 '\n",
            "'validation accuracy is 0.9849375967492258 '\n",
            "'Epoch: 47'\n",
            "'training loss is 0.06892783358080747 '\n",
            "'training accuracy is 0.9851973684210525 '\n",
            "'Epoch: 47'\n"
          ],
          "name": "stdout"
        },
        {
          "output_type": "stream",
          "text": [
            "\r 47%|████▋     | 47/99 [3:45:27<4:09:06, 287.43s/it]"
          ],
          "name": "stderr"
        },
        {
          "output_type": "stream",
          "text": [
            "'validation loss is 0.06956200980964829 '\n",
            "'validation accuracy is 0.9849375967492258 '\n",
            "'Epoch: 48'\n",
            "'training loss is 0.06889887664416065 '\n",
            "'training accuracy is 0.9851973684210523 '\n",
            "'Epoch: 48'\n"
          ],
          "name": "stdout"
        },
        {
          "output_type": "stream",
          "text": [
            "\r 48%|████▊     | 48/99 [3:50:19<4:05:27, 288.78s/it]"
          ],
          "name": "stderr"
        },
        {
          "output_type": "stream",
          "text": [
            "'validation loss is 0.06960924868198003 '\n",
            "'validation accuracy is 0.9849325174148605 '\n",
            "'Epoch: 49'\n",
            "'training loss is 0.0688810503646119 '\n",
            "'training accuracy is 0.9851973684210525 '\n",
            "'Epoch: 49'\n"
          ],
          "name": "stdout"
        },
        {
          "output_type": "stream",
          "text": [
            "\r 49%|████▉     | 49/99 [3:55:06<4:00:14, 288.29s/it]"
          ],
          "name": "stderr"
        },
        {
          "output_type": "stream",
          "text": [
            "'validation loss is 0.06956998960060232 '\n",
            "'validation accuracy is 0.9849325174148605 '\n",
            "'Epoch: 50'\n",
            "'training loss is 0.06885974201029293 '\n",
            "'training accuracy is 0.9851973684210525 '\n",
            "'Epoch: 50'\n"
          ],
          "name": "stdout"
        },
        {
          "output_type": "stream",
          "text": [
            "\r 51%|█████     | 50/99 [3:59:55<3:55:40, 288.58s/it]"
          ],
          "name": "stderr"
        },
        {
          "output_type": "stream",
          "text": [
            "'validation loss is 0.06952103643732913 '\n",
            "'validation accuracy is 0.9849375967492258 '\n",
            "'Epoch: 51'\n",
            "'training loss is 0.06884910992971838 '\n",
            "'training accuracy is 0.9851973684210525 '\n",
            "'Epoch: 51'\n"
          ],
          "name": "stdout"
        },
        {
          "output_type": "stream",
          "text": [
            "\r 52%|█████▏    | 51/99 [4:04:45<3:51:06, 288.88s/it]"
          ],
          "name": "stderr"
        },
        {
          "output_type": "stream",
          "text": [
            "'validation loss is 0.06946817566366757 '\n",
            "'validation accuracy is 0.9849409829721362 '\n",
            "'Epoch: 52'\n",
            "'training loss is 0.06882603670636268 '\n",
            "'training accuracy is 0.9851973684210525 '\n",
            "'Epoch: 52'\n"
          ],
          "name": "stdout"
        },
        {
          "output_type": "stream",
          "text": [
            "\r 53%|█████▎    | 52/99 [4:09:32<3:46:00, 288.51s/it]"
          ],
          "name": "stderr"
        },
        {
          "output_type": "stream",
          "text": [
            "'validation loss is 0.06949125033091097 '\n",
            "'validation accuracy is 0.9849359036377708 '\n",
            "'Epoch: 53'\n",
            "'training loss is 0.06880294358077114 '\n",
            "'training accuracy is 0.9851973684210523 '\n",
            "'Epoch: 53'\n"
          ],
          "name": "stdout"
        },
        {
          "output_type": "stream",
          "text": [
            "\r 54%|█████▎    | 53/99 [4:14:16<3:39:59, 286.95s/it]"
          ],
          "name": "stderr"
        },
        {
          "output_type": "stream",
          "text": [
            "'validation loss is 0.06948419265887316 '\n",
            "'validation accuracy is 0.984940982972136 '\n",
            "'Epoch: 54'\n",
            "'training loss is 0.06877607576651117 '\n",
            "'training accuracy is 0.9851973684210525 '\n",
            "'Epoch: 54'\n"
          ],
          "name": "stdout"
        },
        {
          "output_type": "stream",
          "text": [
            "\r 55%|█████▍    | 54/99 [4:18:59<3:34:24, 285.88s/it]"
          ],
          "name": "stderr"
        },
        {
          "output_type": "stream",
          "text": [
            "'validation loss is 0.06949909140958506 '\n",
            "'validation accuracy is 0.9849375967492258 '\n",
            "'Epoch: 55'\n",
            "'training loss is 0.06876681418451544 '\n",
            "'training accuracy is 0.9851973684210523 '\n",
            "'Epoch: 55'\n"
          ],
          "name": "stdout"
        },
        {
          "output_type": "stream",
          "text": [
            "\r 56%|█████▌    | 55/99 [4:23:42<3:28:59, 284.99s/it]"
          ],
          "name": "stderr"
        },
        {
          "output_type": "stream",
          "text": [
            "'validation loss is 0.06948519739158013 '\n",
            "'validation accuracy is 0.9849308243034054 '\n",
            "'Epoch: 56'\n",
            "'training loss is 0.06873888685686948 '\n",
            "'training accuracy is 0.9851973684210523 '\n",
            "'Epoch: 56'\n"
          ],
          "name": "stdout"
        },
        {
          "output_type": "stream",
          "text": [
            "\r 57%|█████▋    | 56/99 [4:28:32<3:25:15, 286.41s/it]"
          ],
          "name": "stderr"
        },
        {
          "output_type": "stream",
          "text": [
            "'validation loss is 0.06943838232580353 '\n",
            "'validation accuracy is 0.9849308243034054 '\n",
            "'Epoch: 57'\n",
            "'training loss is 0.0687064040605336 '\n",
            "'training accuracy is 0.9851973684210523 '\n",
            "'Epoch: 57'\n"
          ],
          "name": "stdout"
        },
        {
          "output_type": "stream",
          "text": [
            "\r 58%|█████▊    | 57/99 [4:33:20<3:20:48, 286.87s/it]"
          ],
          "name": "stderr"
        },
        {
          "output_type": "stream",
          "text": [
            "'validation loss is 0.06940936472486048 '\n",
            "'validation accuracy is 0.9849443691950465 '\n",
            "'Epoch: 58'\n",
            "'training loss is 0.06871872058469955 '\n",
            "'training accuracy is 0.9851973684210523 '\n",
            "'Epoch: 58'\n"
          ],
          "name": "stdout"
        },
        {
          "output_type": "stream",
          "text": [
            "\r 59%|█████▊    | 58/99 [4:38:09<3:16:28, 287.53s/it]"
          ],
          "name": "stderr"
        },
        {
          "output_type": "stream",
          "text": [
            "'validation loss is 0.0693591692868401 '\n",
            "'validation accuracy is 0.9849375967492258 '\n",
            "'Epoch: 59'\n",
            "'training loss is 0.06867456742345471 '\n",
            "'training accuracy is 0.9851973684210525 '\n",
            "'Epoch: 59'\n"
          ],
          "name": "stdout"
        },
        {
          "output_type": "stream",
          "text": [
            "\r 60%|█████▉    | 59/99 [4:42:56<3:11:43, 287.58s/it]"
          ],
          "name": "stderr"
        },
        {
          "output_type": "stream",
          "text": [
            "'validation loss is 0.06936309179838966 '\n",
            "'validation accuracy is 0.9849342105263157 '\n",
            "'Epoch: 60'\n",
            "'training loss is 0.06867208913581012 '\n",
            "'training accuracy is 0.9851973684210525 '\n",
            "'Epoch: 60'\n"
          ],
          "name": "stdout"
        },
        {
          "output_type": "stream",
          "text": [
            "\r 61%|██████    | 60/99 [4:47:43<3:06:43, 287.26s/it]"
          ],
          "name": "stderr"
        },
        {
          "output_type": "stream",
          "text": [
            "'validation loss is 0.06936341502210673 '\n",
            "'validation accuracy is 0.9849359036377706 '\n",
            "'Epoch: 61'\n",
            "'training loss is 0.06865316068064677 '\n",
            "'training accuracy is 0.9851973684210523 '\n",
            "'Epoch: 61'\n"
          ],
          "name": "stdout"
        },
        {
          "output_type": "stream",
          "text": [
            "\r 62%|██████▏   | 61/99 [4:52:30<3:01:59, 287.35s/it]"
          ],
          "name": "stderr"
        },
        {
          "output_type": "stream",
          "text": [
            "'validation loss is 0.0693532625103698 '\n",
            "'validation accuracy is 0.984939289860681 '\n",
            "'Epoch: 62'\n",
            "'training loss is 0.06860293713334488 '\n",
            "'training accuracy is 0.9851973684210523 '\n",
            "'Epoch: 62'\n"
          ],
          "name": "stdout"
        },
        {
          "output_type": "stream",
          "text": [
            "\r 63%|██████▎   | 62/99 [4:57:16<2:56:51, 286.81s/it]"
          ],
          "name": "stderr"
        },
        {
          "output_type": "stream",
          "text": [
            "'validation loss is 0.06926969986628084 '\n",
            "'validation accuracy is 0.9849342105263157 '\n",
            "'Epoch: 63'\n",
            "'training loss is 0.0685852856872833 '\n",
            "'training accuracy is 0.9851973684210523 '\n",
            "'Epoch: 63'\n"
          ],
          "name": "stdout"
        },
        {
          "output_type": "stream",
          "text": [
            "\r 64%|██████▎   | 63/99 [5:02:02<2:51:57, 286.60s/it]"
          ],
          "name": "stderr"
        },
        {
          "output_type": "stream",
          "text": [
            "'validation loss is 0.06924501916064936 '\n",
            "'validation accuracy is 0.9849426760835911 '\n",
            "'Epoch: 64'\n",
            "'training loss is 0.06857380179101474 '\n",
            "'training accuracy is 0.9851973684210523 '\n",
            "'Epoch: 64'\n"
          ],
          "name": "stdout"
        },
        {
          "output_type": "stream",
          "text": [
            "\r 65%|██████▍   | 64/99 [5:06:49<2:47:11, 286.62s/it]"
          ],
          "name": "stderr"
        },
        {
          "output_type": "stream",
          "text": [
            "'validation loss is 0.06925304475076058 '\n",
            "'validation accuracy is 0.9849426760835911 '\n",
            "'Epoch: 65'\n",
            "'training loss is 0.06854032949633794 '\n",
            "'training accuracy is 0.9851973684210525 '\n",
            "'Epoch: 65'\n"
          ],
          "name": "stdout"
        },
        {
          "output_type": "stream",
          "text": [
            "\r 66%|██████▌   | 65/99 [5:11:35<2:42:23, 286.57s/it]"
          ],
          "name": "stderr"
        },
        {
          "output_type": "stream",
          "text": [
            "'validation loss is 0.06919063934508492 '\n",
            "'validation accuracy is 0.9849375967492258 '\n",
            "'Epoch: 66'\n",
            "'training loss is 0.06851956329933584 '\n",
            "'training accuracy is 0.9851973684210525 '\n",
            "'Epoch: 66'\n"
          ],
          "name": "stdout"
        },
        {
          "output_type": "stream",
          "text": [
            "\r 67%|██████▋   | 66/99 [5:16:19<2:37:08, 285.70s/it]"
          ],
          "name": "stderr"
        },
        {
          "output_type": "stream",
          "text": [
            "'validation loss is 0.06921427280587308 '\n",
            "'validation accuracy is 0.9849342105263157 '\n",
            "'Epoch: 67'\n",
            "'training loss is 0.06848502883764163 '\n",
            "'training accuracy is 0.9851973684210525 '\n",
            "'Epoch: 67'\n"
          ],
          "name": "stdout"
        },
        {
          "output_type": "stream",
          "text": [
            "\r 68%|██████▊   | 67/99 [5:21:03<2:32:07, 285.24s/it]"
          ],
          "name": "stderr"
        },
        {
          "output_type": "stream",
          "text": [
            "'validation loss is 0.06916720924132011 '\n",
            "'validation accuracy is 0.9849325174148605 '\n",
            "'Epoch: 68'\n",
            "'training loss is 0.06849030170538654 '\n",
            "'training accuracy is 0.9851973684210525 '\n",
            "'Epoch: 68'\n"
          ],
          "name": "stdout"
        },
        {
          "output_type": "stream",
          "text": [
            "\r 69%|██████▊   | 68/99 [5:25:43<2:26:31, 283.60s/it]"
          ],
          "name": "stderr"
        },
        {
          "output_type": "stream",
          "text": [
            "'validation loss is 0.06919692719683927 '\n",
            "'validation accuracy is 0.9849375967492258 '\n",
            "'Epoch: 69'\n",
            "'training loss is 0.06846530225178966 '\n",
            "'training accuracy is 0.9851973684210523 '\n",
            "'Epoch: 69'\n"
          ],
          "name": "stdout"
        },
        {
          "output_type": "stream",
          "text": [
            "\r 70%|██████▉   | 69/99 [5:30:26<2:21:44, 283.49s/it]"
          ],
          "name": "stderr"
        },
        {
          "output_type": "stream",
          "text": [
            "'validation loss is 0.06914587275070302 '\n",
            "'validation accuracy is 0.984940982972136 '\n",
            "'Epoch: 70'\n",
            "'training loss is 0.06842992189404083 '\n",
            "'training accuracy is 0.9851973684210523 '\n",
            "'Epoch: 70'\n"
          ],
          "name": "stdout"
        },
        {
          "output_type": "stream",
          "text": [
            "\r 71%|███████   | 70/99 [5:35:15<2:17:44, 284.99s/it]"
          ],
          "name": "stderr"
        },
        {
          "output_type": "stream",
          "text": [
            "'validation loss is 0.06909255924470284 '\n",
            "'validation accuracy is 0.984940982972136 '\n",
            "'Epoch: 71'\n",
            "'training loss is 0.06842325668628901 '\n",
            "'training accuracy is 0.9851973684210525 '\n",
            "'Epoch: 71'\n"
          ],
          "name": "stdout"
        },
        {
          "output_type": "stream",
          "text": [
            "\r 72%|███████▏  | 71/99 [5:39:59<2:12:51, 284.70s/it]"
          ],
          "name": "stderr"
        },
        {
          "output_type": "stream",
          "text": [
            "'validation loss is 0.06910163427100462 '\n",
            "'validation accuracy is 0.984939289860681 '\n",
            "'Epoch: 72'\n",
            "'training loss is 0.06838797400258992 '\n",
            "'training accuracy is 0.9851973684210525 '\n",
            "'Epoch: 72'\n"
          ],
          "name": "stdout"
        },
        {
          "output_type": "stream",
          "text": [
            "\r 73%|███████▎  | 72/99 [5:44:45<2:08:19, 285.17s/it]"
          ],
          "name": "stderr"
        },
        {
          "output_type": "stream",
          "text": [
            "'validation loss is 0.06913050329860519 '\n",
            "'validation accuracy is 0.9849460623065014 '\n",
            "'Epoch: 73'\n",
            "'training loss is 0.0683631174368401 '\n",
            "'training accuracy is 0.9851973684210525 '\n",
            "'Epoch: 73'\n"
          ],
          "name": "stdout"
        },
        {
          "output_type": "stream",
          "text": [
            "\r 74%|███████▎  | 73/99 [5:49:35<2:04:09, 286.54s/it]"
          ],
          "name": "stderr"
        },
        {
          "output_type": "stream",
          "text": [
            "'validation loss is 0.06908514635527835 '\n",
            "'validation accuracy is 0.9849375967492258 '\n",
            "'Epoch: 74'\n",
            "'training loss is 0.06833707643290089 '\n",
            "'training accuracy is 0.9851973684210525 '\n",
            "'Epoch: 74'\n"
          ],
          "name": "stdout"
        },
        {
          "output_type": "stream",
          "text": [
            "\r 75%|███████▍  | 74/99 [5:54:24<1:59:42, 287.30s/it]"
          ],
          "name": "stderr"
        },
        {
          "output_type": "stream",
          "text": [
            "'validation loss is 0.06908053882858332 '\n",
            "'validation accuracy is 0.9849342105263157 '\n",
            "'Epoch: 75'\n",
            "'training loss is 0.06831985273181576 '\n",
            "'training accuracy is 0.9851973684210525 '\n",
            "'Epoch: 75'\n"
          ],
          "name": "stdout"
        },
        {
          "output_type": "stream",
          "text": [
            "\r 76%|███████▌  | 75/99 [5:59:16<1:55:30, 288.75s/it]"
          ],
          "name": "stderr"
        },
        {
          "output_type": "stream",
          "text": [
            "'validation loss is 0.06900433560504633 '\n",
            "'validation accuracy is 0.9849342105263157 '\n",
            "'Epoch: 76'\n",
            "'training loss is 0.06827858519064237 '\n",
            "'training accuracy is 0.9851973684210525 '\n",
            "'Epoch: 76'\n"
          ],
          "name": "stdout"
        },
        {
          "output_type": "stream",
          "text": [
            "\r 77%|███████▋  | 76/99 [6:04:07<1:50:57, 289.45s/it]"
          ],
          "name": "stderr"
        },
        {
          "output_type": "stream",
          "text": [
            "'validation loss is 0.06898673952502363 '\n",
            "'validation accuracy is 0.9849392898606808 '\n",
            "'Epoch: 77'\n",
            "'training loss is 0.06828024360823305 '\n",
            "'training accuracy is 0.9851973684210525 '\n",
            "'Epoch: 77'\n"
          ],
          "name": "stdout"
        },
        {
          "output_type": "stream",
          "text": [
            "\r 78%|███████▊  | 77/99 [6:09:00<1:46:32, 290.56s/it]"
          ],
          "name": "stderr"
        },
        {
          "output_type": "stream",
          "text": [
            "'validation loss is 0.06895116453661639 '\n",
            "'validation accuracy is 0.9849342105263157 '\n",
            "'Epoch: 78'\n",
            "'training loss is 0.06825457492919818 '\n",
            "'training accuracy is 0.9851973684210523 '\n",
            "'Epoch: 78'\n"
          ],
          "name": "stdout"
        },
        {
          "output_type": "stream",
          "text": [
            "\r 79%|███████▉  | 78/99 [6:13:49<1:41:34, 290.21s/it]"
          ],
          "name": "stderr"
        },
        {
          "output_type": "stream",
          "text": [
            "'validation loss is 0.06892342843553599 '\n",
            "'validation accuracy is 0.9849375967492258 '\n",
            "'Epoch: 79'\n",
            "'training loss is 0.06822603491887655 '\n",
            "'training accuracy is 0.9851973684210525 '\n",
            "'Epoch: 79'\n"
          ],
          "name": "stdout"
        },
        {
          "output_type": "stream",
          "text": [
            "\r 80%|███████▉  | 79/99 [6:18:42<1:36:58, 290.91s/it]"
          ],
          "name": "stderr"
        },
        {
          "output_type": "stream",
          "text": [
            "'validation loss is 0.06887299194931984 '\n",
            "'validation accuracy is 0.984939289860681 '\n",
            "'Epoch: 80'\n",
            "'training loss is 0.06820727517343547 '\n",
            "'training accuracy is 0.9851973684210525 '\n",
            "'Epoch: 80'\n"
          ],
          "name": "stdout"
        },
        {
          "output_type": "stream",
          "text": [
            "\r 81%|████████  | 80/99 [6:23:30<1:31:49, 289.99s/it]"
          ],
          "name": "stderr"
        },
        {
          "output_type": "stream",
          "text": [
            "'validation loss is 0.06894184188807712 '\n",
            "'validation accuracy is 0.9849375967492258 '\n",
            "'Epoch: 81'\n",
            "'training loss is 0.0681731616185136 '\n",
            "'training accuracy is 0.9851973684210525 '\n",
            "'Epoch: 81'\n"
          ],
          "name": "stdout"
        },
        {
          "output_type": "stream",
          "text": [
            "\r 82%|████████▏ | 81/99 [6:28:24<1:27:21, 291.19s/it]"
          ],
          "name": "stderr"
        },
        {
          "output_type": "stream",
          "text": [
            "'validation loss is 0.06888456248185214 '\n",
            "'validation accuracy is 0.984939289860681 '\n",
            "'Epoch: 82'\n",
            "'training loss is 0.06812607762339996 '\n",
            "'training accuracy is 0.9851973684210523 '\n",
            "'Epoch: 82'\n"
          ],
          "name": "stdout"
        },
        {
          "output_type": "stream",
          "text": [
            "\r 83%|████████▎ | 82/99 [6:33:16<1:22:34, 291.44s/it]"
          ],
          "name": "stderr"
        },
        {
          "output_type": "stream",
          "text": [
            "'validation loss is 0.0688595390495132 '\n",
            "'validation accuracy is 0.9849359036377708 '\n",
            "'Epoch: 83'\n",
            "'training loss is 0.06813702834387349 '\n",
            "'training accuracy is 0.9851973684210523 '\n",
            "'Epoch: 83'\n"
          ],
          "name": "stdout"
        },
        {
          "output_type": "stream",
          "text": [
            "\r 84%|████████▍ | 83/99 [6:38:08<1:17:48, 291.77s/it]"
          ],
          "name": "stderr"
        },
        {
          "output_type": "stream",
          "text": [
            "'validation loss is 0.06880112737417221 '\n",
            "'validation accuracy is 0.984939289860681 '\n",
            "'Epoch: 84'\n",
            "'training loss is 0.06809096048547797 '\n",
            "'training accuracy is 0.9851973684210525 '\n",
            "'Epoch: 84'\n"
          ],
          "name": "stdout"
        },
        {
          "output_type": "stream",
          "text": [
            "\r 85%|████████▍ | 84/99 [6:43:01<1:12:59, 292.00s/it]"
          ],
          "name": "stderr"
        },
        {
          "output_type": "stream",
          "text": [
            "'validation loss is 0.06880525631063125 '\n",
            "'validation accuracy is 0.984939289860681 '\n",
            "'Epoch: 85'\n",
            "'training loss is 0.0680405002546637 '\n",
            "'training accuracy is 0.9851973684210525 '\n",
            "'Epoch: 85'\n"
          ],
          "name": "stdout"
        },
        {
          "output_type": "stream",
          "text": [
            "\r 86%|████████▌ | 85/99 [6:47:53<1:08:09, 292.12s/it]"
          ],
          "name": "stderr"
        },
        {
          "output_type": "stream",
          "text": [
            "'validation loss is 0.06878163402571398 '\n",
            "'validation accuracy is 0.984937596749226 '\n",
            "'Epoch: 86'\n",
            "'training loss is 0.0680397411119448 '\n",
            "'training accuracy is 0.9851973684210523 '\n",
            "'Epoch: 86'\n"
          ],
          "name": "stdout"
        },
        {
          "output_type": "stream",
          "text": [
            "\r 87%|████████▋ | 86/99 [6:52:42<1:03:04, 291.14s/it]"
          ],
          "name": "stderr"
        },
        {
          "output_type": "stream",
          "text": [
            "'validation loss is 0.06873406732783598 '\n",
            "'validation accuracy is 0.984940982972136 '\n",
            "'Epoch: 87'\n",
            "'training loss is 0.06800744304918263 '\n",
            "'training accuracy is 0.9851973684210523 '\n",
            "'Epoch: 87'\n"
          ],
          "name": "stdout"
        },
        {
          "output_type": "stream",
          "text": [
            "\r 88%|████████▊ | 87/99 [6:57:27<57:52, 289.35s/it]  "
          ],
          "name": "stderr"
        },
        {
          "output_type": "stream",
          "text": [
            "'validation loss is 0.06869602619725115 '\n",
            "'validation accuracy is 0.9849426760835911 '\n",
            "'Epoch: 88'\n",
            "'training loss is 0.06798656733885203 '\n",
            "'training accuracy is 0.9851973684210525 '\n",
            "'Epoch: 88'\n"
          ],
          "name": "stdout"
        },
        {
          "output_type": "stream",
          "text": [
            "\r 89%|████████▉ | 88/99 [7:01:59<52:05, 284.17s/it]"
          ],
          "name": "stderr"
        },
        {
          "output_type": "stream",
          "text": [
            "'validation loss is 0.06868464477798518 '\n",
            "'validation accuracy is 0.9849409829721362 '\n",
            "'Epoch: 89'\n",
            "'training loss is 0.06795803651417771 '\n",
            "'training accuracy is 0.9851973684210525 '\n",
            "'Epoch: 89'\n"
          ],
          "name": "stdout"
        },
        {
          "output_type": "stream",
          "text": [
            "\r 90%|████████▉ | 89/99 [7:06:31<46:42, 280.27s/it]"
          ],
          "name": "stderr"
        },
        {
          "output_type": "stream",
          "text": [
            "'validation loss is 0.06870297715067863 '\n",
            "'validation accuracy is 0.9849392898606808 '\n",
            "'Epoch: 90'\n",
            "'training loss is 0.06793278578209551 '\n",
            "'training accuracy is 0.9851973684210525 '\n",
            "'Epoch: 90'\n"
          ],
          "name": "stdout"
        },
        {
          "output_type": "stream",
          "text": [
            "\r 91%|█████████ | 90/99 [7:11:02<41:39, 277.75s/it]"
          ],
          "name": "stderr"
        },
        {
          "output_type": "stream",
          "text": [
            "'validation loss is 0.06862890808021321 '\n",
            "'validation accuracy is 0.9849426760835911 '\n",
            "'Epoch: 91'\n",
            "'training loss is 0.06790793768755377 '\n",
            "'training accuracy is 0.9851973684210525 '\n",
            "'Epoch: 91'\n"
          ],
          "name": "stdout"
        },
        {
          "output_type": "stream",
          "text": [
            "\r 92%|█████████▏| 91/99 [7:15:36<36:53, 276.63s/it]"
          ],
          "name": "stderr"
        },
        {
          "output_type": "stream",
          "text": [
            "'validation loss is 0.06861631835208219 '\n",
            "'validation accuracy is 0.9849392898606808 '\n",
            "'Epoch: 92'\n",
            "'training loss is 0.06789304754913669 '\n",
            "'training accuracy is 0.9851973684210523 '\n",
            "'Epoch: 92'\n"
          ],
          "name": "stdout"
        },
        {
          "output_type": "stream",
          "text": [
            "\r 93%|█████████▎| 92/99 [7:20:09<32:08, 275.45s/it]"
          ],
          "name": "stderr"
        },
        {
          "output_type": "stream",
          "text": [
            "'validation loss is 0.0686437115073204 '\n",
            "'validation accuracy is 0.9849342105263157 '\n",
            "'Epoch: 93'\n",
            "'training loss is 0.06785829804123264 '\n",
            "'training accuracy is 0.9851973684210523 '\n",
            "'Epoch: 93'\n"
          ],
          "name": "stdout"
        },
        {
          "output_type": "stream",
          "text": [
            "\r 94%|█████████▍| 93/99 [7:24:41<27:26, 274.45s/it]"
          ],
          "name": "stderr"
        },
        {
          "output_type": "stream",
          "text": [
            "'validation loss is 0.06859390328035635 '\n",
            "'validation accuracy is 0.984939289860681 '\n",
            "'Epoch: 94'\n",
            "'training loss is 0.06782950144516278 '\n",
            "'training accuracy is 0.9851973684210525 '\n",
            "'Epoch: 94'\n"
          ],
          "name": "stdout"
        },
        {
          "output_type": "stream",
          "text": [
            "\r 95%|█████████▍| 94/99 [7:29:17<22:53, 274.75s/it]"
          ],
          "name": "stderr"
        },
        {
          "output_type": "stream",
          "text": [
            "'validation loss is 0.06855130743454485 '\n",
            "'validation accuracy is 0.9849359036377708 '\n",
            "'Epoch: 95'\n",
            "'training loss is 0.06779557466506958 '\n",
            "'training accuracy is 0.9851973684210523 '\n",
            "'Epoch: 95'\n"
          ],
          "name": "stdout"
        },
        {
          "output_type": "stream",
          "text": [
            "\r 96%|█████████▌| 95/99 [7:33:49<18:16, 274.08s/it]"
          ],
          "name": "stderr"
        },
        {
          "output_type": "stream",
          "text": [
            "'validation loss is 0.06849790999994558 '\n",
            "'validation accuracy is 0.9849426760835911 '\n",
            "'Epoch: 96'\n",
            "'training loss is 0.06777662987986656 '\n",
            "'training accuracy is 0.9851973684210525 '\n",
            "'Epoch: 96'\n"
          ],
          "name": "stdout"
        },
        {
          "output_type": "stream",
          "text": [
            "\r 97%|█████████▋| 96/99 [7:38:21<13:40, 273.52s/it]"
          ],
          "name": "stderr"
        },
        {
          "output_type": "stream",
          "text": [
            "'validation loss is 0.06853575719630017 '\n",
            "'validation accuracy is 0.9849325174148605 '\n",
            "'Epoch: 97'\n",
            "'training loss is 0.06772228891718877 '\n",
            "'training accuracy is 0.9851973684210523 '\n",
            "'Epoch: 97'\n"
          ],
          "name": "stdout"
        },
        {
          "output_type": "stream",
          "text": [
            "\r 98%|█████████▊| 97/99 [7:42:57<09:08, 274.12s/it]"
          ],
          "name": "stderr"
        },
        {
          "output_type": "stream",
          "text": [
            "'validation loss is 0.06850924277130295 '\n",
            "'validation accuracy is 0.9849325174148605 '\n",
            "'Epoch: 98'\n",
            "'training loss is 0.06769091176660094 '\n",
            "'training accuracy is 0.9851973684210523 '\n",
            "'Epoch: 98'\n"
          ],
          "name": "stdout"
        },
        {
          "output_type": "stream",
          "text": [
            "\r 99%|█████████▉| 98/99 [7:47:27<04:33, 273.03s/it]"
          ],
          "name": "stderr"
        },
        {
          "output_type": "stream",
          "text": [
            "'validation loss is 0.06847518463345136 '\n",
            "'validation accuracy is 0.9849257449690401 '\n",
            "'Epoch: 99'\n",
            "'training loss is 0.06767588955898808 '\n",
            "'training accuracy is 0.9851973684210523 '\n",
            "'Epoch: 99'\n"
          ],
          "name": "stdout"
        },
        {
          "output_type": "stream",
          "text": [
            "100%|██████████| 99/99 [7:52:01<00:00, 286.07s/it]"
          ],
          "name": "stderr"
        },
        {
          "output_type": "stream",
          "text": [
            "'validation loss is 0.06838229999822729 '\n",
            "'validation accuracy is 0.9849359036377708 '\n"
          ],
          "name": "stdout"
        },
        {
          "output_type": "stream",
          "text": [
            "\n"
          ],
          "name": "stderr"
        }
      ]
    },
    {
      "cell_type": "code",
      "metadata": {
        "id": "B1iJH0mCUMUD"
      },
      "source": [
        ""
      ],
      "execution_count": 82,
      "outputs": []
    },
    {
      "cell_type": "code",
      "metadata": {
        "id": "EnxBTAGnUMRK"
      },
      "source": [
        ""
      ],
      "execution_count": 82,
      "outputs": []
    },
    {
      "cell_type": "code",
      "metadata": {
        "id": "7zxmrGHhUMIE"
      },
      "source": [
        ""
      ],
      "execution_count": 82,
      "outputs": []
    },
    {
      "cell_type": "code",
      "metadata": {
        "id": "FN9wc-9jUMFF"
      },
      "source": [
        ""
      ],
      "execution_count": 82,
      "outputs": []
    },
    {
      "cell_type": "code",
      "metadata": {
        "id": "mRFj2JV_789w"
      },
      "source": [
        "torch.save(model, \"Model_100Epochs\")"
      ],
      "execution_count": 88,
      "outputs": []
    },
    {
      "cell_type": "code",
      "metadata": {
        "id": "mXGO6q_WVIEx"
      },
      "source": [
        "import matplotlib.pyplot as plt"
      ],
      "execution_count": 85,
      "outputs": []
    },
    {
      "cell_type": "code",
      "metadata": {
        "id": "5pbeZcjFVH3P",
        "colab": {
          "base_uri": "https://localhost:8080/",
          "height": 282
        },
        "outputId": "01a450e5-a0c6-402e-96ad-6824d0567c3e"
      },
      "source": [
        "plt.plot(trn_losses, label='training loss')\n",
        "plt.plot(val_losses,label='validation loss')\n",
        "plt.legend()"
      ],
      "execution_count": 86,
      "outputs": [
        {
          "output_type": "execute_result",
          "data": {
            "text/plain": [
              "<matplotlib.legend.Legend at 0x7f5d9133f510>"
            ]
          },
          "metadata": {
            "tags": []
          },
          "execution_count": 86
        },
        {
          "output_type": "display_data",
          "data": {
            "image/png": "[encoded data removed]",
            "text/plain": [
              "<Figure size 432x288 with 1 Axes>"
            ]
          },
          "metadata": {
            "tags": [],
            "needs_background": "light"
          }
        }
      ]
    },
    {
      "cell_type": "code",
      "metadata": {
        "id": "cR-TwiW7VHpx",
        "colab": {
          "base_uri": "https://localhost:8080/",
          "height": 283
        },
        "outputId": "6ba0e3b9-7676-44ff-8e55-7ee5e87bf519"
      },
      "source": [
        "plt.plot(trn_acc, label='training acc')\n",
        "plt.plot(val_acc,label='validation acc')\n",
        "plt.legend()"
      ],
      "execution_count": 87,
      "outputs": [
        {
          "output_type": "execute_result",
          "data": {
            "text/plain": [
              "<matplotlib.legend.Legend at 0x7f5d912ac210>"
            ]
          },
          "metadata": {
            "tags": []
          },
          "execution_count": 87
        },
        {
          "output_type": "display_data",
          "data": {
            "image/png": "[encoded data removed]",
            "text/plain": [
              "<Figure size 432x288 with 1 Axes>"
            ]
          },
          "metadata": {
            "tags": [],
            "needs_background": "light"
          }
        }
      ]
    },
    {
      "cell_type": "code",
      "metadata": {
        "id": "RvKPpaazVHj3"
      },
      "source": [
        ""
      ],
      "execution_count": 87,
      "outputs": []
    },
    {
      "cell_type": "code",
      "metadata": {
        "id": "FiySDU-GUwVx"
      },
      "source": [
        ""
      ],
      "execution_count": 87,
      "outputs": []
    }
  ]
}