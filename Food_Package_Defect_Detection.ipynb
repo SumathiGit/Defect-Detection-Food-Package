{
  "nbformat": 4,
  "nbformat_minor": 0,
  "metadata": {
    "colab": {
      "name": "Food_Package_Defect_Detection.ipynb",
      "provenance": [],
      "collapsed_sections": [],
      "authorship_tag": "ABX9TyNAiNfIMaQaHpvlIyEruSr+",
      "include_colab_link": true
    },
    "kernelspec": {
      "name": "python3",
      "display_name": "Python 3"
    },
    "language_info": {
      "name": "python"
    }
  },
  "cells": [
    {
      "cell_type": "markdown",
      "metadata": {
        "id": "view-in-github",
        "colab_type": "text"
      },
      "source": [
        "<a href=\"https://colab.research.google.com/github/SumathiGit/Defect-Detection-Food-Package/blob/main/Food_Package_Defect_Detection.ipynb\" target=\"_parent\"><img src=\"https://colab.research.google.com/assets/colab-badge.svg\" alt=\"Open In Colab\"/></a>"
      ]
    },
    {
      "cell_type": "code",
      "metadata": {
        "colab": {
          "base_uri": "https://localhost:8080/"
        },
        "id": "c7zbWNg_qcoF",
        "outputId": "d3887567-5fb5-47f6-df97-266d160e71a0"
      },
      "source": [
        "from google.colab import drive\n",
        "drive.mount('/content/drive')"
      ],
      "execution_count": 1,
      "outputs": [
        {
          "output_type": "stream",
          "text": [
            "Mounted at /content/drive\n"
          ],
          "name": "stdout"
        }
      ]
    },
    {
      "cell_type": "code",
      "metadata": {
        "id": "UX-BTe4Tq2Wi"
      },
      "source": [
        "img_zip_path = '/content/drive/My Drive/Proj/Img/Food_Product_Img.zip'"
      ],
      "execution_count": 2,
      "outputs": []
    },
    {
      "cell_type": "code",
      "metadata": {
        "id": "mnHUkUhsq2T5"
      },
      "source": [
        "import os\n",
        "import zipfile\n",
        "import pandas as pd\n",
        "import numpy as np\n",
        "from PIL import Image"
      ],
      "execution_count": 3,
      "outputs": []
    },
    {
      "cell_type": "code",
      "metadata": {
        "id": "ch-eYosvq2R8"
      },
      "source": [
        "zip_ref = zipfile.ZipFile(img_zip_path, 'r')\n",
        "zip_ref.extractall()\n",
        "zip_ref.close()"
      ],
      "execution_count": 4,
      "outputs": []
    },
    {
      "cell_type": "code",
      "metadata": {
        "id": "0mnxZhJlxF7e"
      },
      "source": [
        "df = pd.read_csv(\"/content/drive/My Drive/Proj/Anno/food.csv\")"
      ],
      "execution_count": 5,
      "outputs": []
    },
    {
      "cell_type": "code",
      "metadata": {
        "colab": {
          "base_uri": "https://localhost:8080/",
          "height": 309
        },
        "id": "EY3KrF5WxF4p",
        "outputId": "aa15583d-4d85-4836-f20f-e32d7593e949"
      },
      "source": [
        "df.head()"
      ],
      "execution_count": 6,
      "outputs": [
        {
          "output_type": "execute_result",
          "data": {
            "text/html": [
              "<div>\n",
              "<style scoped>\n",
              "    .dataframe tbody tr th:only-of-type {\n",
              "        vertical-align: middle;\n",
              "    }\n",
              "\n",
              "    .dataframe tbody tr th {\n",
              "        vertical-align: top;\n",
              "    }\n",
              "\n",
              "    .dataframe thead th {\n",
              "        text-align: right;\n",
              "    }\n",
              "</style>\n",
              "<table border=\"1\" class=\"dataframe\">\n",
              "  <thead>\n",
              "    <tr style=\"text-align: right;\">\n",
              "      <th></th>\n",
              "      <th>filename</th>\n",
              "      <th>Label1_Beans</th>\n",
              "      <th>Label1_Beverage</th>\n",
              "      <th>Label1_Biscuits</th>\n",
              "      <th>Label1_Bread</th>\n",
              "      <th>Label1_CAKE</th>\n",
              "      <th>Label1_Candy</th>\n",
              "      <th>Label1_Cans</th>\n",
              "      <th>Label1_Cereal</th>\n",
              "      <th>Label1_Chips</th>\n",
              "      <th>Label1_ChipsPack</th>\n",
              "      <th>Label1_Chocolate</th>\n",
              "      <th>Label2_BeansDefected</th>\n",
              "      <th>Label2_BeansPerfect</th>\n",
              "      <th>Label2_BeverageDefected</th>\n",
              "      <th>Label2_BeveragePerfect</th>\n",
              "      <th>Label2_BiscuitDefected</th>\n",
              "      <th>Label2_BiscuitPefect</th>\n",
              "      <th>Label2_BreadDefected</th>\n",
              "      <th>Label2_BreadPerfect</th>\n",
              "      <th>Label2_CakeDefected</th>\n",
              "      <th>Label2_CakePerfect</th>\n",
              "      <th>Label2_CandyDefected</th>\n",
              "      <th>Label2_CandyPerfect</th>\n",
              "      <th>Label2_CansDefected</th>\n",
              "      <th>Label2_CansPerfect</th>\n",
              "      <th>Label2_CerealDefected</th>\n",
              "      <th>Label2_CerealPerfect</th>\n",
              "      <th>Label2_ChipsDefected</th>\n",
              "      <th>Label2_ChipsPackDefected</th>\n",
              "      <th>Label2_ChipsPackPerfect</th>\n",
              "      <th>Label2_ChipsPerfect</th>\n",
              "      <th>Label2_ChocolateDefected</th>\n",
              "      <th>Label2_ChocolatePerfect</th>\n",
              "      <th>Defected</th>\n",
              "      <th>Perfect</th>\n",
              "    </tr>\n",
              "  </thead>\n",
              "  <tbody>\n",
              "    <tr>\n",
              "      <th>0</th>\n",
              "      <td>6902007030087-back_camera1-1.jpg</td>\n",
              "      <td>0</td>\n",
              "      <td>0</td>\n",
              "      <td>0</td>\n",
              "      <td>0</td>\n",
              "      <td>0</td>\n",
              "      <td>0</td>\n",
              "      <td>0</td>\n",
              "      <td>0</td>\n",
              "      <td>0</td>\n",
              "      <td>1</td>\n",
              "      <td>0</td>\n",
              "      <td>0</td>\n",
              "      <td>0</td>\n",
              "      <td>0</td>\n",
              "      <td>0</td>\n",
              "      <td>0</td>\n",
              "      <td>0</td>\n",
              "      <td>0</td>\n",
              "      <td>0</td>\n",
              "      <td>0</td>\n",
              "      <td>0</td>\n",
              "      <td>0</td>\n",
              "      <td>0</td>\n",
              "      <td>0</td>\n",
              "      <td>0</td>\n",
              "      <td>0</td>\n",
              "      <td>0</td>\n",
              "      <td>0</td>\n",
              "      <td>1</td>\n",
              "      <td>0</td>\n",
              "      <td>0</td>\n",
              "      <td>0</td>\n",
              "      <td>0</td>\n",
              "      <td>1</td>\n",
              "      <td>0</td>\n",
              "    </tr>\n",
              "    <tr>\n",
              "      <th>1</th>\n",
              "      <td>6902007030087_camera1-1.jpg</td>\n",
              "      <td>0</td>\n",
              "      <td>0</td>\n",
              "      <td>0</td>\n",
              "      <td>0</td>\n",
              "      <td>0</td>\n",
              "      <td>0</td>\n",
              "      <td>0</td>\n",
              "      <td>0</td>\n",
              "      <td>0</td>\n",
              "      <td>1</td>\n",
              "      <td>0</td>\n",
              "      <td>0</td>\n",
              "      <td>0</td>\n",
              "      <td>0</td>\n",
              "      <td>0</td>\n",
              "      <td>0</td>\n",
              "      <td>0</td>\n",
              "      <td>0</td>\n",
              "      <td>0</td>\n",
              "      <td>0</td>\n",
              "      <td>0</td>\n",
              "      <td>0</td>\n",
              "      <td>0</td>\n",
              "      <td>0</td>\n",
              "      <td>0</td>\n",
              "      <td>0</td>\n",
              "      <td>0</td>\n",
              "      <td>0</td>\n",
              "      <td>1</td>\n",
              "      <td>0</td>\n",
              "      <td>0</td>\n",
              "      <td>0</td>\n",
              "      <td>0</td>\n",
              "      <td>1</td>\n",
              "      <td>0</td>\n",
              "    </tr>\n",
              "    <tr>\n",
              "      <th>2</th>\n",
              "      <td>6924743913738_camera0-40.jpg</td>\n",
              "      <td>0</td>\n",
              "      <td>0</td>\n",
              "      <td>0</td>\n",
              "      <td>0</td>\n",
              "      <td>0</td>\n",
              "      <td>0</td>\n",
              "      <td>0</td>\n",
              "      <td>0</td>\n",
              "      <td>0</td>\n",
              "      <td>1</td>\n",
              "      <td>0</td>\n",
              "      <td>0</td>\n",
              "      <td>0</td>\n",
              "      <td>0</td>\n",
              "      <td>0</td>\n",
              "      <td>0</td>\n",
              "      <td>0</td>\n",
              "      <td>0</td>\n",
              "      <td>0</td>\n",
              "      <td>0</td>\n",
              "      <td>0</td>\n",
              "      <td>0</td>\n",
              "      <td>0</td>\n",
              "      <td>0</td>\n",
              "      <td>0</td>\n",
              "      <td>0</td>\n",
              "      <td>0</td>\n",
              "      <td>0</td>\n",
              "      <td>1</td>\n",
              "      <td>0</td>\n",
              "      <td>0</td>\n",
              "      <td>0</td>\n",
              "      <td>0</td>\n",
              "      <td>1</td>\n",
              "      <td>0</td>\n",
              "    </tr>\n",
              "    <tr>\n",
              "      <th>3</th>\n",
              "      <td>6901845043112_camera2-6.jpg</td>\n",
              "      <td>0</td>\n",
              "      <td>0</td>\n",
              "      <td>0</td>\n",
              "      <td>0</td>\n",
              "      <td>0</td>\n",
              "      <td>0</td>\n",
              "      <td>0</td>\n",
              "      <td>0</td>\n",
              "      <td>0</td>\n",
              "      <td>1</td>\n",
              "      <td>0</td>\n",
              "      <td>0</td>\n",
              "      <td>0</td>\n",
              "      <td>0</td>\n",
              "      <td>0</td>\n",
              "      <td>0</td>\n",
              "      <td>0</td>\n",
              "      <td>0</td>\n",
              "      <td>0</td>\n",
              "      <td>0</td>\n",
              "      <td>0</td>\n",
              "      <td>0</td>\n",
              "      <td>0</td>\n",
              "      <td>0</td>\n",
              "      <td>0</td>\n",
              "      <td>0</td>\n",
              "      <td>0</td>\n",
              "      <td>0</td>\n",
              "      <td>1</td>\n",
              "      <td>0</td>\n",
              "      <td>0</td>\n",
              "      <td>0</td>\n",
              "      <td>0</td>\n",
              "      <td>1</td>\n",
              "      <td>0</td>\n",
              "    </tr>\n",
              "    <tr>\n",
              "      <th>4</th>\n",
              "      <td>6920912342002_camera1-30.jpg</td>\n",
              "      <td>0</td>\n",
              "      <td>0</td>\n",
              "      <td>0</td>\n",
              "      <td>0</td>\n",
              "      <td>0</td>\n",
              "      <td>0</td>\n",
              "      <td>0</td>\n",
              "      <td>0</td>\n",
              "      <td>0</td>\n",
              "      <td>1</td>\n",
              "      <td>0</td>\n",
              "      <td>0</td>\n",
              "      <td>0</td>\n",
              "      <td>0</td>\n",
              "      <td>0</td>\n",
              "      <td>0</td>\n",
              "      <td>0</td>\n",
              "      <td>0</td>\n",
              "      <td>0</td>\n",
              "      <td>0</td>\n",
              "      <td>0</td>\n",
              "      <td>0</td>\n",
              "      <td>0</td>\n",
              "      <td>0</td>\n",
              "      <td>0</td>\n",
              "      <td>0</td>\n",
              "      <td>0</td>\n",
              "      <td>0</td>\n",
              "      <td>1</td>\n",
              "      <td>0</td>\n",
              "      <td>0</td>\n",
              "      <td>0</td>\n",
              "      <td>0</td>\n",
              "      <td>1</td>\n",
              "      <td>0</td>\n",
              "    </tr>\n",
              "  </tbody>\n",
              "</table>\n",
              "</div>"
            ],
            "text/plain": [
              "                           filename  Label1_Beans  ...  Defected  Perfect\n",
              "0  6902007030087-back_camera1-1.jpg             0  ...         1        0\n",
              "1       6902007030087_camera1-1.jpg             0  ...         1        0\n",
              "2      6924743913738_camera0-40.jpg             0  ...         1        0\n",
              "3       6901845043112_camera2-6.jpg             0  ...         1        0\n",
              "4      6920912342002_camera1-30.jpg             0  ...         1        0\n",
              "\n",
              "[5 rows x 36 columns]"
            ]
          },
          "metadata": {
            "tags": []
          },
          "execution_count": 6
        }
      ]
    },
    {
      "cell_type": "code",
      "metadata": {
        "id": "m5waTr92xF2T"
      },
      "source": [
        "df = df.set_index(\"filename\", drop = True)"
      ],
      "execution_count": 7,
      "outputs": []
    },
    {
      "cell_type": "code",
      "metadata": {
        "colab": {
          "base_uri": "https://localhost:8080/",
          "height": 340
        },
        "id": "9ks2N2OQxFzz",
        "outputId": "c3cf94fe-c26f-46c5-9234-94e66cb85774"
      },
      "source": [
        "df.head()"
      ],
      "execution_count": 8,
      "outputs": [
        {
          "output_type": "execute_result",
          "data": {
            "text/html": [
              "<div>\n",
              "<style scoped>\n",
              "    .dataframe tbody tr th:only-of-type {\n",
              "        vertical-align: middle;\n",
              "    }\n",
              "\n",
              "    .dataframe tbody tr th {\n",
              "        vertical-align: top;\n",
              "    }\n",
              "\n",
              "    .dataframe thead th {\n",
              "        text-align: right;\n",
              "    }\n",
              "</style>\n",
              "<table border=\"1\" class=\"dataframe\">\n",
              "  <thead>\n",
              "    <tr style=\"text-align: right;\">\n",
              "      <th></th>\n",
              "      <th>Label1_Beans</th>\n",
              "      <th>Label1_Beverage</th>\n",
              "      <th>Label1_Biscuits</th>\n",
              "      <th>Label1_Bread</th>\n",
              "      <th>Label1_CAKE</th>\n",
              "      <th>Label1_Candy</th>\n",
              "      <th>Label1_Cans</th>\n",
              "      <th>Label1_Cereal</th>\n",
              "      <th>Label1_Chips</th>\n",
              "      <th>Label1_ChipsPack</th>\n",
              "      <th>Label1_Chocolate</th>\n",
              "      <th>Label2_BeansDefected</th>\n",
              "      <th>Label2_BeansPerfect</th>\n",
              "      <th>Label2_BeverageDefected</th>\n",
              "      <th>Label2_BeveragePerfect</th>\n",
              "      <th>Label2_BiscuitDefected</th>\n",
              "      <th>Label2_BiscuitPefect</th>\n",
              "      <th>Label2_BreadDefected</th>\n",
              "      <th>Label2_BreadPerfect</th>\n",
              "      <th>Label2_CakeDefected</th>\n",
              "      <th>Label2_CakePerfect</th>\n",
              "      <th>Label2_CandyDefected</th>\n",
              "      <th>Label2_CandyPerfect</th>\n",
              "      <th>Label2_CansDefected</th>\n",
              "      <th>Label2_CansPerfect</th>\n",
              "      <th>Label2_CerealDefected</th>\n",
              "      <th>Label2_CerealPerfect</th>\n",
              "      <th>Label2_ChipsDefected</th>\n",
              "      <th>Label2_ChipsPackDefected</th>\n",
              "      <th>Label2_ChipsPackPerfect</th>\n",
              "      <th>Label2_ChipsPerfect</th>\n",
              "      <th>Label2_ChocolateDefected</th>\n",
              "      <th>Label2_ChocolatePerfect</th>\n",
              "      <th>Defected</th>\n",
              "      <th>Perfect</th>\n",
              "    </tr>\n",
              "    <tr>\n",
              "      <th>filename</th>\n",
              "      <th></th>\n",
              "      <th></th>\n",
              "      <th></th>\n",
              "      <th></th>\n",
              "      <th></th>\n",
              "      <th></th>\n",
              "      <th></th>\n",
              "      <th></th>\n",
              "      <th></th>\n",
              "      <th></th>\n",
              "      <th></th>\n",
              "      <th></th>\n",
              "      <th></th>\n",
              "      <th></th>\n",
              "      <th></th>\n",
              "      <th></th>\n",
              "      <th></th>\n",
              "      <th></th>\n",
              "      <th></th>\n",
              "      <th></th>\n",
              "      <th></th>\n",
              "      <th></th>\n",
              "      <th></th>\n",
              "      <th></th>\n",
              "      <th></th>\n",
              "      <th></th>\n",
              "      <th></th>\n",
              "      <th></th>\n",
              "      <th></th>\n",
              "      <th></th>\n",
              "      <th></th>\n",
              "      <th></th>\n",
              "      <th></th>\n",
              "      <th></th>\n",
              "      <th></th>\n",
              "    </tr>\n",
              "  </thead>\n",
              "  <tbody>\n",
              "    <tr>\n",
              "      <th>6902007030087-back_camera1-1.jpg</th>\n",
              "      <td>0</td>\n",
              "      <td>0</td>\n",
              "      <td>0</td>\n",
              "      <td>0</td>\n",
              "      <td>0</td>\n",
              "      <td>0</td>\n",
              "      <td>0</td>\n",
              "      <td>0</td>\n",
              "      <td>0</td>\n",
              "      <td>1</td>\n",
              "      <td>0</td>\n",
              "      <td>0</td>\n",
              "      <td>0</td>\n",
              "      <td>0</td>\n",
              "      <td>0</td>\n",
              "      <td>0</td>\n",
              "      <td>0</td>\n",
              "      <td>0</td>\n",
              "      <td>0</td>\n",
              "      <td>0</td>\n",
              "      <td>0</td>\n",
              "      <td>0</td>\n",
              "      <td>0</td>\n",
              "      <td>0</td>\n",
              "      <td>0</td>\n",
              "      <td>0</td>\n",
              "      <td>0</td>\n",
              "      <td>0</td>\n",
              "      <td>1</td>\n",
              "      <td>0</td>\n",
              "      <td>0</td>\n",
              "      <td>0</td>\n",
              "      <td>0</td>\n",
              "      <td>1</td>\n",
              "      <td>0</td>\n",
              "    </tr>\n",
              "    <tr>\n",
              "      <th>6902007030087_camera1-1.jpg</th>\n",
              "      <td>0</td>\n",
              "      <td>0</td>\n",
              "      <td>0</td>\n",
              "      <td>0</td>\n",
              "      <td>0</td>\n",
              "      <td>0</td>\n",
              "      <td>0</td>\n",
              "      <td>0</td>\n",
              "      <td>0</td>\n",
              "      <td>1</td>\n",
              "      <td>0</td>\n",
              "      <td>0</td>\n",
              "      <td>0</td>\n",
              "      <td>0</td>\n",
              "      <td>0</td>\n",
              "      <td>0</td>\n",
              "      <td>0</td>\n",
              "      <td>0</td>\n",
              "      <td>0</td>\n",
              "      <td>0</td>\n",
              "      <td>0</td>\n",
              "      <td>0</td>\n",
              "      <td>0</td>\n",
              "      <td>0</td>\n",
              "      <td>0</td>\n",
              "      <td>0</td>\n",
              "      <td>0</td>\n",
              "      <td>0</td>\n",
              "      <td>1</td>\n",
              "      <td>0</td>\n",
              "      <td>0</td>\n",
              "      <td>0</td>\n",
              "      <td>0</td>\n",
              "      <td>1</td>\n",
              "      <td>0</td>\n",
              "    </tr>\n",
              "    <tr>\n",
              "      <th>6924743913738_camera0-40.jpg</th>\n",
              "      <td>0</td>\n",
              "      <td>0</td>\n",
              "      <td>0</td>\n",
              "      <td>0</td>\n",
              "      <td>0</td>\n",
              "      <td>0</td>\n",
              "      <td>0</td>\n",
              "      <td>0</td>\n",
              "      <td>0</td>\n",
              "      <td>1</td>\n",
              "      <td>0</td>\n",
              "      <td>0</td>\n",
              "      <td>0</td>\n",
              "      <td>0</td>\n",
              "      <td>0</td>\n",
              "      <td>0</td>\n",
              "      <td>0</td>\n",
              "      <td>0</td>\n",
              "      <td>0</td>\n",
              "      <td>0</td>\n",
              "      <td>0</td>\n",
              "      <td>0</td>\n",
              "      <td>0</td>\n",
              "      <td>0</td>\n",
              "      <td>0</td>\n",
              "      <td>0</td>\n",
              "      <td>0</td>\n",
              "      <td>0</td>\n",
              "      <td>1</td>\n",
              "      <td>0</td>\n",
              "      <td>0</td>\n",
              "      <td>0</td>\n",
              "      <td>0</td>\n",
              "      <td>1</td>\n",
              "      <td>0</td>\n",
              "    </tr>\n",
              "    <tr>\n",
              "      <th>6901845043112_camera2-6.jpg</th>\n",
              "      <td>0</td>\n",
              "      <td>0</td>\n",
              "      <td>0</td>\n",
              "      <td>0</td>\n",
              "      <td>0</td>\n",
              "      <td>0</td>\n",
              "      <td>0</td>\n",
              "      <td>0</td>\n",
              "      <td>0</td>\n",
              "      <td>1</td>\n",
              "      <td>0</td>\n",
              "      <td>0</td>\n",
              "      <td>0</td>\n",
              "      <td>0</td>\n",
              "      <td>0</td>\n",
              "      <td>0</td>\n",
              "      <td>0</td>\n",
              "      <td>0</td>\n",
              "      <td>0</td>\n",
              "      <td>0</td>\n",
              "      <td>0</td>\n",
              "      <td>0</td>\n",
              "      <td>0</td>\n",
              "      <td>0</td>\n",
              "      <td>0</td>\n",
              "      <td>0</td>\n",
              "      <td>0</td>\n",
              "      <td>0</td>\n",
              "      <td>1</td>\n",
              "      <td>0</td>\n",
              "      <td>0</td>\n",
              "      <td>0</td>\n",
              "      <td>0</td>\n",
              "      <td>1</td>\n",
              "      <td>0</td>\n",
              "    </tr>\n",
              "    <tr>\n",
              "      <th>6920912342002_camera1-30.jpg</th>\n",
              "      <td>0</td>\n",
              "      <td>0</td>\n",
              "      <td>0</td>\n",
              "      <td>0</td>\n",
              "      <td>0</td>\n",
              "      <td>0</td>\n",
              "      <td>0</td>\n",
              "      <td>0</td>\n",
              "      <td>0</td>\n",
              "      <td>1</td>\n",
              "      <td>0</td>\n",
              "      <td>0</td>\n",
              "      <td>0</td>\n",
              "      <td>0</td>\n",
              "      <td>0</td>\n",
              "      <td>0</td>\n",
              "      <td>0</td>\n",
              "      <td>0</td>\n",
              "      <td>0</td>\n",
              "      <td>0</td>\n",
              "      <td>0</td>\n",
              "      <td>0</td>\n",
              "      <td>0</td>\n",
              "      <td>0</td>\n",
              "      <td>0</td>\n",
              "      <td>0</td>\n",
              "      <td>0</td>\n",
              "      <td>0</td>\n",
              "      <td>1</td>\n",
              "      <td>0</td>\n",
              "      <td>0</td>\n",
              "      <td>0</td>\n",
              "      <td>0</td>\n",
              "      <td>1</td>\n",
              "      <td>0</td>\n",
              "    </tr>\n",
              "  </tbody>\n",
              "</table>\n",
              "</div>"
            ],
            "text/plain": [
              "                                  Label1_Beans  ...  Perfect\n",
              "filename                                        ...         \n",
              "6902007030087-back_camera1-1.jpg             0  ...        0\n",
              "6902007030087_camera1-1.jpg                  0  ...        0\n",
              "6924743913738_camera0-40.jpg                 0  ...        0\n",
              "6901845043112_camera2-6.jpg                  0  ...        0\n",
              "6920912342002_camera1-30.jpg                 0  ...        0\n",
              "\n",
              "[5 rows x 35 columns]"
            ]
          },
          "metadata": {
            "tags": []
          },
          "execution_count": 8
        }
      ]
    },
    {
      "cell_type": "code",
      "metadata": {
        "colab": {
          "base_uri": "https://localhost:8080/"
        },
        "id": "WQSh095axFw8",
        "outputId": "d9c36d97-a11b-4bb5-96db-def0eaaab3d3"
      },
      "source": [
        "df.index"
      ],
      "execution_count": 9,
      "outputs": [
        {
          "output_type": "execute_result",
          "data": {
            "text/plain": [
              "Index(['6902007030087-back_camera1-1.jpg', '6902007030087_camera1-1.jpg',\n",
              "       '6924743913738_camera0-40.jpg', '6901845043112_camera2-6.jpg',\n",
              "       '6920912342002_camera1-30.jpg', '6901845043112-back_camera2-24.jpg',\n",
              "       '6924743913738_camera2-5.jpg', '6924743913721_camera2-30.jpg',\n",
              "       '6901845043112-back_camera2-16.jpg', '6920912342002_camera0-1.jpg',\n",
              "       ...\n",
              "       'CEREAL0249.jpg', 'CEREAL0023.jpg', 'CEREAL0225.jpg', 'CEREAL0257.jpg',\n",
              "       'CEREAL0274.jpg', 'CEREAL0010.jpg', 'CEREAL0098.jpg', 'CEREAL0224.jpg',\n",
              "       'CEREAL0013.jpg', 'CEREAL0254.jpg'],\n",
              "      dtype='object', name='filename', length=1794)"
            ]
          },
          "metadata": {
            "tags": []
          },
          "execution_count": 9
        }
      ]
    },
    {
      "cell_type": "code",
      "metadata": {
        "id": "1XFOlN0S9Gfy"
      },
      "source": [
        "from glob import glob"
      ],
      "execution_count": 10,
      "outputs": []
    },
    {
      "cell_type": "code",
      "metadata": {
        "id": "6sP7BgnUT8Pe"
      },
      "source": [
        "Image.open('Files/Beans/BeansDefected/6926892501033_camera1-8.jpg').convert(\"RGB\")"
      ],
      "execution_count": null,
      "outputs": []
    },
    {
      "cell_type": "code",
      "metadata": {
        "id": "keB42LukT8Ft"
      },
      "source": [
        "files = glob('Files/**/*.jpg', recursive=True)"
      ],
      "execution_count": 13,
      "outputs": []
    },
    {
      "cell_type": "code",
      "metadata": {
        "colab": {
          "base_uri": "https://localhost:8080/"
        },
        "id": "6u58sC7RT7w1",
        "outputId": "b4df4d4d-c155-4470-f22a-a6e9de8050e5"
      },
      "source": [
        "print(files)"
      ],
      "execution_count": 14,
      "outputs": [
        {
          "output_type": "stream",
          "text": [
            "['Files/ChipsPack/ChipsPackDefected/6926265301024_camera2-34.jpg', 'Files/ChipsPack/ChipsPackDefected/6920912342002_camera1-30.jpg', 'Files/ChipsPack/ChipsPackDefected/6924743913721_camera3-23.jpg', 'Files/ChipsPack/ChipsPackDefected/6924743913738_camera0-40.jpg', 'Files/ChipsPack/ChipsPackDefected/6920912342002_camera1-1.jpg', 'Files/ChipsPack/ChipsPackDefected/6901845043112_camera2-6.jpg', 'Files/ChipsPack/ChipsPackDefected/6924743913721_camera2-30.jpg', 'Files/ChipsPack/ChipsPackDefected/6926265301024_camera1-30.jpg', 'Files/ChipsPack/ChipsPackDefected/6901845043112_camera1-1.jpg', 'Files/ChipsPack/ChipsPackDefected/6924743913721_camera2-10.jpg', 'Files/ChipsPack/ChipsPackDefected/6901845043112-back_camera2-16.jpg', 'Files/ChipsPack/ChipsPackDefected/6901845043112-back_camera2-24.jpg', 'Files/ChipsPack/ChipsPackDefected/6924743913738_camera1-23.jpg', 'Files/ChipsPack/ChipsPackDefected/6902007030087_camera1-1.jpg', 'Files/ChipsPack/ChipsPackDefected/6902007030087-back_camera1-1.jpg', 'Files/ChipsPack/ChipsPackDefected/6924743913738_camera2-5.jpg', 'Files/ChipsPack/ChipsPackDefected/6920912342002_camera0-1.jpg', 'Files/ChipsPack/ChipsPackDefected/6926265301024_camera3-30.jpg', 'Files/ChipsPack/ChipsPackPerfect/6920912342002_camera1-20.jpg', 'Files/ChipsPack/ChipsPackPerfect/6926265301024_camera2-34.jpg', 'Files/ChipsPack/ChipsPackPerfect/6920912342002_camera1-30.jpg', 'Files/ChipsPack/ChipsPackPerfect/6920912342002_camera3-5.jpg', 'Files/ChipsPack/ChipsPackPerfect/6902007030087_camera3-18.jpg', 'Files/ChipsPack/ChipsPackPerfect/6924743913721_camera3-40.jpg', 'Files/ChipsPack/ChipsPackPerfect/6920912342002_camera3-40.jpg', 'Files/ChipsPack/ChipsPackPerfect/6901845043112_camera1-39.jpg', 'Files/ChipsPack/ChipsPackPerfect/6924743913738_camera3-1.jpg', 'Files/ChipsPack/ChipsPackPerfect/6920912342002_camera2-34.jpg', 'Files/ChipsPack/ChipsPackPerfect/6901845043112_camera3-15.jpg', 'Files/ChipsPack/ChipsPackPerfect/6926265301024_camera0-27.jpg', 'Files/ChipsPack/ChipsPackPerfect/6901845043112_camera3-26.jpg', 'Files/ChipsPack/ChipsPackPerfect/6924743913738_camera2-40.jpg', 'Files/ChipsPack/ChipsPackPerfect/6924743913721_camera3-23.jpg', 'Files/ChipsPack/ChipsPackPerfect/6924743913738_camera0-40.jpg', 'Files/ChipsPack/ChipsPackPerfect/6902007030087_camera1-11.jpg', 'Files/ChipsPack/ChipsPackPerfect/6902007030087-back_camera2-11.jpg', 'Files/ChipsPack/ChipsPackPerfect/6920912342002_camera1-1.jpg', 'Files/ChipsPack/ChipsPackPerfect/6902007030087_camera0-32.jpg', 'Files/ChipsPack/ChipsPackPerfect/6902007030087-back_camera2-27.jpg', 'Files/ChipsPack/ChipsPackPerfect/6901845043112_camera2-6.jpg', 'Files/ChipsPack/ChipsPackPerfect/6901845043112_camera2-40.jpg', 'Files/ChipsPack/ChipsPackPerfect/6924743913721_camera1-10.jpg', 'Files/ChipsPack/ChipsPackPerfect/6920912342002_camera0-28.jpg', 'Files/ChipsPack/ChipsPackPerfect/6924743913721_camera2-30.jpg', 'Files/ChipsPack/ChipsPackPerfect/6926265301024_camera0-9.jpg', 'Files/ChipsPack/ChipsPackPerfect/6924743913738_camera2-38.jpg', 'Files/ChipsPack/ChipsPackPerfect/6926265301024_camera1-30.jpg', 'Files/ChipsPack/ChipsPackPerfect/6902007030087_camera2-34.jpg', 'Files/ChipsPack/ChipsPackPerfect/6902007030087_camera3-13.jpg', 'Files/ChipsPack/ChipsPackPerfect/6924743913738_camera3-40.jpg', 'Files/ChipsPack/ChipsPackPerfect/6901845043112_camera1-18.jpg', 'Files/ChipsPack/ChipsPackPerfect/6924743913721_camera2-1.jpg', 'Files/ChipsPack/ChipsPackPerfect/6901845043112_camera1-1.jpg', 'Files/ChipsPack/ChipsPackPerfect/6924743913721_camera2-10.jpg', 'Files/ChipsPack/ChipsPackPerfect/6901845043112-back_camera2-16.jpg', 'Files/ChipsPack/ChipsPackPerfect/6902007030087_camera3-40.jpg', 'Files/ChipsPack/ChipsPackPerfect/6901845043112_camera1-35.jpg', 'Files/ChipsPack/ChipsPackPerfect/6926265301024_camera3-19.jpg', 'Files/ChipsPack/ChipsPackPerfect/6924743913738_camera1-34.jpg', 'Files/ChipsPack/ChipsPackPerfect/6926265301024_camera3-1.jpg', 'Files/ChipsPack/ChipsPackPerfect/6920912342002_camera2-12.jpg', 'Files/ChipsPack/ChipsPackPerfect/6924743913738_camera1-1.jpg', 'Files/ChipsPack/ChipsPackPerfect/6924743913738_camera3-12.jpg', 'Files/ChipsPack/ChipsPackPerfect/6926265301024_camera2-40.jpg', 'Files/ChipsPack/ChipsPackPerfect/6901845043112_camera3-40.jpg', 'Files/ChipsPack/ChipsPackPerfect/6924743913738_camera0-22.jpg', 'Files/ChipsPack/ChipsPackPerfect/6902007030087_camera3-33.jpg', 'Files/ChipsPack/ChipsPackPerfect/6924743913738_camera1-12.jpg', 'Files/ChipsPack/ChipsPackPerfect/6901845043112-back_camera2-24.jpg', 'Files/ChipsPack/ChipsPackPerfect/6926265301024_camera0-18.jpg', 'Files/ChipsPack/ChipsPackPerfect/6924743913721_camera2-20.jpg', 'Files/ChipsPack/ChipsPackPerfect/6924743913738_camera2-16.jpg', 'Files/ChipsPack/ChipsPackPerfect/6924743913738_camera0-33.jpg', 'Files/ChipsPack/ChipsPackPerfect/6926265301024_camera3-10.jpg', 'Files/ChipsPack/ChipsPackPerfect/6924743913721_camera1-1.jpg', 'Files/ChipsPack/ChipsPackPerfect/6926265301024_camera1-11.jpg', 'Files/ChipsPack/ChipsPackPerfect/6902007030087_camera2-11.jpg', 'Files/ChipsPack/ChipsPackPerfect/6926265301024_camera1-21.jpg', 'Files/ChipsPack/ChipsPackPerfect/6920912342002_camera0-17.jpg', 'Files/ChipsPack/ChipsPackPerfect/6924743913738_camera1-23.jpg', 'Files/ChipsPack/ChipsPackPerfect/6920912342002_camera3-38.jpg', 'Files/ChipsPack/ChipsPackPerfect/6902007030087_camera1-1.jpg', 'Files/ChipsPack/ChipsPackPerfect/6902007030087_camera0-10.jpg', 'Files/ChipsPack/ChipsPackPerfect/6920912342002_camera2-23.jpg', 'Files/ChipsPack/ChipsPackPerfect/6920912342002_camera3-16.jpg', 'Files/ChipsPack/ChipsPackPerfect/6902007030087-back_camera1-1.jpg', 'Files/ChipsPack/ChipsPackPerfect/6920912342002_camera3-27.jpg', 'Files/ChipsPack/ChipsPackPerfect/6924743913738_camera3-23.jpg', 'Files/ChipsPack/ChipsPackPerfect/6924743913738_camera2-5.jpg', 'Files/ChipsPack/ChipsPackPerfect/6924743913738_camera2-27.jpg', 'Files/ChipsPack/ChipsPackPerfect/6926265301024_camera0-1.jpg', 'Files/ChipsPack/ChipsPackPerfect/6901845043112_camera1-9.jpg', 'Files/ChipsPack/ChipsPackPerfect/6924743913721_camera1-32.jpg', 'Files/ChipsPack/ChipsPackPerfect/6924743913721_camera1-21.jpg', 'Files/ChipsPack/ChipsPackPerfect/6926265301024_camera3-40.jpg', 'Files/ChipsPack/ChipsPackPerfect/6924743913721_camera3-30.jpg', 'Files/ChipsPack/ChipsPackPerfect/6926265301024_camera1-1.jpg', 'Files/ChipsPack/ChipsPackPerfect/6926265301024_camera2-12.jpg', 'Files/ChipsPack/ChipsPackPerfect/6920912342002_camera0-1.jpg', 'Files/ChipsPack/ChipsPackPerfect/6926265301024_camera3-30.jpg', 'Files/ChipsPack/ChipsPackPerfect/6920912342002_camera1-11.jpg', 'Files/ChipsPack/ChipsPackPerfect/6902007030087_camera0-20.jpg', 'Files/ChipsPack/ChipsPackPerfect/6924743913721_camera3-1.jpg', 'Files/ChipsPack/ChipsPackPerfect/6926265301024_camera1-40.jpg', 'Files/ChipsPack/ChipsPackPerfect/6924743913721_camera3-12.jpg', 'Files/ChipsPack/ChipsPackPerfect/6926265301024_camera0-40.jpg', 'Files/ChipsPack/ChipsPackPerfect/6920912342002_camera0-39.jpg', 'Files/ChipsPack/ChipsPackPerfect/6920912342002_camera2-1.jpg', 'Files/ChipsPack/ChipsPackPerfect/6924743913738_camera0-1.jpg', 'Files/ChipsPack/ChipsPackPerfect/6924743913738_camera0-11.jpg', 'Files/ChipsPack/ChipsPackPerfect/6901845043112-back_camera2-30.jpg', 'Files/ChipsPack/ChipsPackPerfect/6924743913721_camera2-40.jpg', 'Files/ChipsPack/ChipsPackPerfect/6926265301024_camera2-23.jpg', 'Files/ChipsPack/ChipsPackPerfect/6924743913738_camera3-34.jpg', 'Files/ChipsPack/ChipsPackPerfect/6926265301024_camera2-1.jpg', 'Files/Biscuits/BiscuitDefected/6922907011511-back_camera0-33.jpg', 'Files/Biscuits/BiscuitDefected/6922907011511-back_camera2-22.jpg', 'Files/Biscuits/BiscuitDefected/6922907011528_camera0-11.jpg', 'Files/Biscuits/BiscuitDefected/6922907011528-back_camera2-26.jpg', 'Files/Biscuits/BiscuitDefected/6922907011511_camera0-1.jpg', 'Files/Biscuits/BiscuitDefected/6922907011535-back_camera0-11.jpg', 'Files/Biscuits/BiscuitDefected/6922907011528-back_camera1-23.jpg', 'Files/Biscuits/BiscuitDefected/6922907011535_camera3-40.jpg', 'Files/Biscuits/BiscuitDefected/6922907011535-back_camera1-33.jpg', 'Files/Biscuits/BiscuitDefected/6922907011535_camera3-5.jpg', 'Files/Biscuits/BiscuitDefected/6922907011535-back_camera3-5.jpg', 'Files/Biscuits/BiscuitDefected/6922907011511-back_camera0-22.jpg', 'Files/Biscuits/BiscuitDefected/6922907011528-back_camera3-40.jpg', 'Files/Biscuits/BiscuitDefected/6922907011528-back_camera1-12.jpg', 'Files/Biscuits/BiscuitDefected/6922907011535-back_camera2-34.jpg', 'Files/Biscuits/BiscuitDefected/6922907011535_camera2-12.jpg', 'Files/Biscuits/BiscuitDefected/6922907011511-back_camera1-1.jpg', 'Files/Biscuits/BiscuitDefected/6922907011528_camera3-23.jpg', 'Files/Biscuits/BiscuitDefected/6922907011528_camera1-33.jpg', 'Files/Biscuits/BiscuitDefected/6922907011511_camera1-39.jpg', 'Files/Biscuits/BiscuitDefected/6922907011511_camera1-1.jpg', 'Files/Biscuits/BiscuitDefected/6922907011535-back_camera3-37.jpg', 'Files/Biscuits/BiscuitDefected/6922907011535_camera1-34.jpg', 'Files/Biscuits/BiscuitPefect/6922907011528-back_camera3-1.jpg', 'Files/Biscuits/BiscuitPefect/6922907011511-back_camera0-33.jpg', 'Files/Biscuits/BiscuitPefect/6922907011511-back_camera2-22.jpg', 'Files/Biscuits/BiscuitPefect/6922907011511-back_camera0-40.jpg', 'Files/Biscuits/BiscuitPefect/6922907011528_camera0-28.jpg', 'Files/Biscuits/BiscuitPefect/6922907011535_camera0-17.jpg', 'Files/Biscuits/BiscuitPefect/6922907011535-back_camera2-12.jpg', 'Files/Biscuits/BiscuitPefect/6922907011528-back_camera3-12.jpg', 'Files/Biscuits/BiscuitPefect/6922907011528-back_camera1-33.jpg', 'Files/Biscuits/BiscuitPefect/6922907011535-back_camera0-39.jpg', 'Files/Biscuits/BiscuitPefect/6922907011535-back_camera3-36.jpg', 'Files/Biscuits/BiscuitPefect/6922907011535-back_camera0-40.jpg', 'Files/Biscuits/BiscuitPefect/6922907011511-back_camera2-1.jpg', 'Files/Biscuits/BiscuitPefect/6922907011528_camera2-40.jpg', 'Files/Biscuits/BiscuitPefect/6922907011528-back_camera0-1.jpg', 'Files/Biscuits/BiscuitPefect/6922907011511-back_camera0-11.jpg', 'Files/Biscuits/BiscuitPefect/6922907011511_camera3-12.jpg', 'Files/Biscuits/BiscuitPefect/6922907011535-back_camera3-35.jpg', 'Files/Biscuits/BiscuitPefect/6922907011528_camera1-22.jpg', 'Files/Biscuits/BiscuitPefect/6922907011528-back_camera0-18.jpg', 'Files/Biscuits/BiscuitPefect/6922907011535-back_camera2-1.jpg', 'Files/Biscuits/BiscuitPefect/6922907011535-back_camera3-34.jpg', 'Files/Biscuits/BiscuitPefect/6922907011528_camera2-26.jpg', 'Files/Biscuits/BiscuitPefect/6922907011528_camera0-40.jpg', 'Files/Biscuits/BiscuitPefect/6922907011528_camera3-39.jpg', 'Files/Biscuits/BiscuitPefect/6922907011528_camera0-11.jpg', 'Files/Biscuits/BiscuitPefect/6922907011535-back_camera3-39.jpg', 'Files/Biscuits/BiscuitPefect/6922907011511_camera3-1.jpg', 'Files/Biscuits/BiscuitPefect/6922907011528-back_camera1-1.jpg', 'Files/Biscuits/BiscuitPefect/6922907011511_camera2-21.jpg', 'Files/Biscuits/BiscuitPefect/6922907011535_camera0-1.jpg', 'Files/Biscuits/BiscuitPefect/6922907011535_camera0-28.jpg', 'Files/Biscuits/BiscuitPefect/6922907011528-back_camera3-23.jpg', 'Files/Biscuits/BiscuitPefect/6922907011511-back_camera1-6.jpg', 'Files/Biscuits/BiscuitPefect/6922907011511_camera0-11.jpg', 'Files/Biscuits/BiscuitPefect/6922907011528-back_camera2-26.jpg', 'Files/Biscuits/BiscuitPefect/6922907011535_camera1-1.jpg', 'Files/Biscuits/BiscuitPefect/6922907011511-back_camera2-33.jpg', 'Files/Biscuits/BiscuitPefect/6922907011528_camera3-1.jpg', 'Files/Biscuits/BiscuitPefect/6922907011528_camera0-17.jpg', 'Files/Biscuits/BiscuitPefect/6922907011511-back_camera2-11.jpg', 'Files/Biscuits/BiscuitPefect/6922907011528-back_camera2-40.jpg', 'Files/Biscuits/BiscuitPefect/6922907011511_camera0-1.jpg', 'Files/Biscuits/BiscuitPefect/6922907011535-back_camera0-11.jpg', 'Files/Biscuits/BiscuitPefect/6922907011528-back_camera0-40.jpg', 'Files/Biscuits/BiscuitPefect/6922907011535_camera2-34.jpg', 'Files/Biscuits/BiscuitPefect/6922907011511_camera0-20.jpg', 'Files/Biscuits/BiscuitPefect/6922907011528-back_camera1-23.jpg', 'Files/Biscuits/BiscuitPefect/6922907011535_camera1-23.jpg', 'Files/Biscuits/BiscuitPefect/6922907011535_camera3-40.jpg', 'Files/Biscuits/BiscuitPefect/6922907011535_camera3-16.jpg', 'Files/Biscuits/BiscuitPefect/6922907011535-back_camera1-11.jpg', 'Files/Biscuits/BiscuitPefect/6922907011511_camera0-31.jpg', 'Files/Biscuits/BiscuitPefect/6922907011535-back_camera1-33.jpg', 'Files/Biscuits/BiscuitPefect/6922907011535_camera3-5.jpg', 'Files/Biscuits/BiscuitPefect/6922907011511-back_camera1-33.jpg', 'Files/Biscuits/BiscuitPefect/6922907011528-back_camera2-15.jpg', 'Files/Biscuits/BiscuitPefect/6922907011535-back_camera3-5.jpg', 'Files/Biscuits/BiscuitPefect/6922907011535-back_camera3-16.jpg', 'Files/Biscuits/BiscuitPefect/6922907011528_camera0-1.jpg', 'Files/Biscuits/BiscuitPefect/6922907011535_camera1-40.jpg', 'Files/Biscuits/BiscuitPefect/6922907011528-back_camera2-4.jpg', 'Files/Biscuits/BiscuitPefect/6922907011511-back_camera3-12.jpg', 'Files/Biscuits/BiscuitPefect/6922907011511_camera3-34.jpg', 'Files/Biscuits/BiscuitPefect/6922907011511-back_camera0-22.jpg', 'Files/Biscuits/BiscuitPefect/6922907011528-back_camera3-40.jpg', 'Files/Biscuits/BiscuitPefect/6922907011528_camera1-1.jpg', 'Files/Biscuits/BiscuitPefect/6922907011528-back_camera1-12.jpg', 'Files/Biscuits/BiscuitPefect/6922907011528_camera0-39.jpg', 'Files/Biscuits/BiscuitPefect/6922907011511_camera1-19.jpg', 'Files/Biscuits/BiscuitPefect/6922907011511_camera3-23.jpg', 'Files/Biscuits/BiscuitPefect/6922907011528-back_camera0-11.jpg', 'Files/Biscuits/BiscuitPefect/6922907011528-back_camera3-34.jpg', 'Files/Biscuits/BiscuitPefect/6922907011535-back_camera2-34.jpg', 'Files/Biscuits/BiscuitPefect/6922907011535-back_camera1-22.jpg', 'Files/Biscuits/BiscuitPefect/6922907011511_camera2-10.jpg', 'Files/Biscuits/BiscuitPefect/6922907011535_camera2-12.jpg', 'Files/Biscuits/BiscuitPefect/6922907011528_camera2-4.jpg', 'Files/Biscuits/BiscuitPefect/6922907011511-back_camera1-1.jpg', 'Files/Biscuits/BiscuitPefect/6922907011535-back_camera0-17.jpg', 'Files/Biscuits/BiscuitPefect/6922907011535_camera2-23.jpg', 'Files/Biscuits/BiscuitPefect/6922907011528_camera3-23.jpg', 'Files/Biscuits/BiscuitPefect/6922907011528_camera2-15.jpg', 'Files/Biscuits/BiscuitPefect/6922907011511_camera1-28.jpg', 'Files/Biscuits/BiscuitPefect/6922907011528_camera3-12.jpg', 'Files/Biscuits/BiscuitPefect/6922907011511_camera0-40.jpg', 'Files/Biscuits/BiscuitPefect/6922907011528_camera1-33.jpg', 'Files/Biscuits/BiscuitPefect/6922907011511_camera1-9.jpg', 'Files/Biscuits/BiscuitPefect/6922907011511_camera2-40.jpg', 'Files/Biscuits/BiscuitPefect/6922907011528_camera1-12.jpg', 'Files/Biscuits/BiscuitPefect/6922907011511_camera1-39.jpg', 'Files/Biscuits/BiscuitPefect/6922907011528-back_camera0-29.jpg', 'Files/Biscuits/BiscuitPefect/6922907011511_camera1-1.jpg', 'Files/Biscuits/BiscuitPefect/6922907011535-back_camera3-38.jpg', 'Files/Biscuits/BiscuitPefect/6922907011535-back_camera0-28.jpg', 'Files/Biscuits/BiscuitPefect/6922907011535-back_camera1-40.jpg', 'Files/Biscuits/BiscuitPefect/6922907011511-back_camera1-17.jpg', 'Files/Biscuits/BiscuitPefect/6922907011535_camera2-1.jpg', 'Files/Biscuits/BiscuitPefect/6922907011511-back_camera3-23.jpg', 'Files/Biscuits/BiscuitPefect/6922907011511-back_camera2-40.jpg', 'Files/Biscuits/BiscuitPefect/6922907011535_camera0-39.jpg', 'Files/Biscuits/BiscuitPefect/6922907011535-back_camera3-17.jpg', 'Files/Biscuits/BiscuitPefect/6922907011535-back_camera3-40.jpg', 'Files/Biscuits/BiscuitPefect/6922907011535_camera0-40.jpg', 'Files/Biscuits/BiscuitPefect/6922907011511_camera3-40.jpg', 'Files/Biscuits/BiscuitPefect/6922907011535-back_camera0-1.jpg', 'Files/Biscuits/BiscuitPefect/6922907011535-back_camera3-37.jpg', 'Files/Biscuits/BiscuitPefect/6922907011535_camera1-34.jpg', 'Files/Biscuits/BiscuitPefect/6922907011511-back_camera0-1.jpg', 'Files/Biscuits/BiscuitPefect/6922907011511-back_camera1-40.jpg', 'Files/Biscuits/BiscuitPefect/6922907011535_camera1-12.jpg', 'Files/Biscuits/BiscuitPefect/6922907011511-back_camera1-22.jpg', 'Files/Biscuits/BiscuitPefect/6922907011535-back_camera1-1.jpg', 'Files/Biscuits/BiscuitPefect/6922907011511-back_camera3-40.jpg', 'Files/Biscuits/BiscuitPefect/6922907011511_camera2-32.jpg', 'Files/Biscuits/BiscuitPefect/6922907011511-back_camera3-1.jpg', 'Files/Biscuits/BiscuitPefect/6922907011535-back_camera2-23.jpg', 'Files/Biscuits/BiscuitPefect/6922907011528_camera3-40.jpg', 'Files/Beans/BeansPerfect/6926892567084_camera2-19.jpg', 'Files/Beans/BeansPerfect/6926892562096_camera0-31.jpg', 'Files/Beans/BeansPerfect/6926892562096_camera0-40.jpg', 'Files/Beans/BeansPerfect/6926892565080_camera1-25.jpg', 'Files/Beans/BeansPerfect/6926892501033_camera0-29.jpg', 'Files/Beans/BeansPerfect/6926892562003_camera0-21.jpg', 'Files/Beans/BeansPerfect/6926892562096_camera2-1.jpg', 'Files/Beans/BeansPerfect/6926892567084_camera1-28.jpg', 'Files/Beans/BeansPerfect/6926892562003_camera3-19.jpg', 'Files/Beans/BeansPerfect/6926892562096_camera1-9.jpg', 'Files/Beans/BeansPerfect/6926892562003_camera3-10.jpg', 'Files/Beans/BeansPerfect/6926892501033_camera3-18.jpg', 'Files/Beans/BeansPerfect/6926892567084_camera3-40.jpg', 'Files/Beans/BeansPerfect/6926892567084_camera2-11.jpg', 'Files/Beans/BeansPerfect/6926892565080_camera3-1.jpg', 'Files/Beans/BeansPerfect/6926892562003_camera1-29.jpg', 'Files/Beans/BeansPerfect/6926892501033_camera0-1.jpg', 'Files/Beans/BeansPerfect/6926892565080_camera3-22.jpg', 'Files/Beans/BeansPerfect/6926892562003_camera1-40.jpg', 'Files/Beans/BeansPerfect/6926892501033_camera1-40.jpg', 'Files/Beans/BeansPerfect/6926892565080_camera1-1.jpg', 'Files/Beans/BeansPerfect/6926892567084_camera0-5.jpg', 'Files/Beans/BeansPerfect/6926892565080_camera0-20.jpg', 'Files/Beans/BeansPerfect/6926892562096_camera1-39.jpg', 'Files/Beans/BeansPerfect/6926892567084_camera3-18.jpg', 'Files/Beans/BeansPerfect/6926892567084_camera0-37.jpg', 'Files/Beans/BeansPerfect/6926892565080_camera2-34.jpg', 'Files/Beans/BeansPerfect/6926892562003_camera2-20.jpg', 'Files/Beans/BeansPerfect/6926892501033_camera2-1.jpg', 'Files/Beans/BeansPerfect/6926892565080_camera2-23.jpg', 'Files/Beans/BeansPerfect/6926892567084_camera2-40.jpg', 'Files/Beans/BeansPerfect/6926892562003_camera1-20.jpg', 'Files/Beans/BeansPerfect/6926892565080_camera0-26.jpg', 'Files/Beans/BeansPerfect/6926892562003_camera3-28.jpg', 'Files/Beans/BeansPerfect/6926892565080_camera3-33.jpg', 'Files/Beans/BeansPerfect/6926892562096_camera3-40.jpg', 'Files/Beans/BeansPerfect/6926892567084_camera0-15.jpg', 'Files/Beans/BeansPerfect/6926892562003_camera1-1.jpg', 'Files/Beans/BeansPerfect/6926892567084_camera3-1.jpg', 'Files/Beans/BeansPerfect/6926892501033_camera1-34.jpg', 'Files/Beans/BeansPerfect/6926892567084_camera0-1.jpg', 'Files/Beans/BeansPerfect/6926892567084_camera1-40.jpg', 'Files/Beans/BeansPerfect/6926892565080_camera0-1.jpg', 'Files/Beans/BeansPerfect/6926892501033_camera3-1.jpg', 'Files/Beans/BeansPerfect/6926892501033_camera1-25.jpg', 'Files/Beans/BeansPerfect/6926892562096_camera3-11.jpg', 'Files/Beans/BeansPerfect/6926892567084_camera1-36.jpg', 'Files/Beans/BeansPerfect/6926892562003_camera3-40.jpg', 'Files/Beans/BeansPerfect/6926892565080_camera0-8.jpg', 'Files/Beans/BeansPerfect/6926892562096_camera2-40.jpg', 'Files/Beans/BeansPerfect/6926892565080_camera0-33.jpg', 'Files/Beans/BeansPerfect/6926892567084_camera1-9.jpg', 'Files/Beans/BeansPerfect/6926892562003_camera1-9.jpg', 'Files/Beans/BeansPerfect/6926892567084_camera1-1.jpg', 'Files/Beans/BeansPerfect/6926892565080_camera3-12.jpg', 'Files/Beans/BeansPerfect/6926892501033_camera1-1.jpg', 'Files/Beans/BeansPerfect/6926892501033_camera3-7.jpg', 'Files/Beans/BeansPerfect/6926892562096_camera1-28.jpg', 'Files/Beans/BeansPerfect/6926892562096_camera3-31.jpg', 'Files/Beans/BeansPerfect/6926892565080_camera2-40.jpg', 'Files/Beans/BeansPerfect/6926892562003_camera0-31.jpg', 'Files/Beans/BeansPerfect/6926892567084_camera3-11.jpg', 'Files/Beans/BeansPerfect/6926892565080_camera1-8.jpg', 'Files/Beans/BeansPerfect/6926892565080_camera1-15.jpg', 'Files/Beans/BeansPerfect/6926892501033_camera3-40.jpg', 'Files/Beans/BeansPerfect/6926892501033_camera1-16.jpg', 'Files/Beans/BeansPerfect/6926892565080_camera3-40.jpg', 'Files/Beans/BeansPerfect/6926892567084_camera2-30.jpg', 'Files/Beans/BeansPerfect/6926892562096_camera1-1.jpg', 'Files/Beans/BeansPerfect/6926892501033_camera2-20.jpg', 'Files/Beans/BeansPerfect/6926892562003_camera0-1.jpg', 'Files/Beans/BeansPerfect/6926892562096_camera1-40.jpg', 'Files/Beans/BeansPerfect/6926892562003_camera0-4.jpg', 'Files/Beans/BeansPerfect/6926892562096_camera1-17.jpg', 'Files/Beans/BeansPerfect/6926892501033_camera3-27.jpg', 'Files/Beans/BeansPerfect/6926892567084_camera2-1.jpg', 'Files/Beans/BeansPerfect/6926892562096_camera0-1.jpg', 'Files/Beans/BeansPerfect/6926892501033_camera0-10.jpg', 'Files/Beans/BeansPerfect/6926892565080_camera0-14.jpg', 'Files/Beans/BeansPerfect/6926892567084_camera3-36.jpg', 'Files/Beans/BeansPerfect/6926892567084_camera1-19.jpg', 'Files/Beans/BeansPerfect/6926892562096_camera2-12.jpg', 'Files/Beans/BeansPerfect/6926892565080_camera1-36.jpg', 'Files/Beans/BeansPerfect/6926892567084_camera0-40.jpg', 'Files/Beans/BeansPerfect/6926892501033_camera2-11.jpg', 'Files/Beans/BeansPerfect/6926892562096_camera3-1.jpg', 'Files/Beans/BeansPerfect/6926892501033_camera0-20.jpg', 'Files/Beans/BeansPerfect/6926892562096_camera0-4.jpg', 'Files/Beans/BeansPerfect/6926892567084_camera0-22.jpg', 'Files/Beans/BeansPerfect/6926892562003_camera2-1.jpg', 'Files/Beans/BeansPerfect/6926892501033_camera0-2.jpg', 'Files/Beans/BeansPerfect/6926892562003_camera3-1.jpg', 'Files/Beans/BeansPerfect/6926892567084_camera0-29.jpg', 'Files/Beans/BeansPerfect/6926892562096_camera2-23.jpg', 'Files/Beans/BeansPerfect/6926892562003_camera2-29.jpg', 'Files/Beans/BeansPerfect/6926892501033_camera2-40.jpg', 'Files/Beans/BeansPerfect/6926892501033_camera1-8.jpg', 'Files/Beans/BeansPerfect/6926892565080_camera0-40.jpg', 'Files/Beans/BeansPerfect/6926892562096_camera0-21.jpg', 'Files/Beans/BeansPerfect/6926892562096_camera2-34.jpg', 'Files/Beans/BeansPerfect/6926892562096_camera0-11.jpg', 'Files/Beans/BeansPerfect/6926892562003_camera2-40.jpg', 'Files/Beans/BeansPerfect/6926892562003_camera0-11.jpg', 'Files/Beans/BeansPerfect/6926892565080_camera2-1.jpg', 'Files/Beans/BeansPerfect/6926892562096_camera3-22.jpg', 'Files/Beans/BeansPerfect/6926892501033_camera0-40.jpg', 'Files/Beans/BeansPerfect/6926892562003_camera2-12.jpg', 'Files/Beans/BeansPerfect/6926892565080_camera2-12.jpg', 'Files/Beans/BeansPerfect/6926892562003_camera0-40.jpg', 'Files/Beans/BeansPerfect/6926892567084_camera3-25.jpg', 'Files/Beans/BeansDefected/6926892567084_camera3-40.jpg', 'Files/Beans/BeansDefected/6926892501033_camera2-1.jpg', 'Files/Beans/BeansDefected/6926892567084_camera2-40.jpg', 'Files/Beans/BeansDefected/6926892562003_camera1-1.jpg', 'Files/Beans/BeansDefected/6926892565080_camera0-1.jpg', 'Files/Beans/BeansDefected/6926892501033_camera3-1.jpg', 'Files/Beans/BeansDefected/6926892565080_camera0-33.jpg', 'Files/Beans/BeansDefected/6926892567084_camera1-1.jpg', 'Files/Beans/BeansDefected/6926892562003_camera0-31.jpg', 'Files/Beans/BeansDefected/6926892562096_camera1-1.jpg', 'Files/Beans/BeansDefected/6926892562003_camera0-1.jpg', 'Files/Beans/BeansDefected/6926892562096_camera1-40.jpg', 'Files/Beans/BeansDefected/6926892562096_camera0-1.jpg', 'Files/Beans/BeansDefected/6926892562096_camera2-12.jpg', 'Files/Beans/BeansDefected/6926892565080_camera1-36.jpg', 'Files/Beans/BeansDefected/6926892562096_camera3-1.jpg', 'Files/Beans/BeansDefected/6926892562003_camera2-1.jpg', 'Files/Beans/BeansDefected/6926892562003_camera3-1.jpg', 'Files/Beans/BeansDefected/6926892501033_camera1-8.jpg', 'Files/Beans/BeansDefected/6926892562096_camera0-11.jpg', 'Files/Candy/CandyPerfect/6923450603550_camera1-2.jpg', 'Files/Candy/CandyPerfect/6923450603550_camera2-38.jpg', 'Files/Candy/CandyPerfect/6923450603550_camera1-33.jpg', 'Files/Candy/CandyPerfect/6923450605981-back_camera1-1.jpg', 'Files/Candy/CandyPerfect/6923450605981-back_camera3-2.jpg', 'Files/Candy/CandyPerfect/6923450603550_camera3-24.jpg', 'Files/Candy/CandyPerfect/6923450603550_camera0-16.jpg', 'Files/Candy/CandyPerfect/6923450605981-back_camera2-31.jpg', 'Files/Candy/CandyPerfect/6923450605981-back_camera2-29.jpg', 'Files/Candy/CandyPerfect/6923450603550_camera1-29.jpg', 'Files/Candy/CandyPerfect/6923450605981-back_camera0-23.jpg', 'Files/Candy/CandyPerfect/6923450605981-back_camera3-11.jpg', 'Files/Candy/CandyPerfect/6923450603550_camera1-28.jpg', 'Files/Candy/CandyPerfect/6923450603550_camera0-1.jpg', 'Files/Candy/CandyPerfect/6923450603550_camera3-33.jpg', 'Files/Candy/CandyPerfect/6923450605981-back_camera2-6.jpg', 'Files/Candy/CandyPerfect/6923450605981-back_camera2-8.jpg', 'Files/Candy/CandyPerfect/6923450605981-back_camera1-27.jpg', 'Files/Candy/CandyPerfect/6923450605981-back_camera2-40.jpg', 'Files/Candy/CandyPerfect/6923450605981-back_camera3-3.jpg', 'Files/Candy/CandyPerfect/6923450603550_camera2-23.jpg', 'Files/Candy/CandyPerfect/6923450605981-back_camera3-18.jpg', 'Files/Candy/CandyPerfect/6923450603550_camera2-34.jpg', 'Files/Candy/CandyPerfect/6923450605981-back_camera2-5.jpg', 'Files/Candy/CandyPerfect/6923450603550_camera0-38.jpg', 'Files/Candy/CandyPerfect/6923450603550_camera3-37.jpg', 'Files/Candy/CandyPerfect/6923450603550_camera0-36.jpg', 'Files/Candy/CandyPerfect/6923450605981-back_camera3-24.jpg', 'Files/Candy/CandyPerfect/6923450603550_camera2-13.jpg', 'Files/Candy/CandyPerfect/6923450605981-back_camera3-14.jpg', 'Files/Candy/CandyPerfect/6923450605981-back_camera3-26.jpg', 'Files/Candy/CandyPerfect/6923450605981-back_camera3-7.jpg', 'Files/Candy/CandyPerfect/6923450603550_camera3-2.jpg', 'Files/Candy/CandyPerfect/6923450603550_camera2-12.jpg', 'Files/Candy/CandyPerfect/6923450603550_camera3-14.jpg', 'Files/Candy/CandyPerfect/6923450605981-back_camera3-1.jpg', 'Files/Candy/CandyPerfect/6923450603550_camera3-15.jpg', 'Files/Candy/CandyPerfect/6923450603550_camera1-25.jpg', 'Files/Candy/CandyPerfect/6923450603550_camera3-22.jpg', 'Files/Candy/CandyPerfect/6923450605981-back_camera1-31.jpg', 'Files/Candy/CandyPerfect/6923450605981-back_camera1-25.jpg', 'Files/Candy/CandyPerfect/6923450605981-back_camera2-10.jpg', 'Files/Candy/CandyPerfect/6923450605981-back_camera3-8.jpg', 'Files/Candy/CandyPerfect/6923450605981-back_camera2-7.jpg', 'Files/Candy/CandyPerfect/6923450603550_camera0-40.jpg', 'Files/Candy/CandyPerfect/6923450605981-back_camera3-21.jpg', 'Files/Candy/CandyPerfect/6923450605981-back_camera3-25.jpg', 'Files/Candy/CandyPerfect/6923450605981-back_camera3-37.jpg', 'Files/Candy/CandyPerfect/6923450605981-back_camera3-40.jpg', 'Files/Candy/CandyPerfect/6923450605981-back_camera1-12.jpg', 'Files/Candy/CandyPerfect/6923450603550_camera3-27.jpg', 'Files/Candy/CandyPerfect/6923450605981-back_camera0-12.jpg', 'Files/Candy/CandyPerfect/6923450603550_camera1-26.jpg', 'Files/Candy/CandyPerfect/6923450603550_camera1-32.jpg', 'Files/Candy/CandyPerfect/6923450603550_camera2-11.jpg', 'Files/Candy/CandyPerfect/6923450603550_camera2-40.jpg', 'Files/Candy/CandyPerfect/6923450603550_camera3-39.jpg', 'Files/Candy/CandyPerfect/6923450603550_camera0-39.jpg', 'Files/Candy/CandyPerfect/6923450605981-back_camera2-27.jpg', 'Files/Candy/CandyPerfect/6923450603550_camera1-27.jpg', 'Files/Candy/CandyPerfect/6923450603550_camera1-38.jpg', 'Files/Candy/CandyPerfect/6923450603550_camera1-36.jpg', 'Files/Candy/CandyPerfect/6923450603550_camera1-39.jpg', 'Files/Candy/CandyPerfect/6923450603550_camera1-30.jpg', 'Files/Candy/CandyPerfect/6923450605981-back_camera0-40.jpg', 'Files/Candy/CandyPerfect/6923450605981-back_camera3-39.jpg', 'Files/Candy/CandyPerfect/6923450603550_camera1-24.jpg', 'Files/Candy/CandyPerfect/6923450605981-back_camera0-24.jpg', 'Files/Candy/CandyPerfect/6923450603550_camera3-38.jpg', 'Files/Candy/CandyPerfect/6923450603550_camera0-22.jpg', 'Files/Candy/CandyPerfect/6923450603550_camera2-37.jpg', 'Files/Candy/CandyPerfect/6923450603550_camera2-14.jpg', 'Files/Candy/CandyPerfect/6923450603550_camera1-12.jpg', 'Files/Candy/CandyPerfect/6923450603550_camera0-37.jpg', 'Files/Candy/CandyPerfect/6923450605981-back_camera2-26.jpg', 'Files/Candy/CandyPerfect/6923450605981-back_camera2-11.jpg', 'Files/Candy/CandyPerfect/6923450605981-back_camera1-23.jpg', 'Files/Candy/CandyPerfect/6923450605981-back_camera2-30.jpg', 'Files/Candy/CandyPerfect/6923450605981-back_camera2-25.jpg', 'Files/Candy/CandyPerfect/6923450605981-back_camera2-28.jpg', 'Files/Candy/CandyPerfect/6923450603550_camera0-35.jpg', 'Files/Candy/CandyPerfect/6923450605981-back_camera2-32.jpg', 'Files/Candy/CandyPerfect/6923450605981-back_camera0-1.jpg', 'Files/Candy/CandyPerfect/6923450603550_camera3-29.jpg', 'Files/Candy/CandyPerfect/6923450603550_camera0-33.jpg', 'Files/Candy/CandyPerfect/6923450603550_camera3-17.jpg', 'Files/Candy/CandyPerfect/6923450605981-back_camera3-10.jpg', 'Files/Candy/CandyPerfect/6923450603550_camera3-1.jpg', 'Files/Candy/CandyPerfect/6923450605981-back_camera0-35.jpg', 'Files/Candy/CandyPerfect/6923450603550_camera0-20.jpg', 'Files/Candy/CandyPerfect/6923450603550_camera3-16.jpg', 'Files/Candy/CandyPerfect/6923450603550_camera3-34.jpg', 'Files/Candy/CandyPerfect/6923450605981-back_camera1-30.jpg', 'Files/Candy/CandyPerfect/6923450603550_camera3-26.jpg', 'Files/Candy/CandyPerfect/6923450603550_camera1-37.jpg', 'Files/Candy/CandyPerfect/6923450605981-back_camera3-20.jpg', 'Files/Candy/CandyPerfect/6923450605981-back_camera3-6.jpg', 'Files/Candy/CandyPerfect/6923450605981-back_camera1-24.jpg', 'Files/Candy/CandyPerfect/6923450603550_camera1-1.jpg', 'Files/Candy/CandyPerfect/6923450605981-back_camera2-12.jpg', 'Files/Candy/CandyPerfect/6923450603550_camera3-32.jpg', 'Files/Candy/CandyPerfect/6923450603550_camera1-13.jpg', 'Files/Candy/CandyPerfect/6923450603550_camera0-14.jpg', 'Files/Candy/CandyPerfect/6923450603550_camera0-17.jpg', 'Files/Candy/CandyPerfect/6923450605981-back_camera3-9.jpg', 'Files/Candy/CandyPerfect/6923450603550_camera0-15.jpg', 'Files/Candy/CandyPerfect/6923450605981-back_camera1-29.jpg', 'Files/Candy/CandyPerfect/6923450605981-back_camera3-23.jpg', 'Files/Candy/CandyPerfect/6923450605981-back_camera2-9.jpg', 'Files/Candy/CandyPerfect/6923450605981-back_camera3-15.jpg', 'Files/Candy/CandyPerfect/6923450603550_camera0-34.jpg', 'Files/Candy/CandyPerfect/6923450603550_camera0-13.jpg', 'Files/Candy/CandyPerfect/6923450603550_camera3-20.jpg', 'Files/Candy/CandyPerfect/6923450605981-back_camera3-4.jpg', 'Files/Candy/CandyPerfect/6923450603550_camera3-36.jpg', 'Files/Candy/CandyPerfect/6923450605981-back_camera3-17.jpg', 'Files/Candy/CandyPerfect/6923450603550_camera1-40.jpg', 'Files/Candy/CandyPerfect/6923450603550_camera3-18.jpg', 'Files/Candy/CandyPerfect/6923450603550_camera2-22.jpg', 'Files/Candy/CandyPerfect/6923450603550_camera3-35.jpg', 'Files/Candy/CandyPerfect/6923450605981-back_camera1-28.jpg', 'Files/Candy/CandyPerfect/6923450605981-back_camera3-5.jpg', 'Files/Candy/CandyPerfect/6923450605981-back_camera3-16.jpg', 'Files/Candy/CandyPerfect/6923450603550_camera2-21.jpg', 'Files/Candy/CandyPerfect/6923450603550_camera3-21.jpg', 'Files/Candy/CandyPerfect/6923450605981-back_camera1-26.jpg', 'Files/Candy/CandyPerfect/6923450603550_camera1-35.jpg', 'Files/Candy/CandyPerfect/6923450603550_camera2-1.jpg', 'Files/Candy/CandyPerfect/6923450603550_camera3-25.jpg', 'Files/Candy/CandyPerfect/6923450603550_camera2-36.jpg', 'Files/Candy/CandyPerfect/6923450603550_camera3-23.jpg', 'Files/Candy/CandyPerfect/6923450605981-back_camera3-38.jpg', 'Files/Candy/CandyPerfect/6923450605981-back_camera2-24.jpg', 'Files/Candy/CandyPerfect/6923450605981-back_camera2-4.jpg', 'Files/Candy/CandyPerfect/6923450603550_camera0-2.jpg', 'Files/Candy/CandyPerfect/6923450603550_camera0-21.jpg', 'Files/Candy/CandyPerfect/6923450603550_camera2-39.jpg', 'Files/Candy/CandyPerfect/6923450603550_camera3-19.jpg', 'Files/Candy/CandyPerfect/6923450605981-back_camera3-19.jpg', 'Files/Candy/CandyPerfect/6923450603550_camera0-19.jpg', 'Files/Candy/CandyPerfect/6923450605981-back_camera1-32.jpg', 'Files/Candy/CandyPerfect/6923450605981-back_camera3-12.jpg', 'Files/Candy/CandyPerfect/6923450605981-back_camera3-22.jpg', 'Files/Candy/CandyPerfect/6923450603550_camera3-31.jpg', 'Files/Candy/CandyPerfect/6923450603550_camera1-34.jpg', 'Files/Candy/CandyPerfect/6923450603550_camera1-23.jpg', 'Files/Candy/CandyPerfect/6923450605981-back_camera3-13.jpg', 'Files/Candy/CandyPerfect/6923450603550_camera2-35.jpg', 'Files/Candy/CandyPerfect/6923450603550_camera3-40.jpg', 'Files/Candy/CandyPerfect/6923450603550_camera3-30.jpg', 'Files/Candy/CandyPerfect/6923450603550_camera3-28.jpg', 'Files/Candy/CandyPerfect/6923450603550_camera1-31.jpg', 'Files/Candy/CandyPerfect/6923450605981-back_camera2-13.jpg', 'Files/Candy/CandyPerfect/6923450603550_camera0-18.jpg', 'Files/Candy/CandyPerfect/6923450605981-back_camera1-33.jpg', 'Files/Candy/CandyDefected/6923450603550_camera1-33.jpg', 'Files/Candy/CandyDefected/6923450605981-back_camera1-1.jpg', 'Files/Candy/CandyDefected/6923450605981-back_camera2-29.jpg', 'Files/Candy/CandyDefected/6923450603550_camera1-29.jpg', 'Files/Candy/CandyDefected/6923450603550_camera0-1.jpg', 'Files/Candy/CandyDefected/6923450605981-back_camera3-24.jpg', 'Files/Candy/CandyDefected/6923450603550_camera2-12.jpg', 'Files/Candy/CandyDefected/6923450603550_camera0-40.jpg', 'Files/Candy/CandyDefected/6923450605981-back_camera3-40.jpg', 'Files/Candy/CandyDefected/6923450603550_camera1-32.jpg', 'Files/Candy/CandyDefected/6923450603550_camera1-27.jpg', 'Files/Candy/CandyDefected/6923450603550_camera0-22.jpg', 'Files/Candy/CandyDefected/6923450605981-back_camera0-1.jpg', 'Files/Candy/CandyDefected/6923450603550_camera3-1.jpg', 'Files/Candy/CandyDefected/6923450603550_camera1-1.jpg', 'Files/Candy/CandyDefected/6923450605981-back_camera3-17.jpg', 'Files/Candy/CandyDefected/6923450603550_camera2-22.jpg', 'Files/Candy/CandyDefected/6923450605981-back_camera3-16.jpg', 'Files/Cans/CansDefected/6923523998019_camera0-30.jpg', 'Files/Cans/CansDefected/6923523998019_camera1-12.jpg', 'Files/Cans/CansDefected/038900004095_camera1-17.jpg', 'Files/Cans/CansDefected/6923523998019_camera3-40.jpg', 'Files/Cans/CansDefected/038900004095_camera0-32.jpg', 'Files/Cans/CansDefected/4800009004827_camera1-1.jpg', 'Files/Cans/CansDefected/6923523998019_camera2-40.jpg', 'Files/Cans/CansDefected/4800009004827_camera0-11.jpg', 'Files/Cans/CansPerfect/6923523998019_camera0-30.jpg', 'Files/Cans/CansPerfect/4800009004827_camera0-10.jpg', 'Files/Cans/CansPerfect/6923523998019_camera0-5.jpg', 'Files/Cans/CansPerfect/6923523998019_camera3-1.jpg', 'Files/Cans/CansPerfect/4800009004827_camera0-13.jpg', 'Files/Cans/CansPerfect/038900004095_camera3-1.jpg', 'Files/Cans/CansPerfect/6923523998019_camera0-17.jpg', 'Files/Cans/CansPerfect/6923523998019_camera3-12.jpg', 'Files/Cans/CansPerfect/6923523998019_camera1-1.jpg', 'Files/Cans/CansPerfect/4800009004827_camera0-17.jpg', 'Files/Cans/CansPerfect/6923523998019_camera1-12.jpg', 'Files/Cans/CansPerfect/6923523998019_camera0-1.jpg', 'Files/Cans/CansPerfect/6923523998019_camera1-23.jpg', 'Files/Cans/CansPerfect/6923523998019_camera0-40.jpg', 'Files/Cans/CansPerfect/4800009004827_camera0-14.jpg', 'Files/Cans/CansPerfect/038900004095_camera3-23.jpg', 'Files/Cans/CansPerfect/038900004095_camera1-17.jpg', 'Files/Cans/CansPerfect/4800009004827_camera0-25.jpg', 'Files/Cans/CansPerfect/6923523998019_camera3-40.jpg', 'Files/Cans/CansPerfect/4800009004827_camera1-16.jpg', 'Files/Cans/CansPerfect/6923523998019_camera3-23.jpg', 'Files/Cans/CansPerfect/6923523998019_camera1-40.jpg', 'Files/Cans/CansPerfect/6923523998019_camera2-1.jpg', 'Files/Cans/CansPerfect/038900004095_camera0-3.jpg', 'Files/Cans/CansPerfect/4800009004827_camera0-15.jpg', 'Files/Cans/CansPerfect/6923523998019_camera3-34.jpg', 'Files/Cans/CansPerfect/038900004095_camera0-32.jpg', 'Files/Cans/CansPerfect/4800009004827_camera0-2.jpg', 'Files/Cans/CansPerfect/6923523998019_camera1-33.jpg', 'Files/Cans/CansPerfect/4800009004827_camera1-1.jpg', 'Files/Cans/CansPerfect/038900004095_camera0-28.jpg', 'Files/Cans/CansPerfect/4800009004827_camera2-25.jpg', 'Files/Cans/CansPerfect/038900004095_camera2-5.jpg', 'Files/Cans/CansPerfect/6923523998019_camera2-40.jpg', 'Files/Cans/CansPerfect/4800009004827_camera0-1.jpg', 'Files/Cans/CansPerfect/038900004095_camera3-28.jpg', 'Files/Cans/CansPerfect/4800009004827_camera0-16.jpg', 'Files/Cans/CansPerfect/038900004095_camera1-1.jpg', 'Files/Cans/CansPerfect/4800009004827_camera0-12.jpg', 'Files/Cans/CansPerfect/4800009004827_camera0-11.jpg', 'Files/Cereal/CerealDefected/CEREAL0240.jpg', 'Files/Cereal/CerealDefected/CEREAL0159.jpg', 'Files/Cereal/CerealDefected/CEREAL0033.jpg', 'Files/Cereal/CerealDefected/CEREAL0113.jpg', 'Files/Cereal/CerealDefected/CEREAL0000.jpg', 'Files/Cereal/CerealDefected/CEREAL0197.jpg', 'Files/Cereal/CerealDefected/CEREAL0221.jpg', 'Files/Cereal/CerealDefected/CEREAL0034.jpg', 'Files/Cereal/CerealDefected/CEREAL0020.jpg', 'Files/Cereal/CerealDefected/CEREAL0215.jpg', 'Files/Cereal/CerealDefected/CEREAL0247.jpg', 'Files/Cereal/CerealDefected/CEREAL0153.jpg', 'Files/Cereal/CerealDefected/CEREAL0016.jpg', 'Files/Cereal/CerealDefected/CEREAL0226.jpg', 'Files/Cereal/CerealDefected/CEREAL0024.jpg', 'Files/Cereal/CerealDefected/CEREAL0069.jpg', 'Files/Cereal/CerealDefected/CEREAL0046.jpg', 'Files/Cereal/CerealDefected/CEREAL0198.jpg', 'Files/Cereal/CerealDefected/CEREAL0085.jpg', 'Files/Cereal/CerealDefected/CEREAL0089.jpg', 'Files/Cereal/CerealDefected/CEREAL0014.jpg', 'Files/Cereal/CerealDefected/CEREAL0235.jpg', 'Files/Cereal/CerealDefected/CEREAL0203.jpg', 'Files/Cereal/CerealDefected/CEREAL0002.jpg', 'Files/Cereal/CerealDefected/CEREAL0144.jpg', 'Files/Cereal/CerealDefected/CEREAL0107.jpg', 'Files/Cereal/CerealDefected/CEREAL0017.jpg', 'Files/Cereal/CerealDefected/CEREAL0196.jpg', 'Files/Cereal/CerealDefected/CEREAL0230.jpg', 'Files/Cereal/CerealDefected/CEREAL0256.jpg', 'Files/Cereal/CerealDefected/CEREAL0105.jpg', 'Files/Cereal/CerealDefected/CEREAL0041.jpg', 'Files/Cereal/CerealDefected/CEREAL0096.jpg', 'Files/Cereal/CerealDefected/CEREAL0268.jpg', 'Files/Cereal/CerealDefected/CEREAL0087.jpg', 'Files/Cereal/CerealDefected/CEREAL0051.jpg', 'Files/Cereal/CerealDefected/CEREAL0090.jpg', 'Files/Cereal/CerealDefected/CEREAL0166.jpg', 'Files/Cereal/CerealDefected/CEREAL0141.jpg', 'Files/Cereal/CerealDefected/CEREAL0044.jpg', 'Files/Cereal/CerealDefected/CEREAL0150.jpg', 'Files/Cereal/CerealDefected/CEREAL0063.jpg', 'Files/Cereal/CerealDefected/CEREAL0048.jpg', 'Files/Cereal/CerealDefected/CEREAL0005.jpg', 'Files/Cereal/CerealDefected/CEREAL0056.jpg', 'Files/Cereal/CerealDefected/CEREAL0118.jpg', 'Files/Cereal/CerealDefected/CEREAL0245.jpg', 'Files/Cereal/CerealDefected/CEREAL0253.jpg', 'Files/Cereal/CerealDefected/CEREAL0125.jpg', 'Files/Cereal/CerealDefected/CEREAL0156.jpg', 'Files/Cereal/CerealDefected/CEREAL0064.jpg', 'Files/Cereal/CerealDefected/CEREAL0055.jpg', 'Files/Cereal/CerealDefected/CEREAL0045.jpg', 'Files/Cereal/CerealDefected/CEREAL0137.jpg', 'Files/Cereal/CerealDefected/CEREAL0229.jpg', 'Files/Cereal/CerealPerfect/CEREAL0030.jpg', 'Files/Cereal/CerealPerfect/CEREAL0019.jpg', 'Files/Cereal/CerealPerfect/CEREAL0175.jpg', 'Files/Cereal/CerealPerfect/CEREAL0026.jpg', 'Files/Cereal/CerealPerfect/CEREAL0238.jpg', 'Files/Cereal/CerealPerfect/CEREAL0225.jpg', 'Files/Cereal/CerealPerfect/CEREAL0240.jpg', 'Files/Cereal/CerealPerfect/CEREAL0219.jpg', 'Files/Cereal/CerealPerfect/CEREAL0159.jpg', 'Files/Cereal/CerealPerfect/CEREAL0243.jpg', 'Files/Cereal/CerealPerfect/CEREAL0009.jpg', 'Files/Cereal/CerealPerfect/CEREAL0246.jpg', 'Files/Cereal/CerealPerfect/CEREAL0059.jpg', 'Files/Cereal/CerealPerfect/CEREAL0218.jpg', 'Files/Cereal/CerealPerfect/CEREAL0180.jpg', 'Files/Cereal/CerealPerfect/CEREAL0007.jpg', 'Files/Cereal/CerealPerfect/CEREAL0033.jpg', 'Files/Cereal/CerealPerfect/CEREAL0194.jpg', 'Files/Cereal/CerealPerfect/CEREAL0161.jpg', 'Files/Cereal/CerealPerfect/CEREAL0113.jpg', 'Files/Cereal/CerealPerfect/CEREAL0008.jpg', 'Files/Cereal/CerealPerfect/CEREAL0170.jpg', 'Files/Cereal/CerealPerfect/CEREAL0013.jpg', 'Files/Cereal/CerealPerfect/CEREAL0000.jpg', 'Files/Cereal/CerealPerfect/CEREAL0197.jpg', 'Files/Cereal/CerealPerfect/CEREAL0223.jpg', 'Files/Cereal/CerealPerfect/CEREAL0185.jpg', 'Files/Cereal/CerealPerfect/CEREAL0023.jpg', 'Files/Cereal/CerealPerfect/CEREAL0157.jpg', 'Files/Cereal/CerealPerfect/CEREAL0221.jpg', 'Files/Cereal/CerealPerfect/CEREAL0098.jpg', 'Files/Cereal/CerealPerfect/CEREAL0120.jpg', 'Files/Cereal/CerealPerfect/CEREAL0042.jpg', 'Files/Cereal/CerealPerfect/CEREAL0109.jpg', 'Files/Cereal/CerealPerfect/CEREAL0092.jpg', 'Files/Cereal/CerealPerfect/CEREAL0249.jpg', 'Files/Cereal/CerealPerfect/CEREAL0270.jpg', 'Files/Cereal/CerealPerfect/CEREAL0239.jpg', 'Files/Cereal/CerealPerfect/CEREAL0049.jpg', 'Files/Cereal/CerealPerfect/CEREAL0187.jpg', 'Files/Cereal/CerealPerfect/CEREAL0217.jpg', 'Files/Cereal/CerealPerfect/CEREAL0208.jpg', 'Files/Cereal/CerealPerfect/CEREAL0212.jpg', 'Files/Cereal/CerealPerfect/CEREAL0102.jpg', 'Files/Cereal/CerealPerfect/CEREAL0188.jpg', 'Files/Cereal/CerealPerfect/CEREAL0018.jpg', 'Files/Cereal/CerealPerfect/CEREAL0039.jpg', 'Files/Cereal/CerealPerfect/CEREAL0034.jpg', 'Files/Cereal/CerealPerfect/CEREAL0020.jpg', 'Files/Cereal/CerealPerfect/CEREAL0168.jpg', 'Files/Cereal/CerealPerfect/CEREAL0169.jpg', 'Files/Cereal/CerealPerfect/CEREAL0128.jpg', 'Files/Cereal/CerealPerfect/CEREAL0167.jpg', 'Files/Cereal/CerealPerfect/CEREAL0148.jpg', 'Files/Cereal/CerealPerfect/CEREAL0162.jpg', 'Files/Cereal/CerealPerfect/CEREAL0227.jpg', 'Files/Cereal/CerealPerfect/CEREAL0122.jpg', 'Files/Cereal/CerealPerfect/CEREAL0112.jpg', 'Files/Cereal/CerealPerfect/CEREAL0215.jpg', 'Files/Cereal/CerealPerfect/CEREAL0129.jpg', 'Files/Cereal/CerealPerfect/CEREAL0072.jpg', 'Files/Cereal/CerealPerfect/CEREAL0182.jpg', 'Files/Cereal/CerealPerfect/CEREAL0247.jpg', 'Files/Cereal/CerealPerfect/CEREAL0101.jpg', 'Files/Cereal/CerealPerfect/CEREAL0153.jpg', 'Files/Cereal/CerealPerfect/CEREAL0016.jpg', 'Files/Cereal/CerealPerfect/CEREAL0142.jpg', 'Files/Cereal/CerealPerfect/CEREAL0080.jpg', 'Files/Cereal/CerealPerfect/CEREAL0061.jpg', 'Files/Cereal/CerealPerfect/CEREAL0273.jpg', 'Files/Cereal/CerealPerfect/CEREAL0264.jpg', 'Files/Cereal/CerealPerfect/CEREAL0054.jpg', 'Files/Cereal/CerealPerfect/CEREAL0274.jpg', 'Files/Cereal/CerealPerfect/CEREAL0143.jpg', 'Files/Cereal/CerealPerfect/CEREAL0207.jpg', 'Files/Cereal/CerealPerfect/CEREAL0029.jpg', 'Files/Cereal/CerealPerfect/CEREAL0043.jpg', 'Files/Cereal/CerealPerfect/CEREAL0226.jpg', 'Files/Cereal/CerealPerfect/CEREAL0024.jpg', 'Files/Cereal/CerealPerfect/CEREAL0190.jpg', 'Files/Cereal/CerealPerfect/CEREAL0069.jpg', 'Files/Cereal/CerealPerfect/CEREAL0084.jpg', 'Files/Cereal/CerealPerfect/CEREAL0181.jpg', 'Files/Cereal/CerealPerfect/CEREAL0046.jpg', 'Files/Cereal/CerealPerfect/CEREAL0198.jpg', 'Files/Cereal/CerealPerfect/CEREAL0052.jpg', 'Files/Cereal/CerealPerfect/CEREAL0115.jpg', 'Files/Cereal/CerealPerfect/CEREAL0085.jpg', 'Files/Cereal/CerealPerfect/CEREAL0158.jpg', 'Files/Cereal/CerealPerfect/CEREAL0124.jpg', 'Files/Cereal/CerealPerfect/CEREAL0089.jpg', 'Files/Cereal/CerealPerfect/CEREAL0266.jpg', 'Files/Cereal/CerealPerfect/CEREAL0258.jpg', 'Files/Cereal/CerealPerfect/CEREAL0103.jpg', 'Files/Cereal/CerealPerfect/CEREAL0014.jpg', 'Files/Cereal/CerealPerfect/CEREAL0275.jpg', 'Files/Cereal/CerealPerfect/CEREAL0235.jpg', 'Files/Cereal/CerealPerfect/CEREAL0012.jpg', 'Files/Cereal/CerealPerfect/CEREAL0203.jpg', 'Files/Cereal/CerealPerfect/CEREAL0062.jpg', 'Files/Cereal/CerealPerfect/CEREAL0027.jpg', 'Files/Cereal/CerealPerfect/CEREAL0031.jpg', 'Files/Cereal/CerealPerfect/CEREAL0205.jpg', 'Files/Cereal/CerealPerfect/CEREAL0276.jpg', 'Files/Cereal/CerealPerfect/CEREAL0199.jpg', 'Files/Cereal/CerealPerfect/CEREAL0047.jpg', 'Files/Cereal/CerealPerfect/CEREAL0210.jpg', 'Files/Cereal/CerealPerfect/CEREAL0213.jpg', 'Files/Cereal/CerealPerfect/CEREAL0189.jpg', 'Files/Cereal/CerealPerfect/CEREAL0171.jpg', 'Files/Cereal/CerealPerfect/CEREAL0022.jpg', 'Files/Cereal/CerealPerfect/CEREAL0002.jpg', 'Files/Cereal/CerealPerfect/CEREAL0032.jpg', 'Files/Cereal/CerealPerfect/CEREAL0099.jpg', 'Files/Cereal/CerealPerfect/CEREAL0140.jpg', 'Files/Cereal/CerealPerfect/CEREAL0144.jpg', 'Files/Cereal/CerealPerfect/CEREAL0073.jpg', 'Files/Cereal/CerealPerfect/CEREAL0201.jpg', 'Files/Cereal/CerealPerfect/CEREAL0234.jpg', 'Files/Cereal/CerealPerfect/CEREAL0237.jpg', 'Files/Cereal/CerealPerfect/CEREAL0078.jpg', 'Files/Cereal/CerealPerfect/CEREAL0100.jpg', 'Files/Cereal/CerealPerfect/CEREAL0083.jpg', 'Files/Cereal/CerealPerfect/CEREAL0200.jpg', 'Files/Cereal/CerealPerfect/CEREAL0119.jpg', 'Files/Cereal/CerealPerfect/CEREAL0224.jpg', 'Files/Cereal/CerealPerfect/CEREAL0176.jpg', 'Files/Cereal/CerealPerfect/CEREAL0011.jpg', 'Files/Cereal/CerealPerfect/CEREAL0163.jpg', 'Files/Cereal/CerealPerfect/CEREAL0193.jpg', 'Files/Cereal/CerealPerfect/CEREAL0107.jpg', 'Files/Cereal/CerealPerfect/CEREAL0017.jpg', 'Files/Cereal/CerealPerfect/CEREAL0036.jpg', 'Files/Cereal/CerealPerfect/CEREAL0254.jpg', 'Files/Cereal/CerealPerfect/CEREAL0267.jpg', 'Files/Cereal/CerealPerfect/CEREAL0164.jpg', 'Files/Cereal/CerealPerfect/CEREAL0261.jpg', 'Files/Cereal/CerealPerfect/CEREAL0251.jpg', 'Files/Cereal/CerealPerfect/CEREAL0196.jpg', 'Files/Cereal/CerealPerfect/CEREAL0139.jpg', 'Files/Cereal/CerealPerfect/CEREAL0001.jpg', 'Files/Cereal/CerealPerfect/CEREAL0035.jpg', 'Files/Cereal/CerealPerfect/CEREAL0228.jpg', 'Files/Cereal/CerealPerfect/CEREAL0025.jpg', 'Files/Cereal/CerealPerfect/CEREAL0231.jpg', 'Files/Cereal/CerealPerfect/CEREAL0066.jpg', 'Files/Cereal/CerealPerfect/CEREAL0165.jpg', 'Files/Cereal/CerealPerfect/CEREAL0095.jpg', 'Files/Cereal/CerealPerfect/CEREAL0076.jpg', 'Files/Cereal/CerealPerfect/CEREAL0233.jpg', 'Files/Cereal/CerealPerfect/CEREAL0135.jpg', 'Files/Cereal/CerealPerfect/CEREAL0257.jpg', 'Files/Cereal/CerealPerfect/CEREAL0248.jpg', 'Files/Cereal/CerealPerfect/CEREAL0271.jpg', 'Files/Cereal/CerealPerfect/CEREAL0172.jpg', 'Files/Cereal/CerealPerfect/CEREAL0075.jpg', 'Files/Cereal/CerealPerfect/CEREAL0079.jpg', 'Files/Cereal/CerealPerfect/CEREAL0230.jpg', 'Files/Cereal/CerealPerfect/CEREAL0081.jpg', 'Files/Cereal/CerealPerfect/CEREAL0256.jpg', 'Files/Cereal/CerealPerfect/CEREAL0151.jpg', 'Files/Cereal/CerealPerfect/CEREAL0053.jpg', 'Files/Cereal/CerealPerfect/CEREAL0186.jpg', 'Files/Cereal/CerealPerfect/CEREAL0050.jpg', 'Files/Cereal/CerealPerfect/CEREAL0068.jpg', 'Files/Cereal/CerealPerfect/CEREAL0191.jpg', 'Files/Cereal/CerealPerfect/CEREAL0105.jpg', 'Files/Cereal/CerealPerfect/CEREAL0110.jpg', 'Files/Cereal/CerealPerfect/CEREAL0082.jpg', 'Files/Cereal/CerealPerfect/CEREAL0074.jpg', 'Files/Cereal/CerealPerfect/CEREAL0041.jpg', 'Files/Cereal/CerealPerfect/CEREAL0147.jpg', 'Files/Cereal/CerealPerfect/CEREAL0096.jpg', 'Files/Cereal/CerealPerfect/CEREAL0268.jpg', 'Files/Cereal/CerealPerfect/CEREAL0241.jpg', 'Files/Cereal/CerealPerfect/CEREAL0010.jpg', 'Files/Cereal/CerealPerfect/CEREAL0202.jpg', 'Files/Cereal/CerealPerfect/CEREAL0178.jpg', 'Files/Cereal/CerealPerfect/CEREAL0232.jpg', 'Files/Cereal/CerealPerfect/CEREAL0097.jpg', 'Files/Cereal/CerealPerfect/CEREAL0104.jpg', 'Files/Cereal/CerealPerfect/CEREAL0252.jpg', 'Files/Cereal/CerealPerfect/CEREAL0265.jpg', 'Files/Cereal/CerealPerfect/CEREAL0060.jpg', 'Files/Cereal/CerealPerfect/CEREAL0067.jpg', 'Files/Cereal/CerealPerfect/CEREAL0214.jpg', 'Files/Cereal/CerealPerfect/CEREAL0087.jpg', 'Files/Cereal/CerealPerfect/CEREAL0037.jpg', 'Files/Cereal/CerealPerfect/CEREAL0070.jpg', 'Files/Cereal/CerealPerfect/CEREAL0051.jpg', 'Files/Cereal/CerealPerfect/CEREAL0160.jpg', 'Files/Cereal/CerealPerfect/CEREAL0106.jpg', 'Files/Cereal/CerealPerfect/CEREAL0040.jpg', 'Files/Cereal/CerealPerfect/CEREAL0086.jpg', 'Files/Cereal/CerealPerfect/CEREAL0117.jpg', 'Files/Cereal/CerealPerfect/CEREAL0184.jpg', 'Files/Cereal/CerealPerfect/CEREAL0123.jpg', 'Files/Cereal/CerealPerfect/CEREAL0093.jpg', 'Files/Cereal/CerealPerfect/CEREAL0006.jpg', 'Files/Cereal/CerealPerfect/CEREAL0262.jpg', 'Files/Cereal/CerealPerfect/CEREAL0155.jpg', 'Files/Cereal/CerealPerfect/CEREAL0211.jpg', 'Files/Cereal/CerealPerfect/CEREAL0090.jpg', 'Files/Cereal/CerealPerfect/CEREAL0209.jpg', 'Files/Cereal/CerealPerfect/CEREAL0166.jpg', 'Files/Cereal/CerealPerfect/CEREAL0094.jpg', 'Files/Cereal/CerealPerfect/CEREAL0141.jpg', 'Files/Cereal/CerealPerfect/CEREAL0108.jpg', 'Files/Cereal/CerealPerfect/CEREAL0044.jpg', 'Files/Cereal/CerealPerfect/CEREAL0038.jpg', 'Files/Cereal/CerealPerfect/CEREAL0177.jpg', 'Files/Cereal/CerealPerfect/CEREAL0150.jpg', 'Files/Cereal/CerealPerfect/CEREAL0204.jpg', 'Files/Cereal/CerealPerfect/CEREAL0126.jpg', 'Files/Cereal/CerealPerfect/CEREAL0195.jpg', 'Files/Cereal/CerealPerfect/CEREAL0063.jpg', 'Files/Cereal/CerealPerfect/CEREAL0048.jpg', 'Files/Cereal/CerealPerfect/CEREAL0005.jpg', 'Files/Cereal/CerealPerfect/CEREAL0174.jpg', 'Files/Cereal/CerealPerfect/CEREAL0056.jpg', 'Files/Cereal/CerealPerfect/CEREAL0277.jpg', 'Files/Cereal/CerealPerfect/CEREAL0015.jpg', 'Files/Cereal/CerealPerfect/CEREAL0118.jpg', 'Files/Cereal/CerealPerfect/CEREAL0250.jpg', 'Files/Cereal/CerealPerfect/CEREAL0071.jpg', 'Files/Cereal/CerealPerfect/CEREAL0245.jpg', 'Files/Cereal/CerealPerfect/CEREAL0149.jpg', 'Files/Cereal/CerealPerfect/CEREAL0028.jpg', 'Files/Cereal/CerealPerfect/CEREAL0058.jpg', 'Files/Cereal/CerealPerfect/CEREAL0253.jpg', 'Files/Cereal/CerealPerfect/CEREAL0152.jpg', 'Files/Cereal/CerealPerfect/CEREAL0125.jpg', 'Files/Cereal/CerealPerfect/CEREAL0179.jpg', 'Files/Cereal/CerealPerfect/CEREAL0156.jpg', 'Files/Cereal/CerealPerfect/CEREAL0154.jpg', 'Files/Cereal/CerealPerfect/CEREAL0116.jpg', 'Files/Cereal/CerealPerfect/CEREAL0136.jpg', 'Files/Cereal/CerealPerfect/CEREAL0064.jpg', 'Files/Cereal/CerealPerfect/CEREAL0236.jpg', 'Files/Cereal/CerealPerfect/CEREAL0244.jpg', 'Files/Cereal/CerealPerfect/CEREAL0133.jpg', 'Files/Cereal/CerealPerfect/CEREAL0114.jpg', 'Files/Cereal/CerealPerfect/CEREAL0192.jpg', 'Files/Cereal/CerealPerfect/CEREAL0222.jpg', 'Files/Cereal/CerealPerfect/CEREAL0260.jpg', 'Files/Cereal/CerealPerfect/CEREAL0183.jpg', 'Files/Cereal/CerealPerfect/CEREAL0003.jpg', 'Files/Cereal/CerealPerfect/CEREAL0134.jpg', 'Files/Cereal/CerealPerfect/CEREAL0255.jpg', 'Files/Cereal/CerealPerfect/CEREAL0130.jpg', 'Files/Cereal/CerealPerfect/CEREAL0145.jpg', 'Files/Cereal/CerealPerfect/CEREAL0127.jpg', 'Files/Cereal/CerealPerfect/CEREAL0138.jpg', 'Files/Cereal/CerealPerfect/CEREAL0111.jpg', 'Files/Cereal/CerealPerfect/CEREAL0088.jpg', 'Files/Cereal/CerealPerfect/CEREAL0263.jpg', 'Files/Cereal/CerealPerfect/CEREAL0055.jpg', 'Files/Cereal/CerealPerfect/CEREAL0045.jpg', 'Files/Cereal/CerealPerfect/CEREAL0057.jpg', 'Files/Cereal/CerealPerfect/CEREAL0131.jpg', 'Files/Cereal/CerealPerfect/CEREAL0004.jpg', 'Files/Cereal/CerealPerfect/CEREAL0173.jpg', 'Files/Cereal/CerealPerfect/CEREAL0137.jpg', 'Files/Cereal/CerealPerfect/CEREAL0021.jpg', 'Files/Cereal/CerealPerfect/CEREAL0242.jpg', 'Files/Cereal/CerealPerfect/CEREAL0065.jpg', 'Files/Cereal/CerealPerfect/CEREAL0220.jpg', 'Files/Cereal/CerealPerfect/CEREAL0259.jpg', 'Files/Cereal/CerealPerfect/CEREAL0216.jpg', 'Files/Cereal/CerealPerfect/CEREAL0272.jpg', 'Files/Cereal/CerealPerfect/CEREAL0206.jpg', 'Files/Cereal/CerealPerfect/CEREAL0269.jpg', 'Files/Cereal/CerealPerfect/CEREAL0077.jpg', 'Files/Cereal/CerealPerfect/CEREAL0121.jpg', 'Files/Cereal/CerealPerfect/CEREAL0091.jpg', 'Files/Cereal/CerealPerfect/CEREAL0132.jpg', 'Files/Cereal/CerealPerfect/CEREAL0229.jpg', 'Files/Cereal/CerealPerfect/CEREAL0146.jpg', 'Files/CAKE/CakePerfect/CAKE0039.jpg', 'Files/CAKE/CakePerfect/CAKE0126.jpg', 'Files/CAKE/CakePerfect/CAKE0008.jpg', 'Files/CAKE/CakePerfect/CAKE0036.jpg', 'Files/CAKE/CakePerfect/CAKE0065.jpg', 'Files/CAKE/CakePerfect/CAKE0136.jpg', 'Files/CAKE/CakePerfect/CAKE0155.jpg', 'Files/CAKE/CakePerfect/CAKE0015.jpg', 'Files/CAKE/CakePerfect/CAKE0140.jpg', 'Files/CAKE/CakePerfect/CAKE0156.jpg', 'Files/CAKE/CakePerfect/CAKE0028.jpg', 'Files/CAKE/CakePerfect/CAKE0148.jpg', 'Files/CAKE/CakePerfect/CAKE0134.jpg', 'Files/CAKE/CakePerfect/CAKE0052.jpg', 'Files/CAKE/CakePerfect/CAKE0053.jpg', 'Files/CAKE/CakePerfect/CAKE0021.jpg', 'Files/CAKE/CakePerfect/CAKE0044.jpg', 'Files/CAKE/CakePerfect/CAKE0047.jpg', 'Files/CAKE/CakePerfect/CAKE0117.jpg', 'Files/CAKE/CakePerfect/CAKE0132.jpg', 'Files/CAKE/CakePerfect/CAKE0129.jpg', 'Files/CAKE/CakePerfect/CAKE0100.jpg', 'Files/CAKE/CakePerfect/CAKE0110.jpg', 'Files/CAKE/CakePerfect/CAKE0000.jpg', 'Files/CAKE/CakePerfect/CAKE0119.jpg', 'Files/CAKE/CakePerfect/CAKE0102.jpg', 'Files/CAKE/CakePerfect/CAKE0019.jpg', 'Files/CAKE/CakePerfect/CAKE0141.jpg', 'Files/CAKE/CakePerfect/CAKE0130.jpg', 'Files/CAKE/CakePerfect/CAKE0082.jpg', 'Files/CAKE/CakePerfect/CAKE0103.jpg', 'Files/CAKE/CakePerfect/CAKE0006.jpg', 'Files/CAKE/CakePerfect/CAKE0037.jpg', 'Files/CAKE/CakePerfect/CAKE0060.jpg', 'Files/CAKE/CakePerfect/CAKE0159.jpg', 'Files/CAKE/CakePerfect/CAKE0115.jpg', 'Files/CAKE/CakePerfect/CAKE0014.jpg', 'Files/CAKE/CakePerfect/CAKE0063.jpg', 'Files/CAKE/CakePerfect/CAKE0059.jpg', 'Files/CAKE/CakePerfect/CAKE0092.jpg', 'Files/CAKE/CakePerfect/CAKE0128.jpg', 'Files/CAKE/CakePerfect/CAKE0031.jpg', 'Files/CAKE/CakePerfect/CAKE0049.jpg', 'Files/CAKE/CakePerfect/CAKE0138.jpg', 'Files/CAKE/CakePerfect/CAKE0064.jpg', 'Files/CAKE/CakePerfect/CAKE0030.jpg', 'Files/CAKE/CakePerfect/CAKE0041.jpg', 'Files/CAKE/CakePerfect/CAKE0057.jpg', 'Files/CAKE/CakePerfect/CAKE0152.jpg', 'Files/CAKE/CakePerfect/CAKE0090.jpg', 'Files/CAKE/CakePerfect/CAKE0151.jpg', 'Files/CAKE/CakePerfect/CAKE0007.jpg', 'Files/CAKE/CakePerfect/CAKE0045.jpg', 'Files/CAKE/CakePerfect/CAKE0105.jpg', 'Files/CAKE/CakePerfect/CAKE0112.jpg', 'Files/CAKE/CakePerfect/CAKE0010.jpg', 'Files/CAKE/CakePerfect/CAKE0101.jpg', 'Files/CAKE/CakePerfect/CAKE0079.jpg', 'Files/CAKE/CakePerfect/CAKE0120.jpg', 'Files/CAKE/CakePerfect/CAKE0023.jpg', 'Files/CAKE/CakePerfect/CAKE0144.jpg', 'Files/CAKE/CakePerfect/CAKE0158.jpg', 'Files/CAKE/CakePerfect/CAKE0096.jpg', 'Files/CAKE/CakePerfect/CAKE0085.jpg', 'Files/CAKE/CakePerfect/CAKE0048.jpg', 'Files/CAKE/CakePerfect/CAKE0004.jpg', 'Files/CAKE/CakePerfect/CAKE0033.jpg', 'Files/CAKE/CakePerfect/CAKE0157.jpg', 'Files/CAKE/CakePerfect/CAKE0072.jpg', 'Files/CAKE/CakePerfect/CAKE0123.jpg', 'Files/CAKE/CakePerfect/CAKE0124.jpg', 'Files/CAKE/CakePerfect/CAKE0147.jpg', 'Files/CAKE/CakePerfect/CAKE0087.jpg', 'Files/CAKE/CakePerfect/CAKE0022.jpg', 'Files/CAKE/CakePerfect/CAKE0051.jpg', 'Files/CAKE/CakePerfect/CAKE0125.jpg', 'Files/CAKE/CakePerfect/CAKE0104.jpg', 'Files/CAKE/CakePerfect/CAKE0016.jpg', 'Files/CAKE/CakePerfect/CAKE0095.jpg', 'Files/CAKE/CakePerfect/CAKE0094.jpg', 'Files/CAKE/CakePerfect/CAKE0077.jpg', 'Files/CAKE/CakePerfect/CAKE0032.jpg', 'Files/CAKE/CakePerfect/CAKE0054.jpg', 'Files/CAKE/CakePerfect/CAKE0160.jpg', 'Files/CAKE/CakePerfect/CAKE0078.jpg', 'Files/CAKE/CakePerfect/CAKE0027.jpg', 'Files/CAKE/CakePerfect/CAKE0084.jpg', 'Files/CAKE/CakePerfect/CAKE0080.jpg', 'Files/CAKE/CakePerfect/CAKE0139.jpg', 'Files/CAKE/CakePerfect/CAKE0017.jpg', 'Files/CAKE/CakePerfect/CAKE0107.jpg', 'Files/CAKE/CakePerfect/CAKE0034.jpg', 'Files/CAKE/CakePerfect/CAKE0020.jpg', 'Files/CAKE/CakePerfect/CAKE0061.jpg', 'Files/CAKE/CakePerfect/CAKE0075.jpg', 'Files/CAKE/CakePerfect/CAKE0135.jpg', 'Files/CAKE/CakePerfect/CAKE0131.jpg', 'Files/CAKE/CakePerfect/CAKE0106.jpg', 'Files/CAKE/CakePerfect/CAKE0071.jpg', 'Files/CAKE/CakePerfect/CAKE0026.jpg', 'Files/CAKE/CakePerfect/CAKE0093.jpg', 'Files/CAKE/CakePerfect/CAKE0153.jpg', 'Files/CAKE/CakePerfect/CAKE0091.jpg', 'Files/CAKE/CakePerfect/CAKE0083.jpg', 'Files/CAKE/CakePerfect/CAKE0142.jpg', 'Files/CAKE/CakePerfect/CAKE0145.jpg', 'Files/CAKE/CakePerfect/CAKE0150.jpg', 'Files/CAKE/CakePerfect/CAKE0098.jpg', 'Files/CAKE/CakePerfect/CAKE0088.jpg', 'Files/CAKE/CakePerfect/CAKE0024.jpg', 'Files/CAKE/CakePerfect/CAKE0137.jpg', 'Files/CAKE/CakePerfect/CAKE0146.jpg', 'Files/CAKE/CakePerfect/CAKE0111.jpg', 'Files/CAKE/CakePerfect/CAKE0097.jpg', 'Files/CAKE/CakePerfect/CAKE0081.jpg', 'Files/CAKE/CakePerfect/CAKE0055.jpg', 'Files/CAKE/CakePerfect/CAKE0042.jpg', 'Files/CAKE/CakePerfect/CAKE0040.jpg', 'Files/CAKE/CakePerfect/CAKE0121.jpg', 'Files/CAKE/CakePerfect/CAKE0109.jpg', 'Files/CAKE/CakePerfect/CAKE0113.jpg', 'Files/CAKE/CakePerfect/CAKE0058.jpg', 'Files/CAKE/CakePerfect/CAKE0012.jpg', 'Files/CAKE/CakePerfect/CAKE0002.jpg', 'Files/CAKE/CakePerfect/CAKE0018.jpg', 'Files/CAKE/CakePerfect/CAKE0001.jpg', 'Files/CAKE/CakePerfect/CAKE0056.jpg', 'Files/CAKE/CakePerfect/CAKE0068.jpg', 'Files/CAKE/CakePerfect/CAKE0009.jpg', 'Files/CAKE/CakePerfect/CAKE0046.jpg', 'Files/CAKE/CakePerfect/CAKE0143.jpg', 'Files/CAKE/CakePerfect/CAKE0074.jpg', 'Files/CAKE/CakePerfect/CAKE0067.jpg', 'Files/CAKE/CakePerfect/CAKE0035.jpg', 'Files/CAKE/CakePerfect/CAKE0133.jpg', 'Files/CAKE/CakePerfect/CAKE0066.jpg', 'Files/CAKE/CakePerfect/CAKE0003.jpg', 'Files/CAKE/CakePerfect/CAKE0127.jpg', 'Files/CAKE/CakePerfect/CAKE0149.jpg', 'Files/CAKE/CakePerfect/CAKE0108.jpg', 'Files/CAKE/CakePerfect/CAKE0086.jpg', 'Files/CAKE/CakePerfect/CAKE0062.jpg', 'Files/CAKE/CakePerfect/CAKE0114.jpg', 'Files/CAKE/CakePerfect/CAKE0116.jpg', 'Files/CAKE/CakePerfect/CAKE0099.jpg', 'Files/CAKE/CakePerfect/CAKE0005.jpg', 'Files/CAKE/CakePerfect/CAKE0050.jpg', 'Files/CAKE/CakePerfect/CAKE0069.jpg', 'Files/CAKE/CakePerfect/CAKE0013.jpg', 'Files/CAKE/CakePerfect/CAKE0043.jpg', 'Files/CAKE/CakePerfect/CAKE0076.jpg', 'Files/CAKE/CakePerfect/CAKE0011.jpg', 'Files/CAKE/CakePerfect/CAKE0038.jpg', 'Files/CAKE/CakePerfect/CAKE0089.jpg', 'Files/CAKE/CakePerfect/CAKE0122.jpg', 'Files/CAKE/CakePerfect/CAKE0154.jpg', 'Files/CAKE/CakePerfect/CAKE0118.jpg', 'Files/CAKE/CakePerfect/CAKE0070.jpg', 'Files/CAKE/CakePerfect/CAKE0029.jpg', 'Files/CAKE/CakeDefected/CAKE0036.jpg', 'Files/CAKE/CakeDefected/CAKE0065.jpg', 'Files/CAKE/CakeDefected/CAKE0053.jpg', 'Files/CAKE/CakeDefected/CAKE0021.jpg', 'Files/CAKE/CakeDefected/CAKE0159.jpg', 'Files/CAKE/CakeDefected/CAKE0059.jpg', 'Files/CAKE/CakeDefected/CAKE0031.jpg', 'Files/CAKE/CakeDefected/CAKE0041.jpg', 'Files/CAKE/CakeDefected/CAKE0151.jpg', 'Files/CAKE/CakeDefected/CAKE0023.jpg', 'Files/CAKE/CakeDefected/CAKE0072.jpg', 'Files/CAKE/CakeDefected/CAKE0123.jpg', 'Files/CAKE/CakeDefected/CAKE0025 .jpg', 'Files/CAKE/CakeDefected/CAKE0160.jpg', 'Files/CAKE/CakeDefected/CAKE0027.jpg', 'Files/CAKE/CakeDefected/CAKE0084.jpg', 'Files/CAKE/CakeDefected/CAKE0034.jpg', 'Files/CAKE/CakeDefected/CAKE0073.jpg', 'Files/CAKE/CakeDefected/CAKE0083.jpg', 'Files/CAKE/CakeDefected/CAKE0088.jpg', 'Files/CAKE/CakeDefected/CAKE0058.jpg', 'Files/CAKE/CakeDefected/CAKE0012.jpg', 'Files/CAKE/CakeDefected/CAKE0002.jpg', 'Files/CAKE/CakeDefected/CAKE0018.jpg', 'Files/CAKE/CakeDefected/CAKE0068.jpg', 'Files/CAKE/CakeDefected/CAKE0143.jpg', 'Files/CAKE/CakeDefected/CAKE0127.jpg', 'Files/CAKE/CakeDefected/CAKE0050.jpg', 'Files/CAKE/CakeDefected/CAKE0025.jpg', 'Files/CAKE/CakeDefected/CAKE0029.jpg', 'Files/Beverage/BeverageDefected/6907777822948_camera0-8.jpg', 'Files/Beverage/BeverageDefected/4891599601138_camera2-19.jpg', 'Files/Beverage/BeverageDefected/6920459902387_camera0-29.jpg', 'Files/Beverage/BeverageDefected/4891599601138_camera0-32.jpg', 'Files/Beverage/BeverageDefected/4891028707851_camera1-25.jpg', 'Files/Beverage/BeverageDefected/4891599601138_camera0-1.jpg', 'Files/Beverage/BeverageDefected/6920459902387_camera3-40.jpg', 'Files/Beverage/BeverageDefected/6941543400251_camera1-10.jpg', 'Files/Beverage/BeverageDefected/6907992100272_camera2-32.jpg', 'Files/Beverage/BeverageDefected/6907777822948_camera2-12.jpg', 'Files/Beverage/BeverageDefected/6907992100272_camera0-7.jpg', 'Files/Beverage/BeverageDefected/6941543400251_camera0-12.jpg', 'Files/Beverage/BeverageDefected/6941543400251_camera3-1.jpg', 'Files/Beverage/BeverageDefected/6920459902387_camera2-40.jpg', 'Files/Beverage/BeverageDefected/6907777822948_camera0-40.jpg', 'Files/Beverage/BeverageDefected/6907992100272_camera3-30.jpg', 'Files/Beverage/BeverageDefected/4891028707851_camera0-11.jpg', 'Files/Beverage/BeveragePerfect/6941543400251_camera2-35.jpg', 'Files/Beverage/BeveragePerfect/6907777822948_camera0-8.jpg', 'Files/Beverage/BeveragePerfect/6907777822948_camera0-34.jpg', 'Files/Beverage/BeveragePerfect/6920459902387_camera0-40.jpg', 'Files/Beverage/BeveragePerfect/4891599601138_camera2-19.jpg', 'Files/Beverage/BeveragePerfect/6941543400251_camera0-40.jpg', 'Files/Beverage/BeveragePerfect/4891028707851_camera0-38.jpg', 'Files/Beverage/BeveragePerfect/6907777822948_camera0-1.jpg', 'Files/Beverage/BeveragePerfect/4891028707851_camera0-26.jpg', 'Files/Beverage/BeveragePerfect/4891599601138_camera0-2.jpg', 'Files/Beverage/BeveragePerfect/6920459902387_camera0-29.jpg', 'Files/Beverage/BeveragePerfect/6941543400251_camera2-40.jpg', 'Files/Beverage/BeveragePerfect/4891599601138_camera0-32.jpg', 'Files/Beverage/BeveragePerfect/6907777822948_camera1-40.jpg', 'Files/Beverage/BeveragePerfect/4891028707851_camera0-34.jpg', 'Files/Beverage/BeveragePerfect/6907777822948_camera2-37.jpg', 'Files/Beverage/BeveragePerfect/6941543400251_camera0-1.jpg', 'Files/Beverage/BeveragePerfect/6941543400251_camera3-12.jpg', 'Files/Beverage/BeveragePerfect/4891599601138_camera0-15.jpg', 'Files/Beverage/BeveragePerfect/6920459902387_camera1-12.jpg', 'Files/Beverage/BeveragePerfect/6941543400251_camera3-31.jpg', 'Files/Beverage/BeveragePerfect/6941543400251_camera2-15.jpg', 'Files/Beverage/BeveragePerfect/4891028707851_camera1-25.jpg', 'Files/Beverage/BeveragePerfect/6907777822948_camera0-9.jpg', 'Files/Beverage/BeveragePerfect/6941543400251_camera1-28.jpg', 'Files/Beverage/BeveragePerfect/6907992100272_camera3-40.jpg', 'Files/Beverage/BeveragePerfect/4891599601138_camera0-1.jpg', 'Files/Beverage/BeveragePerfect/6920459902387_camera3-40.jpg', 'Files/Beverage/BeveragePerfect/6920459902387_camera2-6.jpg', 'Files/Beverage/BeveragePerfect/6941543400251_camera1-10.jpg', 'Files/Beverage/BeveragePerfect/6907777822948_camera3-9.jpg', 'Files/Beverage/BeveragePerfect/6941543400251_camera0-22.jpg', 'Files/Beverage/BeveragePerfect/6907777822948_camera2-21.jpg', 'Files/Beverage/BeveragePerfect/6907777822948_camera3-19.jpg', 'Files/Beverage/BeveragePerfect/6907992100272_camera2-32.jpg', 'Files/Beverage/BeveragePerfect/6907777822948_camera1-6.jpg', 'Files/Beverage/BeveragePerfect/6907777822948_camera0-20.jpg', 'Files/Beverage/BeveragePerfect/6920459902387_camera3-23.jpg', 'Files/Beverage/BeveragePerfect/6941543400251_camera0-30.jpg', 'Files/Beverage/BeveragePerfect/6907992100272_camera0-1.jpg', 'Files/Beverage/BeveragePerfect/6907777822948_camera3-40.jpg', 'Files/Beverage/BeveragePerfect/6907777822948_camera3-29.jpg', 'Files/Beverage/BeveragePerfect/6941543400251_camera3-19.jpg', 'Files/Beverage/BeveragePerfect/6907777822948_camera2-12.jpg', 'Files/Beverage/BeveragePerfect/6907992100272_camera0-7.jpg', 'Files/Beverage/BeveragePerfect/6920459902387_camera1-35.jpg', 'Files/Beverage/BeveragePerfect/4891599601138_camera1-28.jpg', 'Files/Beverage/BeveragePerfect/6920459902387_camera0-1.jpg', 'Files/Beverage/BeveragePerfect/6941543400251_camera2-22.jpg', 'Files/Beverage/BeveragePerfect/6941543400251_camera0-12.jpg', 'Files/Beverage/BeveragePerfect/4891028707851_camera0-10.jpg', 'Files/Beverage/BeveragePerfect/6920459902387_camera2-28.jpg', 'Files/Beverage/BeveragePerfect/6941543400251_camera3-40.jpg', 'Files/Beverage/BeveragePerfect/6941543400251_camera3-1.jpg', 'Files/Beverage/BeveragePerfect/6907777822948_camera1-21.jpg', 'Files/Beverage/BeveragePerfect/6941543400251_camera1-36.jpg', 'Files/Beverage/BeveragePerfect/6920459902387_camera1-34.jpg', 'Files/Beverage/BeveragePerfect/6907777822948_camera0-27.jpg', 'Files/Beverage/BeveragePerfect/6907777822948_camera2-1.jpg', 'Files/Beverage/BeveragePerfect/6907777822948_camera2-29.jpg', 'Files/Beverage/BeveragePerfect/6920459902387_camera3-34.jpg', 'Files/Beverage/BeveragePerfect/4891028707851_camera2-13.jpg', 'Files/Beverage/BeveragePerfect/4891599601138_camera0-26.jpg', 'Files/Beverage/BeveragePerfect/6920459902387_camera3-1.jpg', 'Files/Beverage/BeveragePerfect/6907992100272_camera0-26.jpg', 'Files/Beverage/BeveragePerfect/6941543400251_camera2-3.jpg', 'Files/Beverage/BeveragePerfect/6920459902387_camera2-40.jpg', 'Files/Beverage/BeveragePerfect/6907777822948_camera0-40.jpg', 'Files/Beverage/BeveragePerfect/6920459902387_camera0-18.jpg', 'Files/Beverage/BeveragePerfect/6907992100272_camera3-30.jpg', 'Files/Beverage/BeveragePerfect/4891599601138_camera0-10.jpg', 'Files/Beverage/BeveragePerfect/6907777822948_camera1-1.jpg', 'Files/Beverage/BeveragePerfect/6920459902387_camera3-12.jpg', 'Files/Beverage/BeveragePerfect/6907992100272_camera2-10.jpg', 'Files/Beverage/BeveragePerfect/6907777822948_camera1-13.jpg', 'Files/Beverage/BeveragePerfect/6920459902387_camera2-39.jpg', 'Files/Beverage/BeveragePerfect/6907777822948_camera1-28.jpg', 'Files/Beverage/BeveragePerfect/6920459902387_camera2-17.jpg', 'Files/Beverage/BeveragePerfect/6907777822948_camera3-3.jpg', 'Files/Beverage/BeveragePerfect/6907992100272_camera0-33.jpg', 'Files/Beverage/BeveragePerfect/4891028707851_camera0-11.jpg', 'Files/Beverage/BeveragePerfect/6907992100272_camera1-7.jpg', 'Files/Beverage/BeveragePerfect/6920459902387_camera1-1.jpg', 'Files/Beverage/BeveragePerfect/6941543400251_camera1-17.jpg', 'Files/Beverage/BeveragePerfect/6941543400251_camera1-40.jpg', 'Files/Beverage/BeveragePerfect/6907992100272_camera3-13.jpg', 'Files/Beverage/BeveragePerfect/6941543400251_camera1-1.jpg', 'Files/Beverage/BeveragePerfect/6907992100272_camera3-36.jpg', 'Files/Beverage/BeveragePerfect/6920459902387_camera1-23.jpg', 'Files/Chips/ChipsDefected/CHIPS0149.jpg', 'Files/Chips/ChipsDefected/CHIPS0078.jpg', 'Files/Chips/ChipsDefected/CHIPS0119.jpg', 'Files/Chips/ChipsDefected/CHIPS0032.jpg', 'Files/Chips/ChipsDefected/CHIPS0035.jpg', 'Files/Chips/ChipsDefected/CHIPS0076.jpg', 'Files/Chips/ChipsDefected/CHIPS0045.jpg', 'Files/Chips/ChipsDefected/CHIPS0063.jpg', 'Files/Chips/ChipsDefected/CHIPS0163.jpg', 'Files/Chips/ChipsDefected/CHIPS0129.jpg', 'Files/Chips/ChipsDefected/CHIPS0175.jpg', 'Files/Chips/ChipsDefected/CHIPS0151.jpg', 'Files/Chips/ChipsDefected/CHIPS0020.jpg', 'Files/Chips/ChipsDefected/CHIPS0046.jpg', 'Files/Chips/ChipsDefected/CHIPS0023.jpg', 'Files/Chips/ChipsDefected/CHIPS0172.jpg', 'Files/Chips/ChipsDefected/CHIPS0143.jpg', 'Files/Chips/ChipsDefected/CHIPS0138.jpg', 'Files/Chips/ChipsDefected/CHIPS0136.jpg', 'Files/Chips/ChipsDefected/CHIPS0171.jpg', 'Files/Chips/ChipsDefected/CHIPS0021.jpg', 'Files/Chips/ChipsDefected/CHIPS0073.jpg', 'Files/Chips/ChipsDefected/CHIPS0178.jpg', 'Files/Chips/ChipsDefected/CHIPS0109.jpg', 'Files/Chips/ChipsDefected/CHIPS0036.jpg', 'Files/Chips/ChipsDefected/CHIPS0153.jpg', 'Files/Chips/ChipsDefected/CHIPS0053.jpg', 'Files/Chips/ChipsDefected/CHIPS0162.jpg', 'Files/Chips/ChipsDefected/CHIPS0016.jpg', 'Files/Chips/ChipsDefected/CHIPS0127.jpg', 'Files/Chips/ChipsDefected/CHIPS0101.jpg', 'Files/Chips/ChipsDefected/CHIPS0018.jpg', 'Files/Chips/ChipsDefected/CHIPS0039.jpg', 'Files/Chips/ChipsDefected/CHIPS0168.jpg', 'Files/Chips/ChipsDefected/CHIPS0051.jpg', 'Files/Chips/ChipsDefected/CHIPS0028.jpg', 'Files/Chips/ChipsDefected/CHIPS0150.jpg', 'Files/Chips/ChipsDefected/CHIPS0000.jpg', 'Files/Chips/ChipsDefected/CHIPS0066.jpg', 'Files/Chips/ChipsDefected/CHIPS0083.jpg', 'Files/Chips/ChipsDefected/CHIPS0025.jpg', 'Files/Chips/ChipsDefected/CHIPS0029.jpg', 'Files/Chips/ChipsDefected/CHIPS0038.jpg', 'Files/Chips/ChipsDefected/CHIPS0087.jpg', 'Files/Chips/ChipsDefected/CHIPS0043.jpg', 'Files/Chips/ChipsDefected/CHIPS0148.jpg', 'Files/Chips/ChipsPerfect/CHIPS0082.jpg', 'Files/Chips/ChipsPerfect/6901845042993_camera2-24.jpg', 'Files/Chips/ChipsPerfect/CHIPS0149.jpg', 'Files/Chips/ChipsPerfect/CHIPS0142.jpg', 'Files/Chips/ChipsPerfect/CHIPS0084.jpg', 'Files/Chips/ChipsPerfect/CHIPS0156.jpg', 'Files/Chips/ChipsPerfect/6901845042993_camera1-18.jpg', 'Files/Chips/ChipsPerfect/CHIPS0078.jpg', 'Files/Chips/ChipsPerfect/CHIPS0119.jpg', 'Files/Chips/ChipsPerfect/6901845042993_camera0-21.jpg', 'Files/Chips/ChipsPerfect/CHIPS0033.jpg', 'Files/Chips/ChipsPerfect/CHIPS0090.jpg', 'Files/Chips/ChipsPerfect/CHIPS0088.jpg', 'Files/Chips/ChipsPerfect/CHIPS0032.jpg', 'Files/Chips/ChipsPerfect/CHIPS0159.jpg', 'Files/Chips/ChipsPerfect/CHIPS0115.jpg', 'Files/Chips/ChipsPerfect/CHIPS0123.jpg', 'Files/Chips/ChipsPerfect/CHIPS0145.jpg', 'Files/Chips/ChipsPerfect/CHIPS0035.jpg', 'Files/Chips/ChipsPerfect/6901845042993_camera0-25.jpg', 'Files/Chips/ChipsPerfect/CHIPS0086.jpg', 'Files/Chips/ChipsPerfect/CHIPS0100.jpg', 'Files/Chips/ChipsPerfect/CHIPS0080.jpg', 'Files/Chips/ChipsPerfect/CHIPS0076.jpg', 'Files/Chips/ChipsPerfect/CHIPS0057.jpg', 'Files/Chips/ChipsPerfect/CHIPS0045.jpg', 'Files/Chips/ChipsPerfect/CHIPS0063.jpg', 'Files/Chips/ChipsPerfect/CHIPS0124.jpg', 'Files/Chips/ChipsPerfect/CHIPS0061.jpg', 'Files/Chips/ChipsPerfect/CHIPS0081.jpg', 'Files/Chips/ChipsPerfect/CHIPS0049.jpg', 'Files/Chips/ChipsPerfect/CHIPS0114.jpg', 'Files/Chips/ChipsPerfect/6901845042993_camera1-9.jpg', 'Files/Chips/ChipsPerfect/CHIPS0034.jpg', 'Files/Chips/ChipsPerfect/CHIPS0105.jpg', 'Files/Chips/ChipsPerfect/CHIPS0163.jpg', 'Files/Chips/ChipsPerfect/CHIPS0064.jpg', 'Files/Chips/ChipsPerfect/CHIPS0135.jpg', 'Files/Chips/ChipsPerfect/CHIPS0050.jpg', 'Files/Chips/ChipsPerfect/CHIPS0129.jpg', 'Files/Chips/ChipsPerfect/CHIPS0037.jpg', 'Files/Chips/ChipsPerfect/CHIPS0175.jpg', 'Files/Chips/ChipsPerfect/CHIPS0151.jpg', 'Files/Chips/ChipsPerfect/CHIPS0174.jpg', 'Files/Chips/ChipsPerfect/CHIPS0098.jpg', 'Files/Chips/ChipsPerfect/CHIPS0030.jpg', 'Files/Chips/ChipsPerfect/CHIPS0015.jpg', 'Files/Chips/ChipsPerfect/CHIPS0106.jpg', 'Files/Chips/ChipsPerfect/CHIPS0164.jpg', 'Files/Chips/ChipsPerfect/CHIPS0116.jpg', 'Files/Chips/ChipsPerfect/CHIPS0055.jpg', 'Files/Chips/ChipsPerfect/CHIPS0077.jpg', 'Files/Chips/ChipsPerfect/CHIPS0020.jpg', 'Files/Chips/ChipsPerfect/CHIPS0068.jpg', 'Files/Chips/ChipsPerfect/CHIPS0046.jpg', 'Files/Chips/ChipsPerfect/6901845042993_camera3-40.jpg', 'Files/Chips/ChipsPerfect/CHIPS0023.jpg', 'Files/Chips/ChipsPerfect/CHIPS0017.jpg', 'Files/Chips/ChipsPerfect/CHIPS0152.jpg', 'Files/Chips/ChipsPerfect/CHIPS0172.jpg', 'Files/Chips/ChipsPerfect/CHIPS0096.jpg', 'Files/Chips/ChipsPerfect/CHIPS0141.jpg', 'Files/Chips/ChipsPerfect/6901845042993_camera2-30.jpg', 'Files/Chips/ChipsPerfect/CHIPS0040.jpg', 'Files/Chips/ChipsPerfect/CHIPS0143.jpg', 'Files/Chips/ChipsPerfect/CHIPS0070.jpg', 'Files/Chips/ChipsPerfect/CHIPS0060.jpg', 'Files/Chips/ChipsPerfect/CHIPS0058.jpg', 'Files/Chips/ChipsPerfect/6901845042993_camera0-34.jpg', 'Files/Chips/ChipsPerfect/6901845042993_camera0-10.jpg', 'Files/Chips/ChipsPerfect/CHIPS0117.jpg', 'Files/Chips/ChipsPerfect/CHIPS0054.jpg', 'Files/Chips/ChipsPerfect/CHIPS0069.jpg', 'Files/Chips/ChipsPerfect/CHIPS0010.jpg', 'Files/Chips/ChipsPerfect/CHIPS0138.jpg', 'Files/Chips/ChipsPerfect/CHIPS0170.jpg', 'Files/Chips/ChipsPerfect/CHIPS0067.jpg', 'Files/Chips/ChipsPerfect/CHIPS0136.jpg', 'Files/Chips/ChipsPerfect/CHIPS0171.jpg', 'Files/Chips/ChipsPerfect/CHIPS0005.jpg', 'Files/Chips/ChipsPerfect/CHIPS0122.jpg', 'Files/Chips/ChipsPerfect/CHIPS0047.jpg', 'Files/Chips/ChipsPerfect/CHIPS0177.jpg', 'Files/Chips/ChipsPerfect/CHIPS0065.jpg', 'Files/Chips/ChipsPerfect/CHIPS0092.jpg', 'Files/Chips/ChipsPerfect/CHIPS0021.jpg', 'Files/Chips/ChipsPerfect/CHIPS0073.jpg', 'Files/Chips/ChipsPerfect/CHIPS0173.jpg', 'Files/Chips/ChipsPerfect/CHIPS0019.jpg', 'Files/Chips/ChipsPerfect/CHIPS0062.jpg', 'Files/Chips/ChipsPerfect/CHIPS0012.jpg', 'Files/Chips/ChipsPerfect/CHIPS0154.jpg', 'Files/Chips/ChipsPerfect/CHIPS0107.jpg', 'Files/Chips/ChipsPerfect/CHIPS0131.jpg', 'Files/Chips/ChipsPerfect/CHIPS0089.jpg', 'Files/Chips/ChipsPerfect/CHIPS0178.jpg', 'Files/Chips/ChipsPerfect/CHIPS0108.jpg', 'Files/Chips/ChipsPerfect/CHIPS0006.jpg', 'Files/Chips/ChipsPerfect/CHIPS0109.jpg', 'Files/Chips/ChipsPerfect/CHIPS0048.jpg', 'Files/Chips/ChipsPerfect/CHIPS0167.jpg', 'Files/Chips/ChipsPerfect/CHIPS0002.jpg', 'Files/Chips/ChipsPerfect/CHIPS0007.jpg', 'Files/Chips/ChipsPerfect/CHIPS0024.jpg', 'Files/Chips/ChipsPerfect/CHIPS0072.jpg', 'Files/Chips/ChipsPerfect/CHIPS0036.jpg', 'Files/Chips/ChipsPerfect/CHIPS0120.jpg', 'Files/Chips/ChipsPerfect/CHIPS0153.jpg', 'Files/Chips/ChipsPerfect/CHIPS0053.jpg', 'Files/Chips/ChipsPerfect/CHIPS0160.jpg', 'Files/Chips/ChipsPerfect/CHIPS0052.jpg', 'Files/Chips/ChipsPerfect/CHIPS0026.jpg', 'Files/Chips/ChipsPerfect/CHIPS0044.jpg', 'Files/Chips/ChipsPerfect/CHIPS0169.jpg', 'Files/Chips/ChipsPerfect/CHIPS0008.jpg', 'Files/Chips/ChipsPerfect/CHIPS0162.jpg', 'Files/Chips/ChipsPerfect/CHIPS0016.jpg', 'Files/Chips/ChipsPerfect/CHIPS0127.jpg', 'Files/Chips/ChipsPerfect/CHIPS0003.jpg', 'Files/Chips/ChipsPerfect/CHIPS0112.jpg', 'Files/Chips/ChipsPerfect/6901845042993_camera3-4.jpg', 'Files/Chips/ChipsPerfect/CHIPS0027.jpg', 'Files/Chips/ChipsPerfect/CHIPS0071.jpg', 'Files/Chips/ChipsPerfect/CHIPS0041.jpg', 'Files/Chips/ChipsPerfect/CHIPS0125.jpg', 'Files/Chips/ChipsPerfect/CHIPS0132.jpg', 'Files/Chips/ChipsPerfect/6901845042993_camera2-13.jpg', 'Files/Chips/ChipsPerfect/CHIPS0110.jpg', 'Files/Chips/ChipsPerfect/CHIPS0121.jpg', 'Files/Chips/ChipsPerfect/CHIPS0128.jpg', 'Files/Chips/ChipsPerfect/CHIPS0161.jpg', 'Files/Chips/ChipsPerfect/CHIPS0137.jpg', 'Files/Chips/ChipsPerfect/CHIPS0101.jpg', 'Files/Chips/ChipsPerfect/CHIPS0018.jpg', 'Files/Chips/ChipsPerfect/CHIPS0130.jpg', 'Files/Chips/ChipsPerfect/CHIPS0097.jpg', 'Files/Chips/ChipsPerfect/CHIPS0147.jpg', 'Files/Chips/ChipsPerfect/CHIPS0009.jpg', 'Files/Chips/ChipsPerfect/CHIPS0039.jpg', 'Files/Chips/ChipsPerfect/CHIPS0168.jpg', 'Files/Chips/ChipsPerfect/CHIPS0139.jpg', 'Files/Chips/ChipsPerfect/CHIPS0144.jpg', 'Files/Chips/ChipsPerfect/CHIPS0146.jpg', 'Files/Chips/ChipsPerfect/CHIPS0074.jpg', 'Files/Chips/ChipsPerfect/CHIPS0126.jpg', 'Files/Chips/ChipsPerfect/CHIPS0133.jpg', 'Files/Chips/ChipsPerfect/CHIPS0013.jpg', 'Files/Chips/ChipsPerfect/CHIPS0095.jpg', 'Files/Chips/ChipsPerfect/CHIPS0051.jpg', 'Files/Chips/ChipsPerfect/CHIPS0166.jpg', 'Files/Chips/ChipsPerfect/CHIPS0001.jpg', 'Files/Chips/ChipsPerfect/CHIPS0158.jpg', 'Files/Chips/ChipsPerfect/CHIPS0085.jpg', 'Files/Chips/ChipsPerfect/CHIPS0165.jpg', 'Files/Chips/ChipsPerfect/CHIPS0176.jpg', 'Files/Chips/ChipsPerfect/CHIPS0028.jpg', 'Files/Chips/ChipsPerfect/CHIPS0102.jpg', 'Files/Chips/ChipsPerfect/CHIPS0150.jpg', 'Files/Chips/ChipsPerfect/CHIPS0091.jpg', 'Files/Chips/ChipsPerfect/CHIPS0111.jpg', 'Files/Chips/ChipsPerfect/CHIPS0180.jpg', 'Files/Chips/ChipsPerfect/CHIPS0140.jpg', 'Files/Chips/ChipsPerfect/CHIPS0000.jpg', 'Files/Chips/ChipsPerfect/CHIPS0155.jpg', 'Files/Chips/ChipsPerfect/CHIPS0014.jpg', 'Files/Chips/ChipsPerfect/6901845042993_camera3-18.jpg', 'Files/Chips/ChipsPerfect/CHIPS0011.jpg', 'Files/Chips/ChipsPerfect/6901845042993_camera1-1.jpg', 'Files/Chips/ChipsPerfect/6901845042993_camera0-1.jpg', 'Files/Chips/ChipsPerfect/CHIPS0104.jpg', 'Files/Chips/ChipsPerfect/CHIPS0059.jpg', 'Files/Chips/ChipsPerfect/CHIPS0031.jpg', 'Files/Chips/ChipsPerfect/CHIPS0066.jpg', 'Files/Chips/ChipsPerfect/CHIPS0113.jpg', 'Files/Chips/ChipsPerfect/CHIPS0083.jpg', 'Files/Chips/ChipsPerfect/CHIPS0025.jpg', 'Files/Chips/ChipsPerfect/CHIPS0103.jpg', 'Files/Chips/ChipsPerfect/CHIPS0029.jpg', 'Files/Chips/ChipsPerfect/CHIPS0042.jpg', 'Files/Chips/ChipsPerfect/CHIPS0157.jpg', 'Files/Chips/ChipsPerfect/CHIPS0118.jpg', 'Files/Chips/ChipsPerfect/CHIPS0134.jpg', 'Files/Chips/ChipsPerfect/CHIPS0094.jpg', 'Files/Chips/ChipsPerfect/CHIPS0056.jpg', 'Files/Chips/ChipsPerfect/CHIPS0038.jpg', 'Files/Chips/ChipsPerfect/CHIPS0087.jpg', 'Files/Chips/ChipsPerfect/CHIPS0179.jpg', 'Files/Chips/ChipsPerfect/CHIPS0004.jpg', 'Files/Chips/ChipsPerfect/CHIPS0043.jpg', 'Files/Chips/ChipsPerfect/CHIPS0099.jpg', 'Files/Chips/ChipsPerfect/CHIPS0075.jpg', 'Files/Chips/ChipsPerfect/CHIPS0148.jpg', 'Files/Chips/ChipsPerfect/CHIPS0022.jpg', 'Files/Chips/ChipsPerfect/CHIPS0079.jpg', 'Files/Chips/ChipsPerfect/CHIPS0093.jpg', 'Files/Bread/BreadPerfect/6911988005397_camera3-40.jpg', 'Files/Bread/BreadPerfect/6956367187172_camera1-35.jpg', 'Files/Bread/BreadPerfect/6956367187172_camera3-6.jpg', 'Files/Bread/BreadPerfect/6956367187172_camera0-10.jpg', 'Files/Bread/BreadPerfect/6956367187172_camera0-29.jpg', 'Files/Bread/BreadPerfect/6911988005397_camera3-11.jpg', 'Files/Bread/BreadPerfect/6956367187172_camera3-40.jpg', 'Files/Bread/BreadPerfect/6956367187172_camera0-21.jpg', 'Files/Bread/BreadPerfect/6956367187172_camera1-10.jpg', 'Files/Bread/BreadPerfect/6911988005397_camera0-1.jpg', 'Files/Bread/BreadPerfect/6956367187172_camera2-9.jpg', 'Files/Bread/BreadPerfect/6956367187172_camera2-33.jpg', 'Files/Bread/BreadPerfect/6956367187172_camera1-1.jpg', 'Files/Bread/BreadPerfect/6956367187172_camera3-31.jpg', 'Files/Bread/BreadPerfect/6911988005397_camera3-1.jpg', 'Files/Bread/BreadPerfect/6911988005397_camera2-2.jpg', 'Files/Bread/BreadPerfect/6911988005397_camera1-15.jpg', 'Files/Bread/BreadPerfect/6911988005397-back_camera1-18.jpg', 'Files/Bread/BreadPerfect/6956367187172_camera1-22.jpg', 'Files/Bread/BreadPerfect/6911988005397_camera3-28.jpg', 'Files/Bread/BreadPerfect/6911988005397_camera0-11.jpg', 'Files/Bread/BreadPerfect/6911988005397_camera0-24.jpg', 'Files/Bread/BreadPerfect/6911988005397-back_camera1-9.jpg', 'Files/Bread/BreadPerfect/6911988005397_camera1-1.jpg', 'Files/Bread/BreadPerfect/6956367187172-back_camera2-40.jpg', 'Files/Bread/BreadPerfect/6911988005397_camera2-19.jpg', 'Files/Bread/BreadDefected/6911988005397_camera3-40.jpg', 'Files/Bread/BreadDefected/6956367187172_camera3-40.jpg', 'Files/Bread/BreadDefected/6956367187172_camera1-1.jpg', 'Files/Bread/BreadDefected/6911988005397_camera1-15.jpg', 'Files/Bread/BreadDefected/6911988005397_camera3-28.jpg', 'Files/Chocolate/ChocolatePerfect/6914973608306~A_camera2-27.jpg', 'Files/Chocolate/ChocolatePerfect/6942836705916_camera2-30.jpg', 'Files/Chocolate/ChocolatePerfect/6914973607125-back_camera0-39.jpg', 'Files/Chocolate/ChocolatePerfect/6914973607125-back_camera1-19.jpg', 'Files/Chocolate/ChocolatePerfect/6914782114371_camera3-34.jpg', 'Files/Chocolate/ChocolatePerfect/6914782114371-back_camera1-15.jpg', 'Files/Chocolate/ChocolatePerfect/6914782114371_camera3-12.jpg', 'Files/Chocolate/ChocolatePerfect/6942836705435_camera1-1.jpg', 'Files/Chocolate/ChocolatePerfect/6914973607125-back_camera2-9.jpg', 'Files/Chocolate/ChocolatePerfect/6911316510005_camera3-27.jpg', 'Files/Chocolate/ChocolatePerfect/6914973607637_camera1-1.jpg', 'Files/Chocolate/ChocolatePerfect/6914973607125-back_camera3-13.jpg', 'Files/Chocolate/ChocolatePerfect/6942836705916_camera3-19.jpg', 'Files/Chocolate/ChocolatePerfect/6942836705435_camera2-26.jpg', 'Files/Chocolate/ChocolatePerfect/6914973603394-back_camera1-38.jpg', 'Files/Chocolate/ChocolatePerfect/6942836705435_camera3-24.jpg', 'Files/Chocolate/ChocolatePerfect/69019388_camera2-40.jpg', 'Files/Chocolate/ChocolatePerfect/6942836705435_camera3-36.jpg', 'Files/Chocolate/ChocolatePerfect/6914973603394-back_camera0-14.jpg', 'Files/Chocolate/ChocolatePerfect/6942836705435_camera3-1.jpg', 'Files/Chocolate/ChocolatePerfect/6914973607125_camera2-26.jpg', 'Files/Chocolate/ChocolatePerfect/6942836705435_camera2-40.jpg', 'Files/Chocolate/ChocolatePerfect/6914973607637-back_camera0-1.jpg', 'Files/Chocolate/ChocolatePerfect/6942836705916_camera0-19.jpg', 'Files/Chocolate/ChocolatePerfect/6914973607637-back_camera3-40.jpg', 'Files/Chocolate/ChocolatePerfect/6914973603394-back_camera1-22.jpg', 'Files/Chocolate/ChocolatePerfect/6914973607125-back_camera1-18.jpg', 'Files/Chocolate/ChocolatePerfect/6914973608351-back_camera2-19.jpg', 'Files/Chocolate/ChocolatePerfect/6911316380271-back_camera2-30.jpg', 'Files/Chocolate/ChocolatePerfect/6914973608351-back_camera2-8.jpg', 'Files/Chocolate/ChocolatePerfect/6914973607637-back_camera2-26.jpg', 'Files/Chocolate/ChocolatePerfect/6914973607637-back_camera2-27.jpg', 'Files/Chocolate/ChocolatePerfect/6914973603394~A_camera2-18.jpg', 'Files/Chocolate/ChocolatePerfect/69019388_camera1-40.jpg', 'Files/Chocolate/ChocolatePerfect/6914973607125_camera1-20.jpg', 'Files/Chocolate/ChocolatePerfect/6942836705435_camera1-14.jpg', 'Files/Chocolate/ChocolatePerfect/6942836705916_camera1-40.jpg', 'Files/Chocolate/ChocolatePerfect/6942836705916_camera2-1.jpg', 'Files/Chocolate/ChocolatePerfect/6914782114371-back_camera0-1.jpg', 'Files/Chocolate/ChocolatePerfect/6914973603394~A_camera3-1.jpg', 'Files/Chocolate/ChocolatePerfect/6914973607637_camera0-19.jpg', 'Files/Chocolate/ChocolatePerfect/6914973607125_camera1-17.jpg', 'Files/Chocolate/ChocolatePerfect/6914973608306~A_camera1-33.jpg', 'Files/Chocolate/ChocolatePerfect/6914973608351-back_camera1-18.jpg', 'Files/Chocolate/ChocolatePerfect/6914973607637-back_camera2-37.jpg', 'Files/Chocolate/ChocolatePerfect/6942836705916_camera2-40.jpg', 'Files/Chocolate/ChocolatePerfect/6914973608306~A~back_camera2-2.jpg', 'Files/Chocolate/ChocolatePerfect/6911316380288_camera3-32.jpg', 'Files/Chocolate/ChocolatePerfect/6914973608351-back_camera1-28.jpg', 'Files/Chocolate/ChocolatePerfect/6914973607637_camera0-40.jpg', 'Files/Chocolate/ChocolatePerfect/6914782114371_camera3-40.jpg', 'Files/Chocolate/ChocolatePerfect/6914973607125-back_camera2-31.jpg', 'Files/Chocolate/ChocolatePerfect/6911316380271_camera2-10.jpg', 'Files/Chocolate/ChocolatePerfect/6914973603394-back_camera3-12.jpg', 'Files/Chocolate/ChocolatePerfect/6911316380288-back_camera0-23.jpg', 'Files/Chocolate/ChocolatePerfect/6914973603394-back_camera2-25.jpg', 'Files/Chocolate/ChocolatePerfect/6942836705435_camera3-18.jpg', 'Files/Chocolate/ChocolatePerfect/6914782114371_camera1-19.jpg', 'Files/Chocolate/ChocolatePerfect/6914782114371_camera2-40.jpg', 'Files/Chocolate/ChocolatePerfect/6914973608351-back_camera3-40.jpg', 'Files/Chocolate/ChocolatePerfect/6914973608306~A_camera1-10.jpg', 'Files/Chocolate/ChocolatePerfect/6914973607637-back_camera2-1.jpg', 'Files/Chocolate/ChocolatePerfect/6914782114371_camera2-17.jpg', 'Files/Chocolate/ChocolatePerfect/6914973607125-back_camera3-34.jpg', 'Files/Chocolate/ChocolatePerfect/69019388_camera1-15.jpg', 'Files/Chocolate/ChocolatePerfect/6942836705916_camera3-1.jpg', 'Files/Chocolate/ChocolatePerfect/6911316380271_camera1-12.jpg', 'Files/Chocolate/ChocolatePerfect/6914973607125_camera2-27.jpg', 'Files/Chocolate/ChocolatePerfect/69019388_camera3-35.jpg', 'Files/Chocolate/ChocolatePerfect/6911316510005-back_camera0-30.jpg', 'Files/Chocolate/ChocolatePerfect/6911316380271_camera0-20.jpg', 'Files/Chocolate/ChocolatePerfect/6911316380288-back_camera1-21.jpg', 'Files/Chocolate/ChocolatePerfect/6942836705435_camera3-23.jpg', 'Files/Chocolate/ChocolatePerfect/6914973608306~A_camera0-1.jpg', 'Files/Chocolate/ChocolatePerfect/6914973607125-back_camera3-23.jpg', 'Files/Chocolate/ChocolatePerfect/6914973608351-back_camera1-10.jpg', 'Files/Chocolate/ChocolatePerfect/6942836705916_camera1-17.jpg', 'Files/Chocolate/ChocolatePerfect/6942836705916_camera1-39.jpg', 'Files/Chocolate/ChocolatePerfect/6907992632483_camera0-25.jpg', 'Files/Chocolate/ChocolatePerfect/6942836705916_camera1-1.jpg', 'Files/Chocolate/ChocolatePerfect/6914973607125_camera1-5.jpg', 'Files/Chocolate/ChocolatePerfect/6914973607637-back_camera1-17.jpg', 'Files/Chocolate/ChocolatePerfect/6914782114371-back_camera2-20.jpg', 'Files/Chocolate/ChocolatePerfect/6911316380288-back_camera0-1.jpg', 'Files/Chocolate/ChocolatePerfect/6914973607637_camera0-30.jpg', 'Files/Chocolate/ChocolatePerfect/6911316380271_camera3-5.jpg', 'Files/Chocolate/ChocolatePerfect/6914973607125-back_camera2-20.jpg', 'Files/Chocolate/ChocolatePerfect/6914973607637-back_camera1-1.jpg', 'Files/Chocolate/ChocolatePerfect/6911316380271_camera3-40.jpg', 'Files/Chocolate/ChocolatePerfect/6907992632483_camera2-15.jpg', 'Files/Chocolate/ChocolatePerfect/6914973607637_camera1-27.jpg', 'Files/Chocolate/ChocolatePerfect/6914973603394-back_camera3-1.jpg', 'Files/Chocolate/ChocolatePerfect/6914973603394~A_camera3-31.jpg', 'Files/Chocolate/ChocolatePerfect/6914973607125-back_camera1-29.jpg', 'Files/Chocolate/ChocolatePerfect/6914782114371-back_camera3-40.jpg', 'Files/Chocolate/ChocolatePerfect/6914973603394~A_camera0-12.jpg', 'Files/Chocolate/ChocolatePerfect/6914973607637_camera0-1.jpg', 'Files/Chocolate/ChocolatePerfect/6914973607125-back_camera3-40.jpg', 'Files/Chocolate/ChocolatePerfect/6914973607125-back_camera0-1.jpg', 'Files/Chocolate/ChocolatePerfect/6914973607125_camera3-19.jpg', 'Files/Chocolate/ChocolatePerfect/6914973603394~A_camera1-27.jpg', 'Files/Chocolate/ChocolatePerfect/69019388_camera0-5.jpg', 'Files/Chocolate/ChocolatePerfect/6911316510005_camera0-13.jpg', 'Files/Chocolate/ChocolatePerfect/6911316380271-back_camera1-40.jpg', 'Files/Chocolate/ChocolatePerfect/6914973607637-back_camera0-12.jpg', 'Files/Chocolate/ChocolatePerfect/6907992632483_camera1-15.jpg', 'Files/Chocolate/ChocolatePerfect/6914782114371_camera0-13.jpg', 'Files/Chocolate/ChocolatePerfect/6911316380288_camera2-35.jpg', 'Files/Chocolate/ChocolatePerfect/6914973607637-back_camera1-20.jpg', 'Files/Chocolate/ChocolatePerfect/6914973608306~A_camera3-40.jpg', 'Files/Chocolate/ChocolatePerfect/6914973603394-back_camera3-32.jpg', 'Files/Chocolate/ChocolatePerfect/6942836705435_camera3-10.jpg', 'Files/Chocolate/ChocolatePerfect/6914973603394~A_camera3-7.jpg', 'Files/Chocolate/ChocolatePerfect/6942836705435_camera1-15.jpg', 'Files/Chocolate/ChocolatePerfect/6914973607637_camera0-10.jpg', 'Files/Chocolate/ChocolatePerfect/6911316510005-back_camera3-40.jpg', 'Files/Chocolate/ChocolatePerfect/69019388_camera1-1.jpg', 'Files/Chocolate/ChocolatePerfect/6942836705435_camera1-6.jpg', 'Files/Chocolate/ChocolatePerfect/6914973607637-back_camera3-8.jpg', 'Files/Chocolate/ChocolatePerfect/6942836705916_camera2-19.jpg', 'Files/Chocolate/ChocolatePerfect/6914782114371_camera0-24.jpg', 'Files/Chocolate/ChocolatePerfect/6911316510005_camera0-34.jpg', 'Files/Chocolate/ChocolatePerfect/6907992632483_camera2-39.jpg', 'Files/Chocolate/ChocolatePerfect/6914782114371_camera0-2.jpg', 'Files/Chocolate/ChocolatePerfect/6914973607125_camera3-40.jpg', 'Files/Chocolate/ChocolatePerfect/69019388_camera3-19.jpg', 'Files/Chocolate/ChocolatePerfect/6914973608306~A_camera2-1.jpg', 'Files/Chocolate/ChocolatePerfect/6914782114371-back_camera3-18.jpg', 'Files/Chocolate/ChocolatePerfect/6914973607125_camera1-11.jpg', 'Files/Chocolate/ChocolatePerfect/6914782114371_camera3-23.jpg', 'Files/Chocolate/ChocolatePerfect/6942836705435_camera3-25.jpg', 'Files/Chocolate/ChocolatePerfect/6914782114371-back_camera0-4.jpg', 'Files/Chocolate/ChocolatePerfect/6914973607125_camera3-8.jpg', 'Files/Chocolate/ChocolatePerfect/6911316380288_camera1-1.jpg', 'Files/Chocolate/ChocolatePerfect/6911316380288-back_camera2-12.jpg', 'Files/Chocolate/ChocolatePerfect/6942836705916_camera3-8.jpg', 'Files/Chocolate/ChocolatePerfect/6914973603394~A_camera3-20.jpg', 'Files/Chocolate/ChocolatePerfect/6914973607125_camera1-10.jpg', 'Files/Chocolate/ChocolatePerfect/6942836705435_camera2-34.jpg', 'Files/Chocolate/ChocolatePerfect/6914973608306~A_camera3-20.jpg', 'Files/Chocolate/ChocolatePerfect/6914973608306~A~back_camera1-2.jpg', 'Files/Chocolate/ChocolatePerfect/6914782114371_camera1-1.jpg', 'Files/Chocolate/ChocolatePerfect/6914782114371_camera0-40.jpg', 'Files/Chocolate/ChocolatePerfect/6911316510005_camera1-1.jpg', 'Files/Chocolate/ChocolatePerfect/6907992632483_camera0-1.jpg', 'Files/Chocolate/ChocolatePerfect/6914973603394~A_camera1-1.jpg', 'Files/Chocolate/ChocolatePerfect/6914782114371-back_camera3-35.jpg', 'Files/Chocolate/ChocolatePerfect/6907992632483_camera3-1.jpg', 'Files/Chocolate/ChocolatePerfect/6911316510005-back_camera3-28.jpg', 'Files/Chocolate/ChocolatePerfect/6942836705916_camera0-1.jpg', 'Files/Chocolate/ChocolatePerfect/6914973607125_camera1-1.jpg', 'Files/Chocolate/ChocolatePerfect/6914973608351-back_camera3-21.jpg', 'Files/Chocolate/ChocolatePerfect/6914782114371-back_camera3-6.jpg', 'Files/Chocolate/ChocolatePerfect/6914973607637_camera3-40.jpg', 'Files/Chocolate/ChocolatePerfect/6914973608306~A_camera3-31.jpg', 'Files/Chocolate/ChocolatePerfect/6914973607637_camera1-39.jpg', 'Files/Chocolate/ChocolatePerfect/6942836705916_camera3-33.jpg', 'Files/Chocolate/ChocolatePerfect/6914973608351-back_camera1-1.jpg', 'Files/Chocolate/ChocolatePerfect/6942836705916_camera2-8.jpg', 'Files/Chocolate/ChocolatePerfect/6942836705435_camera1-36.jpg', 'Files/Chocolate/ChocolatePerfect/6914973603394~A_camera1-12.jpg', 'Files/Chocolate/ChocolatePerfect/6914973607125_camera2-1.jpg', 'Files/Chocolate/ChocolatePerfect/6914973607637-back_camera0-38.jpg', 'Files/Chocolate/ChocolatePerfect/69019388_camera2-4.jpg', 'Files/Chocolate/ChocolatePerfect/6911316380288-back_camera3-3.jpg', 'Files/Chocolate/ChocolatePerfect/6914973608306~A_camera2-9.jpg', 'Files/Chocolate/ChocolatePerfect/6907992632483_camera3-29.jpg', 'Files/Chocolate/ChocolatePerfect/6911316380288_camera0-13.jpg', 'Files/Chocolate/ChocolatePerfect/6914973607125-back_camera1-1.jpg', 'Files/Chocolate/ChocolatePerfect/6914973607125-back_camera0-12.jpg', 'Files/Chocolate/ChocolatePerfect/6914973607125-back_camera1-11.jpg', 'Files/Chocolate/ChocolatePerfect/6942836705916_camera1-8.jpg', 'Files/Chocolate/ChocolatePerfect/6942836705435_camera0-1.jpg', 'Files/Chocolate/ChocolatePerfect/6907992632483_camera1-9.jpg', 'Files/Chocolate/ChocolatePerfect/6914782114371-back_camera3-17.jpg', 'Files/Chocolate/ChocolatePerfect/6914973603394-back_camera1-1.jpg', 'Files/Chocolate/ChocolatePerfect/6914973607125_camera0-23.jpg', 'Files/Chocolate/ChocolatePerfect/6942836705435_camera0-40.jpg', 'Files/Chocolate/ChocolatePerfect/6914973608351-back_camera0-23.jpg', 'Files/Chocolate/ChocolatePerfect/6911316380271-back_camera1-2.jpg', 'Files/Chocolate/ChocolatePerfect/6911316510005_camera3-2.jpg', 'Files/Chocolate/ChocolatePerfect/6907992632483_camera1-1.jpg', 'Files/Chocolate/ChocolatePerfect/6914973607125_camera0-1.jpg', 'Files/Chocolate/ChocolatePerfect/6914973607125_camera0-38.jpg', 'Files/Chocolate/ChocolatePerfect/69019388_camera0-32.jpg', 'Files/Chocolate/ChocolatePerfect/6914973607637_camera1-12.jpg', 'Files/Chocolate/ChocolatePerfect/6914973603394-back_camera3-40.jpg', 'Files/Chocolate/ChocolatePerfect/6942836705916_camera1-31.jpg', 'Files/Chocolate/ChocolatePerfect/6914973608306~A_camera0-12.jpg', 'Files/Chocolate/ChocolatePerfect/6914782114371-back_camera1-40.jpg', 'Files/Chocolate/ChocolatePerfect/6911316510005_camera1-33.jpg', 'Files/Chocolate/ChocolatePerfect/6914973607125_camera0-12.jpg', 'Files/Chocolate/ChocolatePerfect/6914973607637-back_camera3-19.jpg', 'Files/Chocolate/ChocolatePerfect/6914973608306~A_camera2-40.jpg', 'Files/Chocolate/ChocolatePerfect/6914782114371-back_camera0-15.jpg', 'Files/Chocolate/ChocolatePerfect/6914782114371_camera0-1.jpg', 'Files/Chocolate/ChocolatePerfect/6907992632483_camera3-40.jpg', 'Files/Chocolate/ChocolatePerfect/6914782114371_camera1-18.jpg', 'Files/Chocolate/ChocolatePerfect/6914973603394~A_camera0-1.jpg', 'Files/Chocolate/ChocolatePerfect/6914782114371_camera1-37.jpg', 'Files/Chocolate/ChocolatePerfect/6914973607637-back_camera0-23.jpg', 'Files/Chocolate/ChocolatePerfect/6911316510005_camera0-3.jpg', 'Files/Chocolate/ChocolatePerfect/6942836705435_camera1-25.jpg', 'Files/Chocolate/ChocolatePerfect/6911316510005_camera1-15.jpg', 'Files/Chocolate/ChocolatePerfect/6942836705916_camera1-24.jpg', 'Files/Chocolate/ChocolatePerfect/6914973603394-back_camera0-4.jpg', 'Files/Chocolate/ChocolatePerfect/6911316510005_camera2-40.jpg', 'Files/Chocolate/ChocolatePerfect/6911316380271_camera0-10.jpg', 'Files/Chocolate/ChocolatePerfect/6914973608306~A~back_camera1-12.jpg', 'Files/Chocolate/ChocolatePerfect/6911316380288_camera1-29.jpg', 'Files/Chocolate/ChocolatePerfect/6914973607125_camera2-37.jpg', 'Files/Chocolate/ChocolatePerfect/6914973608306~A~back_camera2-13.jpg', 'Files/Chocolate/ChocolatePerfect/6914782114371-back_camera3-26.jpg', 'Files/Chocolate/ChocolatePerfect/6914973608351-back_camera2-33.jpg', 'Files/Chocolate/ChocolatePerfect/6914973603394-back_camera1-11.jpg', 'Files/Chocolate/ChocolatePerfect/6914973603394~A_camera3-40.jpg', 'Files/Chocolate/ChocolatePerfect/6911316510005_camera3-40.jpg', 'Files/Chocolate/ChocolatePerfect/6914973603394~A_camera2-29.jpg', 'Files/Chocolate/ChocolatePerfect/6942836705435_camera2-17.jpg', 'Files/Chocolate/ChocolatePerfect/6942836705435_camera2-6.jpg', 'Files/Chocolate/ChocolatePerfect/6914973607125-back_camera2-35.jpg', 'Files/Chocolate/ChocolatePerfect/6914782114371_camera3-1.jpg', 'Files/Chocolate/ChocolatePerfect/6942836705435_camera3-40.jpg', 'Files/Chocolate/ChocolatePerfect/6914973603394-back_camera2-9.jpg', 'Files/Chocolate/ChocolatePerfect/6914973607637-back_camera1-5.jpg', 'Files/Chocolate/ChocolatePerfect/6907992632483_camera1-30.jpg', 'Files/Chocolate/ChocolatePerfect/6914973608351-back_camera0-11.jpg', 'Files/Chocolate/ChocolatePerfect/6942836705916_camera3-40.jpg', 'Files/Chocolate/ChocolatePerfect/6914973603394-back_camera0-1.jpg', 'Files/Chocolate/ChocolatePerfect/6911316380271-back_camera0-16.jpg', 'Files/Chocolate/ChocolatePerfect/6911316510005-back_camera3-8.jpg', 'Files/Chocolate/ChocolatePerfect/6914973608351-back_camera0-1.jpg', 'Files/Chocolate/ChocolatePerfect/6914782114371-back_camera1-4.jpg', 'Files/Chocolate/ChocolatePerfect/6911316510005_camera2-11.jpg', 'Files/Chocolate/ChocolatePerfect/6914973608306~A_camera1-1.jpg', 'Files/Chocolate/ChocolatePerfect/6911316380271-back_camera0-32.jpg', 'Files/Chocolate/ChocolatePerfect/6911316380271-back_camera0-10.jpg', 'Files/Chocolate/ChocolatePerfect/6911316380288-back_camera1-1.jpg', 'Files/Chocolate/ChocolatePerfect/6911316380271_camera2-1.jpg', 'Files/Chocolate/ChocolatePerfect/6942836705916_camera0-40.jpg', 'Files/Chocolate/ChocolatePerfect/6914973607637-back_camera1-10.jpg', 'Files/Chocolate/ChocolateDefected/6914973607125-back_camera2-9.jpg', 'Files/Chocolate/ChocolateDefected/69019388_camera2-40.jpg', 'Files/Chocolate/ChocolateDefected/6914973603394-back_camera0-14.jpg', 'Files/Chocolate/ChocolateDefected/6914973608351-back_camera2-8.jpg', 'Files/Chocolate/ChocolateDefected/6914973607125_camera1-20.jpg', 'Files/Chocolate/ChocolateDefected/6942836705916_camera1-40.jpg', 'Files/Chocolate/ChocolateDefected/6914973608306~A~back_camera2-2.jpg', 'Files/Chocolate/ChocolateDefected/6911316380288_camera3-32.jpg', 'Files/Chocolate/ChocolateDefected/6911316380288-back_camera0-23.jpg', 'Files/Chocolate/ChocolateDefected/6914973603394-back_camera2-25.jpg', 'Files/Chocolate/ChocolateDefected/6914782114371_camera1-19.jpg', 'Files/Chocolate/ChocolateDefected/6914782114371_camera2-40.jpg', 'Files/Chocolate/ChocolateDefected/6911316380271_camera1-12.jpg', 'Files/Chocolate/ChocolateDefected/6914973607125_camera2-27.jpg', 'Files/Chocolate/ChocolateDefected/69019388_camera3-35.jpg', 'Files/Chocolate/ChocolateDefected/6911316510005-back_camera0-30.jpg', 'Files/Chocolate/ChocolateDefected/6911316380288-back_camera1-21.jpg', 'Files/Chocolate/ChocolateDefected/6942836705916_camera1-39.jpg', 'Files/Chocolate/ChocolateDefected/6914782114371-back_camera2-20.jpg', 'Files/Chocolate/ChocolateDefected/6914973607637_camera0-30.jpg', 'Files/Chocolate/ChocolateDefected/6911316380271_camera3-5.jpg', 'Files/Chocolate/ChocolateDefected/6914973607637_camera1-27.jpg', 'Files/Chocolate/ChocolateDefected/6911316510005_camera0-13.jpg', 'Files/Chocolate/ChocolateDefected/6911316380271-back_camera1-40.jpg', 'Files/Chocolate/ChocolateDefected/69019388_camera1-1.jpg', 'Files/Chocolate/ChocolateDefected/6914973607637-back_camera3-8.jpg', 'Files/Chocolate/ChocolateDefected/Untitled.jpg', 'Files/Chocolate/ChocolateDefected/6914973608306~A_camera3-20.jpg', 'Files/Chocolate/ChocolateDefected/6914782114371_camera1-1.jpg', 'Files/Chocolate/ChocolateDefected/6907992632483_camera0-1.jpg', 'Files/Chocolate/ChocolateDefected/6914973607125_camera1-1.jpg', 'Files/Chocolate/ChocolateDefected/6914973608351-back_camera1-1.jpg', 'Files/Chocolate/ChocolateDefected/6942836705435_camera1-36.jpg', 'Files/Chocolate/ChocolateDefected/6907992632483_camera3-29.jpg', 'Files/Chocolate/ChocolateDefected/6914973607125-back_camera1-1.jpg', 'Files/Chocolate/ChocolateDefected/6942836705916_camera1-8.jpg', 'Files/Chocolate/ChocolateDefected/6942836705435_camera0-1.jpg', 'Files/Chocolate/ChocolateDefected/6911316380271-back_camera1-2.jpg', 'Files/Chocolate/ChocolateDefected/6907992632483_camera1-1.jpg', 'Files/Chocolate/ChocolateDefected/6914973608306~A_camera2-40.jpg', 'Files/Chocolate/ChocolateDefected/6911316510005_camera1-15.jpg', 'Files/Chocolate/ChocolateDefected/6942836705916_camera1-24.jpg', 'Files/Chocolate/ChocolateDefected/6914973603394-back_camera1-11.jpg', 'Files/Chocolate/ChocolateDefected/6914973603394~A_camera2-29.jpg', 'Files/Chocolate/ChocolateDefected/6907992632483_camera1-30.jpg', 'Files/Chocolate/ChocolateDefected/6914973608351-back_camera0-1.jpg']\n"
          ],
          "name": "stdout"
        }
      ]
    },
    {
      "cell_type": "code",
      "metadata": {
        "colab": {
          "base_uri": "https://localhost:8080/"
        },
        "id": "DHhwlr5NYUOW",
        "outputId": "d7eeb2b3-4a8d-4b10-c7bf-da14bed13789"
      },
      "source": [
        "len(files)"
      ],
      "execution_count": 15,
      "outputs": [
        {
          "output_type": "execute_result",
          "data": {
            "text/plain": [
              "1794"
            ]
          },
          "metadata": {
            "tags": []
          },
          "execution_count": 15
        }
      ]
    },
    {
      "cell_type": "code",
      "metadata": {
        "id": "W58DjoO9YgTB"
      },
      "source": [
        "shuffle = np.random.permutation(len(files))"
      ],
      "execution_count": 16,
      "outputs": []
    },
    {
      "cell_type": "code",
      "metadata": {
        "colab": {
          "base_uri": "https://localhost:8080/"
        },
        "id": "ZiEPSAWaajzZ",
        "outputId": "0ad44de1-8fc3-408c-f4f9-b71268b32fb4"
      },
      "source": [
        "len(shuffle)"
      ],
      "execution_count": 17,
      "outputs": [
        {
          "output_type": "execute_result",
          "data": {
            "text/plain": [
              "1794"
            ]
          },
          "metadata": {
            "tags": []
          },
          "execution_count": 17
        }
      ]
    },
    {
      "cell_type": "code",
      "metadata": {
        "colab": {
          "base_uri": "https://localhost:8080/"
        },
        "id": "T4HTkv5DYgQG",
        "outputId": "dc147b5a-3cdc-4049-8993-d90649f1fca3"
      },
      "source": [
        "len(shuffle)*0.3"
      ],
      "execution_count": 18,
      "outputs": [
        {
          "output_type": "execute_result",
          "data": {
            "text/plain": [
              "538.1999999999999"
            ]
          },
          "metadata": {
            "tags": []
          },
          "execution_count": 18
        }
      ]
    },
    {
      "cell_type": "code",
      "metadata": {
        "colab": {
          "base_uri": "https://localhost:8080/"
        },
        "id": "r7tO7ytEYgNn",
        "outputId": "3f5ffff4-d8ed-4c9b-b11b-30b454bcee56"
      },
      "source": [
        "max(shuffle)"
      ],
      "execution_count": 19,
      "outputs": [
        {
          "output_type": "execute_result",
          "data": {
            "text/plain": [
              "1793"
            ]
          },
          "metadata": {
            "tags": []
          },
          "execution_count": 19
        }
      ]
    },
    {
      "cell_type": "code",
      "metadata": {
        "id": "Z7sl3kDFYgK0"
      },
      "source": [
        "for i in ['train', 'valid']:\n",
        "    os.mkdir(os.path.join('/tmp/', i))"
      ],
      "execution_count": 20,
      "outputs": []
    },
    {
      "cell_type": "code",
      "metadata": {
        "id": "6Q8E6j4vYgId",
        "colab": {
          "base_uri": "https://localhost:8080/"
        },
        "outputId": "4a97c21b-6273-49be-e47e-d9b6972dadb6"
      },
      "source": [
        "!ls /tmp/"
      ],
      "execution_count": 21,
      "outputs": [
        {
          "output_type": "stream",
          "text": [
            "dap_multiplexer.43fb86348725.root.log.INFO.20210630-042351.50\n",
            "dap_multiplexer.INFO\n",
            "debugger_2hpi6enf49\n",
            "drivefs_ipc.0\n",
            "drivefs_ipc.0_shell\n",
            "initgoogle_syslog_dir.0\n",
            "tmpfpxz33gy\n",
            "train\n",
            "valid\n"
          ],
          "name": "stdout"
        }
      ]
    },
    {
      "cell_type": "code",
      "metadata": {
        "id": "kg25fO6sYgFN",
        "colab": {
          "base_uri": "https://localhost:8080/",
          "height": 35
        },
        "outputId": "ea638b05-239c-4587-ec26-69718cbe3b8e"
      },
      "source": [
        "files[10].split('/')[-1]"
      ],
      "execution_count": 22,
      "outputs": [
        {
          "output_type": "execute_result",
          "data": {
            "application/vnd.google.colaboratory.intrinsic+json": {
              "type": "string"
            },
            "text/plain": [
              "'6901845043112-back_camera2-16.jpg'"
            ]
          },
          "metadata": {
            "tags": []
          },
          "execution_count": 22
        }
      ]
    },
    {
      "cell_type": "code",
      "metadata": {
        "id": "CluVRVVIYgCq",
        "colab": {
          "base_uri": "https://localhost:8080/"
        },
        "outputId": "9817e058-7301-4f6c-e69e-c64b150b5a37"
      },
      "source": [
        "((np.array(df[df.index==files[10].split('/')[-1]]))).shape"
      ],
      "execution_count": 23,
      "outputs": [
        {
          "output_type": "execute_result",
          "data": {
            "text/plain": [
              "(2, 35)"
            ]
          },
          "metadata": {
            "tags": []
          },
          "execution_count": 23
        }
      ]
    },
    {
      "cell_type": "code",
      "metadata": {
        "id": "fpSPTFxqZCE2"
      },
      "source": [
        "from tqdm import tqdm"
      ],
      "execution_count": 24,
      "outputs": []
    },
    {
      "cell_type": "code",
      "metadata": {
        "id": "68T0KqC1ZCCc",
        "colab": {
          "base_uri": "https://localhost:8080/"
        },
        "outputId": "b3b307e8-7852-4d6a-b214-d7013462d722"
      },
      "source": [
        "valid_dict = {}\n",
        "valid_file_names = []\n",
        "for i in tqdm(shuffle[:52]):\n",
        "    file_name = files[i].split('/')[-1]\n",
        "    labels = np.array(df[df.index==file_name])\n",
        "    valid_dict[file_name] = labels\n",
        "    valid_file_names.append(file_name)\n",
        "    os.rename(files[i], os.path.join('/tmp/', '/tmp/valid', file_name))"
      ],
      "execution_count": 25,
      "outputs": [
        {
          "output_type": "stream",
          "text": [
            "100%|██████████| 52/52 [00:00<00:00, 1831.33it/s]\n"
          ],
          "name": "stderr"
        }
      ]
    },
    {
      "cell_type": "code",
      "metadata": {
        "id": "LwJK4Y4MnyYO",
        "colab": {
          "base_uri": "https://localhost:8080/"
        },
        "outputId": "eee84e1e-8aeb-465e-c15c-a082ec35d3f5"
      },
      "source": [
        "print(file_name)"
      ],
      "execution_count": 26,
      "outputs": [
        {
          "output_type": "stream",
          "text": [
            "6956367187172_camera1-1.jpg\n"
          ],
          "name": "stdout"
        }
      ]
    },
    {
      "cell_type": "code",
      "metadata": {
        "id": "Q02MMXagZB_u",
        "colab": {
          "base_uri": "https://localhost:8080/"
        },
        "outputId": "a87e7fd8-1f28-4ba7-95ac-32f4eb996dbe"
      },
      "source": [
        "len(glob('/tmp/valid/*.jpg'))"
      ],
      "execution_count": 27,
      "outputs": [
        {
          "output_type": "execute_result",
          "data": {
            "text/plain": [
              "52"
            ]
          },
          "metadata": {
            "tags": []
          },
          "execution_count": 27
        }
      ]
    },
    {
      "cell_type": "code",
      "metadata": {
        "id": "H52ZHFBfZB-D",
        "colab": {
          "base_uri": "https://localhost:8080/"
        },
        "outputId": "39895adb-a7ed-444c-8966-a0588c483a4c"
      },
      "source": [
        "valid_df = pd.DataFrame(valid_dict.values())"
      ],
      "execution_count": 28,
      "outputs": [
        {
          "output_type": "stream",
          "text": [
            "/usr/local/lib/python3.7/dist-packages/pandas/core/internals/construction.py:305: VisibleDeprecationWarning: Creating an ndarray from ragged nested sequences (which is a list-or-tuple of lists-or-tuples-or ndarrays with different lengths or shapes) is deprecated. If you meant to do this, you must specify 'dtype=object' when creating the ndarray\n",
            "  values = np.array([convert(v) for v in values])\n"
          ],
          "name": "stderr"
        }
      ]
    },
    {
      "cell_type": "code",
      "metadata": {
        "id": "MiYQK7-XZB8V",
        "colab": {
          "base_uri": "https://localhost:8080/",
          "height": 204
        },
        "outputId": "29649d44-c361-40bd-ff8d-37305b67b2a1"
      },
      "source": [
        "valid_df.head()"
      ],
      "execution_count": 29,
      "outputs": [
        {
          "output_type": "execute_result",
          "data": {
            "text/html": [
              "<div>\n",
              "<style scoped>\n",
              "    .dataframe tbody tr th:only-of-type {\n",
              "        vertical-align: middle;\n",
              "    }\n",
              "\n",
              "    .dataframe tbody tr th {\n",
              "        vertical-align: top;\n",
              "    }\n",
              "\n",
              "    .dataframe thead th {\n",
              "        text-align: right;\n",
              "    }\n",
              "</style>\n",
              "<table border=\"1\" class=\"dataframe\">\n",
              "  <thead>\n",
              "    <tr style=\"text-align: right;\">\n",
              "      <th></th>\n",
              "      <th>0</th>\n",
              "    </tr>\n",
              "  </thead>\n",
              "  <tbody>\n",
              "    <tr>\n",
              "      <th>0</th>\n",
              "      <td>[[0, 1, 0, 0, 0, 0, 0, 0, 0, 0, 0, 0, 0, 0, 1,...</td>\n",
              "    </tr>\n",
              "    <tr>\n",
              "      <th>1</th>\n",
              "      <td>[[0, 0, 0, 0, 0, 0, 0, 0, 1, 0, 0, 0, 0, 0, 0,...</td>\n",
              "    </tr>\n",
              "    <tr>\n",
              "      <th>2</th>\n",
              "      <td>[[0, 0, 0, 0, 0, 0, 1, 0, 0, 0, 0, 0, 0, 0, 0,...</td>\n",
              "    </tr>\n",
              "    <tr>\n",
              "      <th>3</th>\n",
              "      <td>[[0, 0, 0, 0, 0, 0, 0, 0, 0, 0, 1, 0, 0, 0, 0,...</td>\n",
              "    </tr>\n",
              "    <tr>\n",
              "      <th>4</th>\n",
              "      <td>[[0, 0, 1, 0, 0, 0, 0, 0, 0, 0, 0, 0, 0, 0, 0,...</td>\n",
              "    </tr>\n",
              "  </tbody>\n",
              "</table>\n",
              "</div>"
            ],
            "text/plain": [
              "                                                   0\n",
              "0  [[0, 1, 0, 0, 0, 0, 0, 0, 0, 0, 0, 0, 0, 0, 1,...\n",
              "1  [[0, 0, 0, 0, 0, 0, 0, 0, 1, 0, 0, 0, 0, 0, 0,...\n",
              "2  [[0, 0, 0, 0, 0, 0, 1, 0, 0, 0, 0, 0, 0, 0, 0,...\n",
              "3  [[0, 0, 0, 0, 0, 0, 0, 0, 0, 0, 1, 0, 0, 0, 0,...\n",
              "4  [[0, 0, 1, 0, 0, 0, 0, 0, 0, 0, 0, 0, 0, 0, 0,..."
            ]
          },
          "metadata": {
            "tags": []
          },
          "execution_count": 29
        }
      ]
    },
    {
      "cell_type": "code",
      "metadata": {
        "id": "yRl4mehWZB6k"
      },
      "source": [
        "valid_df.index = valid_file_names"
      ],
      "execution_count": 30,
      "outputs": []
    },
    {
      "cell_type": "code",
      "metadata": {
        "id": "zOP4MhodZBzt",
        "colab": {
          "base_uri": "https://localhost:8080/",
          "height": 204
        },
        "outputId": "b09afe77-d53f-4243-9e35-3f9169810c74"
      },
      "source": [
        "valid_df.head()"
      ],
      "execution_count": 31,
      "outputs": [
        {
          "output_type": "execute_result",
          "data": {
            "text/html": [
              "<div>\n",
              "<style scoped>\n",
              "    .dataframe tbody tr th:only-of-type {\n",
              "        vertical-align: middle;\n",
              "    }\n",
              "\n",
              "    .dataframe tbody tr th {\n",
              "        vertical-align: top;\n",
              "    }\n",
              "\n",
              "    .dataframe thead th {\n",
              "        text-align: right;\n",
              "    }\n",
              "</style>\n",
              "<table border=\"1\" class=\"dataframe\">\n",
              "  <thead>\n",
              "    <tr style=\"text-align: right;\">\n",
              "      <th></th>\n",
              "      <th>0</th>\n",
              "    </tr>\n",
              "  </thead>\n",
              "  <tbody>\n",
              "    <tr>\n",
              "      <th>6907992100272_camera1-7.jpg</th>\n",
              "      <td>[[0, 1, 0, 0, 0, 0, 0, 0, 0, 0, 0, 0, 0, 0, 1,...</td>\n",
              "    </tr>\n",
              "    <tr>\n",
              "      <th>CHIPS0073.jpg</th>\n",
              "      <td>[[0, 0, 0, 0, 0, 0, 0, 0, 1, 0, 0, 0, 0, 0, 0,...</td>\n",
              "    </tr>\n",
              "    <tr>\n",
              "      <th>6923523998019_camera0-40.jpg</th>\n",
              "      <td>[[0, 0, 0, 0, 0, 0, 1, 0, 0, 0, 0, 0, 0, 0, 0,...</td>\n",
              "    </tr>\n",
              "    <tr>\n",
              "      <th>6914973607125_camera3-8.jpg</th>\n",
              "      <td>[[0, 0, 0, 0, 0, 0, 0, 0, 0, 0, 1, 0, 0, 0, 0,...</td>\n",
              "    </tr>\n",
              "    <tr>\n",
              "      <th>6922907011528_camera0-28.jpg</th>\n",
              "      <td>[[0, 0, 1, 0, 0, 0, 0, 0, 0, 0, 0, 0, 0, 0, 0,...</td>\n",
              "    </tr>\n",
              "  </tbody>\n",
              "</table>\n",
              "</div>"
            ],
            "text/plain": [
              "                                                                              0\n",
              "6907992100272_camera1-7.jpg   [[0, 1, 0, 0, 0, 0, 0, 0, 0, 0, 0, 0, 0, 0, 1,...\n",
              "CHIPS0073.jpg                 [[0, 0, 0, 0, 0, 0, 0, 0, 1, 0, 0, 0, 0, 0, 0,...\n",
              "6923523998019_camera0-40.jpg  [[0, 0, 0, 0, 0, 0, 1, 0, 0, 0, 0, 0, 0, 0, 0,...\n",
              "6914973607125_camera3-8.jpg   [[0, 0, 0, 0, 0, 0, 0, 0, 0, 0, 1, 0, 0, 0, 0,...\n",
              "6922907011528_camera0-28.jpg  [[0, 0, 1, 0, 0, 0, 0, 0, 0, 0, 0, 0, 0, 0, 0,..."
            ]
          },
          "metadata": {
            "tags": []
          },
          "execution_count": 31
        }
      ]
    },
    {
      "cell_type": "code",
      "metadata": {
        "id": "7egK2uryggkZ"
      },
      "source": [
        "valid_df.columns = ['labels']"
      ],
      "execution_count": 32,
      "outputs": []
    },
    {
      "cell_type": "code",
      "metadata": {
        "colab": {
          "base_uri": "https://localhost:8080/"
        },
        "id": "86OC7OogoOOQ",
        "outputId": "496c5d56-6670-49e4-8b05-2283b6b7ecfa"
      },
      "source": [
        "print(labels)"
      ],
      "execution_count": 102,
      "outputs": [
        {
          "output_type": "stream",
          "text": [
            "['Label1_Beans', 'Label1_Beverage', 'Label1_Biscuits', 'Label1_Bread', 'Label1_CAKE', 'Label1_Candy', 'Label1_Cans', 'Label1_Cereal', 'Label1_Chips', 'Label1_ChipsPack', 'Label1_Chocolate', 'Label2_BeansDefected', 'Label2_BeansPerfect', 'Label2_BeverageDefected', 'Label2_BeveragePerfect', 'Label2_BiscuitDefected', 'Label2_BiscuitPefect', 'Label2_BreadDefected', 'Label2_BreadPerfect', 'Label2_CakeDefected', 'Label2_CakePerfect', 'Label2_CandyDefected', 'Label2_CandyPerfect', 'Label2_CansDefected', 'Label2_CansPerfect', 'Label2_CerealDefected', 'Label2_CerealPerfect', 'Label2_ChipsDefected', 'Label2_ChipsPackDefected', 'Label2_ChipsPackPerfect', 'Label2_ChipsPerfect', 'Label2_ChocolateDefected', 'Label2_ChocolatePerfect', 'Defected', 'Perfect']\n"
          ],
          "name": "stdout"
        }
      ]
    },
    {
      "cell_type": "code",
      "metadata": {
        "id": "VWujrinNggUE",
        "colab": {
          "base_uri": "https://localhost:8080/"
        },
        "outputId": "1cde0fc8-b502-4042-c7d3-da3825ffd654"
      },
      "source": [
        "train_dict = {}\n",
        "train_file_names = []\n",
        "for i in tqdm(shuffle[52:158 ]):\n",
        "    file_name = files[i].split('/')[-1]\n",
        "    labels = np.array(df[df.index==file_name])\n",
        "    train_dict[file_name] = labels\n",
        "    train_file_names.append(file_name)\n",
        "    os.rename(files[i], os.path.join('/tmp/', '/tmp/train', file_name))"
      ],
      "execution_count": 33,
      "outputs": [
        {
          "output_type": "stream",
          "text": [
            "100%|██████████| 106/106 [00:00<00:00, 2178.19it/s]\n"
          ],
          "name": "stderr"
        }
      ]
    },
    {
      "cell_type": "code",
      "metadata": {
        "id": "ixiaN7RCpYlV",
        "colab": {
          "base_uri": "https://localhost:8080/"
        },
        "outputId": "86d2cbbe-0eac-4588-844f-f85868e3b225"
      },
      "source": [
        "!ls \"/tmp/train\""
      ],
      "execution_count": 34,
      "outputs": [
        {
          "output_type": "stream",
          "text": [
            "4800009004827_camera0-2.jpg\t   6956367187172_camera2-33.jpg\n",
            "6901845042993_camera3-4.jpg\t   6956367187172_camera3-40.jpg\n",
            "6901845043112-back_camera2-24.jpg  6956367187172_camera3-6.jpg\n",
            "6902007030087_camera3-18.jpg\t   CAKE0010.jpg\n",
            "6907777822948_camera0-20.jpg\t   CAKE0018.jpg\n",
            "6907777822948_camera1-28.jpg\t   CAKE0035.jpg\n",
            "6907992632483_camera3-29.jpg\t   CAKE0037.jpg\n",
            "6911316380288_camera1-1.jpg\t   CAKE0038.jpg\n",
            "6911316510005_camera1-1.jpg\t   CAKE0041.jpg\n",
            "6911988005397_camera0-24.jpg\t   CAKE0063.jpg\n",
            "6914973603394~A_camera2-18.jpg\t   CAKE0075.jpg\n",
            "6914973603394-back_camera0-14.jpg  CAKE0078.jpg\n",
            "6914973607125_camera1-1.jpg\t   CAKE0092.jpg\n",
            "6914973607125_camera2-26.jpg\t   CAKE0094.jpg\n",
            "6914973607637_camera0-1.jpg\t   CAKE0131.jpg\n",
            "6914973608306~A_camera0-12.jpg\t   CAKE0132.jpg\n",
            "6922907011511-back_camera0-11.jpg  CAKE0160.jpg\n",
            "6922907011511-back_camera1-40.jpg  CEREAL0015.jpg\n",
            "6922907011511-back_camera2-11.jpg  CEREAL0016.jpg\n",
            "6922907011511-back_camera2-40.jpg  CEREAL0031.jpg\n",
            "6922907011528-back_camera0-40.jpg  CEREAL0048.jpg\n",
            "6922907011528-back_camera1-1.jpg   CEREAL0062.jpg\n",
            "6922907011528-back_camera3-34.jpg  CEREAL0077.jpg\n",
            "6922907011535_camera2-12.jpg\t   CEREAL0118.jpg\n",
            "6923450603550_camera0-40.jpg\t   CEREAL0120.jpg\n",
            "6923450603550_camera1-1.jpg\t   CEREAL0128.jpg\n",
            "6923450603550_camera1-29.jpg\t   CEREAL0138.jpg\n",
            "6923450603550_camera1-35.jpg\t   CEREAL0141.jpg\n",
            "6923450603550_camera2-1.jpg\t   CEREAL0153.jpg\n",
            "6923450603550_camera3-16.jpg\t   CEREAL0160.jpg\n",
            "6923450603550_camera3-30.jpg\t   CEREAL0172.jpg\n",
            "6923450603550_camera3-38.jpg\t   CEREAL0184.jpg\n",
            "6923450605981-back_camera0-1.jpg   CEREAL0187.jpg\n",
            "6923450605981-back_camera2-10.jpg  CEREAL0215.jpg\n",
            "6923450605981-back_camera2-25.jpg  CEREAL0237.jpg\n",
            "6923450605981-back_camera2-32.jpg  CEREAL0240.jpg\n",
            "6923450605981-back_camera3-40.jpg  CEREAL0254.jpg\n",
            "6923523998019_camera0-30.jpg\t   CEREAL0275.jpg\n",
            "6923523998019_camera0-5.jpg\t   CHIPS0002.jpg\n",
            "6923523998019_camera3-34.jpg\t   CHIPS0005.jpg\n",
            "6924743913721_camera3-23.jpg\t   CHIPS0027.jpg\n",
            "6926265301024_camera0-1.jpg\t   CHIPS0033.jpg\n",
            "6926892501033_camera0-2.jpg\t   CHIPS0043.jpg\n",
            "6926892501033_camera2-20.jpg\t   CHIPS0048.jpg\n",
            "6926892562003_camera1-9.jpg\t   CHIPS0067.jpg\n",
            "6926892562003_camera3-19.jpg\t   CHIPS0075.jpg\n",
            "6926892565080_camera0-14.jpg\t   CHIPS0076.jpg\n",
            "6926892565080_camera0-8.jpg\t   CHIPS0080.jpg\n",
            "6926892567084_camera2-11.jpg\t   CHIPS0107.jpg\n",
            "6941543400251_camera0-22.jpg\t   CHIPS0119.jpg\n",
            "6941543400251_camera2-40.jpg\t   CHIPS0128.jpg\n",
            "6956367187172_camera1-10.jpg\t   CHIPS0133.jpg\n",
            "6956367187172_camera1-1.jpg\t   CHIPS0151.jpg\n"
          ],
          "name": "stdout"
        }
      ]
    },
    {
      "cell_type": "code",
      "metadata": {
        "id": "et2uDi-VnNrF",
        "colab": {
          "base_uri": "https://localhost:8080/"
        },
        "outputId": "ae611fef-1100-4a07-98ad-cd4c392fbf55"
      },
      "source": [
        "len(train_dict)"
      ],
      "execution_count": 35,
      "outputs": [
        {
          "output_type": "execute_result",
          "data": {
            "text/plain": [
              "106"
            ]
          },
          "metadata": {
            "tags": []
          },
          "execution_count": 35
        }
      ]
    },
    {
      "cell_type": "code",
      "metadata": {
        "id": "BiMCSr7RggRU",
        "colab": {
          "base_uri": "https://localhost:8080/"
        },
        "outputId": "559970fb-ae30-4ddc-9907-ced3233e9d1b"
      },
      "source": [
        "train_df = pd.DataFrame(train_dict.values())"
      ],
      "execution_count": 36,
      "outputs": [
        {
          "output_type": "stream",
          "text": [
            "/usr/local/lib/python3.7/dist-packages/pandas/core/internals/construction.py:305: VisibleDeprecationWarning: Creating an ndarray from ragged nested sequences (which is a list-or-tuple of lists-or-tuples-or ndarrays with different lengths or shapes) is deprecated. If you meant to do this, you must specify 'dtype=object' when creating the ndarray\n",
            "  values = np.array([convert(v) for v in values])\n"
          ],
          "name": "stderr"
        }
      ]
    },
    {
      "cell_type": "code",
      "metadata": {
        "id": "i56_zbNomRvw",
        "colab": {
          "base_uri": "https://localhost:8080/",
          "height": 204
        },
        "outputId": "da78fc83-1afc-4376-fd53-d69775fbd6d1"
      },
      "source": [
        "train_df.head()"
      ],
      "execution_count": 37,
      "outputs": [
        {
          "output_type": "execute_result",
          "data": {
            "text/html": [
              "<div>\n",
              "<style scoped>\n",
              "    .dataframe tbody tr th:only-of-type {\n",
              "        vertical-align: middle;\n",
              "    }\n",
              "\n",
              "    .dataframe tbody tr th {\n",
              "        vertical-align: top;\n",
              "    }\n",
              "\n",
              "    .dataframe thead th {\n",
              "        text-align: right;\n",
              "    }\n",
              "</style>\n",
              "<table border=\"1\" class=\"dataframe\">\n",
              "  <thead>\n",
              "    <tr style=\"text-align: right;\">\n",
              "      <th></th>\n",
              "      <th>0</th>\n",
              "    </tr>\n",
              "  </thead>\n",
              "  <tbody>\n",
              "    <tr>\n",
              "      <th>0</th>\n",
              "      <td>[[0, 0, 0, 0, 0, 0, 0, 1, 0, 0, 0, 0, 0, 0, 0,...</td>\n",
              "    </tr>\n",
              "    <tr>\n",
              "      <th>1</th>\n",
              "      <td>[[0, 0, 0, 0, 0, 0, 0, 1, 0, 0, 0, 0, 0, 0, 0,...</td>\n",
              "    </tr>\n",
              "    <tr>\n",
              "      <th>2</th>\n",
              "      <td>[[0, 0, 0, 0, 1, 0, 0, 0, 0, 0, 0, 0, 0, 0, 0,...</td>\n",
              "    </tr>\n",
              "    <tr>\n",
              "      <th>3</th>\n",
              "      <td>[[0, 0, 0, 0, 0, 0, 0, 1, 0, 0, 0, 0, 0, 0, 0,...</td>\n",
              "    </tr>\n",
              "    <tr>\n",
              "      <th>4</th>\n",
              "      <td>[[0, 0, 0, 0, 0, 0, 0, 0, 0, 0, 1, 0, 0, 0, 0,...</td>\n",
              "    </tr>\n",
              "  </tbody>\n",
              "</table>\n",
              "</div>"
            ],
            "text/plain": [
              "                                                   0\n",
              "0  [[0, 0, 0, 0, 0, 0, 0, 1, 0, 0, 0, 0, 0, 0, 0,...\n",
              "1  [[0, 0, 0, 0, 0, 0, 0, 1, 0, 0, 0, 0, 0, 0, 0,...\n",
              "2  [[0, 0, 0, 0, 1, 0, 0, 0, 0, 0, 0, 0, 0, 0, 0,...\n",
              "3  [[0, 0, 0, 0, 0, 0, 0, 1, 0, 0, 0, 0, 0, 0, 0,...\n",
              "4  [[0, 0, 0, 0, 0, 0, 0, 0, 0, 0, 1, 0, 0, 0, 0,..."
            ]
          },
          "metadata": {
            "tags": []
          },
          "execution_count": 37
        }
      ]
    },
    {
      "cell_type": "code",
      "metadata": {
        "id": "5vup-JGnmm9H",
        "colab": {
          "base_uri": "https://localhost:8080/"
        },
        "outputId": "12dd4063-3e24-4ae6-e29f-5def73e680b2"
      },
      "source": [
        "train_df.columns"
      ],
      "execution_count": 38,
      "outputs": [
        {
          "output_type": "execute_result",
          "data": {
            "text/plain": [
              "RangeIndex(start=0, stop=1, step=1)"
            ]
          },
          "metadata": {
            "tags": []
          },
          "execution_count": 38
        }
      ]
    },
    {
      "cell_type": "code",
      "metadata": {
        "id": "5LSojm07mU_H"
      },
      "source": [
        "train_df.index = train_file_names"
      ],
      "execution_count": 39,
      "outputs": []
    },
    {
      "cell_type": "code",
      "metadata": {
        "id": "uHkvMHRczb5o"
      },
      "source": [
        "train_df.columns = ['labels']"
      ],
      "execution_count": 40,
      "outputs": []
    },
    {
      "cell_type": "code",
      "metadata": {
        "id": "e20EcwYBmU31"
      },
      "source": [
        "\"\"\"Generating Batches and Training \"\"\""
      ],
      "execution_count": null,
      "outputs": []
    },
    {
      "cell_type": "code",
      "metadata": {
        "id": "HBRyHpnsmUxf"
      },
      "source": [
        "import torchvision\n",
        "from glob import glob\n",
        "import os\n",
        "import matplotlib.pyplot as plt\n",
        "from torchvision import transforms\n",
        "from torchvision import models\n",
        "import torch\n",
        "from torch.autograd import Variable\n",
        "import torch.nn as nn\n",
        "from torch.optim import lr_scheduler\n",
        "from torch import optim\n",
        "from torchvision.utils import make_grid\n",
        "import time\n",
        "%matplotlib inline"
      ],
      "execution_count": 42,
      "outputs": []
    },
    {
      "cell_type": "code",
      "metadata": {
        "id": "Tr3x2KM0xzS_"
      },
      "source": [
        "from torch.utils.data import Dataset"
      ],
      "execution_count": 43,
      "outputs": []
    },
    {
      "cell_type": "code",
      "metadata": {
        "id": "bKfJYx4IxzQ1"
      },
      "source": [
        "class MultiClassFoodPackage(Dataset):\n",
        "    \n",
        "    def __init__(self, dataframe, folder_dir, transform = None):\n",
        "        \n",
        "        self.dataframe = dataframe\n",
        "        self.folder_dir = folder_dir\n",
        "        self.transform = transform\n",
        "        self.file_names = dataframe.index\n",
        "        self.labels = dataframe.labels.values.tolist()\n",
        "        \n",
        "        \n",
        "    def __len__(self):\n",
        "        return len(self.dataframe)\n",
        "    \n",
        "    \n",
        "    def __getitem__(self, index):\n",
        "        \n",
        "        image = Image.open(os.path.join(self.folder_dir, self.file_names[index]))\n",
        "        label = self.labels[index][0]\n",
        "        sample = {'image': image, 'label': label.astype(float)}\n",
        "        if self.transform:\n",
        "            image = self.transform(sample['image'])\n",
        "            sample = {'image': image, 'label': label.astype(float)}\n",
        "        \n",
        "        return sample"
      ],
      "execution_count": 44,
      "outputs": []
    },
    {
      "cell_type": "code",
      "metadata": {
        "id": "e_G1Wwr4xzN5"
      },
      "source": [
        "tfms = transforms.Compose([transforms.Resize((256, 256)),\n",
        "                           transforms.ToTensor()])"
      ],
      "execution_count": 45,
      "outputs": []
    },
    {
      "cell_type": "code",
      "metadata": {
        "id": "cGM8dQSAxzLB"
      },
      "source": [
        "train_dl = MultiClassFoodPackage(train_df, '/tmp/train/', transform = tfms)"
      ],
      "execution_count": 46,
      "outputs": []
    },
    {
      "cell_type": "code",
      "metadata": {
        "colab": {
          "base_uri": "https://localhost:8080/",
          "height": 286
        },
        "id": "Achp98aJzjYY",
        "outputId": "4674dc0e-9b27-41ff-fc7a-630c392ee2cb"
      },
      "source": [
        "plt.imshow(torchvision.utils.make_grid(train_dl[1]['image']).permute(1, 2, 0))"
      ],
      "execution_count": 47,
      "outputs": [
        {
          "output_type": "execute_result",
          "data": {
            "text/plain": [
              "<matplotlib.image.AxesImage at 0x7fe3bd128610>"
            ]
          },
          "metadata": {
            "tags": []
          },
          "execution_count": 47
        },
        {
          "output_type": "display_data",
          "data": {
            "image/png": "[encoded data removed]",
            "text/plain": [
              "<Figure size 432x288 with 1 Axes>"
            ]
          },
          "metadata": {
            "tags": [],
            "needs_background": "light"
          }
        }
      ]
    },
    {
      "cell_type": "code",
      "metadata": {
        "colab": {
          "base_uri": "https://localhost:8080/"
        },
        "id": "KzOEw4HDzjVu",
        "outputId": "16d22319-eb48-4c6e-abcc-7e1a61fe8236"
      },
      "source": [
        "(train_dl[1]['label'].astype(float))"
      ],
      "execution_count": 48,
      "outputs": [
        {
          "output_type": "execute_result",
          "data": {
            "text/plain": [
              "array([0., 0., 0., 0., 0., 0., 0., 1., 0., 0., 0., 0., 0., 0., 0., 0., 0.,\n",
              "       0., 0., 0., 0., 0., 0., 0., 0., 1., 0., 0., 0., 0., 0., 0., 0., 1.,\n",
              "       0.])"
            ]
          },
          "metadata": {
            "tags": []
          },
          "execution_count": 48
        }
      ]
    },
    {
      "cell_type": "code",
      "metadata": {
        "colab": {
          "base_uri": "https://localhost:8080/"
        },
        "id": "-0b5Hr2FzjSp",
        "outputId": "f4a53328-c075-4e7e-bee8-350f3edfa4e9"
      },
      "source": [
        "df.columns"
      ],
      "execution_count": 49,
      "outputs": [
        {
          "output_type": "execute_result",
          "data": {
            "text/plain": [
              "Index(['Label1_Beans', 'Label1_Beverage', 'Label1_Biscuits', 'Label1_Bread',\n",
              "       'Label1_CAKE', 'Label1_Candy', 'Label1_Cans', 'Label1_Cereal',\n",
              "       'Label1_Chips', 'Label1_ChipsPack', 'Label1_Chocolate',\n",
              "       'Label2_BeansDefected', 'Label2_BeansPerfect',\n",
              "       'Label2_BeverageDefected', 'Label2_BeveragePerfect',\n",
              "       'Label2_BiscuitDefected', 'Label2_BiscuitPefect',\n",
              "       'Label2_BreadDefected', 'Label2_BreadPerfect', 'Label2_CakeDefected',\n",
              "       'Label2_CakePerfect', 'Label2_CandyDefected', 'Label2_CandyPerfect',\n",
              "       'Label2_CansDefected', 'Label2_CansPerfect', 'Label2_CerealDefected',\n",
              "       'Label2_CerealPerfect', 'Label2_ChipsDefected',\n",
              "       'Label2_ChipsPackDefected', 'Label2_ChipsPackPerfect',\n",
              "       'Label2_ChipsPerfect', 'Label2_ChocolateDefected',\n",
              "       'Label2_ChocolatePerfect', 'Defected', 'Perfect'],\n",
              "      dtype='object')"
            ]
          },
          "metadata": {
            "tags": []
          },
          "execution_count": 49
        }
      ]
    },
    {
      "cell_type": "code",
      "metadata": {
        "id": "Yu2MbYSyzjLb"
      },
      "source": [
        "valid_dl = MultiClassFoodPackage(valid_df, '/tmp/valid/', transform = tfms)"
      ],
      "execution_count": 51,
      "outputs": []
    },
    {
      "cell_type": "code",
      "metadata": {
        "colab": {
          "base_uri": "https://localhost:8080/",
          "height": 286
        },
        "id": "GNw2PYcJzjHc",
        "outputId": "d41d4a8f-66bd-4fdc-b8e7-494ff5820269"
      },
      "source": [
        "plt.imshow(torchvision.utils.make_grid(valid_dl[1]['image']).permute(1,2,0))"
      ],
      "execution_count": 52,
      "outputs": [
        {
          "output_type": "execute_result",
          "data": {
            "text/plain": [
              "<matplotlib.image.AxesImage at 0x7fe3bcbee290>"
            ]
          },
          "metadata": {
            "tags": []
          },
          "execution_count": 52
        },
        {
          "output_type": "display_data",
          "data": {
            "image/png": "[encoded data removed]",
            "text/plain": [
              "<Figure size 432x288 with 1 Axes>"
            ]
          },
          "metadata": {
            "tags": [],
            "needs_background": "light"
          }
        }
      ]
    },
    {
      "cell_type": "code",
      "metadata": {
        "colab": {
          "base_uri": "https://localhost:8080/"
        },
        "id": "tLPPn1Ogzi-F",
        "outputId": "a0ea24a7-5d13-41c2-e5e8-1a056eacc2db"
      },
      "source": [
        "valid_dl[1]['label']"
      ],
      "execution_count": 53,
      "outputs": [
        {
          "output_type": "execute_result",
          "data": {
            "text/plain": [
              "array([0., 0., 0., 0., 0., 0., 0., 0., 1., 0., 0., 0., 0., 0., 0., 0., 0.,\n",
              "       0., 0., 0., 0., 0., 0., 0., 0., 0., 0., 1., 0., 0., 0., 0., 0., 1.,\n",
              "       0.])"
            ]
          },
          "metadata": {
            "tags": []
          },
          "execution_count": 53
        }
      ]
    },
    {
      "cell_type": "code",
      "metadata": {
        "id": "7AQPPAlAz_cU"
      },
      "source": [
        "import torch.nn.functional as F"
      ],
      "execution_count": 54,
      "outputs": []
    },
    {
      "cell_type": "code",
      "metadata": {
        "id": "VVDy98gNz_Zg"
      },
      "source": [
        "class MultiClassifier(nn.Module):\n",
        "    def __init__(self):\n",
        "        super(MultiClassifier, self).__init__()\n",
        "        self.ConvLayer1 = nn.Sequential(\n",
        "            nn.Conv2d(3, 64, 3), # 3, 256, 256\n",
        "            nn.MaxPool2d(2), # op: 16, 127, 127\n",
        "            nn.ReLU(), # op: 64, 127, 127\n",
        "        )\n",
        "        self.ConvLayer2 = nn.Sequential(\n",
        "            nn.Conv2d(64, 128, 3), # 64, 127, 127   \n",
        "            nn.MaxPool2d(2), #op: 128, 63, 63\n",
        "            nn.ReLU() # op: 128, 63, 63\n",
        "        )\n",
        "        self.ConvLayer3 = nn.Sequential(\n",
        "            nn.Conv2d(128, 256, 3), # 128, 63, 63\n",
        "            nn.MaxPool2d(2), #op: 256, 30, 30\n",
        "            nn.ReLU() #op: 256, 30, 30\n",
        "        )\n",
        "        self.ConvLayer4 = nn.Sequential(\n",
        "            nn.Conv2d(256, 512, 3), # 256, 30, 30\n",
        "            nn.MaxPool2d(2), #op: 512, 14, 14\n",
        "            nn.ReLU(), #op: 512, 14, 14\n",
        "            nn.Dropout(0.2)\n",
        "        )\n",
        "        self.Linear1 = nn.Linear(512 * 14 * 14, 1024)\n",
        "        self.Linear2 = nn.Linear(1024, 256)\n",
        "        self.Linear3 = nn.Linear(256, 35)\n",
        "        \n",
        "        \n",
        "    def forward(self, x):\n",
        "        x = self.ConvLayer1(x)\n",
        "        x = self.ConvLayer2(x)\n",
        "        x = self.ConvLayer3(x)\n",
        "        x = self.ConvLayer4(x)\n",
        "        x = x.view(x.size(0), -1)\n",
        "        x = self.Linear1(x)\n",
        "        x = self.Linear2(x)\n",
        "        x = self.Linear3(x)\n",
        "        return F.sigmoid(x)"
      ],
      "execution_count": 63,
      "outputs": []
    },
    {
      "cell_type": "code",
      "metadata": {
        "id": "gfmwwTbaz_XE"
      },
      "source": [
        "def check_cuda():\n",
        "    _cuda = False\n",
        "    if torch.cuda.is_available():\n",
        "        _cuda = True\n",
        "    return _cuda"
      ],
      "execution_count": 64,
      "outputs": []
    },
    {
      "cell_type": "code",
      "metadata": {
        "id": "EKQADmhmz_UL"
      },
      "source": [
        "is_cuda = check_cuda()"
      ],
      "execution_count": 65,
      "outputs": []
    },
    {
      "cell_type": "code",
      "metadata": {
        "id": "AHXabiEFz_Q4"
      },
      "source": [
        "model = MultiClassifier()\n",
        "#if is_cuda:\n",
        "    # model.cuda()"
      ],
      "execution_count": 66,
      "outputs": []
    },
    {
      "cell_type": "code",
      "metadata": {
        "colab": {
          "base_uri": "https://localhost:8080/"
        },
        "id": "jqxgWfl4z_OP",
        "outputId": "d55c3d39-df66-487f-9a70-4b8dbae38138"
      },
      "source": [
        "train_dataloader = torch.utils.data.DataLoader(train_dl, shuffle = True, batch_size = 64, num_workers = 3)\n",
        "valid_dataloader = torch.utils.data.DataLoader(valid_dl, shuffle = True, batch_size = 64, num_workers = 3)"
      ],
      "execution_count": 67,
      "outputs": [
        {
          "output_type": "stream",
          "text": [
            "/usr/local/lib/python3.7/dist-packages/torch/utils/data/dataloader.py:481: UserWarning: This DataLoader will create 3 worker processes in total. Our suggested max number of worker in current system is 2, which is smaller than what this DataLoader is going to create. Please be aware that excessive worker creation might get DataLoader running slow or even freeze, lower the worker number to avoid potential slowness/freeze if necessary.\n",
            "  cpuset_checked))\n"
          ],
          "name": "stderr"
        }
      ]
    },
    {
      "cell_type": "code",
      "metadata": {
        "id": "DsZJvZc9xh3D"
      },
      "source": [
        "\"\"\"evaluating our model based on how many correct labels our model in able to predict \n",
        "and summing the number of correct label predictions for every image to and \n",
        "then dividing it by the number of labels.\"\"\" "
      ],
      "execution_count": null,
      "outputs": []
    },
    {
      "cell_type": "code",
      "metadata": {
        "id": "jt0VA9vuz_Lt"
      },
      "source": [
        "def pred_acc(original, predicted):\n",
        "    return torch.round(predicted).eq(original).sum().numpy()/len(original)"
      ],
      "execution_count": 68,
      "outputs": []
    },
    {
      "cell_type": "code",
      "metadata": {
        "id": "O42lYUhUz_I2"
      },
      "source": [
        "criterion = nn.BCELoss()\n",
        "optimizer = optim.SGD(model.parameters(), lr = 0.001, momentum = 0.9)"
      ],
      "execution_count": 69,
      "outputs": []
    },
    {
      "cell_type": "code",
      "metadata": {
        "id": "CXOLwQyS0uii"
      },
      "source": [
        "from pprint import pprint"
      ],
      "execution_count": 70,
      "outputs": []
    },
    {
      "cell_type": "code",
      "metadata": {
        "id": "-MKnha7D0ufY"
      },
      "source": [
        "def fit_model(epochs, model, dataloader, phase = 'training', volatile = False):\n",
        "    \n",
        "    pprint(\"Epoch: {}\".format(epochs))\n",
        "\n",
        "    if phase == 'training':\n",
        "        model.train()\n",
        "        \n",
        "    if phase == 'validataion':\n",
        "        model.eval()\n",
        "        volatile = True\n",
        "        \n",
        "    running_loss = []\n",
        "    running_acc = []\n",
        "    b = 0\n",
        "    for i, data in enumerate(dataloader):\n",
        "        \n",
        "\n",
        "        inputs, target = data['image'], data['label'].float()\n",
        "        \n",
        "        inputs, target = Variable(inputs), Variable(target)\n",
        "        \n",
        "        if phase == 'training':\n",
        "            optimizer.zero_grad()\n",
        "            \n",
        "        ops = model(inputs)\n",
        "        \n",
        "        acc_ = []\n",
        "        for i, d in enumerate(ops, 0):\n",
        "           \n",
        "            acc = pred_acc(torch.Tensor.cpu(target[i]), torch.Tensor.cpu(d))\n",
        "            acc_.append(acc)\n",
        "\n",
        "        loss = criterion(ops, target)\n",
        "                \n",
        "        running_loss.append(loss.item())\n",
        "        running_acc.append(np.asarray(acc_).mean())\n",
        "        b += 1\n",
        "       \n",
        "        if phase == 'training':\n",
        "            \n",
        "            loss.backward()\n",
        "        \n",
        "            optimizer.step()\n",
        "            \n",
        "    total_batch_loss = np.asarray(running_loss).mean()\n",
        "    total_batch_acc = np.asarray(running_acc).mean()\n",
        "    \n",
        "\n",
        "    pprint(\"{} loss is {} \".format(phase,total_batch_loss))\n",
        "    pprint(\"{} accuracy is {} \".format(phase, total_batch_acc))\n",
        "    \n",
        "    return total_batch_loss, total_batch_acc"
      ],
      "execution_count": 71,
      "outputs": []
    },
    {
      "cell_type": "code",
      "metadata": {
        "colab": {
          "base_uri": "https://localhost:8080/"
        },
        "id": "z1oegTcS0ucv",
        "outputId": "7c623b69-df2f-41c0-8c89-d1e2bb95ac5d"
      },
      "source": [
        "trn_losses = []; trn_acc = []\n",
        "val_losses = []; val_acc = []\n",
        "for i in tqdm(range(1, 20)):\n",
        "    trn_l, trn_a = fit_model(i, model, train_dataloader)\n",
        "    val_l, val_a = fit_model(i, model, valid_dataloader, phase = 'validation')\n",
        "    trn_losses.append(trn_l); trn_acc.append(trn_a)\n",
        "    val_losses.append(val_l); val_acc.append(val_a)"
      ],
      "execution_count": 72,
      "outputs": [
        {
          "output_type": "stream",
          "text": [
            "\n",
            "  0%|          | 0/19 [00:00<?, ?it/s]\u001b[A"
          ],
          "name": "stderr"
        },
        {
          "output_type": "stream",
          "text": [
            "'Epoch: 1'\n"
          ],
          "name": "stdout"
        },
        {
          "output_type": "stream",
          "text": [
            "/usr/local/lib/python3.7/dist-packages/torch/utils/data/dataloader.py:481: UserWarning: This DataLoader will create 3 worker processes in total. Our suggested max number of worker in current system is 2, which is smaller than what this DataLoader is going to create. Please be aware that excessive worker creation might get DataLoader running slow or even freeze, lower the worker number to avoid potential slowness/freeze if necessary.\n",
            "  cpuset_checked))\n",
            "/usr/local/lib/python3.7/dist-packages/torch/nn/functional.py:1805: UserWarning: nn.functional.sigmoid is deprecated. Use torch.sigmoid instead.\n",
            "  warnings.warn(\"nn.functional.sigmoid is deprecated. Use torch.sigmoid instead.\")\n"
          ],
          "name": "stderr"
        },
        {
          "output_type": "stream",
          "text": [
            "'training loss is 0.6925009191036224 '\n",
            "'training accuracy is 0.4993197278911565 '\n",
            "'Epoch: 1'\n"
          ],
          "name": "stdout"
        },
        {
          "output_type": "stream",
          "text": [
            "\n",
            "  5%|▌         | 1/19 [01:14<22:14, 74.12s/it]\u001b[A"
          ],
          "name": "stderr"
        },
        {
          "output_type": "stream",
          "text": [
            "'validation loss is 0.6921073198318481 '\n",
            "'validation accuracy is 0.5115384615384616 '\n",
            "'Epoch: 2'\n",
            "'training loss is 0.6924073696136475 '\n",
            "'training accuracy is 0.5009778911564626 '\n",
            "'Epoch: 2'\n"
          ],
          "name": "stdout"
        },
        {
          "output_type": "stream",
          "text": [
            "\n",
            " 11%|█         | 2/19 [02:28<21:03, 74.32s/it]\u001b[A"
          ],
          "name": "stderr"
        },
        {
          "output_type": "stream",
          "text": [
            "'validation loss is 0.6918976902961731 '\n",
            "'validation accuracy is 0.5137362637362638 '\n",
            "'Epoch: 3'\n",
            "'training loss is 0.6920213103294373 '\n",
            "'training accuracy is 0.5029443027210885 '\n",
            "'Epoch: 3'\n"
          ],
          "name": "stdout"
        },
        {
          "output_type": "stream",
          "text": [
            "\n",
            " 16%|█▌        | 3/19 [03:44<19:53, 74.57s/it]\u001b[A"
          ],
          "name": "stderr"
        },
        {
          "output_type": "stream",
          "text": [
            "'validation loss is 0.6915531754493713 '\n",
            "'validation accuracy is 0.519230769230769 '\n",
            "'Epoch: 4'\n",
            "'training loss is 0.6917767524719238 '\n",
            "'training accuracy is 0.5114264455782314 '\n",
            "'Epoch: 4'\n"
          ],
          "name": "stdout"
        },
        {
          "output_type": "stream",
          "text": [
            "\n",
            " 21%|██        | 4/19 [05:00<18:45, 75.04s/it]\u001b[A"
          ],
          "name": "stderr"
        },
        {
          "output_type": "stream",
          "text": [
            "'validation loss is 0.6911397576332092 '\n",
            "'validation accuracy is 0.5269230769230769 '\n",
            "'Epoch: 5'\n",
            "'training loss is 0.6913543343544006 '\n",
            "'training accuracy is 0.5239795918367347 '\n",
            "'Epoch: 5'\n"
          ],
          "name": "stdout"
        },
        {
          "output_type": "stream",
          "text": [
            "\n",
            " 26%|██▋       | 5/19 [06:16<17:34, 75.29s/it]\u001b[A"
          ],
          "name": "stderr"
        },
        {
          "output_type": "stream",
          "text": [
            "'validation loss is 0.6907269358634949 '\n",
            "'validation accuracy is 0.5357142857142857 '\n",
            "'Epoch: 6'\n",
            "'training loss is 0.6908201277256012 '\n",
            "'training accuracy is 0.5283482142857143 '\n",
            "'Epoch: 6'\n"
          ],
          "name": "stdout"
        },
        {
          "output_type": "stream",
          "text": [
            "\n",
            " 32%|███▏      | 6/19 [07:32<16:22, 75.56s/it]\u001b[A"
          ],
          "name": "stderr"
        },
        {
          "output_type": "stream",
          "text": [
            "'validation loss is 0.6902122497558594 '\n",
            "'validation accuracy is 0.5445054945054946 '\n",
            "'Epoch: 7'\n",
            "'training loss is 0.6903380751609802 '\n",
            "'training accuracy is 0.5358418367346938 '\n",
            "'Epoch: 7'\n"
          ],
          "name": "stdout"
        },
        {
          "output_type": "stream",
          "text": [
            "\n",
            " 37%|███▋      | 7/19 [08:48<15:09, 75.81s/it]\u001b[A"
          ],
          "name": "stderr"
        },
        {
          "output_type": "stream",
          "text": [
            "'validation loss is 0.6896892189979553 '\n",
            "'validation accuracy is 0.5467032967032968 '\n",
            "'Epoch: 8'\n",
            "'training loss is 0.6896719932556152 '\n",
            "'training accuracy is 0.541220238095238 '\n",
            "'Epoch: 8'\n"
          ],
          "name": "stdout"
        },
        {
          "output_type": "stream",
          "text": [
            "\n"
          ],
          "name": "stderr"
        },
        {
          "output_type": "stream",
          "text": [
            "'validation loss is 0.6890952587127686 '\n",
            "'validation accuracy is 0.55 '\n"
          ],
          "name": "stdout"
        },
        {
          "output_type": "stream",
          "text": [
            "\r 42%|████▏     | 8/19 [10:05<13:57, 76.12s/it]\u001b[A"
          ],
          "name": "stderr"
        },
        {
          "output_type": "stream",
          "text": [
            "'Epoch: 9'\n",
            "'training loss is 0.6891694664955139 '\n",
            "'training accuracy is 0.5437393707482993 '\n",
            "'Epoch: 9'\n"
          ],
          "name": "stdout"
        },
        {
          "output_type": "stream",
          "text": [
            "\n",
            " 47%|████▋     | 9/19 [11:22<12:43, 76.31s/it]\u001b[A"
          ],
          "name": "stderr"
        },
        {
          "output_type": "stream",
          "text": [
            "'validation loss is 0.6885625720024109 '\n",
            "'validation accuracy is 0.5510989010989011 '\n",
            "'Epoch: 10'\n",
            "'training loss is 0.688453882932663 '\n",
            "'training accuracy is 0.5526998299319728 '\n",
            "'Epoch: 10'\n"
          ],
          "name": "stdout"
        },
        {
          "output_type": "stream",
          "text": [
            "\n",
            " 53%|█████▎    | 10/19 [12:38<11:27, 76.38s/it]\u001b[A"
          ],
          "name": "stderr"
        },
        {
          "output_type": "stream",
          "text": [
            "'validation loss is 0.6879429221153259 '\n",
            "'validation accuracy is 0.560989010989011 '\n",
            "'Epoch: 11'\n",
            "'training loss is 0.6879092454910278 '\n",
            "'training accuracy is 0.5628932823129251 '\n",
            "'Epoch: 11'\n"
          ],
          "name": "stdout"
        },
        {
          "output_type": "stream",
          "text": [
            "\n",
            " 58%|█████▊    | 11/19 [13:55<10:11, 76.45s/it]\u001b[A"
          ],
          "name": "stderr"
        },
        {
          "output_type": "stream",
          "text": [
            "'validation loss is 0.6872943639755249 '\n",
            "'validation accuracy is 0.578021978021978 '\n",
            "'Epoch: 12'\n",
            "'training loss is 0.6872223615646362 '\n",
            "'training accuracy is 0.577827380952381 '\n",
            "'Epoch: 12'\n"
          ],
          "name": "stdout"
        },
        {
          "output_type": "stream",
          "text": [
            "\n",
            " 63%|██████▎   | 12/19 [15:11<08:54, 76.31s/it]\u001b[A"
          ],
          "name": "stderr"
        },
        {
          "output_type": "stream",
          "text": [
            "'validation loss is 0.6866422295570374 '\n",
            "'validation accuracy is 0.5862637362637364 '\n",
            "'Epoch: 13'\n",
            "'training loss is 0.6865011751651764 '\n",
            "'training accuracy is 0.5914859693877551 '\n",
            "'Epoch: 13'\n"
          ],
          "name": "stdout"
        },
        {
          "output_type": "stream",
          "text": [
            "\n",
            " 68%|██████▊   | 13/19 [16:27<07:38, 76.36s/it]\u001b[A"
          ],
          "name": "stderr"
        },
        {
          "output_type": "stream",
          "text": [
            "'validation loss is 0.6859444975852966 '\n",
            "'validation accuracy is 0.6010989010989012 '\n",
            "'Epoch: 14'\n",
            "'training loss is 0.6857725977897644 '\n",
            "'training accuracy is 0.603858418367347 '\n",
            "'Epoch: 14'\n",
            "'validation loss is 0.6853300929069519 '\n",
            "'validation accuracy is 0.6164835164835166 '\n"
          ],
          "name": "stdout"
        },
        {
          "output_type": "stream",
          "text": [
            "\n",
            " 74%|███████▎  | 14/19 [17:43<06:20, 76.17s/it]\u001b[A"
          ],
          "name": "stderr"
        },
        {
          "output_type": "stream",
          "text": [
            "'Epoch: 15'\n",
            "'training loss is 0.6851151287555695 '\n",
            "'training accuracy is 0.613764880952381 '\n",
            "'Epoch: 15'\n"
          ],
          "name": "stdout"
        },
        {
          "output_type": "stream",
          "text": [
            "\n",
            " 79%|███████▉  | 15/19 [18:59<05:04, 76.08s/it]\u001b[A"
          ],
          "name": "stderr"
        },
        {
          "output_type": "stream",
          "text": [
            "'validation loss is 0.6845886707305908 '\n",
            "'validation accuracy is 0.6258241758241758 '\n",
            "'Epoch: 16'\n",
            "'training loss is 0.6843583285808563 '\n",
            "'training accuracy is 0.6282206632653062 '\n",
            "'Epoch: 16'\n"
          ],
          "name": "stdout"
        },
        {
          "output_type": "stream",
          "text": [
            "\n",
            " 84%|████████▍ | 16/19 [20:14<03:47, 75.87s/it]\u001b[A"
          ],
          "name": "stderr"
        },
        {
          "output_type": "stream",
          "text": [
            "'validation loss is 0.683823823928833 '\n",
            "'validation accuracy is 0.6417582417582417 '\n",
            "'Epoch: 17'\n",
            "'training loss is 0.6836291551589966 '\n",
            "'training accuracy is 0.6388180272108843 '\n",
            "'Epoch: 17'\n"
          ],
          "name": "stdout"
        },
        {
          "output_type": "stream",
          "text": [
            "\n",
            " 89%|████████▉ | 17/19 [21:30<02:31, 75.75s/it]\u001b[A"
          ],
          "name": "stderr"
        },
        {
          "output_type": "stream",
          "text": [
            "'validation loss is 0.6831211447715759 '\n",
            "'validation accuracy is 0.651098901098901 '\n",
            "'Epoch: 18'\n",
            "'training loss is 0.6827479004859924 '\n",
            "'training accuracy is 0.6569727891156463 '\n",
            "'Epoch: 18'\n"
          ],
          "name": "stdout"
        },
        {
          "output_type": "stream",
          "text": [
            "\n",
            " 95%|█████████▍| 18/19 [22:46<01:15, 75.88s/it]\u001b[A"
          ],
          "name": "stderr"
        },
        {
          "output_type": "stream",
          "text": [
            "'validation loss is 0.6823701858520508 '\n",
            "'validation accuracy is 0.6631868131868133 '\n",
            "'Epoch: 19'\n",
            "'training loss is 0.6820891797542572 '\n",
            "'training accuracy is 0.6689625850340137 '\n",
            "'Epoch: 19'\n"
          ],
          "name": "stdout"
        },
        {
          "output_type": "stream",
          "text": [
            "\n",
            "100%|██████████| 19/19 [24:02<00:00, 75.91s/it]"
          ],
          "name": "stderr"
        },
        {
          "output_type": "stream",
          "text": [
            "'validation loss is 0.6816341280937195 '\n",
            "'validation accuracy is 0.6752747252747253 '\n"
          ],
          "name": "stdout"
        },
        {
          "output_type": "stream",
          "text": [
            "\n"
          ],
          "name": "stderr"
        }
      ]
    },
    {
      "cell_type": "code",
      "metadata": {
        "id": "QWLXD03n0uZy"
      },
      "source": [
        "torch.save(model, \"Defect_Detection_Model\")"
      ],
      "execution_count": 73,
      "outputs": []
    },
    {
      "cell_type": "code",
      "metadata": {
        "id": "TkDeURngQlNz"
      },
      "source": [
        ""
      ],
      "execution_count": null,
      "outputs": []
    },
    {
      "cell_type": "code",
      "metadata": {
        "id": "nZbVOW33Qk8T"
      },
      "source": [
        ""
      ],
      "execution_count": null,
      "outputs": []
    },
    {
      "cell_type": "code",
      "metadata": {
        "id": "pJbwiI_ahM7W"
      },
      "source": [
        ""
      ],
      "execution_count": null,
      "outputs": []
    },
    {
      "cell_type": "code",
      "metadata": {
        "id": "kw1f6MjbhNoy"
      },
      "source": [
        ""
      ],
      "execution_count": null,
      "outputs": []
    },
    {
      "cell_type": "code",
      "metadata": {
        "id": "LnjFtYeOhNlK"
      },
      "source": [
        ""
      ],
      "execution_count": null,
      "outputs": []
    },
    {
      "cell_type": "code",
      "metadata": {
        "id": "KNQwYEvRhNFL"
      },
      "source": [
        ""
      ],
      "execution_count": null,
      "outputs": []
    },
    {
      "cell_type": "code",
      "metadata": {
        "id": "mXGO6q_WVIEx"
      },
      "source": [
        "import matplotlib.pyplot as plt"
      ],
      "execution_count": 78,
      "outputs": []
    },
    {
      "cell_type": "code",
      "metadata": {
        "colab": {
          "base_uri": "https://localhost:8080/",
          "height": 282
        },
        "id": "5pbeZcjFVH3P",
        "outputId": "e0454418-d6dd-4a5e-bd06-50260d47de05"
      },
      "source": [
        "plt.plot(trn_losses, label='training loss')\n",
        "plt.plot(val_losses,label='validation loss')\n",
        "plt.legend()"
      ],
      "execution_count": 98,
      "outputs": [
        {
          "output_type": "execute_result",
          "data": {
            "text/plain": [
              "<matplotlib.legend.Legend at 0x7fe3b966db90>"
            ]
          },
          "metadata": {
            "tags": []
          },
          "execution_count": 98
        },
        {
          "output_type": "display_data",
          "data": {
            "image/png": "[encoded data removed]",
            "text/plain": [
              "<Figure size 432x288 with 1 Axes>"
            ]
          },
          "metadata": {
            "tags": [],
            "needs_background": "light"
          }
        }
      ]
    },
    {
      "cell_type": "code",
      "metadata": {
        "colab": {
          "base_uri": "https://localhost:8080/",
          "height": 282
        },
        "id": "cR-TwiW7VHpx",
        "outputId": "5b51e865-2a73-4928-d879-deb3c9f2606e"
      },
      "source": [
        "plt.plot(trn_acc, label='training acc')\n",
        "plt.plot(val_acc,label='validation acc')\n",
        "plt.legend()"
      ],
      "execution_count": 100,
      "outputs": [
        {
          "output_type": "execute_result",
          "data": {
            "text/plain": [
              "<matplotlib.legend.Legend at 0x7fe3b95649d0>"
            ]
          },
          "metadata": {
            "tags": []
          },
          "execution_count": 100
        },
        {
          "output_type": "display_data",
          "data": {
            "image/png": "[encoded data removed]",
            "text/plain": [
              "<Figure size 432x288 with 1 Axes>"
            ]
          },
          "metadata": {
            "tags": [],
            "needs_background": "light"
          }
        }
      ]
    },
    {
      "cell_type": "code",
      "metadata": {
        "id": "RvKPpaazVHj3"
      },
      "source": [
        ""
      ],
      "execution_count": null,
      "outputs": []
    }
  ]
}